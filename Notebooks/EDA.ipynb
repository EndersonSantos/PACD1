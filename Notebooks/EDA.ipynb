{
 "cells": [
  {
   "cell_type": "markdown",
   "metadata": {},
   "source": [
    "#### EDA Switzerland Games"
   ]
  },
  {
   "cell_type": "markdown",
   "metadata": {},
   "source": []
  },
  {
   "cell_type": "code",
   "execution_count": null,
   "metadata": {
    "tags": []
   },
   "outputs": [],
   "source": [
    "import pandas as pd\n",
    "import matplotlib.pyplot as plt"
   ]
  },
  {
   "cell_type": "code",
   "execution_count": null,
   "metadata": {
    "tags": []
   },
   "outputs": [],
   "source": [
    "df = pd.read_csv('added_var.csv')"
   ]
  },
  {
   "cell_type": "code",
   "execution_count": null,
   "metadata": {
    "tags": []
   },
   "outputs": [],
   "source": [
    "df"
   ]
  },
  {
   "cell_type": "code",
   "execution_count": null,
   "metadata": {
    "tags": []
   },
   "outputs": [],
   "source": [
    "len(df)"
   ]
  },
  {
   "cell_type": "code",
   "execution_count": null,
   "metadata": {
    "tags": []
   },
   "outputs": [],
   "source": [
    "df.columns"
   ]
  },
  {
   "cell_type": "code",
   "execution_count": null,
   "metadata": {
    "tags": []
   },
   "outputs": [],
   "source": [
    "import pandas as pd\n",
    "import numpy as np\n",
    "\n",
    "\n",
    "# Remover colunas irrelevantes ou com dados não numéricos\n",
    "df_encoded = df.drop(columns=['Unnamed: 0', 'Player1_Name',\n",
    "       'Player1_country',\n",
    "       'GameRound', 'Start_Date',\n",
    "       'End_Date', 'GameId',\n",
    "       'Player2_Name', 'Player2_country','Location','Tournament','Ground'\n",
    "                             ])\n",
    "\n",
    "\n",
    "\n",
    "# Calcular a matriz de correlação\n",
    "matriz_corr = df_encoded.corr()\n",
    "\n",
    "# Exibir a matriz de correlação\n",
    "matriz_corr\n"
   ]
  },
  {
   "cell_type": "code",
   "execution_count": null,
   "metadata": {
    "tags": []
   },
   "outputs": [],
   "source": [
    "# Descartar as linhas com número de sets acima de 3\n",
    "df = df[df['Num_Sets'] <= 3]\n",
    "\n",
    "# Verificar as primeiras linhas do DataFrame filtrado\n",
    "print(df.head())"
   ]
  },
  {
   "cell_type": "code",
   "execution_count": null,
   "metadata": {
    "tags": []
   },
   "outputs": [],
   "source": [
    "sets_count = df.groupby('Num_Sets').size().reset_index(name='Counts')\n",
    "plt.bar(sets_count['Num_Sets'], sets_count['Counts'])\n",
    "\n",
    "#for i in range(len(df)):\n",
    "    #plt.text(sets_count['Num_Sets'][i], sets_count['Counts'][i], str(sets_count['Counts'][i]), ha='center', va='bottom')\n",
    "plt.xlabel('Num_Sets')\n",
    "plt.xticks(range(2, 4, 1))\n",
    "plt.ylabel('Counts')\n",
    "plt.title('Número de Sets')\n",
    "plt.show()\n",
    "\n",
    "sets_count"
   ]
  },
  {
   "cell_type": "code",
   "execution_count": null,
   "metadata": {
    "tags": []
   },
   "outputs": [],
   "source": [
    "df['Num_Sets'].unique()"
   ]
  },
  {
   "cell_type": "code",
   "execution_count": null,
   "metadata": {
    "tags": []
   },
   "outputs": [],
   "source": [
    "counts = df['GameRound'].value_counts()\n",
    "\n",
    "# Cria um gráfico de barras\n",
    "counts.plot(kind='bar')\n",
    "\n",
    "# Adiciona rótulos aos eixos e um título ao gráfico\n",
    "plt.xlabel('Torneio')\n",
    "plt.ylabel('Número de jogos')\n",
    "plt.title('Número de jogos por Round')\n",
    "\n",
    "# Mostra o gráfico na tela\n",
    "plt.show()\n",
    "\n",
    "counts"
   ]
  },
  {
   "cell_type": "code",
   "execution_count": null,
   "metadata": {
    "tags": []
   },
   "outputs": [],
   "source": [
    "import matplotlib.pyplot as plt\n",
    "\n",
    "# Contagem dos tipos de sets por round\n",
    "counts = df.groupby('GameRound')['Num_Sets'].value_counts().unstack().fillna(0)\n",
    "\n",
    "# Cria um gráfico de barras\n",
    "counts.plot(kind='bar')\n",
    "\n",
    "# Adiciona rótulos aos eixos e um título ao gráfico\n",
    "plt.xlabel('Round')\n",
    "plt.ylabel('Número de Jogos')\n",
    "plt.title('Número de Sets por Round')\n",
    "\n",
    "# Mostra o gráfico na tela\n",
    "plt.show()\n",
    "\n",
    "# Verificar o tipo de set predominante por round\n",
    "dominant_sets = counts.idxmax(axis=1)\n",
    "dominant_sets"
   ]
  },
  {
   "cell_type": "code",
   "execution_count": null,
   "metadata": {
    "tags": []
   },
   "outputs": [],
   "source": [
    "# Combina as colunas de países do Player1 e Player2\n",
    "combined_countries = pd.concat([df['Player1_country'], df['Player2_country']])\n",
    "\n",
    "# Contagem dos sets por país\n",
    "counts = combined_countries.value_counts().head(5)\n",
    "\n",
    "# Exibir os top 5 países com mais sets\n",
    "print(counts)"
   ]
  },
  {
   "cell_type": "code",
   "execution_count": null,
   "metadata": {
    "tags": []
   },
   "outputs": [],
   "source": [
    "# Cria um gráfico de barras dos top 5 países\n",
    "counts.plot(kind='bar')\n",
    "\n",
    "# Adiciona rótulos aos eixos e um título ao gráfico\n",
    "plt.xlabel('País')\n",
    "plt.ylabel('Número de Sets')\n",
    "plt.title('Número de Sets por País (Top 5)')\n",
    "\n",
    "# Mostra o gráfico na tela\n",
    "plt.show()"
   ]
  },
  {
   "cell_type": "code",
   "execution_count": null,
   "metadata": {
    "tags": []
   },
   "outputs": [],
   "source": [
    "len(df['Player1_Name'].unique())"
   ]
  },
  {
   "cell_type": "code",
   "execution_count": null,
   "metadata": {
    "tags": []
   },
   "outputs": [],
   "source": [
    "len(df['Player2_Name'].unique())"
   ]
  },
  {
   "cell_type": "code",
   "execution_count": null,
   "metadata": {
    "tags": []
   },
   "outputs": [],
   "source": [
    "df_train = pd.read_csv('df_train.csv')\n",
    "var_train = ['Num_Sets', 'Ground', 'Prize', 'GameRound', 'Tornament_Days', 'TotalPoints', 'Rank_Diff', \"Height_diff\", \"Weight_diff\", \"Turned_pro_diff\", \"age_diff\"]\n",
    "df_train = df_train.reindex(columns=var_train)\n",
    "df_train.head()"
   ]
  },
  {
   "cell_type": "markdown",
   "metadata": {},
   "source": [
    "## Cramers V\n",
    "### Utilização do V de Cramer para calcular a correlação entre o target e as variáveis categóricas."
   ]
  },
  {
   "cell_type": "markdown",
   "metadata": {},
   "source": [
    "##### Variável Ground"
   ]
  },
  {
   "cell_type": "code",
   "execution_count": null,
   "metadata": {},
   "outputs": [],
   "source": [
    "from scipy.stats import chi2_contingency\n",
    "import numpy as np\n",
    "\n",
    "contingency_table = pd.crosstab(df_train['Ground'], df_train['Num_Sets'])\n",
    "\n",
    "\n",
    "chi2, p_value, _, _ = chi2_contingency(contingency_table)\n",
    "n = contingency_table.sum().sum()\n",
    "v_cramer = np.sqrt(chi2 / (n * (min(contingency_table.shape) - 1)))\n",
    "\n",
    "print('Coeficiente V de Cramer:', v_cramer)\n",
    "print('Valor-p:', p_value)"
   ]
  },
  {
   "cell_type": "markdown",
   "metadata": {},
   "source": [
    "##### Variável Gameround"
   ]
  },
  {
   "cell_type": "code",
   "execution_count": null,
   "metadata": {},
   "outputs": [],
   "source": [
    "contingency_table = pd.crosstab(df_train['GameRound'], df_train['Num_Sets'])\n",
    "\n",
    "\n",
    "chi2, p_value, _, _ = chi2_contingency(contingency_table)\n",
    "n = contingency_table.sum().sum()\n",
    "v_cramer = np.sqrt(chi2 / (n * (min(contingency_table.shape) - 1)))\n",
    "\n",
    "print('Coeficiente V de Cramer:', v_cramer)\n",
    "print('Valor-p:', p_value)"
   ]
  },
  {
   "cell_type": "markdown",
   "metadata": {},
   "source": [
    "## Matriz de correlação para as variáveis numéricas"
   ]
  },
  {
   "cell_type": "code",
   "execution_count": null,
   "metadata": {
    "tags": []
   },
   "outputs": [],
   "source": [
    "df_train_num = df_train.drop(columns=['GameRound', 'Ground'])\n",
    "df_train_num.corr()"
   ]
  },
  {
   "cell_type": "code",
   "execution_count": null,
   "metadata": {},
   "outputs": [],
   "source": []
  },
  {
   "cell_type": "code",
   "execution_count": null,
   "metadata": {},
   "outputs": [],
   "source": []
  },
  {
   "cell_type": "code",
   "execution_count": null,
   "metadata": {},
   "outputs": [],
   "source": []
  }
 ],
 "metadata": {
  "kernelspec": {
   "display_name": "Python 3 (ipykernel)",
   "language": "python",
   "name": "python3"
  },
  "language_info": {
   "codemirror_mode": {
    "name": "ipython",
    "version": 3
   },
   "file_extension": ".py",
   "mimetype": "text/x-python",
   "name": "python",
   "nbconvert_exporter": "python",
   "pygments_lexer": "ipython3",
   "version": "3.10.11"
  }
 },
 "nbformat": 4,
 "nbformat_minor": 4
}
