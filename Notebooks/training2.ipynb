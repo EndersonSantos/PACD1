{
 "cells": [
  {
   "cell_type": "code",
   "execution_count": 2,
   "id": "07c3251f",
   "metadata": {},
   "outputs": [],
   "source": [
    "import pandas as pd\n",
    "import matplotlib.pyplot as plt\n",
    "import seaborn as sns\n",
    "from sklearn.metrics import confusion_matrix, precision_score, recall_score,precision_recall_curve,roc_curve,f1_score\n",
    "pd.set_option('display.max_columns', None)"
   ]
  },
  {
   "cell_type": "code",
   "execution_count": 3,
   "id": "5951dc6b",
   "metadata": {},
   "outputs": [],
   "source": [
    "df = pd.read_csv(\"added_var.csv\")"
   ]
  },
  {
   "cell_type": "code",
   "execution_count": 4,
   "id": "fd5dad37",
   "metadata": {},
   "outputs": [],
   "source": [
    "df.drop(\"Unnamed: 0\", inplace=True, axis=1)"
   ]
  },
  {
   "cell_type": "code",
   "execution_count": 5,
   "id": "c003deda",
   "metadata": {},
   "outputs": [
    {
     "data": {
      "text/html": [
       "<div>\n",
       "<style scoped>\n",
       "    .dataframe tbody tr th:only-of-type {\n",
       "        vertical-align: middle;\n",
       "    }\n",
       "\n",
       "    .dataframe tbody tr th {\n",
       "        vertical-align: top;\n",
       "    }\n",
       "\n",
       "    .dataframe thead th {\n",
       "        text-align: right;\n",
       "    }\n",
       "</style>\n",
       "<table border=\"1\" class=\"dataframe\">\n",
       "  <thead>\n",
       "    <tr style=\"text-align: right;\">\n",
       "      <th></th>\n",
       "      <th>Player1_Name</th>\n",
       "      <th>Player1_Height</th>\n",
       "      <th>Player1_Weight</th>\n",
       "      <th>Player1_turned_pro</th>\n",
       "      <th>Player1_age</th>\n",
       "      <th>Player1_Rank</th>\n",
       "      <th>Player1_country</th>\n",
       "      <th>Tournament</th>\n",
       "      <th>Location</th>\n",
       "      <th>Ground</th>\n",
       "      <th>Prize</th>\n",
       "      <th>GameRound</th>\n",
       "      <th>Start_Date</th>\n",
       "      <th>End_Date</th>\n",
       "      <th>Tornament_Days</th>\n",
       "      <th>Num_Sets</th>\n",
       "      <th>TotalPoints</th>\n",
       "      <th>GameId</th>\n",
       "      <th>Player2_Name</th>\n",
       "      <th>Player2_Height</th>\n",
       "      <th>Player2_Weight</th>\n",
       "      <th>Player2_turned_pro</th>\n",
       "      <th>Player2_age</th>\n",
       "      <th>Player2_Rank</th>\n",
       "      <th>Player2_country</th>\n",
       "      <th>Rank_Diff</th>\n",
       "      <th>Height_Diff</th>\n",
       "      <th>Weight_diff</th>\n",
       "      <th>Turned_pro_diff</th>\n",
       "      <th>age_diff</th>\n",
       "    </tr>\n",
       "  </thead>\n",
       "  <tbody>\n",
       "    <tr>\n",
       "      <th>0</th>\n",
       "      <td>Novak Djokovic</td>\n",
       "      <td>188</td>\n",
       "      <td>77.0</td>\n",
       "      <td>8.0</td>\n",
       "      <td>24.0</td>\n",
       "      <td>1</td>\n",
       "      <td>Serbia</td>\n",
       "      <td>Basel</td>\n",
       "      <td>Basel, Switzerland</td>\n",
       "      <td>Hard</td>\n",
       "      <td>1308100.0</td>\n",
       "      <td>Round of 16</td>\n",
       "      <td>2011-10-31</td>\n",
       "      <td>2011-11-06</td>\n",
       "      <td>6</td>\n",
       "      <td>2</td>\n",
       "      <td>15</td>\n",
       "      <td>Basel_Basel, Switzerland_Hard_1308100.0_Round ...</td>\n",
       "      <td>Lukasz Kubot</td>\n",
       "      <td>191</td>\n",
       "      <td>86.0</td>\n",
       "      <td>9.0</td>\n",
       "      <td>29.0</td>\n",
       "      <td>64</td>\n",
       "      <td>Poland</td>\n",
       "      <td>63</td>\n",
       "      <td>3</td>\n",
       "      <td>9.0</td>\n",
       "      <td>1.0</td>\n",
       "      <td>5.0</td>\n",
       "    </tr>\n",
       "    <tr>\n",
       "      <th>1</th>\n",
       "      <td>Novak Djokovic</td>\n",
       "      <td>188</td>\n",
       "      <td>77.0</td>\n",
       "      <td>8.0</td>\n",
       "      <td>24.0</td>\n",
       "      <td>1</td>\n",
       "      <td>Serbia</td>\n",
       "      <td>Basel</td>\n",
       "      <td>Basel, Switzerland</td>\n",
       "      <td>Hard</td>\n",
       "      <td>1308100.0</td>\n",
       "      <td>Round of 32</td>\n",
       "      <td>2011-10-31</td>\n",
       "      <td>2011-11-06</td>\n",
       "      <td>6</td>\n",
       "      <td>3</td>\n",
       "      <td>30</td>\n",
       "      <td>Basel_Basel, Switzerland_Hard_1308100.0_Round ...</td>\n",
       "      <td>Xavier Malisse</td>\n",
       "      <td>185</td>\n",
       "      <td>83.0</td>\n",
       "      <td>13.0</td>\n",
       "      <td>31.0</td>\n",
       "      <td>47</td>\n",
       "      <td>Belgium</td>\n",
       "      <td>46</td>\n",
       "      <td>3</td>\n",
       "      <td>6.0</td>\n",
       "      <td>5.0</td>\n",
       "      <td>7.0</td>\n",
       "    </tr>\n",
       "    <tr>\n",
       "      <th>2</th>\n",
       "      <td>Novak Djokovic</td>\n",
       "      <td>188</td>\n",
       "      <td>77.0</td>\n",
       "      <td>7.0</td>\n",
       "      <td>23.0</td>\n",
       "      <td>3</td>\n",
       "      <td>Serbia</td>\n",
       "      <td>Basel</td>\n",
       "      <td>Basel, Switzerland</td>\n",
       "      <td>Hard</td>\n",
       "      <td>1225000.0</td>\n",
       "      <td>Semi-Finals</td>\n",
       "      <td>2010-11-01</td>\n",
       "      <td>2010-11-07</td>\n",
       "      <td>6</td>\n",
       "      <td>2</td>\n",
       "      <td>23</td>\n",
       "      <td>Basel_Basel, Switzerland_Hard_1225000.0_Semi-F...</td>\n",
       "      <td>Viktor Troicki</td>\n",
       "      <td>193</td>\n",
       "      <td>86.0</td>\n",
       "      <td>4.0</td>\n",
       "      <td>24.0</td>\n",
       "      <td>32</td>\n",
       "      <td>Serbia</td>\n",
       "      <td>29</td>\n",
       "      <td>5</td>\n",
       "      <td>9.0</td>\n",
       "      <td>3.0</td>\n",
       "      <td>1.0</td>\n",
       "    </tr>\n",
       "    <tr>\n",
       "      <th>3</th>\n",
       "      <td>Novak Djokovic</td>\n",
       "      <td>188</td>\n",
       "      <td>77.0</td>\n",
       "      <td>7.0</td>\n",
       "      <td>23.0</td>\n",
       "      <td>3</td>\n",
       "      <td>Serbia</td>\n",
       "      <td>Basel</td>\n",
       "      <td>Basel, Switzerland</td>\n",
       "      <td>Hard</td>\n",
       "      <td>1225000.0</td>\n",
       "      <td>Quarter-Finals</td>\n",
       "      <td>2010-11-01</td>\n",
       "      <td>2010-11-07</td>\n",
       "      <td>6</td>\n",
       "      <td>2</td>\n",
       "      <td>17</td>\n",
       "      <td>Basel_Basel, Switzerland_Hard_1225000.0_Quarte...</td>\n",
       "      <td>Robin Haase</td>\n",
       "      <td>191</td>\n",
       "      <td>71.0</td>\n",
       "      <td>5.0</td>\n",
       "      <td>23.0</td>\n",
       "      <td>66</td>\n",
       "      <td>Netherlands</td>\n",
       "      <td>63</td>\n",
       "      <td>3</td>\n",
       "      <td>6.0</td>\n",
       "      <td>2.0</td>\n",
       "      <td>0.0</td>\n",
       "    </tr>\n",
       "    <tr>\n",
       "      <th>4</th>\n",
       "      <td>Novak Djokovic</td>\n",
       "      <td>188</td>\n",
       "      <td>77.0</td>\n",
       "      <td>7.0</td>\n",
       "      <td>23.0</td>\n",
       "      <td>3</td>\n",
       "      <td>Serbia</td>\n",
       "      <td>Basel</td>\n",
       "      <td>Basel, Switzerland</td>\n",
       "      <td>Hard</td>\n",
       "      <td>1225000.0</td>\n",
       "      <td>Round of 32</td>\n",
       "      <td>2010-11-01</td>\n",
       "      <td>2010-11-07</td>\n",
       "      <td>6</td>\n",
       "      <td>2</td>\n",
       "      <td>18</td>\n",
       "      <td>Basel_Basel, Switzerland_Hard_1225000.0_Round ...</td>\n",
       "      <td>Ernests Gulbis</td>\n",
       "      <td>191</td>\n",
       "      <td>88.0</td>\n",
       "      <td>6.0</td>\n",
       "      <td>22.0</td>\n",
       "      <td>26</td>\n",
       "      <td>Latvia</td>\n",
       "      <td>23</td>\n",
       "      <td>3</td>\n",
       "      <td>11.0</td>\n",
       "      <td>1.0</td>\n",
       "      <td>1.0</td>\n",
       "    </tr>\n",
       "  </tbody>\n",
       "</table>\n",
       "</div>"
      ],
      "text/plain": [
       "     Player1_Name  Player1_Height  Player1_Weight  Player1_turned_pro   \n",
       "0  Novak Djokovic             188            77.0                 8.0  \\\n",
       "1  Novak Djokovic             188            77.0                 8.0   \n",
       "2  Novak Djokovic             188            77.0                 7.0   \n",
       "3  Novak Djokovic             188            77.0                 7.0   \n",
       "4  Novak Djokovic             188            77.0                 7.0   \n",
       "\n",
       "   Player1_age  Player1_Rank Player1_country Tournament            Location   \n",
       "0         24.0             1          Serbia      Basel  Basel, Switzerland  \\\n",
       "1         24.0             1          Serbia      Basel  Basel, Switzerland   \n",
       "2         23.0             3          Serbia      Basel  Basel, Switzerland   \n",
       "3         23.0             3          Serbia      Basel  Basel, Switzerland   \n",
       "4         23.0             3          Serbia      Basel  Basel, Switzerland   \n",
       "\n",
       "  Ground      Prize       GameRound  Start_Date    End_Date  Tornament_Days   \n",
       "0   Hard  1308100.0     Round of 16  2011-10-31  2011-11-06               6  \\\n",
       "1   Hard  1308100.0     Round of 32  2011-10-31  2011-11-06               6   \n",
       "2   Hard  1225000.0     Semi-Finals  2010-11-01  2010-11-07               6   \n",
       "3   Hard  1225000.0  Quarter-Finals  2010-11-01  2010-11-07               6   \n",
       "4   Hard  1225000.0     Round of 32  2010-11-01  2010-11-07               6   \n",
       "\n",
       "   Num_Sets  TotalPoints                                             GameId   \n",
       "0         2           15  Basel_Basel, Switzerland_Hard_1308100.0_Round ...  \\\n",
       "1         3           30  Basel_Basel, Switzerland_Hard_1308100.0_Round ...   \n",
       "2         2           23  Basel_Basel, Switzerland_Hard_1225000.0_Semi-F...   \n",
       "3         2           17  Basel_Basel, Switzerland_Hard_1225000.0_Quarte...   \n",
       "4         2           18  Basel_Basel, Switzerland_Hard_1225000.0_Round ...   \n",
       "\n",
       "     Player2_Name  Player2_Height  Player2_Weight  Player2_turned_pro   \n",
       "0    Lukasz Kubot             191            86.0                 9.0  \\\n",
       "1  Xavier Malisse             185            83.0                13.0   \n",
       "2  Viktor Troicki             193            86.0                 4.0   \n",
       "3     Robin Haase             191            71.0                 5.0   \n",
       "4  Ernests Gulbis             191            88.0                 6.0   \n",
       "\n",
       "   Player2_age  Player2_Rank Player2_country  Rank_Diff  Height_Diff   \n",
       "0         29.0            64          Poland         63            3  \\\n",
       "1         31.0            47         Belgium         46            3   \n",
       "2         24.0            32          Serbia         29            5   \n",
       "3         23.0            66     Netherlands         63            3   \n",
       "4         22.0            26          Latvia         23            3   \n",
       "\n",
       "   Weight_diff  Turned_pro_diff  age_diff  \n",
       "0          9.0              1.0       5.0  \n",
       "1          6.0              5.0       7.0  \n",
       "2          9.0              3.0       1.0  \n",
       "3          6.0              2.0       0.0  \n",
       "4         11.0              1.0       1.0  "
      ]
     },
     "execution_count": 5,
     "metadata": {},
     "output_type": "execute_result"
    }
   ],
   "source": [
    "df.head()"
   ]
  },
  {
   "attachments": {},
   "cell_type": "markdown",
   "id": "13aca172",
   "metadata": {},
   "source": [
    "- Limpar numero de sets maior que 3 \n",
    "- Map GameRound to integers\n",
    "- Calculate the differences between \n",
    "    - Height\n",
    "    - Weigh\n",
    "    - Turned_pro\n",
    "    - age\t"
   ]
  },
  {
   "attachments": {},
   "cell_type": "markdown",
   "id": "625ff60a",
   "metadata": {},
   "source": [
    "## Limpar Numero de sets maior que 2"
   ]
  },
  {
   "cell_type": "code",
   "execution_count": 6,
   "id": "90e520db",
   "metadata": {},
   "outputs": [],
   "source": [
    "df = df[df.Num_Sets<=3]"
   ]
  },
  {
   "cell_type": "code",
   "execution_count": 7,
   "id": "42e1501f",
   "metadata": {},
   "outputs": [
    {
     "data": {
      "text/plain": [
       "array([2, 3], dtype=int64)"
      ]
     },
     "execution_count": 7,
     "metadata": {},
     "output_type": "execute_result"
    }
   ],
   "source": [
    "df.Num_Sets.unique()"
   ]
  },
  {
   "attachments": {},
   "cell_type": "markdown",
   "id": "326a3f61",
   "metadata": {},
   "source": [
    "## Exluir Round Robin"
   ]
  },
  {
   "cell_type": "code",
   "execution_count": 8,
   "id": "6be5d64c",
   "metadata": {},
   "outputs": [],
   "source": [
    "df = df[df[\"GameRound\"]!=\"Round Robin\"]"
   ]
  },
  {
   "attachments": {},
   "cell_type": "markdown",
   "id": "b41ce27a",
   "metadata": {},
   "source": [
    "## Mapping GameRound to integers "
   ]
  },
  {
   "cell_type": "code",
   "execution_count": 9,
   "id": "e6fd34f1",
   "metadata": {},
   "outputs": [
    {
     "data": {
      "text/plain": [
       "array(['Round of 16', 'Round of 32', 'Semi-Finals', 'Quarter-Finals',\n",
       "       'Finals', '2nd Round Qualifying', '1st Round Qualifying',\n",
       "       '3rd Round Qualifying'], dtype=object)"
      ]
     },
     "execution_count": 9,
     "metadata": {},
     "output_type": "execute_result"
    }
   ],
   "source": [
    "df.GameRound.unique()"
   ]
  },
  {
   "cell_type": "code",
   "execution_count": 10,
   "id": "c18ffcca",
   "metadata": {},
   "outputs": [],
   "source": [
    "to_map = {'1st Round Qualifying': 0 , \"2nd Round Qualifying\": 1, \"3rd Round Qualifying\": 2, \"Round of 32\": 3, \"Round of 16\": 4, \"Quarter-Finals\": 5, \"Semi-Finals\": 6, \"Finals\":7}\n",
    "df[\"GameRound\"] = df[\"GameRound\"].map(to_map)"
   ]
  },
  {
   "cell_type": "code",
   "execution_count": 11,
   "id": "3d1e8e08",
   "metadata": {},
   "outputs": [
    {
     "data": {
      "text/html": [
       "<div>\n",
       "<style scoped>\n",
       "    .dataframe tbody tr th:only-of-type {\n",
       "        vertical-align: middle;\n",
       "    }\n",
       "\n",
       "    .dataframe tbody tr th {\n",
       "        vertical-align: top;\n",
       "    }\n",
       "\n",
       "    .dataframe thead th {\n",
       "        text-align: right;\n",
       "    }\n",
       "</style>\n",
       "<table border=\"1\" class=\"dataframe\">\n",
       "  <thead>\n",
       "    <tr style=\"text-align: right;\">\n",
       "      <th></th>\n",
       "      <th>Player1_Name</th>\n",
       "      <th>Player1_Height</th>\n",
       "      <th>Player1_Weight</th>\n",
       "      <th>Player1_turned_pro</th>\n",
       "      <th>Player1_age</th>\n",
       "      <th>Player1_Rank</th>\n",
       "      <th>Player1_country</th>\n",
       "      <th>Tournament</th>\n",
       "      <th>Location</th>\n",
       "      <th>Ground</th>\n",
       "      <th>Prize</th>\n",
       "      <th>GameRound</th>\n",
       "      <th>Start_Date</th>\n",
       "      <th>End_Date</th>\n",
       "      <th>Tornament_Days</th>\n",
       "      <th>Num_Sets</th>\n",
       "      <th>TotalPoints</th>\n",
       "      <th>GameId</th>\n",
       "      <th>Player2_Name</th>\n",
       "      <th>Player2_Height</th>\n",
       "      <th>Player2_Weight</th>\n",
       "      <th>Player2_turned_pro</th>\n",
       "      <th>Player2_age</th>\n",
       "      <th>Player2_Rank</th>\n",
       "      <th>Player2_country</th>\n",
       "      <th>Rank_Diff</th>\n",
<<<<<<< HEAD
       "      <th>Height_Diff</th>\n",
=======
       "    </tr>\n",
       "  </thead>\n",
       "  <tbody>\n",
       "    <tr>\n",
       "      <th>0</th>\n",
       "      <td>Novak Djokovic</td>\n",
       "      <td>188</td>\n",
       "      <td>77.0</td>\n",
       "      <td>8.0</td>\n",
       "      <td>24.0</td>\n",
       "      <td>1</td>\n",
       "      <td>Serbia</td>\n",
       "      <td>Basel</td>\n",
       "      <td>Basel, Switzerland</td>\n",
       "      <td>Hard</td>\n",
       "      <td>1308100.0</td>\n",
       "      <td>4</td>\n",
       "      <td>2011-10-31</td>\n",
       "      <td>2011-11-06</td>\n",
       "      <td>6</td>\n",
       "      <td>2</td>\n",
       "      <td>15</td>\n",
       "      <td>Basel_Basel, Switzerland_Hard_1308100.0_Round ...</td>\n",
       "      <td>Lukasz Kubot</td>\n",
       "      <td>191</td>\n",
       "      <td>86.0</td>\n",
       "      <td>9.0</td>\n",
       "      <td>29.0</td>\n",
       "      <td>64</td>\n",
       "      <td>Poland</td>\n",
       "      <td>63</td>\n",
       "    </tr>\n",
       "    <tr>\n",
       "      <th>1</th>\n",
       "      <td>Novak Djokovic</td>\n",
       "      <td>188</td>\n",
       "      <td>77.0</td>\n",
       "      <td>8.0</td>\n",
       "      <td>24.0</td>\n",
       "      <td>1</td>\n",
       "      <td>Serbia</td>\n",
       "      <td>Basel</td>\n",
       "      <td>Basel, Switzerland</td>\n",
       "      <td>Hard</td>\n",
       "      <td>1308100.0</td>\n",
       "      <td>3</td>\n",
       "      <td>2011-10-31</td>\n",
       "      <td>2011-11-06</td>\n",
       "      <td>6</td>\n",
       "      <td>3</td>\n",
       "      <td>30</td>\n",
       "      <td>Basel_Basel, Switzerland_Hard_1308100.0_Round ...</td>\n",
       "      <td>Xavier Malisse</td>\n",
       "      <td>185</td>\n",
       "      <td>83.0</td>\n",
       "      <td>13.0</td>\n",
       "      <td>31.0</td>\n",
       "      <td>47</td>\n",
       "      <td>Belgium</td>\n",
       "      <td>46</td>\n",
       "    </tr>\n",
       "  </tbody>\n",
       "</table>\n",
       "</div>"
      ],
      "text/plain": [
       "     Player1_Name  Player1_Height  Player1_Weight  Player1_turned_pro  \\\n",
       "0  Novak Djokovic             188            77.0                 8.0   \n",
       "1  Novak Djokovic             188            77.0                 8.0   \n",
       "\n",
       "   Player1_age  Player1_Rank Player1_country Tournament            Location  \\\n",
       "0         24.0             1          Serbia      Basel  Basel, Switzerland   \n",
       "1         24.0             1          Serbia      Basel  Basel, Switzerland   \n",
       "\n",
       "  Ground      Prize  GameRound  Start_Date    End_Date  Tornament_Days  \\\n",
       "0   Hard  1308100.0          4  2011-10-31  2011-11-06               6   \n",
       "1   Hard  1308100.0          3  2011-10-31  2011-11-06               6   \n",
       "\n",
       "   Num_Sets  TotalPoints                                             GameId  \\\n",
       "0         2           15  Basel_Basel, Switzerland_Hard_1308100.0_Round ...   \n",
       "1         3           30  Basel_Basel, Switzerland_Hard_1308100.0_Round ...   \n",
       "\n",
       "     Player2_Name  Player2_Height  Player2_Weight  Player2_turned_pro  \\\n",
       "0    Lukasz Kubot             191            86.0                 9.0   \n",
       "1  Xavier Malisse             185            83.0                13.0   \n",
       "\n",
       "   Player2_age  Player2_Rank Player2_country  Rank_Diff  \n",
       "0         29.0            64          Poland         63  \n",
       "1         31.0            47         Belgium         46  "
      ]
     },
     "execution_count": 10,
     "metadata": {},
     "output_type": "execute_result"
    }
   ],
   "source": [
    "df.head(2)"
   ]
  },
  {
   "cell_type": "markdown",
   "id": "bff659e4",
   "metadata": {},
   "source": [
    "## Substituir Peso na pela Média dado que são só três"
   ]
  },
  {
   "cell_type": "code",
   "execution_count": 11,
   "id": "cdb0f3ac",
   "metadata": {},
   "outputs": [
    {
     "name": "stderr",
     "output_type": "stream",
     "text": [
      "/var/folders/by/h2v0ff9j4mvgbk5y8d7h456r0000gq/T/ipykernel_42780/3340511584.py:3: SettingWithCopyWarning: \n",
      "A value is trying to be set on a copy of a slice from a DataFrame\n",
      "\n",
      "See the caveats in the documentation: https://pandas.pydata.org/pandas-docs/stable/user_guide/indexing.html#returning-a-view-versus-a-copy\n",
      "  df[\"Player2_Weight\"].loc[index_to_fill] = mean_of_height\n"
     ]
    }
   ],
   "source": [
    "index_to_fill = df[df[\"Player2_Weight\"].isna()][\"Player2_Weight\"].index\n",
    "mean_of_height = round(df[~df[\"Player2_Weight\"].isna()][\"Player2_Weight\"].astype(int).mean(),0)\n",
    "df[\"Player2_Weight\"].loc[index_to_fill] = mean_of_height"
   ]
  },
  {
   "cell_type": "markdown",
   "id": "8873f1ed",
   "metadata": {},
   "source": [
    "## Calculate the differences "
   ]
  },
  {
   "cell_type": "code",
   "execution_count": 12,
   "id": "e60b5d05",
   "metadata": {},
   "outputs": [],
   "source": [
    "df[\"Height_diff\"] = abs(df[\"Player1_Height\"] - df[\"Player2_Height\"])"
   ]
  },
  {
   "cell_type": "code",
   "execution_count": 13,
   "id": "6fe7c3c9",
   "metadata": {},
   "outputs": [],
   "source": [
    "df[\"Weight_diff\"] = abs(df[\"Player1_Weight\"] - df[\"Player2_Weight\"])\n",
    "df[\"Turned_pro_diff\"] = abs(df[\"Player1_turned_pro\"] - df[\"Player2_turned_pro\"])\n",
    "df[\"age_diff\"] = abs(df[\"Player1_age\"] - df[\"Player2_age\"])"
   ]
  },
  {
   "cell_type": "code",
   "execution_count": 14,
   "id": "478bbad7",
   "metadata": {},
   "outputs": [
    {
     "data": {
      "text/html": [
       "<div>\n",
       "<style scoped>\n",
       "    .dataframe tbody tr th:only-of-type {\n",
       "        vertical-align: middle;\n",
       "    }\n",
       "\n",
       "    .dataframe tbody tr th {\n",
       "        vertical-align: top;\n",
       "    }\n",
       "\n",
       "    .dataframe thead th {\n",
       "        text-align: right;\n",
       "    }\n",
       "</style>\n",
       "<table border=\"1\" class=\"dataframe\">\n",
       "  <thead>\n",
       "    <tr style=\"text-align: right;\">\n",
       "      <th></th>\n",
       "      <th>Player1_Name</th>\n",
       "      <th>Player1_Height</th>\n",
       "      <th>Player1_Weight</th>\n",
       "      <th>Player1_turned_pro</th>\n",
       "      <th>Player1_age</th>\n",
       "      <th>Player1_Rank</th>\n",
       "      <th>Player1_country</th>\n",
       "      <th>Tournament</th>\n",
       "      <th>Location</th>\n",
       "      <th>Ground</th>\n",
       "      <th>Prize</th>\n",
       "      <th>GameRound</th>\n",
       "      <th>Start_Date</th>\n",
       "      <th>End_Date</th>\n",
       "      <th>Tornament_Days</th>\n",
       "      <th>Num_Sets</th>\n",
       "      <th>TotalPoints</th>\n",
       "      <th>GameId</th>\n",
       "      <th>Player2_Name</th>\n",
       "      <th>Player2_Height</th>\n",
       "      <th>Player2_Weight</th>\n",
       "      <th>Player2_turned_pro</th>\n",
       "      <th>Player2_age</th>\n",
       "      <th>Player2_Rank</th>\n",
       "      <th>Player2_country</th>\n",
       "      <th>Rank_Diff</th>\n",
       "      <th>Height_diff</th>\n",
>>>>>>> 4c132f4 (Finish Training)
       "      <th>Weight_diff</th>\n",
       "      <th>Turned_pro_diff</th>\n",
       "      <th>age_diff</th>\n",
       "    </tr>\n",
       "  </thead>\n",
       "  <tbody>\n",
       "    <tr>\n",
       "      <th>0</th>\n",
       "      <td>Novak Djokovic</td>\n",
       "      <td>188</td>\n",
       "      <td>77.0</td>\n",
       "      <td>8.0</td>\n",
       "      <td>24.0</td>\n",
       "      <td>1</td>\n",
       "      <td>Serbia</td>\n",
       "      <td>Basel</td>\n",
       "      <td>Basel, Switzerland</td>\n",
       "      <td>Hard</td>\n",
       "      <td>1308100.0</td>\n",
       "      <td>4</td>\n",
       "      <td>2011-10-31</td>\n",
       "      <td>2011-11-06</td>\n",
       "      <td>6</td>\n",
       "      <td>2</td>\n",
       "      <td>15</td>\n",
       "      <td>Basel_Basel, Switzerland_Hard_1308100.0_Round ...</td>\n",
       "      <td>Lukasz Kubot</td>\n",
       "      <td>191</td>\n",
       "      <td>86.0</td>\n",
       "      <td>9.0</td>\n",
       "      <td>29.0</td>\n",
       "      <td>64</td>\n",
       "      <td>Poland</td>\n",
       "      <td>63</td>\n",
       "      <td>3</td>\n",
       "      <td>9.0</td>\n",
       "      <td>1.0</td>\n",
       "      <td>5.0</td>\n",
       "    </tr>\n",
       "    <tr>\n",
       "      <th>1</th>\n",
       "      <td>Novak Djokovic</td>\n",
       "      <td>188</td>\n",
       "      <td>77.0</td>\n",
       "      <td>8.0</td>\n",
       "      <td>24.0</td>\n",
       "      <td>1</td>\n",
       "      <td>Serbia</td>\n",
       "      <td>Basel</td>\n",
       "      <td>Basel, Switzerland</td>\n",
       "      <td>Hard</td>\n",
       "      <td>1308100.0</td>\n",
       "      <td>3</td>\n",
       "      <td>2011-10-31</td>\n",
       "      <td>2011-11-06</td>\n",
       "      <td>6</td>\n",
       "      <td>3</td>\n",
       "      <td>30</td>\n",
       "      <td>Basel_Basel, Switzerland_Hard_1308100.0_Round ...</td>\n",
       "      <td>Xavier Malisse</td>\n",
       "      <td>185</td>\n",
       "      <td>83.0</td>\n",
       "      <td>13.0</td>\n",
       "      <td>31.0</td>\n",
       "      <td>47</td>\n",
       "      <td>Belgium</td>\n",
       "      <td>46</td>\n",
       "      <td>3</td>\n",
       "      <td>6.0</td>\n",
       "      <td>5.0</td>\n",
       "      <td>7.0</td>\n",
       "    </tr>\n",
       "  </tbody>\n",
       "</table>\n",
       "</div>"
      ],
      "text/plain": [
       "     Player1_Name  Player1_Height  Player1_Weight  Player1_turned_pro   \n",
       "0  Novak Djokovic             188            77.0                 8.0  \\\n",
       "1  Novak Djokovic             188            77.0                 8.0   \n",
       "\n",
       "   Player1_age  Player1_Rank Player1_country Tournament            Location   \n",
       "0         24.0             1          Serbia      Basel  Basel, Switzerland  \\\n",
       "1         24.0             1          Serbia      Basel  Basel, Switzerland   \n",
       "\n",
       "  Ground      Prize  GameRound  Start_Date    End_Date  Tornament_Days   \n",
       "0   Hard  1308100.0          4  2011-10-31  2011-11-06               6  \\\n",
       "1   Hard  1308100.0          3  2011-10-31  2011-11-06               6   \n",
       "\n",
       "   Num_Sets  TotalPoints                                             GameId   \n",
       "0         2           15  Basel_Basel, Switzerland_Hard_1308100.0_Round ...  \\\n",
       "1         3           30  Basel_Basel, Switzerland_Hard_1308100.0_Round ...   \n",
       "\n",
       "     Player2_Name  Player2_Height  Player2_Weight  Player2_turned_pro   \n",
       "0    Lukasz Kubot             191            86.0                 9.0  \\\n",
       "1  Xavier Malisse             185            83.0                13.0   \n",
       "\n",
       "   Player2_age  Player2_Rank Player2_country  Rank_Diff  Height_Diff   \n",
       "0         29.0            64          Poland         63            3  \\\n",
       "1         31.0            47         Belgium         46            3   \n",
       "\n",
       "   Weight_diff  Turned_pro_diff  age_diff  \n",
       "0          9.0              1.0       5.0  \n",
       "1          6.0              5.0       7.0  "
      ]
     },
     "execution_count": 11,
     "metadata": {},
     "output_type": "execute_result"
    }
   ],
   "source": [
    "df.head(2)"
   ]
  },
  {
   "attachments": {},
   "cell_type": "markdown",
   "id": "bff659e4",
   "metadata": {},
   "source": [
    "## Substituir Peso na pela Média dado que são só três"
   ]
  },
  {
   "cell_type": "code",
   "execution_count": 12,
   "id": "cdb0f3ac",
   "metadata": {},
   "outputs": [
    {
     "name": "stderr",
     "output_type": "stream",
     "text": [
      "C:\\Users\\G532\\AppData\\Local\\Temp\\ipykernel_12428\\3340511584.py:3: SettingWithCopyWarning: \n",
      "A value is trying to be set on a copy of a slice from a DataFrame\n",
      "\n",
      "See the caveats in the documentation: https://pandas.pydata.org/pandas-docs/stable/user_guide/indexing.html#returning-a-view-versus-a-copy\n",
      "  df[\"Player2_Weight\"].loc[index_to_fill] = mean_of_height\n"
     ]
    }
   ],
   "source": [
    "index_to_fill = df[df[\"Player2_Weight\"].isna()][\"Player2_Weight\"].index\n",
    "mean_of_height = round(df[~df[\"Player2_Weight\"].isna()][\"Player2_Weight\"].astype(int).mean(),0)\n",
    "df[\"Player2_Weight\"].loc[index_to_fill] = mean_of_height"
   ]
  },
  {
   "attachments": {},
   "cell_type": "markdown",
   "id": "8873f1ed",
   "metadata": {},
   "source": [
    "## Calculate the differences "
   ]
  },
  {
   "cell_type": "code",
   "execution_count": 13,
   "id": "e60b5d05",
   "metadata": {},
   "outputs": [],
   "source": [
    "df[\"Height_diff\"] = abs(df[\"Player1_Height\"] - df[\"Player2_Height\"])"
   ]
  },
  {
   "cell_type": "code",
   "execution_count": 14,
   "id": "6fe7c3c9",
   "metadata": {},
   "outputs": [],
   "source": [
    "df[\"Weight_diff\"] = abs(df[\"Player1_Weight\"] - df[\"Player2_Weight\"])\n",
    "df[\"Turned_pro_diff\"] = abs(df[\"Player1_turned_pro\"] - df[\"Player2_turned_pro\"])\n",
    "df[\"age_diff\"] = abs(df[\"Player1_age\"] - df[\"Player2_age\"])"
   ]
  },
  {
   "cell_type": "code",
   "execution_count": 15,
   "id": "478bbad7",
   "metadata": {},
   "outputs": [
    {
     "data": {
      "text/html": [
       "<div>\n",
       "<style scoped>\n",
       "    .dataframe tbody tr th:only-of-type {\n",
       "        vertical-align: middle;\n",
       "    }\n",
       "\n",
       "    .dataframe tbody tr th {\n",
       "        vertical-align: top;\n",
       "    }\n",
       "\n",
       "    .dataframe thead th {\n",
       "        text-align: right;\n",
       "    }\n",
       "</style>\n",
       "<table border=\"1\" class=\"dataframe\">\n",
       "  <thead>\n",
       "    <tr style=\"text-align: right;\">\n",
       "      <th></th>\n",
       "      <th>Player1_Name</th>\n",
       "      <th>Player1_Height</th>\n",
       "      <th>Player1_Weight</th>\n",
       "      <th>Player1_turned_pro</th>\n",
       "      <th>Player1_age</th>\n",
       "      <th>Player1_Rank</th>\n",
       "      <th>Player1_country</th>\n",
       "      <th>Tournament</th>\n",
       "      <th>Location</th>\n",
       "      <th>Ground</th>\n",
       "      <th>Prize</th>\n",
       "      <th>GameRound</th>\n",
       "      <th>Start_Date</th>\n",
       "      <th>End_Date</th>\n",
       "      <th>Tornament_Days</th>\n",
       "      <th>Num_Sets</th>\n",
       "      <th>TotalPoints</th>\n",
       "      <th>GameId</th>\n",
       "      <th>Player2_Name</th>\n",
       "      <th>Player2_Height</th>\n",
       "      <th>Player2_Weight</th>\n",
       "      <th>Player2_turned_pro</th>\n",
       "      <th>Player2_age</th>\n",
       "      <th>Player2_Rank</th>\n",
       "      <th>Player2_country</th>\n",
       "      <th>Rank_Diff</th>\n",
       "      <th>Height_Diff</th>\n",
       "      <th>Weight_diff</th>\n",
       "      <th>Turned_pro_diff</th>\n",
       "      <th>age_diff</th>\n",
       "      <th>Height_diff</th>\n",
       "    </tr>\n",
       "  </thead>\n",
       "  <tbody>\n",
       "    <tr>\n",
       "      <th>0</th>\n",
       "      <td>Novak Djokovic</td>\n",
       "      <td>188</td>\n",
       "      <td>77.0</td>\n",
       "      <td>8.0</td>\n",
       "      <td>24.0</td>\n",
       "      <td>1</td>\n",
       "      <td>Serbia</td>\n",
       "      <td>Basel</td>\n",
       "      <td>Basel, Switzerland</td>\n",
       "      <td>Hard</td>\n",
       "      <td>1308100.0</td>\n",
       "      <td>4</td>\n",
       "      <td>2011-10-31</td>\n",
       "      <td>2011-11-06</td>\n",
       "      <td>6</td>\n",
       "      <td>2</td>\n",
       "      <td>15</td>\n",
       "      <td>Basel_Basel, Switzerland_Hard_1308100.0_Round ...</td>\n",
       "      <td>Lukasz Kubot</td>\n",
       "      <td>191</td>\n",
       "      <td>86.0</td>\n",
       "      <td>9.0</td>\n",
       "      <td>29.0</td>\n",
       "      <td>64</td>\n",
       "      <td>Poland</td>\n",
       "      <td>63</td>\n",
       "      <td>3</td>\n",
       "      <td>9.0</td>\n",
       "      <td>1.0</td>\n",
       "      <td>5.0</td>\n",
       "      <td>3</td>\n",
       "    </tr>\n",
       "    <tr>\n",
       "      <th>1</th>\n",
       "      <td>Novak Djokovic</td>\n",
       "      <td>188</td>\n",
       "      <td>77.0</td>\n",
       "      <td>8.0</td>\n",
       "      <td>24.0</td>\n",
       "      <td>1</td>\n",
       "      <td>Serbia</td>\n",
       "      <td>Basel</td>\n",
       "      <td>Basel, Switzerland</td>\n",
       "      <td>Hard</td>\n",
       "      <td>1308100.0</td>\n",
       "      <td>3</td>\n",
       "      <td>2011-10-31</td>\n",
       "      <td>2011-11-06</td>\n",
       "      <td>6</td>\n",
       "      <td>3</td>\n",
       "      <td>30</td>\n",
       "      <td>Basel_Basel, Switzerland_Hard_1308100.0_Round ...</td>\n",
       "      <td>Xavier Malisse</td>\n",
       "      <td>185</td>\n",
       "      <td>83.0</td>\n",
       "      <td>13.0</td>\n",
       "      <td>31.0</td>\n",
       "      <td>47</td>\n",
       "      <td>Belgium</td>\n",
       "      <td>46</td>\n",
       "      <td>3</td>\n",
       "      <td>6.0</td>\n",
       "      <td>5.0</td>\n",
       "      <td>7.0</td>\n",
       "      <td>3</td>\n",
       "    </tr>\n",
       "    <tr>\n",
       "      <th>2</th>\n",
       "      <td>Novak Djokovic</td>\n",
       "      <td>188</td>\n",
       "      <td>77.0</td>\n",
       "      <td>7.0</td>\n",
       "      <td>23.0</td>\n",
       "      <td>3</td>\n",
       "      <td>Serbia</td>\n",
       "      <td>Basel</td>\n",
       "      <td>Basel, Switzerland</td>\n",
       "      <td>Hard</td>\n",
       "      <td>1225000.0</td>\n",
       "      <td>6</td>\n",
       "      <td>2010-11-01</td>\n",
       "      <td>2010-11-07</td>\n",
       "      <td>6</td>\n",
       "      <td>2</td>\n",
       "      <td>23</td>\n",
       "      <td>Basel_Basel, Switzerland_Hard_1225000.0_Semi-F...</td>\n",
       "      <td>Viktor Troicki</td>\n",
       "      <td>193</td>\n",
       "      <td>86.0</td>\n",
       "      <td>4.0</td>\n",
       "      <td>24.0</td>\n",
       "      <td>32</td>\n",
       "      <td>Serbia</td>\n",
       "      <td>29</td>\n",
       "      <td>5</td>\n",
       "      <td>9.0</td>\n",
       "      <td>3.0</td>\n",
       "      <td>1.0</td>\n",
       "      <td>5</td>\n",
       "    </tr>\n",
       "    <tr>\n",
       "      <th>3</th>\n",
       "      <td>Novak Djokovic</td>\n",
       "      <td>188</td>\n",
       "      <td>77.0</td>\n",
       "      <td>7.0</td>\n",
       "      <td>23.0</td>\n",
       "      <td>3</td>\n",
       "      <td>Serbia</td>\n",
       "      <td>Basel</td>\n",
       "      <td>Basel, Switzerland</td>\n",
       "      <td>Hard</td>\n",
       "      <td>1225000.0</td>\n",
       "      <td>5</td>\n",
       "      <td>2010-11-01</td>\n",
       "      <td>2010-11-07</td>\n",
       "      <td>6</td>\n",
       "      <td>2</td>\n",
       "      <td>17</td>\n",
       "      <td>Basel_Basel, Switzerland_Hard_1225000.0_Quarte...</td>\n",
       "      <td>Robin Haase</td>\n",
       "      <td>191</td>\n",
       "      <td>71.0</td>\n",
       "      <td>5.0</td>\n",
       "      <td>23.0</td>\n",
       "      <td>66</td>\n",
       "      <td>Netherlands</td>\n",
       "      <td>63</td>\n",
       "      <td>3</td>\n",
       "      <td>6.0</td>\n",
       "      <td>2.0</td>\n",
       "      <td>0.0</td>\n",
       "      <td>3</td>\n",
       "    </tr>\n",
       "    <tr>\n",
       "      <th>4</th>\n",
       "      <td>Novak Djokovic</td>\n",
       "      <td>188</td>\n",
       "      <td>77.0</td>\n",
       "      <td>7.0</td>\n",
       "      <td>23.0</td>\n",
       "      <td>3</td>\n",
       "      <td>Serbia</td>\n",
       "      <td>Basel</td>\n",
       "      <td>Basel, Switzerland</td>\n",
       "      <td>Hard</td>\n",
       "      <td>1225000.0</td>\n",
       "      <td>3</td>\n",
       "      <td>2010-11-01</td>\n",
       "      <td>2010-11-07</td>\n",
       "      <td>6</td>\n",
       "      <td>2</td>\n",
       "      <td>18</td>\n",
       "      <td>Basel_Basel, Switzerland_Hard_1225000.0_Round ...</td>\n",
       "      <td>Ernests Gulbis</td>\n",
       "      <td>191</td>\n",
       "      <td>88.0</td>\n",
       "      <td>6.0</td>\n",
       "      <td>22.0</td>\n",
       "      <td>26</td>\n",
       "      <td>Latvia</td>\n",
       "      <td>23</td>\n",
       "      <td>3</td>\n",
       "      <td>11.0</td>\n",
       "      <td>1.0</td>\n",
       "      <td>1.0</td>\n",
       "      <td>3</td>\n",
       "    </tr>\n",
       "  </tbody>\n",
       "</table>\n",
       "</div>"
      ],
      "text/plain": [
       "     Player1_Name  Player1_Height  Player1_Weight  Player1_turned_pro   \n",
       "0  Novak Djokovic             188            77.0                 8.0  \\\n",
       "1  Novak Djokovic             188            77.0                 8.0   \n",
       "2  Novak Djokovic             188            77.0                 7.0   \n",
       "3  Novak Djokovic             188            77.0                 7.0   \n",
       "4  Novak Djokovic             188            77.0                 7.0   \n",
       "\n",
       "   Player1_age  Player1_Rank Player1_country Tournament            Location   \n",
       "0         24.0             1          Serbia      Basel  Basel, Switzerland  \\\n",
       "1         24.0             1          Serbia      Basel  Basel, Switzerland   \n",
       "2         23.0             3          Serbia      Basel  Basel, Switzerland   \n",
       "3         23.0             3          Serbia      Basel  Basel, Switzerland   \n",
       "4         23.0             3          Serbia      Basel  Basel, Switzerland   \n",
       "\n",
       "  Ground      Prize  GameRound  Start_Date    End_Date  Tornament_Days   \n",
       "0   Hard  1308100.0          4  2011-10-31  2011-11-06               6  \\\n",
       "1   Hard  1308100.0          3  2011-10-31  2011-11-06               6   \n",
       "2   Hard  1225000.0          6  2010-11-01  2010-11-07               6   \n",
       "3   Hard  1225000.0          5  2010-11-01  2010-11-07               6   \n",
       "4   Hard  1225000.0          3  2010-11-01  2010-11-07               6   \n",
       "\n",
       "   Num_Sets  TotalPoints                                             GameId   \n",
       "0         2           15  Basel_Basel, Switzerland_Hard_1308100.0_Round ...  \\\n",
       "1         3           30  Basel_Basel, Switzerland_Hard_1308100.0_Round ...   \n",
       "2         2           23  Basel_Basel, Switzerland_Hard_1225000.0_Semi-F...   \n",
       "3         2           17  Basel_Basel, Switzerland_Hard_1225000.0_Quarte...   \n",
       "4         2           18  Basel_Basel, Switzerland_Hard_1225000.0_Round ...   \n",
       "\n",
       "     Player2_Name  Player2_Height  Player2_Weight  Player2_turned_pro   \n",
       "0    Lukasz Kubot             191            86.0                 9.0  \\\n",
       "1  Xavier Malisse             185            83.0                13.0   \n",
       "2  Viktor Troicki             193            86.0                 4.0   \n",
       "3     Robin Haase             191            71.0                 5.0   \n",
       "4  Ernests Gulbis             191            88.0                 6.0   \n",
       "\n",
       "   Player2_age  Player2_Rank Player2_country  Rank_Diff  Height_Diff   \n",
       "0         29.0            64          Poland         63            3  \\\n",
       "1         31.0            47         Belgium         46            3   \n",
       "2         24.0            32          Serbia         29            5   \n",
       "3         23.0            66     Netherlands         63            3   \n",
       "4         22.0            26          Latvia         23            3   \n",
       "\n",
       "   Weight_diff  Turned_pro_diff  age_diff  Height_diff  \n",
       "0          9.0              1.0       5.0            3  \n",
       "1          6.0              5.0       7.0            3  \n",
       "2          9.0              3.0       1.0            5  \n",
       "3          6.0              2.0       0.0            3  \n",
       "4         11.0              1.0       1.0            3  "
      ]
     },
     "execution_count": 15,
     "metadata": {},
     "output_type": "execute_result"
    }
   ],
   "source": [
    "df.head()"
   ]
  },
  {
   "cell_type": "code",
   "execution_count": 16,
   "id": "f0dc4bb0",
   "metadata": {},
   "outputs": [],
   "source": [
    "attr = [\"Num_Sets\", \"Ground\", \"Prize\", \"GameRound\", \"Tornament_Days\", \"Rank_Diff\", \"Height_diff\", \"Weight_diff\", \"Turned_pro_diff\", \"age_diff\"]\n",
    "df_train = df.reindex(columns=attr)\n",
    "df_train.to_csv('df_train.csv')"
   ]
  },
  {
   "attachments": {},
   "cell_type": "markdown",
   "id": "d49f50cb",
   "metadata": {},
   "source": [
    "## Selecting Features"
   ]
  },
  {
   "cell_type": "code",
   "execution_count": 17,
   "id": "27371ea2",
   "metadata": {},
   "outputs": [],
   "source": [
    "X_feature = [\"Ground\", \"Prize\", \"GameRound\", \"Tornament_Days\", \"Rank_Diff\", \"Height_diff\", \"Weight_diff\", \"Turned_pro_diff\", \"age_diff\"]\n",
    "y_target = [\"Num_Sets\"]"
   ]
  },
  {
   "cell_type": "code",
   "execution_count": 18,
   "id": "aa0597f7",
   "metadata": {},
   "outputs": [
    {
     "data": {
      "text/html": [
       "<div>\n",
       "<style scoped>\n",
       "    .dataframe tbody tr th:only-of-type {\n",
       "        vertical-align: middle;\n",
       "    }\n",
       "\n",
       "    .dataframe tbody tr th {\n",
       "        vertical-align: top;\n",
       "    }\n",
       "\n",
       "    .dataframe thead th {\n",
       "        text-align: right;\n",
       "    }\n",
       "</style>\n",
       "<table border=\"1\" class=\"dataframe\">\n",
       "  <thead>\n",
       "    <tr style=\"text-align: right;\">\n",
       "      <th></th>\n",
       "      <th>Ground</th>\n",
       "      <th>Prize</th>\n",
       "      <th>GameRound</th>\n",
       "      <th>Tornament_Days</th>\n",
       "      <th>Rank_Diff</th>\n",
       "      <th>Height_diff</th>\n",
       "      <th>Weight_diff</th>\n",
       "      <th>Turned_pro_diff</th>\n",
       "      <th>age_diff</th>\n",
       "      <th>Num_Sets</th>\n",
       "    </tr>\n",
       "  </thead>\n",
       "  <tbody>\n",
       "    <tr>\n",
       "      <th>0</th>\n",
       "      <td>Hard</td>\n",
       "      <td>1308100.0</td>\n",
       "      <td>4</td>\n",
       "      <td>6</td>\n",
       "      <td>63</td>\n",
       "      <td>3</td>\n",
       "      <td>9.0</td>\n",
       "      <td>1.0</td>\n",
       "      <td>5.0</td>\n",
       "      <td>2</td>\n",
       "    </tr>\n",
       "    <tr>\n",
       "      <th>1</th>\n",
       "      <td>Hard</td>\n",
       "      <td>1308100.0</td>\n",
       "      <td>3</td>\n",
       "      <td>6</td>\n",
       "      <td>46</td>\n",
       "      <td>3</td>\n",
       "      <td>6.0</td>\n",
       "      <td>5.0</td>\n",
       "      <td>7.0</td>\n",
       "      <td>3</td>\n",
       "    </tr>\n",
       "    <tr>\n",
       "      <th>2</th>\n",
       "      <td>Hard</td>\n",
       "      <td>1225000.0</td>\n",
       "      <td>6</td>\n",
       "      <td>6</td>\n",
       "      <td>29</td>\n",
       "      <td>5</td>\n",
       "      <td>9.0</td>\n",
       "      <td>3.0</td>\n",
       "      <td>1.0</td>\n",
       "      <td>2</td>\n",
       "    </tr>\n",
       "    <tr>\n",
       "      <th>3</th>\n",
       "      <td>Hard</td>\n",
       "      <td>1225000.0</td>\n",
       "      <td>5</td>\n",
       "      <td>6</td>\n",
       "      <td>63</td>\n",
       "      <td>3</td>\n",
       "      <td>6.0</td>\n",
       "      <td>2.0</td>\n",
       "      <td>0.0</td>\n",
       "      <td>2</td>\n",
       "    </tr>\n",
       "    <tr>\n",
       "      <th>4</th>\n",
       "      <td>Hard</td>\n",
       "      <td>1225000.0</td>\n",
       "      <td>3</td>\n",
       "      <td>6</td>\n",
       "      <td>23</td>\n",
       "      <td>3</td>\n",
       "      <td>11.0</td>\n",
       "      <td>1.0</td>\n",
       "      <td>1.0</td>\n",
       "      <td>2</td>\n",
       "    </tr>\n",
       "    <tr>\n",
       "      <th>...</th>\n",
       "      <td>...</td>\n",
       "      <td>...</td>\n",
       "      <td>...</td>\n",
       "      <td>...</td>\n",
       "      <td>...</td>\n",
       "      <td>...</td>\n",
       "      <td>...</td>\n",
       "      <td>...</td>\n",
       "      <td>...</td>\n",
       "      <td>...</td>\n",
       "    </tr>\n",
       "    <tr>\n",
       "      <th>4804</th>\n",
       "      <td>Clay</td>\n",
       "      <td>15000.0</td>\n",
       "      <td>4</td>\n",
       "      <td>6</td>\n",
       "      <td>365</td>\n",
       "      <td>4</td>\n",
       "      <td>2.0</td>\n",
       "      <td>5.0</td>\n",
       "      <td>2.0</td>\n",
       "      <td>2</td>\n",
       "    </tr>\n",
       "    <tr>\n",
       "      <th>4805</th>\n",
       "      <td>Carpet</td>\n",
       "      <td>25000.0</td>\n",
       "      <td>3</td>\n",
       "      <td>6</td>\n",
       "      <td>684</td>\n",
       "      <td>6</td>\n",
       "      <td>11.0</td>\n",
       "      <td>4.0</td>\n",
       "      <td>1.0</td>\n",
       "      <td>3</td>\n",
       "    </tr>\n",
       "    <tr>\n",
       "      <th>4806</th>\n",
       "      <td>Clay</td>\n",
       "      <td>15000.0</td>\n",
       "      <td>3</td>\n",
       "      <td>6</td>\n",
       "      <td>583</td>\n",
       "      <td>2</td>\n",
       "      <td>9.0</td>\n",
       "      <td>1.0</td>\n",
       "      <td>6.0</td>\n",
       "      <td>3</td>\n",
       "    </tr>\n",
       "    <tr>\n",
       "      <th>4807</th>\n",
       "      <td>Clay</td>\n",
       "      <td>15000.0</td>\n",
       "      <td>3</td>\n",
       "      <td>6</td>\n",
       "      <td>384</td>\n",
       "      <td>13</td>\n",
       "      <td>7.0</td>\n",
       "      <td>0.0</td>\n",
       "      <td>0.0</td>\n",
       "      <td>2</td>\n",
       "    </tr>\n",
       "    <tr>\n",
       "      <th>4808</th>\n",
       "      <td>Clay</td>\n",
       "      <td>25000.0</td>\n",
       "      <td>3</td>\n",
       "      <td>6</td>\n",
       "      <td>376</td>\n",
       "      <td>7</td>\n",
       "      <td>3.0</td>\n",
       "      <td>0.0</td>\n",
       "      <td>0.0</td>\n",
       "      <td>3</td>\n",
       "    </tr>\n",
       "  </tbody>\n",
       "</table>\n",
       "<p>4805 rows × 10 columns</p>\n",
       "</div>"
      ],
      "text/plain": [
       "      Ground      Prize  GameRound  Tornament_Days  Rank_Diff  Height_diff   \n",
       "0       Hard  1308100.0          4               6         63            3  \\\n",
       "1       Hard  1308100.0          3               6         46            3   \n",
       "2       Hard  1225000.0          6               6         29            5   \n",
       "3       Hard  1225000.0          5               6         63            3   \n",
       "4       Hard  1225000.0          3               6         23            3   \n",
       "...      ...        ...        ...             ...        ...          ...   \n",
       "4804    Clay    15000.0          4               6        365            4   \n",
       "4805  Carpet    25000.0          3               6        684            6   \n",
       "4806    Clay    15000.0          3               6        583            2   \n",
       "4807    Clay    15000.0          3               6        384           13   \n",
       "4808    Clay    25000.0          3               6        376            7   \n",
       "\n",
       "      Weight_diff  Turned_pro_diff  age_diff  Num_Sets  \n",
       "0             9.0              1.0       5.0         2  \n",
       "1             6.0              5.0       7.0         3  \n",
       "2             9.0              3.0       1.0         2  \n",
       "3             6.0              2.0       0.0         2  \n",
       "4            11.0              1.0       1.0         2  \n",
       "...           ...              ...       ...       ...  \n",
       "4804          2.0              5.0       2.0         2  \n",
       "4805         11.0              4.0       1.0         3  \n",
       "4806          9.0              1.0       6.0         3  \n",
       "4807          7.0              0.0       0.0         2  \n",
       "4808          3.0              0.0       0.0         3  \n",
       "\n",
       "[4805 rows x 10 columns]"
      ]
     },
     "execution_count": 18,
     "metadata": {},
     "output_type": "execute_result"
    }
   ],
   "source": [
    "df_ = df[X_feature + y_target]\n",
    "df_"
   ]
  },
  {
   "attachments": {},
   "cell_type": "markdown",
   "id": "1c1faf9a",
   "metadata": {},
   "source": [
    "## Train Test Split "
   ]
  },
  {
   "cell_type": "code",
   "execution_count": 19,
   "id": "13aea108",
   "metadata": {},
   "outputs": [
    {
     "data": {
      "text/plain": [
       "Num_Sets\n",
       "2    3199\n",
       "3    1606\n",
       "Name: count, dtype: int64"
      ]
     },
     "execution_count": 19,
     "metadata": {},
     "output_type": "execute_result"
    }
   ],
   "source": [
    "df[\"Num_Sets\"].value_counts()"
   ]
  },
  {
   "cell_type": "code",
   "execution_count": 20,
   "id": "2c022bfb",
   "metadata": {},
   "outputs": [],
   "source": [
    "from sklearn.model_selection import train_test_split\n",
    "train_set,data_set = train_test_split(df_,test_size=0.3,random_state=42, stratify=df_['Num_Sets'])\n",
    "val_set, test_set = train_test_split(data_set,test_size=0.3,random_state=42, stratify=data_set['Num_Sets'])"
   ]
  },
  {
   "cell_type": "code",
   "execution_count": 21,
   "id": "fc4bd93b",
   "metadata": {},
   "outputs": [],
   "source": [
    "X_train = train_set.drop(\"Num_Sets\",axis=1)\n",
    "y_train = train_set[\"Num_Sets\"]\n",
    "\n",
    "X_val = val_set.drop(\"Num_Sets\",axis=1)\n",
    "y_val = val_set[\"Num_Sets\"]\n",
    "\n",
    "\n",
    "X_test = test_set.drop(\"Num_Sets\",axis=1)\n",
    "y_test = test_set[\"Num_Sets\"]"
   ]
  },
  {
   "attachments": {},
   "cell_type": "markdown",
   "id": "d0c0dc53",
   "metadata": {},
   "source": [
    "## Preprocessing Features"
   ]
  },
  {
   "cell_type": "code",
   "execution_count": 22,
   "id": "773073d4",
   "metadata": {},
   "outputs": [],
   "source": [
    "cat_attributes = [\"Ground\"]\n",
    "num_attributes = [\"Prize\", \"GameRound\", \"Tornament_Days\", \"Rank_Diff\", \"Height_diff\", \"Weight_diff\", \"Turned_pro_diff\", \"age_diff\"]"
   ]
  },
  {
   "cell_type": "code",
   "execution_count": 23,
   "id": "0f11926f",
   "metadata": {},
   "outputs": [],
   "source": [
    "from sklearn.base import BaseEstimator, TransformerMixin\n",
    "\n",
    "# Create a class to select numerical or categorical columns \n",
    "class DataFrameSelector(BaseEstimator, TransformerMixin):\n",
    "    def __init__(self, attribute_names):\n",
    "        self.attribute_names = attribute_names\n",
    "    def fit(self, X, y=None):\n",
    "        return self\n",
    "    def transform(self, X):\n",
    "        return X[self.attribute_names].values"
   ]
  },
  {
   "cell_type": "code",
   "execution_count": 24,
   "id": "e768dc5b",
   "metadata": {},
   "outputs": [],
   "source": [
    "from sklearn.pipeline import Pipeline\n",
    "from sklearn.preprocessing import StandardScaler, OneHotEncoder\n",
    "num_pipeline = Pipeline([\n",
    "        ('selector',DataFrameSelector(num_attributes)),\n",
    "        ('std_scaler', StandardScaler()),\n",
    "    ])\n",
    "\n",
    "cat_pipeline = Pipeline([\n",
    "        ('selector',DataFrameSelector(cat_attributes)),\n",
    "        ('cat_encoder', OneHotEncoder(sparse=False)),\n",
    "    ])"
   ]
  },
  {
   "cell_type": "code",
   "execution_count": 25,
   "id": "fac745c2",
   "metadata": {},
   "outputs": [],
   "source": [
    "from sklearn.pipeline import FeatureUnion\n",
    "\n",
    "full_pipeline = FeatureUnion(transformer_list=[\n",
    "        (\"num_pipeline\", num_pipeline),\n",
    "        (\"cat_pipeline\", cat_pipeline),\n",
    "    ])"
   ]
  },
  {
   "cell_type": "code",
   "execution_count": 26,
   "id": "6dbea20a",
   "metadata": {},
   "outputs": [
    {
     "name": "stderr",
     "output_type": "stream",
     "text": [
      "c:\\Users\\G532\\AppData\\Local\\Programs\\Python\\Python310\\lib\\site-packages\\sklearn\\preprocessing\\_encoders.py:868: FutureWarning: `sparse` was renamed to `sparse_output` in version 1.2 and will be removed in 1.4. `sparse_output` is ignored unless you leave `sparse` to its default value.\n",
      "  warnings.warn(\n"
     ]
    }
   ],
   "source": [
    "X_train_prepared = full_pipeline.fit_transform(X_train)\n",
    "X_val_prepared = full_pipeline.transform(X_val)"
   ]
  },
  {
   "attachments": {},
   "cell_type": "markdown",
   "id": "07dadf91",
   "metadata": {},
   "source": [
    "## Training Different Models\n",
    "\n",
    "- Logistic Regression \n",
    "- Random Forest \n",
    "- XG_Boost \n",
    "- SVM Model"
   ]
  },
  {
   "cell_type": "code",
<<<<<<< HEAD
   "execution_count": 27,
=======
   "execution_count": 116,
   "id": "4cce93dd",
   "metadata": {},
   "outputs": [],
   "source": [
    "accuracy = []\n",
    "recall = []\n",
    "precision = []\n",
    "models = [\"Logistic Regression\", \"Random Forest\", \"XG_Boost\", \"SVM\"]"
   ]
  },
  {
   "cell_type": "markdown",
   "id": "ef6b13a7",
   "metadata": {},
   "source": [
    "## Logistic Regression"
   ]
  },
  {
   "cell_type": "code",
   "execution_count": 148,
>>>>>>> 4c132f4 (Finish Training)
   "id": "f532da43",
   "metadata": {},
   "outputs": [
    {
     "data": {
      "text/html": [
       "<style>#sk-container-id-15 {color: black;background-color: white;}#sk-container-id-15 pre{padding: 0;}#sk-container-id-15 div.sk-toggleable {background-color: white;}#sk-container-id-15 label.sk-toggleable__label {cursor: pointer;display: block;width: 100%;margin-bottom: 0;padding: 0.3em;box-sizing: border-box;text-align: center;}#sk-container-id-15 label.sk-toggleable__label-arrow:before {content: \"▸\";float: left;margin-right: 0.25em;color: #696969;}#sk-container-id-15 label.sk-toggleable__label-arrow:hover:before {color: black;}#sk-container-id-15 div.sk-estimator:hover label.sk-toggleable__label-arrow:before {color: black;}#sk-container-id-15 div.sk-toggleable__content {max-height: 0;max-width: 0;overflow: hidden;text-align: left;background-color: #f0f8ff;}#sk-container-id-15 div.sk-toggleable__content pre {margin: 0.2em;color: black;border-radius: 0.25em;background-color: #f0f8ff;}#sk-container-id-15 input.sk-toggleable__control:checked~div.sk-toggleable__content {max-height: 200px;max-width: 100%;overflow: auto;}#sk-container-id-15 input.sk-toggleable__control:checked~label.sk-toggleable__label-arrow:before {content: \"▾\";}#sk-container-id-15 div.sk-estimator input.sk-toggleable__control:checked~label.sk-toggleable__label {background-color: #d4ebff;}#sk-container-id-15 div.sk-label input.sk-toggleable__control:checked~label.sk-toggleable__label {background-color: #d4ebff;}#sk-container-id-15 input.sk-hidden--visually {border: 0;clip: rect(1px 1px 1px 1px);clip: rect(1px, 1px, 1px, 1px);height: 1px;margin: -1px;overflow: hidden;padding: 0;position: absolute;width: 1px;}#sk-container-id-15 div.sk-estimator {font-family: monospace;background-color: #f0f8ff;border: 1px dotted black;border-radius: 0.25em;box-sizing: border-box;margin-bottom: 0.5em;}#sk-container-id-15 div.sk-estimator:hover {background-color: #d4ebff;}#sk-container-id-15 div.sk-parallel-item::after {content: \"\";width: 100%;border-bottom: 1px solid gray;flex-grow: 1;}#sk-container-id-15 div.sk-label:hover label.sk-toggleable__label {background-color: #d4ebff;}#sk-container-id-15 div.sk-serial::before {content: \"\";position: absolute;border-left: 1px solid gray;box-sizing: border-box;top: 0;bottom: 0;left: 50%;z-index: 0;}#sk-container-id-15 div.sk-serial {display: flex;flex-direction: column;align-items: center;background-color: white;padding-right: 0.2em;padding-left: 0.2em;position: relative;}#sk-container-id-15 div.sk-item {position: relative;z-index: 1;}#sk-container-id-15 div.sk-parallel {display: flex;align-items: stretch;justify-content: center;background-color: white;position: relative;}#sk-container-id-15 div.sk-item::before, #sk-container-id-15 div.sk-parallel-item::before {content: \"\";position: absolute;border-left: 1px solid gray;box-sizing: border-box;top: 0;bottom: 0;left: 50%;z-index: -1;}#sk-container-id-15 div.sk-parallel-item {display: flex;flex-direction: column;z-index: 1;position: relative;background-color: white;}#sk-container-id-15 div.sk-parallel-item:first-child::after {align-self: flex-end;width: 50%;}#sk-container-id-15 div.sk-parallel-item:last-child::after {align-self: flex-start;width: 50%;}#sk-container-id-15 div.sk-parallel-item:only-child::after {width: 0;}#sk-container-id-15 div.sk-dashed-wrapped {border: 1px dashed gray;margin: 0 0.4em 0.5em 0.4em;box-sizing: border-box;padding-bottom: 0.4em;background-color: white;}#sk-container-id-15 div.sk-label label {font-family: monospace;font-weight: bold;display: inline-block;line-height: 1.2em;}#sk-container-id-15 div.sk-label-container {text-align: center;}#sk-container-id-15 div.sk-container {/* jupyter's `normalize.less` sets `[hidden] { display: none; }` but bootstrap.min.css set `[hidden] { display: none !important; }` so we also need the `!important` here to be able to override the default hidden behavior on the sphinx rendered scikit-learn.org. See: https://github.com/scikit-learn/scikit-learn/issues/21755 */display: inline-block !important;position: relative;}#sk-container-id-15 div.sk-text-repr-fallback {display: none;}</style><div id=\"sk-container-id-15\" class=\"sk-top-container\"><div class=\"sk-text-repr-fallback\"><pre>LogisticRegression(random_state=42)</pre><b>In a Jupyter environment, please rerun this cell to show the HTML representation or trust the notebook. <br />On GitHub, the HTML representation is unable to render, please try loading this page with nbviewer.org.</b></div><div class=\"sk-container\" hidden><div class=\"sk-item\"><div class=\"sk-estimator sk-toggleable\"><input class=\"sk-toggleable__control sk-hidden--visually\" id=\"sk-estimator-id-15\" type=\"checkbox\" checked><label for=\"sk-estimator-id-15\" class=\"sk-toggleable__label sk-toggleable__label-arrow\">LogisticRegression</label><div class=\"sk-toggleable__content\"><pre>LogisticRegression(random_state=42)</pre></div></div></div></div></div>"
      ],
      "text/plain": [
       "LogisticRegression(random_state=42)"
      ]
     },
<<<<<<< HEAD
     "execution_count": 27,
=======
     "execution_count": 148,
>>>>>>> 4c132f4 (Finish Training)
     "metadata": {},
     "output_type": "execute_result"
    }
   ],
   "source": [
    "from sklearn.linear_model import LogisticRegression\n",
    "\n",
    "log_model = LogisticRegression(penalty='l2', C=1.0, solver='lbfgs', random_state=42)\n",
    "\n",
    "log_model.fit(X_train_prepared, y_train)\n"
   ]
  },
  {
   "cell_type": "code",
<<<<<<< HEAD
   "execution_count": 28,
=======
   "execution_count": 149,
>>>>>>> 4c132f4 (Finish Training)
   "id": "c5b084e0",
   "metadata": {},
   "outputs": [],
   "source": [
    "# O training data\n",
    "predictions_train = log_model.predict(X_train_prepared)\n",
    "\n",
    "#On val data\n",
    "predictions_val = log_model.predict(X_val_prepared)"
   ]
  },
  {
   "attachments": {},
   "cell_type": "markdown",
   "id": "f062c2ba",
   "metadata": {},
   "source": [
    "## Confusion Matrix "
   ]
  },
  {
   "cell_type": "code",
<<<<<<< HEAD
   "execution_count": 29,
=======
   "execution_count": 150,
>>>>>>> 4c132f4 (Finish Training)
   "id": "87532376",
   "metadata": {},
   "outputs": [
    {
     "data": {
      "image/png": "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",
      "text/plain": [
       "<Figure size 432x288 with 2 Axes>"
      ]
     },
     "metadata": {
      "needs_background": "light"
     },
     "output_type": "display_data"
    }
   ],
   "source": [
    "cm = confusion_matrix(y_train,predictions_train)\n",
    "y_train_labels = sorted(y_train.unique())\n",
    "sns.heatmap(cm, annot=True, cmap='Blues', fmt='g', xticklabels=y_train_labels, yticklabels=y_train_labels)\n",
    "\n",
    "# Set the plot title and axis labels\n",
    "plt.title('Confusion Matrix on Train')\n",
    "plt.xlabel('Predicted Label')\n",
    "plt.ylabel('True Label')\n",
    "\n",
    "# Show the plot\n",
    "plt.show()"
   ]
  },
  {
   "cell_type": "code",
<<<<<<< HEAD
   "execution_count": 30,
=======
   "execution_count": 152,
   "id": "906d4f56",
   "metadata": {},
   "outputs": [
    {
     "data": {
      "image/png": "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\n",
      "text/plain": [
       "<Figure size 640x480 with 2 Axes>"
      ]
     },
     "metadata": {},
     "output_type": "display_data"
    }
   ],
   "source": [
    "cm = confusion_matrix(y_val,predictions_val)\n",
    "y_train_labels = sorted(y_train.unique())\n",
    "sns.heatmap(cm, annot=True, cmap='Blues', fmt='g', xticklabels=y_train_labels, yticklabels=y_train_labels)\n",
    "\n",
    "# Set the plot title and axis labels\n",
    "plt.title('Confusion Matrix - Logistic Regression')\n",
    "plt.xlabel('Predicted Label')\n",
    "plt.ylabel('True Label')\n",
    "\n",
    "# Show the plot\n",
    "plt.show()"
   ]
  },
  {
   "cell_type": "code",
   "execution_count": 120,
>>>>>>> 4c132f4 (Finish Training)
   "id": "6dcfff5c",
   "metadata": {},
   "outputs": [
    {
     "name": "stdout",
     "output_type": "stream",
     "text": [
      "              precision    recall  f1-score   support\n",
      "\n",
      "           2       0.67      1.00      0.80      2239\n",
      "           3       0.00      0.00      0.00      1124\n",
      "\n",
      "    accuracy                           0.67      3363\n",
      "   macro avg       0.33      0.50      0.40      3363\n",
      "weighted avg       0.44      0.67      0.53      3363\n",
      "\n"
     ]
    },
    {
     "name": "stderr",
     "output_type": "stream",
     "text": [
      "c:\\Users\\G532\\AppData\\Local\\Programs\\Python\\Python310\\lib\\site-packages\\sklearn\\metrics\\_classification.py:1344: UndefinedMetricWarning: Precision and F-score are ill-defined and being set to 0.0 in labels with no predicted samples. Use `zero_division` parameter to control this behavior.\n",
      "  _warn_prf(average, modifier, msg_start, len(result))\n",
      "c:\\Users\\G532\\AppData\\Local\\Programs\\Python\\Python310\\lib\\site-packages\\sklearn\\metrics\\_classification.py:1344: UndefinedMetricWarning: Precision and F-score are ill-defined and being set to 0.0 in labels with no predicted samples. Use `zero_division` parameter to control this behavior.\n",
      "  _warn_prf(average, modifier, msg_start, len(result))\n",
      "c:\\Users\\G532\\AppData\\Local\\Programs\\Python\\Python310\\lib\\site-packages\\sklearn\\metrics\\_classification.py:1344: UndefinedMetricWarning: Precision and F-score are ill-defined and being set to 0.0 in labels with no predicted samples. Use `zero_division` parameter to control this behavior.\n",
      "  _warn_prf(average, modifier, msg_start, len(result))\n"
     ]
    }
   ],
   "source": [
    "from sklearn.metrics import classification_report\n",
    "\n",
    "# Generate a classification report\n",
    "report = classification_report(y_train, predictions_train)\n",
    "\n",
    "# Print the report\n",
    "print(report)"
   ]
  },
  {
<<<<<<< HEAD
   "attachments": {},
=======
   "cell_type": "code",
   "execution_count": 121,
   "id": "46dcaedd",
   "metadata": {},
   "outputs": [
    {
     "data": {
      "text/plain": [
       "Series([], Name: Num_Sets, dtype: int64)"
      ]
     },
     "execution_count": 121,
     "metadata": {},
     "output_type": "execute_result"
    }
   ],
   "source": [
    "y_val[y_val == 1]"
   ]
  },
  {
   "cell_type": "code",
   "execution_count": 122,
   "id": "a4bd21c1",
   "metadata": {},
   "outputs": [],
   "source": [
    "from sklearn.metrics import accuracy_score, precision_score, recall_score\n",
    "accuracy.append(accuracy_score(y_val, predictions_val))\n",
    "precision.append(precision_score(y_val, predictions_val, pos_label=2))\n",
    "recall.append(recall_score(y_val, predictions_val, pos_label=2))"
   ]
  },
  {
>>>>>>> 4c132f4 (Finish Training)
   "cell_type": "markdown",
   "id": "8b741234",
   "metadata": {},
   "source": [
    "##  Training a Random Forest"
   ]
  },
  {
   "cell_type": "code",
<<<<<<< HEAD
   "execution_count": 31,
=======
   "execution_count": 153,
>>>>>>> 4c132f4 (Finish Training)
   "id": "b53f88ba",
   "metadata": {},
   "outputs": [],
   "source": [
    "from sklearn.ensemble import RandomForestClassifier"
   ]
  },
  {
   "cell_type": "code",
<<<<<<< HEAD
   "execution_count": 32,
=======
   "execution_count": 154,
>>>>>>> 4c132f4 (Finish Training)
   "id": "ed6e62cd",
   "metadata": {},
   "outputs": [
    {
     "data": {
      "text/html": [
       "<style>#sk-container-id-16 {color: black;background-color: white;}#sk-container-id-16 pre{padding: 0;}#sk-container-id-16 div.sk-toggleable {background-color: white;}#sk-container-id-16 label.sk-toggleable__label {cursor: pointer;display: block;width: 100%;margin-bottom: 0;padding: 0.3em;box-sizing: border-box;text-align: center;}#sk-container-id-16 label.sk-toggleable__label-arrow:before {content: \"▸\";float: left;margin-right: 0.25em;color: #696969;}#sk-container-id-16 label.sk-toggleable__label-arrow:hover:before {color: black;}#sk-container-id-16 div.sk-estimator:hover label.sk-toggleable__label-arrow:before {color: black;}#sk-container-id-16 div.sk-toggleable__content {max-height: 0;max-width: 0;overflow: hidden;text-align: left;background-color: #f0f8ff;}#sk-container-id-16 div.sk-toggleable__content pre {margin: 0.2em;color: black;border-radius: 0.25em;background-color: #f0f8ff;}#sk-container-id-16 input.sk-toggleable__control:checked~div.sk-toggleable__content {max-height: 200px;max-width: 100%;overflow: auto;}#sk-container-id-16 input.sk-toggleable__control:checked~label.sk-toggleable__label-arrow:before {content: \"▾\";}#sk-container-id-16 div.sk-estimator input.sk-toggleable__control:checked~label.sk-toggleable__label {background-color: #d4ebff;}#sk-container-id-16 div.sk-label input.sk-toggleable__control:checked~label.sk-toggleable__label {background-color: #d4ebff;}#sk-container-id-16 input.sk-hidden--visually {border: 0;clip: rect(1px 1px 1px 1px);clip: rect(1px, 1px, 1px, 1px);height: 1px;margin: -1px;overflow: hidden;padding: 0;position: absolute;width: 1px;}#sk-container-id-16 div.sk-estimator {font-family: monospace;background-color: #f0f8ff;border: 1px dotted black;border-radius: 0.25em;box-sizing: border-box;margin-bottom: 0.5em;}#sk-container-id-16 div.sk-estimator:hover {background-color: #d4ebff;}#sk-container-id-16 div.sk-parallel-item::after {content: \"\";width: 100%;border-bottom: 1px solid gray;flex-grow: 1;}#sk-container-id-16 div.sk-label:hover label.sk-toggleable__label {background-color: #d4ebff;}#sk-container-id-16 div.sk-serial::before {content: \"\";position: absolute;border-left: 1px solid gray;box-sizing: border-box;top: 0;bottom: 0;left: 50%;z-index: 0;}#sk-container-id-16 div.sk-serial {display: flex;flex-direction: column;align-items: center;background-color: white;padding-right: 0.2em;padding-left: 0.2em;position: relative;}#sk-container-id-16 div.sk-item {position: relative;z-index: 1;}#sk-container-id-16 div.sk-parallel {display: flex;align-items: stretch;justify-content: center;background-color: white;position: relative;}#sk-container-id-16 div.sk-item::before, #sk-container-id-16 div.sk-parallel-item::before {content: \"\";position: absolute;border-left: 1px solid gray;box-sizing: border-box;top: 0;bottom: 0;left: 50%;z-index: -1;}#sk-container-id-16 div.sk-parallel-item {display: flex;flex-direction: column;z-index: 1;position: relative;background-color: white;}#sk-container-id-16 div.sk-parallel-item:first-child::after {align-self: flex-end;width: 50%;}#sk-container-id-16 div.sk-parallel-item:last-child::after {align-self: flex-start;width: 50%;}#sk-container-id-16 div.sk-parallel-item:only-child::after {width: 0;}#sk-container-id-16 div.sk-dashed-wrapped {border: 1px dashed gray;margin: 0 0.4em 0.5em 0.4em;box-sizing: border-box;padding-bottom: 0.4em;background-color: white;}#sk-container-id-16 div.sk-label label {font-family: monospace;font-weight: bold;display: inline-block;line-height: 1.2em;}#sk-container-id-16 div.sk-label-container {text-align: center;}#sk-container-id-16 div.sk-container {/* jupyter's `normalize.less` sets `[hidden] { display: none; }` but bootstrap.min.css set `[hidden] { display: none !important; }` so we also need the `!important` here to be able to override the default hidden behavior on the sphinx rendered scikit-learn.org. See: https://github.com/scikit-learn/scikit-learn/issues/21755 */display: inline-block !important;position: relative;}#sk-container-id-16 div.sk-text-repr-fallback {display: none;}</style><div id=\"sk-container-id-16\" class=\"sk-top-container\"><div class=\"sk-text-repr-fallback\"><pre>RandomForestClassifier(max_leaf_nodes=16, n_estimators=500, n_jobs=-1)</pre><b>In a Jupyter environment, please rerun this cell to show the HTML representation or trust the notebook. <br />On GitHub, the HTML representation is unable to render, please try loading this page with nbviewer.org.</b></div><div class=\"sk-container\" hidden><div class=\"sk-item\"><div class=\"sk-estimator sk-toggleable\"><input class=\"sk-toggleable__control sk-hidden--visually\" id=\"sk-estimator-id-16\" type=\"checkbox\" checked><label for=\"sk-estimator-id-16\" class=\"sk-toggleable__label sk-toggleable__label-arrow\">RandomForestClassifier</label><div class=\"sk-toggleable__content\"><pre>RandomForestClassifier(max_leaf_nodes=16, n_estimators=500, n_jobs=-1)</pre></div></div></div></div></div>"
      ],
      "text/plain": [
       "RandomForestClassifier(max_leaf_nodes=16, n_estimators=500, n_jobs=-1)"
      ]
     },
<<<<<<< HEAD
     "execution_count": 32,
=======
     "execution_count": 154,
>>>>>>> 4c132f4 (Finish Training)
     "metadata": {},
     "output_type": "execute_result"
    }
   ],
   "source": [
    "rnd_clf = RandomForestClassifier(n_estimators=500, max_leaf_nodes=16, n_jobs=-1)\n",
    "rnd_clf.fit(X_train_prepared,y_train)"
   ]
  },
  {
   "cell_type": "code",
<<<<<<< HEAD
   "execution_count": 33,
=======
   "execution_count": 155,
>>>>>>> 4c132f4 (Finish Training)
   "id": "4b07367b",
   "metadata": {},
   "outputs": [],
   "source": [
    "predictions_train = rnd_clf.predict(X_train_prepared)\n",
    "predictions_val = rnd_clf.predict(X_val_prepared)"
   ]
  },
  {
   "cell_type": "code",
<<<<<<< HEAD
   "execution_count": 34,
=======
   "execution_count": 156,
>>>>>>> 4c132f4 (Finish Training)
   "id": "f978b0ff",
   "metadata": {},
   "outputs": [
    {
     "data": {
<<<<<<< HEAD
      "image/png": "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",
=======
      "image/png": "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\n",
>>>>>>> 4c132f4 (Finish Training)
      "text/plain": [
       "<Figure size 432x288 with 2 Axes>"
      ]
     },
     "metadata": {
      "needs_background": "light"
     },
     "output_type": "display_data"
    }
   ],
   "source": [
    "cm = confusion_matrix(y_train,predictions_train)\n",
    "y_train_labels = sorted(y_train.unique())\n",
    "sns.heatmap(cm, annot=True, cmap='Blues', fmt='g', xticklabels=y_train_labels, yticklabels=y_train_labels)\n",
    "\n",
    "# Set the plot title and axis labels\n",
    "plt.title('Confusion Matrix On Train Set')\n",
    "plt.xlabel('Predicted Label')\n",
    "plt.ylabel('True Label')\n",
    "\n",
    "# Show the plot\n",
    "plt.show()"
   ]
  },
  {
   "cell_type": "code",
<<<<<<< HEAD
   "execution_count": 35,
=======
   "execution_count": 157,
   "id": "5ad4c351",
   "metadata": {},
   "outputs": [
    {
     "data": {
      "image/png": "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\n",
      "text/plain": [
       "<Figure size 640x480 with 2 Axes>"
      ]
     },
     "metadata": {},
     "output_type": "display_data"
    }
   ],
   "source": [
    "cm = confusion_matrix(y_val,predictions_val)\n",
    "y_train_labels = sorted(y_train.unique())\n",
    "sns.heatmap(cm, annot=True, cmap='Blues', fmt='g', xticklabels=y_train_labels, yticklabels=y_train_labels)\n",
    "\n",
    "# Set the plot title and axis labels\n",
    "plt.title('Confusion Matrix On - Random Forest')\n",
    "plt.xlabel('Predicted Label')\n",
    "plt.ylabel('True Label')\n",
    "\n",
    "# Show the plot\n",
    "plt.show()"
   ]
  },
  {
   "cell_type": "code",
   "execution_count": 127,
>>>>>>> 4c132f4 (Finish Training)
   "id": "d7d0f731",
   "metadata": {},
   "outputs": [
    {
     "name": "stdout",
     "output_type": "stream",
     "text": [
      "              precision    recall  f1-score   support\n",
      "\n",
      "           2       0.67      1.00      0.80      2239\n",
      "           3       1.00      0.01      0.01      1124\n",
      "\n",
      "    accuracy                           0.67      3363\n",
<<<<<<< HEAD
      "   macro avg       0.83      0.50      0.40      3363\n",
      "weighted avg       0.78      0.67      0.53      3363\n",
=======
      "   macro avg       0.83      0.50      0.41      3363\n",
      "weighted avg       0.78      0.67      0.54      3363\n",
>>>>>>> 4c132f4 (Finish Training)
      "\n"
     ]
    }
   ],
   "source": [
    "from sklearn.metrics import classification_report\n",
    "\n",
    "# Generate a classification report\n",
    "report = classification_report(y_train, predictions_train)\n",
    "\n",
    "# Print the report\n",
    "print(report)"
   ]
  },
  {
<<<<<<< HEAD
   "attachments": {},
=======
   "cell_type": "code",
   "execution_count": 128,
   "id": "5b078d2b",
   "metadata": {},
   "outputs": [],
   "source": [
    "accuracy.append(accuracy_score(y_val, predictions_val))\n",
    "precision.append(precision_score(y_val, predictions_val, pos_label=2))\n",
    "recall.append(recall_score(y_val, predictions_val, pos_label=2))"
   ]
  },
  {
>>>>>>> 4c132f4 (Finish Training)
   "cell_type": "markdown",
   "id": "1eb2b35d",
   "metadata": {},
   "source": [
    "## XG-Boost "
   ]
  },
  {
   "cell_type": "code",
<<<<<<< HEAD
   "execution_count": 36,
=======
   "execution_count": 203,
>>>>>>> 4c132f4 (Finish Training)
   "id": "9bcd77cc",
   "metadata": {},
   "outputs": [],
   "source": [
    "import xgboost as xgb"
   ]
  },
  {
   "cell_type": "code",
<<<<<<< HEAD
   "execution_count": 37,
=======
   "execution_count": 204,
>>>>>>> 4c132f4 (Finish Training)
   "id": "5752fa7d",
   "metadata": {},
   "outputs": [],
   "source": [
    "to_map = {2:0, 3:1}\n",
    "Y_train = y_train.map(to_map)\n",
    "Y_val = y_val.map(to_map)"
   ]
  },
  {
   "cell_type": "code",
<<<<<<< HEAD
   "execution_count": 38,
=======
   "execution_count": 205,
>>>>>>> 4c132f4 (Finish Training)
   "id": "9df18ec0",
   "metadata": {},
   "outputs": [],
   "source": [
    "model = xgb.XGBClassifier(random_state=42, max_depth=3, min_child_weight=1, gamma=0.05, subsample=0.8, colsample_bytree=0.8,n_estimators=75)"
   ]
  },
  {
   "cell_type": "code",
<<<<<<< HEAD
   "execution_count": 39,
=======
   "execution_count": 206,
>>>>>>> 4c132f4 (Finish Training)
   "id": "0d7e78a0",
   "metadata": {},
   "outputs": [
    {
     "data": {
      "text/html": [
<<<<<<< HEAD
       "<style>#sk-container-id-3 {color: black;background-color: white;}#sk-container-id-3 pre{padding: 0;}#sk-container-id-3 div.sk-toggleable {background-color: white;}#sk-container-id-3 label.sk-toggleable__label {cursor: pointer;display: block;width: 100%;margin-bottom: 0;padding: 0.3em;box-sizing: border-box;text-align: center;}#sk-container-id-3 label.sk-toggleable__label-arrow:before {content: \"▸\";float: left;margin-right: 0.25em;color: #696969;}#sk-container-id-3 label.sk-toggleable__label-arrow:hover:before {color: black;}#sk-container-id-3 div.sk-estimator:hover label.sk-toggleable__label-arrow:before {color: black;}#sk-container-id-3 div.sk-toggleable__content {max-height: 0;max-width: 0;overflow: hidden;text-align: left;background-color: #f0f8ff;}#sk-container-id-3 div.sk-toggleable__content pre {margin: 0.2em;color: black;border-radius: 0.25em;background-color: #f0f8ff;}#sk-container-id-3 input.sk-toggleable__control:checked~div.sk-toggleable__content {max-height: 200px;max-width: 100%;overflow: auto;}#sk-container-id-3 input.sk-toggleable__control:checked~label.sk-toggleable__label-arrow:before {content: \"▾\";}#sk-container-id-3 div.sk-estimator input.sk-toggleable__control:checked~label.sk-toggleable__label {background-color: #d4ebff;}#sk-container-id-3 div.sk-label input.sk-toggleable__control:checked~label.sk-toggleable__label {background-color: #d4ebff;}#sk-container-id-3 input.sk-hidden--visually {border: 0;clip: rect(1px 1px 1px 1px);clip: rect(1px, 1px, 1px, 1px);height: 1px;margin: -1px;overflow: hidden;padding: 0;position: absolute;width: 1px;}#sk-container-id-3 div.sk-estimator {font-family: monospace;background-color: #f0f8ff;border: 1px dotted black;border-radius: 0.25em;box-sizing: border-box;margin-bottom: 0.5em;}#sk-container-id-3 div.sk-estimator:hover {background-color: #d4ebff;}#sk-container-id-3 div.sk-parallel-item::after {content: \"\";width: 100%;border-bottom: 1px solid gray;flex-grow: 1;}#sk-container-id-3 div.sk-label:hover label.sk-toggleable__label {background-color: #d4ebff;}#sk-container-id-3 div.sk-serial::before {content: \"\";position: absolute;border-left: 1px solid gray;box-sizing: border-box;top: 0;bottom: 0;left: 50%;z-index: 0;}#sk-container-id-3 div.sk-serial {display: flex;flex-direction: column;align-items: center;background-color: white;padding-right: 0.2em;padding-left: 0.2em;position: relative;}#sk-container-id-3 div.sk-item {position: relative;z-index: 1;}#sk-container-id-3 div.sk-parallel {display: flex;align-items: stretch;justify-content: center;background-color: white;position: relative;}#sk-container-id-3 div.sk-item::before, #sk-container-id-3 div.sk-parallel-item::before {content: \"\";position: absolute;border-left: 1px solid gray;box-sizing: border-box;top: 0;bottom: 0;left: 50%;z-index: -1;}#sk-container-id-3 div.sk-parallel-item {display: flex;flex-direction: column;z-index: 1;position: relative;background-color: white;}#sk-container-id-3 div.sk-parallel-item:first-child::after {align-self: flex-end;width: 50%;}#sk-container-id-3 div.sk-parallel-item:last-child::after {align-self: flex-start;width: 50%;}#sk-container-id-3 div.sk-parallel-item:only-child::after {width: 0;}#sk-container-id-3 div.sk-dashed-wrapped {border: 1px dashed gray;margin: 0 0.4em 0.5em 0.4em;box-sizing: border-box;padding-bottom: 0.4em;background-color: white;}#sk-container-id-3 div.sk-label label {font-family: monospace;font-weight: bold;display: inline-block;line-height: 1.2em;}#sk-container-id-3 div.sk-label-container {text-align: center;}#sk-container-id-3 div.sk-container {/* jupyter's `normalize.less` sets `[hidden] { display: none; }` but bootstrap.min.css set `[hidden] { display: none !important; }` so we also need the `!important` here to be able to override the default hidden behavior on the sphinx rendered scikit-learn.org. See: https://github.com/scikit-learn/scikit-learn/issues/21755 */display: inline-block !important;position: relative;}#sk-container-id-3 div.sk-text-repr-fallback {display: none;}</style><div id=\"sk-container-id-3\" class=\"sk-top-container\"><div class=\"sk-text-repr-fallback\"><pre>XGBClassifier(base_score=None, booster=None, callbacks=None,\n",
=======
       "<style>#sk-container-id-22 {color: black;background-color: white;}#sk-container-id-22 pre{padding: 0;}#sk-container-id-22 div.sk-toggleable {background-color: white;}#sk-container-id-22 label.sk-toggleable__label {cursor: pointer;display: block;width: 100%;margin-bottom: 0;padding: 0.3em;box-sizing: border-box;text-align: center;}#sk-container-id-22 label.sk-toggleable__label-arrow:before {content: \"▸\";float: left;margin-right: 0.25em;color: #696969;}#sk-container-id-22 label.sk-toggleable__label-arrow:hover:before {color: black;}#sk-container-id-22 div.sk-estimator:hover label.sk-toggleable__label-arrow:before {color: black;}#sk-container-id-22 div.sk-toggleable__content {max-height: 0;max-width: 0;overflow: hidden;text-align: left;background-color: #f0f8ff;}#sk-container-id-22 div.sk-toggleable__content pre {margin: 0.2em;color: black;border-radius: 0.25em;background-color: #f0f8ff;}#sk-container-id-22 input.sk-toggleable__control:checked~div.sk-toggleable__content {max-height: 200px;max-width: 100%;overflow: auto;}#sk-container-id-22 input.sk-toggleable__control:checked~label.sk-toggleable__label-arrow:before {content: \"▾\";}#sk-container-id-22 div.sk-estimator input.sk-toggleable__control:checked~label.sk-toggleable__label {background-color: #d4ebff;}#sk-container-id-22 div.sk-label input.sk-toggleable__control:checked~label.sk-toggleable__label {background-color: #d4ebff;}#sk-container-id-22 input.sk-hidden--visually {border: 0;clip: rect(1px 1px 1px 1px);clip: rect(1px, 1px, 1px, 1px);height: 1px;margin: -1px;overflow: hidden;padding: 0;position: absolute;width: 1px;}#sk-container-id-22 div.sk-estimator {font-family: monospace;background-color: #f0f8ff;border: 1px dotted black;border-radius: 0.25em;box-sizing: border-box;margin-bottom: 0.5em;}#sk-container-id-22 div.sk-estimator:hover {background-color: #d4ebff;}#sk-container-id-22 div.sk-parallel-item::after {content: \"\";width: 100%;border-bottom: 1px solid gray;flex-grow: 1;}#sk-container-id-22 div.sk-label:hover label.sk-toggleable__label {background-color: #d4ebff;}#sk-container-id-22 div.sk-serial::before {content: \"\";position: absolute;border-left: 1px solid gray;box-sizing: border-box;top: 0;bottom: 0;left: 50%;z-index: 0;}#sk-container-id-22 div.sk-serial {display: flex;flex-direction: column;align-items: center;background-color: white;padding-right: 0.2em;padding-left: 0.2em;position: relative;}#sk-container-id-22 div.sk-item {position: relative;z-index: 1;}#sk-container-id-22 div.sk-parallel {display: flex;align-items: stretch;justify-content: center;background-color: white;position: relative;}#sk-container-id-22 div.sk-item::before, #sk-container-id-22 div.sk-parallel-item::before {content: \"\";position: absolute;border-left: 1px solid gray;box-sizing: border-box;top: 0;bottom: 0;left: 50%;z-index: -1;}#sk-container-id-22 div.sk-parallel-item {display: flex;flex-direction: column;z-index: 1;position: relative;background-color: white;}#sk-container-id-22 div.sk-parallel-item:first-child::after {align-self: flex-end;width: 50%;}#sk-container-id-22 div.sk-parallel-item:last-child::after {align-self: flex-start;width: 50%;}#sk-container-id-22 div.sk-parallel-item:only-child::after {width: 0;}#sk-container-id-22 div.sk-dashed-wrapped {border: 1px dashed gray;margin: 0 0.4em 0.5em 0.4em;box-sizing: border-box;padding-bottom: 0.4em;background-color: white;}#sk-container-id-22 div.sk-label label {font-family: monospace;font-weight: bold;display: inline-block;line-height: 1.2em;}#sk-container-id-22 div.sk-label-container {text-align: center;}#sk-container-id-22 div.sk-container {/* jupyter's `normalize.less` sets `[hidden] { display: none; }` but bootstrap.min.css set `[hidden] { display: none !important; }` so we also need the `!important` here to be able to override the default hidden behavior on the sphinx rendered scikit-learn.org. See: https://github.com/scikit-learn/scikit-learn/issues/21755 */display: inline-block !important;position: relative;}#sk-container-id-22 div.sk-text-repr-fallback {display: none;}</style><div id=\"sk-container-id-22\" class=\"sk-top-container\"><div class=\"sk-text-repr-fallback\"><pre>XGBClassifier(base_score=None, booster=None, callbacks=None,\n",
>>>>>>> 4c132f4 (Finish Training)
       "              colsample_bylevel=None, colsample_bynode=None,\n",
       "              colsample_bytree=0.8, early_stopping_rounds=None,\n",
       "              enable_categorical=False, eval_metric=None, feature_types=None,\n",
       "              gamma=0.05, gpu_id=None, grow_policy=None, importance_type=None,\n",
       "              interaction_constraints=None, learning_rate=None, max_bin=None,\n",
       "              max_cat_threshold=None, max_cat_to_onehot=None,\n",
       "              max_delta_step=None, max_depth=3, max_leaves=None,\n",
       "              min_child_weight=1, missing=nan, monotone_constraints=None,\n",
       "              n_estimators=75, n_jobs=None, num_parallel_tree=None,\n",
<<<<<<< HEAD
       "              predictor=None, random_state=42, ...)</pre><b>In a Jupyter environment, please rerun this cell to show the HTML representation or trust the notebook. <br />On GitHub, the HTML representation is unable to render, please try loading this page with nbviewer.org.</b></div><div class=\"sk-container\" hidden><div class=\"sk-item\"><div class=\"sk-estimator sk-toggleable\"><input class=\"sk-toggleable__control sk-hidden--visually\" id=\"sk-estimator-id-3\" type=\"checkbox\" checked><label for=\"sk-estimator-id-3\" class=\"sk-toggleable__label sk-toggleable__label-arrow\">XGBClassifier</label><div class=\"sk-toggleable__content\"><pre>XGBClassifier(base_score=None, booster=None, callbacks=None,\n",
=======
       "              predictor=None, random_state=42, ...)</pre><b>In a Jupyter environment, please rerun this cell to show the HTML representation or trust the notebook. <br />On GitHub, the HTML representation is unable to render, please try loading this page with nbviewer.org.</b></div><div class=\"sk-container\" hidden><div class=\"sk-item\"><div class=\"sk-estimator sk-toggleable\"><input class=\"sk-toggleable__control sk-hidden--visually\" id=\"sk-estimator-id-22\" type=\"checkbox\" checked><label for=\"sk-estimator-id-22\" class=\"sk-toggleable__label sk-toggleable__label-arrow\">XGBClassifier</label><div class=\"sk-toggleable__content\"><pre>XGBClassifier(base_score=None, booster=None, callbacks=None,\n",
>>>>>>> 4c132f4 (Finish Training)
       "              colsample_bylevel=None, colsample_bynode=None,\n",
       "              colsample_bytree=0.8, early_stopping_rounds=None,\n",
       "              enable_categorical=False, eval_metric=None, feature_types=None,\n",
       "              gamma=0.05, gpu_id=None, grow_policy=None, importance_type=None,\n",
       "              interaction_constraints=None, learning_rate=None, max_bin=None,\n",
       "              max_cat_threshold=None, max_cat_to_onehot=None,\n",
       "              max_delta_step=None, max_depth=3, max_leaves=None,\n",
       "              min_child_weight=1, missing=nan, monotone_constraints=None,\n",
       "              n_estimators=75, n_jobs=None, num_parallel_tree=None,\n",
       "              predictor=None, random_state=42, ...)</pre></div></div></div></div></div>"
      ],
      "text/plain": [
       "XGBClassifier(base_score=None, booster=None, callbacks=None,\n",
       "              colsample_bylevel=None, colsample_bynode=None,\n",
       "              colsample_bytree=0.8, early_stopping_rounds=None,\n",
       "              enable_categorical=False, eval_metric=None, feature_types=None,\n",
       "              gamma=0.05, gpu_id=None, grow_policy=None, importance_type=None,\n",
       "              interaction_constraints=None, learning_rate=None, max_bin=None,\n",
       "              max_cat_threshold=None, max_cat_to_onehot=None,\n",
       "              max_delta_step=None, max_depth=3, max_leaves=None,\n",
       "              min_child_weight=1, missing=nan, monotone_constraints=None,\n",
       "              n_estimators=75, n_jobs=None, num_parallel_tree=None,\n",
       "              predictor=None, random_state=42, ...)"
      ]
     },
<<<<<<< HEAD
     "execution_count": 39,
=======
     "execution_count": 206,
>>>>>>> 4c132f4 (Finish Training)
     "metadata": {},
     "output_type": "execute_result"
    }
   ],
   "source": [
    "model.fit(X_train_prepared, Y_train)"
   ]
  },
  {
   "cell_type": "code",
<<<<<<< HEAD
   "execution_count": 40,
=======
   "execution_count": 207,
>>>>>>> 4c132f4 (Finish Training)
   "id": "cbcb9034",
   "metadata": {},
   "outputs": [],
   "source": [
    "predictions_train = model.predict(X_train_prepared)\n",
    "predictions_val = model.predict(X_val_prepared)"
   ]
  },
  {
   "cell_type": "code",
<<<<<<< HEAD
   "execution_count": 41,
=======
   "execution_count": 208,
>>>>>>> 4c132f4 (Finish Training)
   "id": "2f932f82",
   "metadata": {},
   "outputs": [
    {
     "data": {
      "image/png": "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",
      "text/plain": [
       "<Figure size 432x288 with 2 Axes>"
      ]
     },
     "metadata": {
      "needs_background": "light"
     },
     "output_type": "display_data"
    }
   ],
   "source": [
    "cm = confusion_matrix(Y_train,predictions_train)\n",
    "y_train_labels = sorted(y_train.unique())\n",
    "sns.heatmap(cm, annot=True, cmap='Blues', fmt='g', xticklabels=y_train_labels, yticklabels=y_train_labels)\n",
    "\n",
    "# Set the plot title and axis labels\n",
    "plt.title('Confusion Matrix on Train')\n",
    "plt.xlabel('Predicted Label')\n",
    "plt.ylabel('True Label')\n",
    "\n",
    "# Show the plot\n",
    "plt.show()"
   ]
  },
  {
   "cell_type": "code",
<<<<<<< HEAD
   "execution_count": 42,
=======
   "execution_count": 181,
>>>>>>> 4c132f4 (Finish Training)
   "id": "fb8a4da3",
   "metadata": {},
   "outputs": [
    {
     "name": "stdout",
     "output_type": "stream",
     "text": [
      "              precision    recall  f1-score   support\n",
      "\n",
      "           0       0.71      0.98      0.83      2239\n",
      "           1       0.84      0.22      0.35      1124\n",
      "\n",
      "    accuracy                           0.73      3363\n",
      "   macro avg       0.78      0.60      0.59      3363\n",
      "weighted avg       0.76      0.73      0.67      3363\n",
      "\n"
     ]
    }
   ],
   "source": [
    "from sklearn.metrics import classification_report\n",
    "\n",
    "# Generate a classification report\n",
    "report = classification_report(Y_train, predictions_train)\n",
    "\n",
    "# Print the report\n",
    "print(report)"
   ]
  },
  {
   "cell_type": "code",
<<<<<<< HEAD
   "execution_count": 43,
=======
   "execution_count": 182,
>>>>>>> 4c132f4 (Finish Training)
   "id": "67c9731a",
   "metadata": {},
   "outputs": [
    {
     "data": {
<<<<<<< HEAD
      "image/png": "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",
=======
      "image/png": "iVBORw0KGgoAAAANSUhEUgAAAhsAAAHFCAYAAABb+zt/AAAAOXRFWHRTb2Z0d2FyZQBNYXRwbG90bGliIHZlcnNpb24zLjcuMCwgaHR0cHM6Ly9tYXRwbG90bGliLm9yZy88F64QAAAACXBIWXMAAA9hAAAPYQGoP6dpAABF1UlEQVR4nO3deVxWZf7/8ffNdgsIKKggioaK+8aoOdiC5TYumdM0alqpMW0uhXvatzQrSFvUsrSs3MqcmrLFzNEyzXVE00lNbRG3lHBBXMIbxOv3Rz/v6RbUG70PCPfr2eM8ZrjOda7zOYDeHz/Xdc6xGWOMAAAALOJT0gEAAICyjWQDAABYimQDAABYimQDAABYimQDAABYimQDAABYimQDAABYimQDAABYimQDAABYimQDbvnuu+80YMAAxcbGqly5cipfvrz+9Kc/adKkSTp27Jil5968ebMSExMVFhYmm82mKVOmePwcNptN48eP9/i4lzN79mzZbDbZbDatWLGiwH5jjOrUqSObzaa2bdte0Tlee+01zZ49u0jHrFix4qIxWW3lypXy8fHR2LFjC+z7+eefVb58ed15550F9i1atEi33367oqOjFRAQoJCQEMXHx2vcuHHat2/fZc87fvx458/CZrPJx8dHVatWVZcuXbRmzRqPXNvVOHjwoMaPH68tW7aUdChA0RngMt544w3j5+dnGjVqZF599VXz9ddfm6VLl5qUlBQTGxtrevToYen5mzdvbuLi4szixYvNunXrzKFDhzx+jnXr1pn9+/d7fNzLmTVrlpFkQkJCzN13311g/9dff+3cn5iYeEXnaNSoUZGPzc7ONuvWrTPZ2dlXdM6r9eijjxpfX1/zn//8x9mWn59vbrjhBlO5cmWTmZnp0n7vvfcaSaZz585m9uzZZsWKFeaLL74wEyZMMLGxsaZ69eqXPee4ceOMJLNkyRKzbt06s2bNGvPee++Z+Ph44+fnZzZt2mTJtborLS3NSDKzZs0q0TiAK0GygUtau3at8fX1NX/5y1/MmTNnCux3OBzmk08+sTQGPz8/8/DDD1t6jpJyPtn4xz/+YQIDAwt8uN99990mISHhihKG84pybG5ursnLy7ui83jSb7/9ZurWrWvq169vcnJyjDHGTJw40UgyH374oUvflJQUI8mkpqYWOlZeXp6ZNm3aZc95Ptk4fPiwS/vPP/9sJJkxY8Zc4dV4BskGSjOSDVxSt27djJ+fn9m3b59b/fPz883EiRNNvXr1TEBAgKlcubK55557ClQNEhMTTaNGjcyGDRvMjTfeaAIDA01sbKxJTU01+fn5xpj/fRBfuBnzvw+GC50/Jj093dn21VdfmcTERBMeHm7KlStnYmJizB133GFOnz7t7CPJjBs3zmWsrVu3mu7du5sKFSoYu91umjVrZmbPnu3S53zlYf78+Wbs2LGmatWqJiQkxLRr187s3Lnzst+v8/F+9dVXJjAw0MyYMcO57/jx4yYwMNDMnDmz0IRh/Pjx5vrrrzcVK1Y0ISEhJj4+3rz55pvm3Llzzj41a9Ys8P2rWbOmS+xz5841w4YNM9HR0cZms5kdO3Y493399dfGGGMOHz5sqlevbhISEkxubq5z/O3bt5ugoKBCqzJXa+3atcbHx8cMHTrUbN261djtdtO3b1+XPg6Hw1SoUME0btz4qs93sWTjyJEjRpJ58sknXdr37t1r+vbtaypXrmwCAgJM/fr1zQsvvOD8/T3v6NGj5uGHHzbR0dHG39/fxMbGmrFjxxZI3t9//31z/fXXm9DQUOefhwEDBhhj/vezunC78HcWuFaRbOCizp49a4KCgkzr1q3dPuaBBx4wkszgwYPNkiVLzIwZM0zlypVNTEyMy1/iiYmJJiIiwsTFxZkZM2aYZcuWmYEDBxpJZs6cOcYYYzIzM826deuMJHPnnXeadevWmXXr1hlj3E820tPTTbly5UyHDh3Mxx9/bFasWGHeffddc88995isrCzncRf+xb1z504TEhJiateubebOnWs+//xzc9dddxlJZuLEic5+5z8ErrvuOtO3b1/z+eefm/fee8/UqFHDxMXFmbNnz17y+3U+3rS0NHPPPfeY66+/3rlv+vTpJjg42Jw4caLQZKN///7mrbfeMsuWLTPLli0zTz/9tAkMDDRPPfWUs8+3335ratWqZeLj453fv2+//dYl9mrVqpk777zTfPrpp2bRokXm6NGjBZINY4xZvXq18fPzM0OHDjXGGHP69GnTsGFDU79+fXPq1KlLXueVGjVqlPHx8TGxsbEmOjraHDt2zGX/mjVrPFZ1OP87lZGRYfLy8ozD4TA//vij6dWrl7Hb7ea7775z9s3MzDTVqlUzlStXNjNmzDBLliwxgwcPNpJcqnA5OTmmadOmJjg42Lzwwgtm6dKl5oknnjB+fn6mS5cuzn5r1641NpvN9O7d2yxevNgsX77czJo1y9xzzz3GmN+ntc7/rvzf//2f82dZElN/wJUg2cBFZWRkGEmmd+/ebvXfsWOHkWQGDhzo0v6f//zHSDJjx451tiUmJhpJLnPyxhjTsGFD06lTJ5c2SWbQoEEube4mG//617+MJLNly5ZLxn5hstG7d29jt9sLVHQ6d+5sgoKCzPHjx40x//vA/uMHhzG//ytVkjM5upg/Jhvnx9q2bZsxxphWrVqZ/v37G2MuPxWSn59v8vLyzIQJE0xERIRLdeNix54/380333zRfX9MNoz531TGwoULTb9+/UxgYKDLh7Cn5eTkmLCwMCPJ/Otf/yqwf8GCBUaSS0XovLy8PJftcs7/Tl24hYaGmo8++sil72OPPVbo7+/DDz9sbDab2bVrlzHGmBkzZhhJ5v3333fpd/77uHTpUmOMMS+88IKR5Py9KgzTKCjNuBsFHvP1119Lkvr37+/Sfv3116tBgwb66quvXNqjoqJ0/fXXu7Q1bdpUe/fu9VhMzZs3V0BAgB544AHNmTNHu3fvduu45cuXq127doqJiXFp79+/v3777TetW7fOpb179+4uXzdt2lSSinQtiYmJql27tt5++21t3bpVaWlpuu+++y4ZY/v27RUWFiZfX1/5+/vrySef1NGjR5WZmen2ef/2t7+53XfkyJHq2rWr7rrrLs2ZM0evvPKKmjRpctnjzp4967IZY9w636xZs5SdnS0fHx8tW7bM7TiPHz8uf39/l23jxo1uHfvll18qLS1NGzZs0KJFi9S+fXv17t1bCxcudPZZvny5GjZsWOD3t3///jLGaPny5c5+wcHBBe6eOf9n5PyfiVatWkmSevbsqffff1+//PKL29cKlAYkG7ioSpUqKSgoSOnp6W71P3r0qCSpatWqBfZFR0c7958XERFRoJ/dbldOTs4VRFu42rVr68svv1SVKlU0aNAg1a5dW7Vr19bUqVMvedzRo0cveh3n9//Rhddit9slqUjXYrPZNGDAAL3zzjuaMWOG6tatq5tuuqnQvhs2bFDHjh0lSTNnztSaNWuUlpamxx9/vMjnLew6LxVj//79debMGUVFRemee+657DF79uwp8MG/cuXKyx63e/dujRw5Un/961/1xBNP6PXXX9eXX37p0qdGjRqSCiZ1ISEhSktLU1pamsaNG+f29UlSs2bN1LJlS7Vq1Updu3bVBx98oDp16mjQoEHOPu7+fhw9elRRUVGy2Wwu/apUqSI/Pz9nv5tvvlkff/yxzp49q3vvvVfVq1dX48aN9d577xUpduBaRbKBi/L19VW7du20adMmHThw4LL9z3/gHjp0qMC+gwcPqlKlSh6LrVy5cpIkh8Ph0n7kyJECfW+66SZ99tlnys7O1vr165WQkKDk5GQtWLDgouNHRERc9DokefRa/qh///46cuSIZsyYoQEDBly034IFC+Tv769FixapZ8+eatOmjVq2bHlF57zwg/BSDh06pEGDBql58+Y6evSoRowYcdljoqOjnR/857cWLVpc8hhjjAYMGKDAwEDNmDFDjz/+uJo1a6Z//OMfOnnypLNfixYtVLFiRX322Wcux/v6+qply5Zq2bKlrrvuOrevrzA+Pj5q1KiRDh065KwYufv7ERERoV9//bVAJSczM1Nnz551+T26/fbb9dVXXyk7O1srVqxQ9erV1adPnwJVNKA0ItnAJY0ZM0bGGN1///3Kzc0tsD8vL8/5F/2tt94qSXrnnXdc+qSlpWnHjh1q166dx+I6/wHy3XffubRf+KHzR76+vmrdurVeffVVSdK333570b7t2rXT8uXLnR8e582dO1dBQUH685//fIWRX1q1atU0cuRI3XbbberXr99F+9lsNvn5+cnX19fZlpOTo3nz5hXo66lqUX5+vu666y7ZbDZ98cUXSk1N1SuvvKKPPvrokscFBAQ4P/jPbyEhIZc8ZurUqfrmm280ffp0ValSRf7+/po9e7YOHjyokSNHuow9cuRIbdu2TRMnTrzqayxMfn6+tm7dKrvdrtDQUEm//358//33BX6H5s6dK5vNpltuucXZ79SpU/r4448L9Du//0J2u12JiYnO69m8ebOzXSpa1Qq4VviVdAC4tiUkJGj69OkaOHCgWrRooYcffliNGjVSXl6eNm/erDfeeEONGzfWbbfdpnr16umBBx7QK6+8Ih8fH3Xu3Fl79uzRE088oZiYGA0dOtRjcXXp0kXh4eFKSkrShAkT5Ofnp9mzZ2v//v0u/WbMmKHly5era9euqlGjhs6cOaO3335bktS+ffuLjj9u3DgtWrRIt9xyi5588kmFh4fr3Xff1eeff65JkyYpLCzMY9dyoeeee+6yfbp27aqXXnpJffr00QMPPKCjR4/qhRdecH4g/VGTJk20YMEC/fOf/1StWrVUrlw5t9ZZXGjcuHFatWqVli5dqqioKA0fPlwrV65UUlKS4uPjFRsbW+QxC/PDDz9o7Nix6t27t8tah+bNm2vs2LF66qmndOeddzp/fqNHj9bOnTv12GOP6ZtvvlGvXr103XXXyeFwaPfu3XrzzTfl6+uroKAgt86/adMm58/3119/1dtvv62dO3dq6NChzora0KFDNXfuXHXt2lUTJkxQzZo19fnnn+u1117Tww8/rLp160qS7r33Xr366qvq16+f9uzZoyZNmmj16tVKSUlRly5dnNfw5JNP6sCBA2rXrp2qV6+u48ePa+rUqfL391diYqKk36cEAwMD9e6776pBgwYqX768oqOjnVM3wDWtRJenotTYsmWL6devn6lRo4YJCAgwwcHBJj4+3jz55JMFnuY4ceJEU7duXePv728qVapk7r777os+Z+NC/fr1cz4H4jwVcjeKMcZs2LDBtGnTxgQHB5tq1aqZcePGmTfffNPlbpR169aZv/71r6ZmzZrGbrebiIgIk5iYaD799NMC5yjsORu33XabCQsLMwEBAaZZs2YF7gQ4f9fGBx984NKenp7u1p0Df7wb5VIKu6Pk7bffNvXq1TN2u93UqlXLpKammrfeeqvAc0b27NljOnbsaEJCQgp9zsaFsf9x3/m7UZYuXWp8fHwKfI+OHj1qatSoYVq1amUcDsclr8Ed+fn5JiEhwURFRZmjR48W2J+bm2uaNWtmatasaU6cOOGy79NPPzW33XabiYyMNH5+fiYkJMQ0b97cDB8+3K1nnhR2N0p4eLhp3bq1efvttws8P2Pv3r2mT58+JiIiwvj7+5t69eqZ559/vtDnbDz00EOmatWqxs/Pz9SsWdOMGTPG5TkbixYtMp07dzbVqlUzAQEBpkqVKqZLly5m1apVLmO99957pn79+sbf35/nbKBUsRnj5rJwAACAK8CaDQAAYCmSDQAAYCmSDQAAYCmSDQAAYCmSDQAAYCmSDQAAYCmSDQAAYKky+QTRwPjBJR0CcE36ZfWlX0AHeKPwYN/Ld7pKnvpcytk8zSPjFDcqGwAAwFJlsrIBAMA1xebd/7Yn2QAAwGo2W0lHUKJINgAAsJqXVza8++oBACjDfvnlF919992KiIhQUFCQmjdvrk2bNjn3G2M0fvx4RUdHKzAwUG3bttX27dtdxnA4HBoyZIgqVaqk4OBgde/eXQcOHChSHCQbAABYzWbzzFYEWVlZuuGGG+Tv768vvvhC33//vV588UVVqFDB2WfSpEl66aWXNG3aNKWlpSkqKkodOnTQyZMnnX2Sk5O1cOFCLViwQKtXr9apU6fUrVs35efnu3/5ZfEV89z6ChSOW1+Bgorl1tfrR3hknJwNL7jd97HHHtOaNWu0atWqQvcbYxQdHa3k5GSNHj1a0u9VjMjISE2cOFEPPvigsrOzVblyZc2bN0+9evWSJB08eFAxMTFavHixOnXq5FYsVDYAACiDPv30U7Vs2VJ///vfVaVKFcXHx2vmzJnO/enp6crIyFDHjh2dbXa7XYmJiVq7dq0kadOmTcrLy3PpEx0drcaNGzv7uINkAwAAq3loGsXhcOjEiRMum8PhKPSUu3fv1vTp0xUXF6d///vfeuihh/TII49o7ty5kqSMjAxJUmRkpMtxkZGRzn0ZGRkKCAhQxYoVL9rHHSQbAABYzebjkS01NVVhYWEuW2pqaqGnPHfunP70pz8pJSVF8fHxevDBB3X//fdr+vTprqFdsBbEGFOg7ULu9Pkjkg0AAEqJMWPGKDs722UbM2ZMoX2rVq2qhg0burQ1aNBA+/btkyRFRUVJUoEKRWZmprPaERUVpdzcXGVlZV20jztINgAAsJqHplHsdrtCQ0NdNrvdXugpb7jhBu3atcul7YcfflDNmjUlSbGxsYqKitKyZcuc+3Nzc7Vy5Uq1adNGktSiRQv5+/u79Dl06JC2bdvm7OMOHuoFAIDVSuChXkOHDlWbNm2UkpKinj17asOGDXrjjTf0xhtv/B6Szabk5GSlpKQoLi5OcXFxSklJUVBQkPr06SNJCgsLU1JSkoYPH66IiAiFh4drxIgRatKkidq3b+92LCQbAACUQa1atdLChQs1ZswYTZgwQbGxsZoyZYr69u3r7DNq1Cjl5ORo4MCBysrKUuvWrbV06VKFhIQ4+0yePFl+fn7q2bOncnJy1K5dO82ePVu+vu7fMsxzNgAvwnM2gIKK5TkbNzzukXFy1jzrkXGKG5UNAACs5uXvRiHZAADAal7+1lfvTrUAAIDlqGwAAGA1plEAAIClvDzZ8O6rBwAAlqOyAQCA1Xy8e4EoyQYAAFZjGgUAAMA6VDYAALCalz9ng2QDAACrMY0CAABgHSobAABYjWkUAABgKS+fRiHZAADAal5e2fDuVAsAAFiOygYAAFZjGgUAAFiKaRQAAADrUNkAAMBqTKMAAABLMY0CAABgHSobAABYjWkUAABgKS9PNrz76gEAgOWobAAAYDUvXyBKsgEAgNW8fBqFZAMAAKt5eWXDu1MtAABgOSobAABYjWkUAABgKaZRAAAArENlAwAAi9m8vLJBsgEAgMW8PdlgGgUAAFiKygYAAFbz7sIGyQYAAFZjGgUAAMBCVDYAALCYt1c2SDYAALAYyQYAALCUtycbrNkAAACWorIBAIDVvLuwQbIBAIDVmEYBAACwEJUNAAAs5u2VDZINAAAs5u3JBtMoAADAUlQ2AACwmLdXNkg2AACwmnfnGkyjAAAAa1HZAADAYt4+jUJlAwAAi9lsNo9sRTF+/PgCx0dFRTn3G2M0fvx4RUdHKzAwUG3bttX27dtdxnA4HBoyZIgqVaqk4OBgde/eXQcOHCjy9ZNsAABgsZJINiSpUaNGOnTokHPbunWrc9+kSZP00ksvadq0aUpLS1NUVJQ6dOigkydPOvskJydr4cKFWrBggVavXq1Tp06pW7duys/PL1IcTKMAAFBG+fn5uVQzzjPGaMqUKXr88cd1xx13SJLmzJmjyMhIzZ8/Xw8++KCys7P11ltvad68eWrfvr0k6Z133lFMTIy+/PJLderUye04qGwAAGA1m2c2h8OhEydOuGwOh+Oip/3xxx8VHR2t2NhY9e7dW7t375YkpaenKyMjQx07dnT2tdvtSkxM1Nq1ayVJmzZtUl5enkuf6OhoNW7c2NnHXSQbAABYzFPTKKmpqQoLC3PZUlNTCz1n69atNXfuXP373//WzJkzlZGRoTZt2ujo0aPKyMiQJEVGRrocExkZ6dyXkZGhgIAAVaxY8aJ93MU0CgAApcSYMWM0bNgwlza73V5o386dOzv/f5MmTZSQkKDatWtrzpw5+vOf/yyp4F0yxpjLrg1xp8+FqGwAAGAxT1U27Ha7QkNDXbaLJRsXCg4OVpMmTfTjjz8613FcWKHIzMx0VjuioqKUm5urrKysi/ZxF8kGAAAWK6m7Uf7I4XBox44dqlq1qmJjYxUVFaVly5Y59+fm5mrlypVq06aNJKlFixby9/d36XPo0CFt27bN2cddTKMAAFAGjRgxQrfddptq1KihzMxMPfPMMzpx4oT69esnm82m5ORkpaSkKC4uTnFxcUpJSVFQUJD69OkjSQoLC1NSUpKGDx+uiIgIhYeHa8SIEWrSpInz7hR3kWwAAGCxkniC6IEDB3TXXXfpyJEjqly5sv785z9r/fr1qlmzpiRp1KhRysnJ0cCBA5WVlaXWrVtr6dKlCgkJcY4xefJk+fn5qWfPnsrJyVG7du00e/Zs+fr6FikWmzHGePTqrgGB8YNLOgTgmvTL6qklHQJwzQkPLtoH55WIfugjj4xzcMYdHhmnuLFmAwAAWIppFAAALObtL2Ij2QAAwGIkGwAAwFLenmywZgMAAFiKygYAAFbz7sIGyQYAAFZjGgUAAMBCVDZQZNGVw/TMo7er4w2NFGj314/7MvXwU+9q8479kqTbb22mpL/dqPgGMapUsbxa90rVdz/84jLGv2c+qptbxrm0ffDvTbr3sVnFdh2Ald6cMU1vvfGaS1t4RIQ+X7ZKkpTwp4aFHjfo0eG6u1+S5fGheHl7ZYNkA0VSISRQy2cP08q0H9Vj8GvKPHZStWIq6fjJHGefoMAArfvvz/roy281/cm+Fx3rrQ/X6Onpi5xf5zjyLI0dKG61atfRy9Pfcn7t84dHPC9autKl77o1q5Qy4Qnd0q5jscWH4kOyARTB8AEddCAjSw+Of8fZtu/QMZc+732eJkmqUTX8kmPlnMnVr0dPej5I4Brh6+uriEqVC913Yfuqlcv1p5bXq1r1mOIIDShWJBsokq6JTfTl2h16d9J9urFFnA5mHtcb76/SrIVrizxWry4t1btLK2UeO6mla77Xs68v1qnfHBZEDZSM/fv26baOifIPCFCjxk310ODkQpOJY0ePaM3qb/TEUyklECWKA5WNEpaTk6NNmzYpPDxcDRu6zmGeOXNG77//vu69994Sig4Xiq1WSff//Sa9/M5yTXprqVo2rqkXR90pR95ZzV+0we1xFixO056DR/XrkRNqVCdaE4bcpiZ1q6nbw9MsjB4oPo2aNNWTT6cqpsZ1OnbsiGa/+boeGNBH8z/4TGEVKrj0XfzZJwoKClLbWzuUTLCwnnfnGiWbbPzwww/q2LGj9u3bJ5vNpptuuknvvfeeqlatKknKzs7WgAEDLplsOBwOORyu/xo25/Jl87H+LX7eyMfHpm+/36dx0z6TJP131wE1rF1VD/z9piIlG3+shHz/8yH9tC9Ta+ePVvP61bVl5wGPxw0Ut4Qbbv7DV3XVpGlz3dm9kxYv+lh33d3fpe9nn36kTp27yW63F2uMQHEp0VtfR48erSZNmigzM1O7du1SaGiobrjhBu3bt8/tMVJTUxUWFuaynf11k4VRe7eMIye0Y3eGS9vO9AzFRFW8qnE379iv3LyzqlOjylWNA1yrAgODVLtOXe3ft9elfcu3G7VvT7q6//XOEooMxcFms3lkK61KNNlYu3atUlJSVKlSJdWpU0effvqpOnfurJtuukm7d+92a4wxY8YoOzvbZfOLbGFx5N5r3ZbdqlvTNSGIq1GlwCLRompYu6oC/P106Ej2VY0DXKtyc3O1J313gYWhn33ykeo3aKS4uvVLKDIUB29PNkp0GiUnJ0d+fq4hvPrqq/Lx8VFiYqLmz59/2THsdnuB0iNTKNZ55Z3l+nr2cI28r6M+XPatWjW6Tvf97QYNfvo9Z5+KoUGKiaqoqlXCJEl1r4uUJP169IR+PXpSsdUrqXeXlvr36u91JOuUGtSO0nND79DmHfu1bot7SSZwrXt58iTdePMtioqqqqxjRzXrzdd1+vQpdel2u7PP6VOntHzZvzVk2MgSjBTFoRTnCR5RoslG/fr1tXHjRjVo0MCl/ZVXXpExRt27dy+hyHAxm77fp17DZ2rCkO4a+0Bn7fnlqEY+/6EWfLHR2adrYhPNnHCP8+t5E++TJD0zY7GefX2x8vLO6pbr62nQXbeofFCADmQc15LV2/Ts61/o3DlT7NcEWOHwr79q3JgROn48SxUqhqtxk2Z6c857qhpdzdln2b8Xy8ioY6euJRgpYD2bMabE/nZPTU3VqlWrtHjx4kL3Dxw4UDNmzNC5c+eKNG5g/GBPhAeUOb+snlrSIQDXnPBg66vhcSOXeGScH5//i0fGKW4lmmxYhWQDKBzJBlBQcSQbdUd5Jtn4YVLpTDZ4ERsAALBUiT/UCwCAsq4030niCSQbAABYzMtzDaZRAACAtahsAABgMR8f7y5tkGwAAGAxplEAAAAsRGUDAACLcTcKAACwlJfnGiQbAABYzdsrG6zZAAAAlqKyAQCAxby9skGyAQCAxbw812AaBQAAWIvKBgAAFmMaBQAAWMrLcw2mUQAAgLWobAAAYDGmUQAAgKW8PNdgGgUAAFiLygYAABZjGgUAAFjKy3MNkg0AAKzm7ZUN1mwAAABLUdkAAMBiXl7YINkAAMBqTKMAAABYiMoGAAAW8/LCBskGAABWYxoFAADAQlQ2AACwmJcXNkg2AACwGtMoAACgzEtNTZXNZlNycrKzzRij8ePHKzo6WoGBgWrbtq22b9/ucpzD4dCQIUNUqVIlBQcHq3v37jpw4ECRzk2yAQCAxWw2m0e2K5WWlqY33nhDTZs2dWmfNGmSXnrpJU2bNk1paWmKiopShw4ddPLkSWef5ORkLVy4UAsWLNDq1at16tQpdevWTfn5+W6fn2QDAACL2Wye2a7EqVOn1LdvX82cOVMVK1Z0thtjNGXKFD3++OO644471LhxY82ZM0e//fab5s+fL0nKzs7WW2+9pRdffFHt27dXfHy83nnnHW3dulVffvml2zGQbAAAYDFPVTYcDodOnDjhsjkcjkuee9CgQeratavat2/v0p6enq6MjAx17NjR2Wa325WYmKi1a9dKkjZt2qS8vDyXPtHR0WrcuLGzjztINgAAKCVSU1MVFhbmsqWmpl60/4IFC/Ttt98W2icjI0OSFBkZ6dIeGRnp3JeRkaGAgACXisiFfdzB3SgAAFjMUzejjBkzRsOGDXNps9vthfbdv3+/Hn30US1dulTlypW7RGyuwRljLrs+xJ0+f0RlAwAAi3lqGsVutys0NNRlu1iysWnTJmVmZqpFixby8/OTn5+fVq5cqZdffll+fn7OisaFFYrMzEznvqioKOXm5iorK+uifdxBsgEAQBnUrl07bd26VVu2bHFuLVu2VN++fbVlyxbVqlVLUVFRWrZsmfOY3NxcrVy5Um3atJEktWjRQv7+/i59Dh06pG3btjn7uINpFAAALFYSz/QKCQlR48aNXdqCg4MVERHhbE9OTlZKSori4uIUFxenlJQUBQUFqU+fPpKksLAwJSUlafjw4YqIiFB4eLhGjBihJk2aFFhweikkGwAAWMznGn2C6KhRo5STk6OBAwcqKytLrVu31tKlSxUSEuLsM3nyZPn5+alnz57KyclRu3btNHv2bPn6+rp9HpsxxlhxASUpMH5wSYcAXJN+WT21pEMArjnhwe5/aF6pDtPWe2ScZYP/7JFxihuVDQAALHaNFjaKDckGAAAW8/YXsZFsAABgMR/vzjW49RUAAFiLygYAABZjGgUAAFjKy3MNplEAAIC1qGwAAGAxm7y7tEGyAQCAxbz9bhS3ko1PP/3U7QG7d+9+xcEAAICyx61ko0ePHm4NZrPZlJ+ffzXxAABQ5nA3ihvOnTtndRwAAJRZXp5rXN3dKGfOnPFUHAAAoIwqcrKRn5+vp59+WtWqVVP58uW1e/duSdITTzyht956y+MBAgBQ2vnYbB7ZSqsiJxvPPvusZs+erUmTJikgIMDZ3qRJE7355pseDQ4AgLLAZvPMVloVOdmYO3eu3njjDfXt21e+vr7O9qZNm2rnzp0eDQ4AgLLAZrN5ZCutipxs/PLLL6pTp06B9nPnzikvL88jQQEAgLKjyMlGo0aNtGrVqgLtH3zwgeLj4z0SFAAAZYm3T6MU+Qmi48aN0z333KNffvlF586d00cffaRdu3Zp7ty5WrRokRUxAgBQqpXmxZ2eUOTKxm233aZ//vOfWrx4sWw2m5588knt2LFDn332mTp06GBFjAAAoBS7onejdOrUSZ06dfJ0LAAAlEneXde4ihexbdy4UTt27JDNZlODBg3UokULT8YFAECZUZrvJPGEIicbBw4c0F133aU1a9aoQoUKkqTjx4+rTZs2eu+99xQTE+PpGAEAQClW5DUb9913n/Ly8rRjxw4dO3ZMx44d044dO2SMUVJSkhUxAgBQqvnYPLOVVkWubKxatUpr165VvXr1nG316tXTK6+8ohtuuMGjwQEAUBZ4+zRKkSsbNWrUKPThXWfPnlW1atU8EhQAACg7ipxsTJo0SUOGDNHGjRtljJH0+2LRRx99VC+88ILHAwQAoLTjoV5uqFixoksJ6PTp02rdurX8/H4//OzZs/Lz89N9992nHj16WBIoAACllbdPo7iVbEyZMsXiMAAAKLtK8+JOT3Ar2ejXr5/VcQAAgDLqih/qJUk5OTkFFouGhoZeVUAAAJQ13j6NUuQFoqdPn9bgwYNVpUoVlS9fXhUrVnTZAACAK5uHttKqyMnGqFGjtHz5cr322muy2+1688039dRTTyk6Olpz5861IkYAAFCKFXka5bPPPtPcuXPVtm1b3XfffbrppptUp04d1axZU++++6769u1rRZwAAJRavGK+iI4dO6bY2FhJv6/POHbsmCTpxhtv1DfffOPZ6AAAKAO8/TkbRU42atWqpT179kiSGjZsqPfff1/S7xWP8y9mAwAAOK/IycaAAQP03//+V5I0ZswY59qNoUOHauTIkR4PEACA0s5ms3lkK62KvGZj6NChzv9/yy23aOfOndq4caNq166tZs2aeTQ4AADKglKcJ3hEkSsbF6pRo4buuOMOhYeH67777vNETAAAoAy56mTjvGPHjmnOnDmeGg4AgDLDx2bzyFZaXdUTRAEAwOWV4jzBI0g2AACwWGle3OkJHptGAQAAKIzblY077rjjkvuPHz9+tbF4zMAJQ0o6BOCaFGT3LekQAK/k7f+ydzvZCAsLu+z+e++996oDAgCgrPH2aRS3k41Zs2ZZGQcAACijWCAKAIDFfLy7sEGyAQCA1bw92fD2NSsAAMBiVDYAALAYC0QBAIClmEa5AvPmzdMNN9yg6Oho7d27V5I0ZcoUffLJJx4NDgAAXJnp06eradOmCg0NVWhoqBISEvTFF1849xtjNH78eEVHRyswMFBt27bV9u3bXcZwOBwaMmSIKlWqpODgYHXv3l0HDhwocixFTjamT5+uYcOGqUuXLjp+/Ljy8/MlSRUqVNCUKVOKHAAAAGWdzeaZrSiqV6+u5557Ths3btTGjRt166236vbbb3cmFJMmTdJLL72kadOmKS0tTVFRUerQoYNOnjzpHCM5OVkLFy7UggULtHr1ap06dUrdunVzfva7ff3GGFOUAxo2bKiUlBT16NFDISEh+u9//6tatWpp27Ztatu2rY4cOVKkAKww/LNdJR0CcE16tnO9kg4BuOaUK4YFBY8t/sEj4zzXpe5VHR8eHq7nn39e9913n6Kjo5WcnKzRo0dL+r2KERkZqYkTJ+rBBx9Udna2KleurHnz5qlXr16SpIMHDyomJkaLFy9Wp06d3D5vkSsb6enpio+PL9But9t1+vTpog4HAECZ5+Oh7Url5+drwYIFOn36tBISEpSenq6MjAx17NjR2cdutysxMVFr166VJG3atEl5eXkufaKjo9W4cWNnH3cVOZ+LjY3Vli1bVLNmTZf2L774Qg0bNizqcAAAwE0Oh0MOh8OlzW63y263F9p/69atSkhI0JkzZ1S+fHktXLhQDRs2dCYLkZGRLv0jIyOdazEzMjIUEBCgihUrFuiTkZFRpLiLnCiNHDlSgwYN0j//+U8ZY7RhwwY9++yzGjt2rEaOHFnU4QAAKPM8tWYjNTVVYWFhLltqaupFz1uvXj1t2bJF69ev18MPP6x+/frp+++//0NcrgtBjDGXvU3XnT4XKnJlY8CAATp79qxGjRql3377TX369FG1atU0depU9e7du6jDAQBQ5vl46DkbY8aM0bBhw1zaLlbVkKSAgADVqVNHktSyZUulpaVp6tSpznUaGRkZqlq1qrN/Zmams9oRFRWl3NxcZWVluVQ3MjMz1aZNmyLFfUVTQPfff7/27t2rzMxMZWRkaP/+/UpKSrqSoQAAgJvsdrvzVtbz26WSjQsZY+RwOBQbG6uoqCgtW7bMuS83N1crV650JhItWrSQv7+/S59Dhw5p27ZtRU42rmoNbqVKla7mcAAAvEJJPEB07Nix6ty5s2JiYnTy5EktWLBAK1as0JIlS2Sz2ZScnKyUlBTFxcUpLi5OKSkpCgoKUp8+fSRJYWFhSkpK0vDhwxUREaHw8HCNGDFCTZo0Ufv27YsUyxUtEL3UXM3u3buLOiQAAGVaSTxB9Ndff9U999yjQ4cOKSwsTE2bNtWSJUvUoUMHSdKoUaOUk5OjgQMHKisrS61bt9bSpUsVEhLiHGPy5Mny8/NTz549lZOTo3bt2mn27Nny9fUtUixFfs7G1KlTXb7Oy8vT5s2btWTJEo0cOVKPPfZYkQKwAs/ZAArHczaAgorjORvjl/7omXE6xnlknOJW5G/xo48+Wmj7q6++qo0bN151QAAAlDWeWiBaWnnsFfOdO3fWhx9+6KnhAAAoM0riceXXEo8lG//6178UHh7uqeEAAEAZUeRplPj4eJcFosYYZWRk6PDhw3rttdc8GhwAAGWBt79ivsjJRo8ePVy+9vHxUeXKldW2bVvVr1/fU3EBAFBm2OTd2UaRko2zZ8/quuuuU6dOnRQVFWVVTAAAlCneXtko0poNPz8/PfzwwwVeAgMAAHAxRV4g2rp1a23evNmKWAAAKJN8bJ7ZSqsir9kYOHCghg8frgMHDqhFixYKDg522d+0aVOPBQcAQFlQ1LekljVuJxv33XefpkyZol69ekmSHnnkEec+m83mfOVsfn6+56MEAAClltvJxpw5c/Tcc88pPT3dyngAAChzSvMUiCe4nWycf4VKzZo1LQsGAICyyMtnUYq2QNTb55wAAEDRFWmBaN26dS+bcBw7duyqAgIAoKzx9hexFSnZeOqppxQWFmZVLAAAlEms2SiC3r17q0qVKlbFAgAAyiC3kw3WawAAcGW8/SO0yHejAACAovHhRWzuOXfunJVxAABQZnl7ZaPI70YBAAAoiiK/GwUAABQNd6MAAABLeftzNphGAQAAlqKyAQCAxby8sEGyAQCA1ZhGAQAAsBCVDQAALOblhQ2SDQAArObt0wjefv0AAMBiVDYAALCYt7/MlGQDAACLeXeqQbIBAIDluPUVAADAQlQ2AACwmHfXNUg2AACwnJfPojCNAgAArEVlAwAAi3HrKwAAsJS3TyN4+/UDAACLUdkAAMBiTKMAAABLeXeqwTQKAACwGJUNAAAsxjQKAACwlLdPI5BsAABgMW+vbHh7sgUAACxGZQMAAIt5d12DZAMAAMt5+SwK0ygAAMBaVDYAALCYj5dPpJBsAABgMaZRAAAALESyAQCAxWwe+q8oUlNT1apVK4WEhKhKlSrq0aOHdu3a5dLHGKPx48crOjpagYGBatu2rbZv3+7Sx+FwaMiQIapUqZKCg4PVvXt3HThwoEixkGwAAGAxm80zW1GsXLlSgwYN0vr167Vs2TKdPXtWHTt21OnTp519Jk2apJdeeknTpk1TWlqaoqKi1KFDB508edLZJzk5WQsXLtSCBQu0evVqnTp1St26dVN+fr7712+MMUUL/9o3/LNdl+8EeKFnO9cr6RCAa065Yli9uHh7pkfG6dKoyhUfe/jwYVWpUkUrV67UzTffLGOMoqOjlZycrNGjR0v6vYoRGRmpiRMn6sEHH1R2drYqV66sefPmqVevXpKkgwcPKiYmRosXL1anTp3cOjeVDQAALOYjm0e2q5GdnS1JCg8PlySlp6crIyNDHTt2dPax2+1KTEzU2rVrJUmbNm1SXl6eS5/o6Gg1btzY2ccd3I0CAIDFPHU3isPhkMPhcGmz2+2y2+2XPM4Yo2HDhunGG29U48aNJUkZGRmSpMjISJe+kZGR2rt3r7NPQECAKlasWKDP+ePdQWUDAACLeWrNRmpqqsLCwly21NTUy55/8ODB+u677/Tee+8VEptrJmSMueyL49zp80ckGwAAlBJjxoxRdna2yzZmzJhLHjNkyBB9+umn+vrrr1W9enVne1RUlCQVqFBkZmY6qx1RUVHKzc1VVlbWRfu4g2QDAACLeerWV7vdrtDQUJftYlMoxhgNHjxYH330kZYvX67Y2FiX/bGxsYqKitKyZcucbbm5uVq5cqXatGkjSWrRooX8/f1d+hw6dEjbtm1z9nEHazYAALCYTwk8QXTQoEGaP3++PvnkE4WEhDgrGGFhYQoMDJTNZlNycrJSUlIUFxenuLg4paSkKCgoSH369HH2TUpK0vDhwxUREaHw8HCNGDFCTZo0Ufv27d2OhWQDAIAyaPr06ZKktm3burTPmjVL/fv3lySNGjVKOTk5GjhwoLKystS6dWstXbpUISEhzv6TJ0+Wn5+fevbsqZycHLVr106zZ8+Wr6+v27HwnA3Ai/CcDaCg4njOxvKdRz0yzq31IzwyTnGjsgEAgMV4ERsAAICFqGwAAGCxor5Erawh2QAAwGIlcTfKtYRpFAAAYCkqGyiShJoV1Oa6CgoP/P1XJ+Nkrpb9eFQ7M39/ZXGTqPJKqFlB1SvYFRzgpxdX7tHBE67P8f9zjTDFVwtV9TC7yvn76vEvftSZs+eK/VoAK70183V9tWyp0tN3y16unJo3j1fysBG6LraWS7/dP/+sKS89r00b03Tu3DnVrhOn51+coqrR0SUUOazANApQBNln8vT5jsM6cjpXktQqJkwDWlXTSyv36NdTuQrw81H6sRz999BJ9WwWVegY/r4+2nX4tHYdPq2uDSoXZ/hAsdmYtkG97uqrRk2aKP9svl55ebIeuj9JH336uYKCgiRJ+/ftU/97+uivd/xNDw9+RCHlQ7R7988KuMxLtVD6ePvdKCQbKJLvfz3t8vUXO4+oTc0KqlkxUL+eytWmAyckSRUDL/6rtSr992fs144ItC5QoIRNf+Mtl68nPJOqW25K0I7vt6tFy1aSpFdenqwbb75ZQ0eMcvarHhNTrHGieHh5rsGaDVw5m6Tm0SEK8LVpb1ZOSYcDXNNOnTwpSQoNC5MknTt3TqtWrlDNmtfpofuT1PamBPXt/Xct/+rLkgwTsESJVzZ27Nih9evXKyEhQfXr19fOnTs1depUORwO3X333br11lsvebzD4ZDD4bom4Gxervz8A6wM26tFhQTokRtrys/Hptz8c5q18aB+PZVb0mEB1yxjjF6YlKr4P7VQXFxdSdKxo0f122+/6e23ZmrwkGQlDxuhNatXadijg/XmrLlq2er6Eo4anuTj5fMoJVrZWLJkiZo3b64RI0YoPj5eS5Ys0c0336yffvpJ+/btU6dOnbR8+fJLjpGamqqwsDCXbcMHrxfTFXinw6dy9eLKPXp59V6t3XNcdzWPUmR5kjvgYlKfmaAff/hBE59/ydl2zvy+KPqWW9rpnn79Vb9BAyXd/4BuTmyrD/65oKRChUVsHtpKqxJNNiZMmKCRI0fq6NGjmjVrlvr06aP7779fy5Yt05dffqlRo0bpueeeu+QYY8aMUXZ2tst2/d8fLKYr8E75Rjr6W54OZDu0eOcRHTzh0E21KpZ0WMA1KfXZp7VixXLNnDVHkVH/WzRdsUJF+fn5qVbt2i79Y2vVVsahg8UdJmCpEk02tm/f7nzzXM+ePXXy5En97W9/c+6/66679N13311yDLvdrtDQUJeNKZTiZZPk5+1PrAEuYIxRyjMT9NWXSzXz7TmqXt114ad/QIAaNW6iPXvSXdr37t2jqtHVijNUFAcvL22U+JqN83x8fFSuXDlVqFDB2RYSEqLs7OySCwoFdK5fSTszT+t4Tp7sfj6Krxaq2pWCNHP9AUlSoL+PKgb6K/T/v0axyv+fXjnpOKuTjnxJUojdVyF2P1UK/n1f1VC7HGfPKSsnTzl5PG8DZUPK00/pi8WLNOWV1xQcFKwjhw9LksqHhKhcuXKSpH4DkjRq+FC1aNFKra5vrTWrV+mbFV/rzVlzSzJ0WIDnbJSg6667Tj/99JPq1KkjSVq3bp1q1Kjh3L9//35VrVq1pMJDIULsvuoTX1Whdl/lnD2nQyccmrn+gH448pskqXFkefWO/9/P7J4Wvz+Y6N+7jmjpD7+/YjmhZgV1qlfJ2WfwDb//zBdsPqS0/3/rLFDavf/P9yRJSf3vcWmf8Eyqbv/rHZKkdu076P/GjdfbM9/QxNRndN11sXpxysv6U4uWxR4vYCWbMcaU1MlnzJihmJgYde3atdD9jz/+uH799Ve9+eabRRp3+Ge7PBEeUOY827leSYcAXHPKFcM/uzfs9kyV/vpaYR4Zp7iVaGXjoYceuuT+Z599tpgiAQDAOt49icJDvQAAgMWumQWiAACUWV5e2iDZAADAYtyNAgAALOXlTytnzQYAALAWlQ0AACzm5YUNkg0AACzn5dkG0ygAAMBSVDYAALAYd6MAAABLcTcKAACAhahsAABgMS8vbJBsAABgOS/PNphGAQAAlqKyAQCAxbgbBQAAWMrb70Yh2QAAwGJenmuwZgMAAFiLygYAAFbz8tIGyQYAABbz9gWiTKMAAABLUdkAAMBi3I0CAAAs5eW5BtMoAADAWlQ2AACwmpeXNkg2AACwGHejAAAAWIjKBgAAFuNuFAAAYCkvzzVINgAAsJyXZxus2QAAAJaisgEAgMW8/W4Ukg0AACzm7QtEmUYBAACWorIBAIDFvLywQWUDAADL2Ty0FdE333yj2267TdHR0bLZbPr4449d9htjNH78eEVHRyswMFBt27bV9u3bXfo4HA4NGTJElSpVUnBwsLp3764DBw4UKQ6SDQAAyqjTp0+rWbNmmjZtWqH7J02apJdeeknTpk1TWlqaoqKi1KFDB508edLZJzk5WQsXLtSCBQu0evVqnTp1St26dVN+fr7bcdiMMeaqr+YaM/yzXSUdAnBNerZzvZIOAbjmlCuGBQW7D5/xyDi1Kpe74mNtNpsWLlyoHj16SPq9qhEdHa3k5GSNHj1a0u9VjMjISE2cOFEPPvigsrOzVblyZc2bN0+9evWSJB08eFAxMTFavHixOnXq5Na5qWwAAGAxm80zm8Ph0IkTJ1w2h8NxRTGlp6crIyNDHTt2dLbZ7XYlJiZq7dq1kqRNmzYpLy/PpU90dLQaN27s7OMOkg0AAEqJ1NRUhYWFuWypqalXNFZGRoYkKTIy0qU9MjLSuS8jI0MBAQGqWLHiRfu4g7tRAACwmKfuRhkzZoyGDRvm0ma3269qTNsFDwExxhRou5A7ff6IygYAAFbz0N0odrtdoaGhLtuVJhtRUVGSVKBCkZmZ6ax2REVFKTc3V1lZWRft4w6SDQAALGbz0H+eFBsbq6ioKC1btszZlpubq5UrV6pNmzaSpBYtWsjf39+lz6FDh7Rt2zZnH3cwjQIAQBl16tQp/fTTT86v09PTtWXLFoWHh6tGjRpKTk5WSkqK4uLiFBcXp5SUFAUFBalPnz6SpLCwMCUlJWn48OGKiIhQeHi4RowYoSZNmqh9+/Zux0GyAQCAxUrq3SgbN27ULbfc4vz6/HqPfv36afbs2Ro1apRycnI0cOBAZWVlqXXr1lq6dKlCQkKcx0yePFl+fn7q2bOncnJy1K5dO82ePVu+vr5ux8FzNgAvwnM2gIKK4zkb+49d2e2pF4oJv7rFoCWFNRsAAMBSTKMAAGAxb3/FPMkGAACW8+5sg2kUAABgKSobAABYjGkUAABgKS/PNZhGAQAA1qKyAQCAxZhGAQAAlvL0e01KG5INAACs5t25Bms2AACAtahsAABgMS8vbJBsAABgNW9fIMo0CgAAsBSVDQAALMbdKAAAwFrenWswjQIAAKxFZQMAAIt5eWGDZAMAAKtxNwoAAICFqGwAAGAx7kYBAACWYhoFAADAQiQbAADAUkyjAABgMW+fRiHZAADAYt6+QJRpFAAAYCkqGwAAWIxpFAAAYCkvzzWYRgEAANaisgEAgNW8vLRBsgEAgMW4GwUAAMBCVDYAALAYd6MAAABLeXmuQbIBAIDlvDzbYM0GAACwFJUNAAAs5u13o5BsAABgMW9fIMo0CgAAsJTNGGNKOgiUTQ6HQ6mpqRozZozsdntJhwNcM/izAW9DsgHLnDhxQmFhYcrOzlZoaGhJhwNcM/izAW/DNAoAALAUyQYAALAUyQYAALAUyQYsY7fbNW7cOBbAARfgzwa8DQtEAQCApahsAAAAS5FsAAAAS5FsAAAAS5FsAAAAS5FswONSU1PVqlUrhYSEqEqVKurRo4d27dpV0mEBJW769Olq2rSpQkNDFRoaqoSEBH3xxRclHRZgOZINeNzKlSs1aNAgrV+/XsuWLdPZs2fVsWNHnT59uqRDA0pU9erV9dxzz2njxo3auHGjbr31Vt1+++3avn17SYcGWIpbX2G5w4cPq0qVKlq5cqVuvvnmkg4HuKaEh4fr+eefV1JSUkmHAljGr6QDQNmXnZ0t6fe/VAH8Lj8/Xx988IFOnz6thISEkg4HsBSVDVjKGKPbb79dWVlZWrVqVUmHA5S4rVu3KiEhQWfOnFH58uU1f/58denSpaTDAixFZQOWGjx4sL777jutXr26pEMBrgn16tXTli1bdPz4cX344Yfq16+fVq5cqYYNG5Z0aIBlqGzAMkOGDNHHH3+sb775RrGxsSUdDnBNat++vWrXrq3XX3+9pEMBLENlAx5njNGQIUO0cOFCrVixgkQDuARjjBwOR0mHAViKZAMeN2jQIM2fP1+ffPKJQkJClJGRIUkKCwtTYGBgCUcHlJyxY8eqc+fOiomJ0cmTJ7VgwQKtWLFCS5YsKenQAEsxjQKPs9lshbbPmjVL/fv3L95ggGtIUlKSvvrqKx06dEhhYWFq2rSpRo8erQ4dOpR0aIClSDYAAICleIIoAACwFMkGAACwFMkGAACwFMkGAACwFMkGAACwFMkGAACwFMkGAACwFMkGcA0YP368mjdv7vy6f//+6tGjR7HHsWfPHtlsNm3ZssWyc1x4rVeiOOIE4DkkG8BF9O/fXzabTTabTf7+/qpVq5ZGjBih06dPW37uqVOnavbs2W71Le4P3rZt2yo5OblYzgWgbODdKMAl/OUvf9GsWbOUl5enVatW6R//+IdOnz6t6dOnF+ibl5cnf39/j5w3LCzMI+MAwLWAygZwCXa7XVFRUYqJiVGfPn3Ut29fffzxx5L+Nx3w9ttvq1atWrLb7TLGKDs7Ww888ICqVKmi0NBQ3Xrrrfrvf//rMu5zzz2nyMhIhYSEKCkpSWfOnHHZf+E0yrlz5zRx4kTVqVNHdrtdNWrU0LPPPitJzrfqxsfHy2azqW3bts7jZs2apQYNGqhcuXKqX7++XnvtNZfzbNiwQfHx8SpXrpxatmypzZs3X/X3bPTo0apbt66CgoJUq1YtPfHEE8rLyyvQ7/XXX1dMTIyCgoL097//XcePH3fZf7nYAZQeVDaAIggMDHT54Pzpp5/0/vvv68MPP5Svr68kqWvXrgoPD9fixYsVFham119/Xe3atdMPP/yg8PBwvf/++xo3bpxeffVV3XTTTZo3b55efvll1apV66LnHTNmjGbOnKnJkyfrxhtv1KFDh7Rz505JvycM119/vb788ks1atRIAQEBkqSZM2dq3LhxmjZtmuLj47V582bdf//9Cg4OVr9+/XT69Gl169ZNt956q9555x2lp6fr0UcfvervUUhIiGbPnq3o6Ght3bpV999/v0JCQjRq1KgC37fPPvtMJ06cUFJSkgYNGqR3333XrdgBlDIGQKH69etnbr/9dufX//nPf0xERITp2bOnMcaYcePGGX9/f5OZmens89VXX5nQ0FBz5swZl7Fq165tXn/9dWOMMQkJCeahhx5y2d+6dWvTrFmzQs994sQJY7fbzcyZMwuNMz093UgymzdvdmmPiYkx8+fPd2l7+umnTUJCgjHGmNdff92Eh4eb06dPO/dPnz690LH+KDEx0Tz66KMX3X+hSZMmmRYtWji/HjdunPH19TX79+93tn3xxRfGx8fHHDp0yK3YL3bNAK5NVDaAS1i0aJHKly+vs2fPKi8vT7fffrteeeUV5/6aNWuqcuXKzq83bdqkU6dOKSIiwmWcnJwc/fzzz5KkHTt26KGHHnLZn5CQoK+//rrQGHbs2CGHw6F27dq5Hffhw4e1f/9+JSUl6f7773e2nz171rkeZMeOHWrWrJmCgoJc4rha//rXvzRlyhT99NNPOnXqlM6ePavQ0FCXPjVq1FD16tVdznvu3Dnt2rVLvr6+l40dQOlCsgFcwi233KLp06fL399f0dHRBRaABgcHu3x97tw5Va1aVStWrCgwVoUKFa4ohsDAwCIfc+7cOUm/T0e0bt3aZd/56R5jzBXFcynr169X79699dRTT6lTp04KCwvTggUL9OKLL17yOJvN5vxfd2IHULqQbACXEBwcrDp16rjd/09/+pMyMjLk5+en6667rtA+DRo00Pr163Xvvfc629avX3/RMePi4hQYGKivvvpK//jHPwrsP79GIz8/39kWGRmpatWqaffu3erbt2+h4zZs2FDz5s1TTk6OM6G5VBzuWLNmjWrWrKnHH3/c2bZ3794C/fbt26eDBw8qOjpakrRu3Tr5+Piobt26bsUOoHQh2QA8qH379kpISFCPHj00ceJE1atXTwcPHtTixYvVo0cPtWzZUo8++qj69eunli1b6sYbb9S7776r7du3X3SBaLly5TR69GiNGjVKAQEBuuGGG3T48GFt375dSUlJqlKligIDA7VkyRJVr15d5cqVU1hYmMaPH69HHnlEoaGh6ty5sxwOhzZu3KisrCwNGzZMffr00eOPP66kpCT93//9n/bs2aMXXnjBres8fPhwged6REVFqU6dOtq3b58WLFigVq1a6fPPP9fChQsLvaZ+/frphRde0IkTJ/TII4+oZ8+eioqKkqTLxg6glCnpRSPAterCBaIXGjdunMuizvNOnDhhhgwZYqKjo42/v7+JiYkxffv2Nfv27XP2efbZZ02lSpVM+fLlTb9+/cyoUaMuukDUGGPy8/PNM888Y2rWrGn8/f1NjRo1TEpKinP/zJkzTUxMjPHx8TGJiYnO9nfffdc0b97cBAQEmIoVK5qbb77ZfPTRR87969atM82aNTMBAQGmefPm5sMPP3RrgaikAtu4ceOMMcaMHDnSREREmPLly5tevXqZyZMnm7CwsALft9dee81ER0ebcuXKmTvuuMMcO3bM5TyXip0FokDpYjPGgolbAACA/4+HegEAAEuRbAAAAEuRbAAAAEuRbAAAAEuRbAAAAEuRbAAAAEuRbAAAAEuRbAAAAEuRbAAAAEuRbAAAAEuRbAAAAEuRbAAAAEv9PyvD7fngW4AUAAAAAElFTkSuQmCC\n",
>>>>>>> 4c132f4 (Finish Training)
      "text/plain": [
       "<Figure size 432x288 with 2 Axes>"
      ]
     },
     "metadata": {
      "needs_background": "light"
     },
     "output_type": "display_data"
    }
   ],
   "source": [
    "cm = confusion_matrix(Y_val,predictions_val)\n",
    "y_train_labels = sorted(y_train.unique())\n",
    "sns.heatmap(cm, annot=True, cmap='Blues', fmt='g', xticklabels=y_train_labels, yticklabels=y_train_labels)\n",
    "\n",
    "# Set the plot title and axis labels\n",
    "plt.title('Confusion Matrix - XG Boost')\n",
    "plt.xlabel('Predicted Label')\n",
    "plt.ylabel('True Label')\n",
    "\n",
    "# Show the plot\n",
    "plt.show()"
   ]
  },
  {
<<<<<<< HEAD
   "attachments": {},
=======
   "cell_type": "code",
   "execution_count": 183,
   "id": "9b10a5bf",
   "metadata": {},
   "outputs": [],
   "source": [
    "accuracy.append(accuracy_score(Y_val, predictions_val))\n",
    "precision.append(precision_score(Y_val, predictions_val))\n",
    "recall.append(recall_score(Y_val, predictions_val))"
   ]
  },
  {
>>>>>>> 4c132f4 (Finish Training)
   "cell_type": "markdown",
   "id": "0a615fee",
   "metadata": {},
   "source": [
    "### XG-Boost with Cross Validation "
   ]
  },
  {
   "cell_type": "code",
<<<<<<< HEAD
   "execution_count": 44,
   "id": "b5b61495",
   "metadata": {},
   "outputs": [],
   "source": [
    "from sklearn.model_selection import cross_val_score\n",
    "\n",
    "scores = cross_val_score(model, X_train_prepared, Y_train, cv=5)\n"
   ]
  },
  {
   "cell_type": "code",
   "execution_count": 45,
=======
   "execution_count": 185,
>>>>>>> 4c132f4 (Finish Training)
   "id": "7c2b74ae",
   "metadata": {},
   "outputs": [
    {
     "name": "stdout",
     "output_type": "stream",
     "text": [
<<<<<<< HEAD
      "Cross-validation scores: [0.61812779 0.63447251 0.63001486 0.63392857 0.63690476]\n",
      "Average score: 0.6306896978702328\n"
=======
      "XG-Boost\n",
      "Cross-validation scores: [0.64041605 0.63150074 0.63744428 0.61011905 0.63839286]\n",
      "Average score: 0.6315745949196916\n"
>>>>>>> 4c132f4 (Finish Training)
     ]
    }
   ],
   "source": [
    "from sklearn.model_selection import cross_val_score\n",
    "\n",
    "scores = cross_val_score(model, X_train_prepared, Y_train, cv=5)\n",
    "print(\"XG-Boost\")\n",
    "print(\"Cross-validation scores:\", scores)\n",
    "print(\"Average score:\", scores.mean())"
   ]
  },
  {
   "cell_type": "code",
   "execution_count": 46,
   "id": "69549e4a",
   "metadata": {},
   "outputs": [],
   "source": [
    "model = xgb.XGBClassifier()"
   ]
  },
  {
   "attachments": {},
   "cell_type": "markdown",
   "id": "214f72c2",
   "metadata": {},
   "source": [
    "## Fine and Tuning XG-Boost"
   ]
  },
  {
   "cell_type": "code",
   "execution_count": 47,
   "id": "b5399e2b",
   "metadata": {},
   "outputs": [
    {
     "data": {
      "text/html": [
       "<style>#sk-container-id-4 {color: black;background-color: white;}#sk-container-id-4 pre{padding: 0;}#sk-container-id-4 div.sk-toggleable {background-color: white;}#sk-container-id-4 label.sk-toggleable__label {cursor: pointer;display: block;width: 100%;margin-bottom: 0;padding: 0.3em;box-sizing: border-box;text-align: center;}#sk-container-id-4 label.sk-toggleable__label-arrow:before {content: \"▸\";float: left;margin-right: 0.25em;color: #696969;}#sk-container-id-4 label.sk-toggleable__label-arrow:hover:before {color: black;}#sk-container-id-4 div.sk-estimator:hover label.sk-toggleable__label-arrow:before {color: black;}#sk-container-id-4 div.sk-toggleable__content {max-height: 0;max-width: 0;overflow: hidden;text-align: left;background-color: #f0f8ff;}#sk-container-id-4 div.sk-toggleable__content pre {margin: 0.2em;color: black;border-radius: 0.25em;background-color: #f0f8ff;}#sk-container-id-4 input.sk-toggleable__control:checked~div.sk-toggleable__content {max-height: 200px;max-width: 100%;overflow: auto;}#sk-container-id-4 input.sk-toggleable__control:checked~label.sk-toggleable__label-arrow:before {content: \"▾\";}#sk-container-id-4 div.sk-estimator input.sk-toggleable__control:checked~label.sk-toggleable__label {background-color: #d4ebff;}#sk-container-id-4 div.sk-label input.sk-toggleable__control:checked~label.sk-toggleable__label {background-color: #d4ebff;}#sk-container-id-4 input.sk-hidden--visually {border: 0;clip: rect(1px 1px 1px 1px);clip: rect(1px, 1px, 1px, 1px);height: 1px;margin: -1px;overflow: hidden;padding: 0;position: absolute;width: 1px;}#sk-container-id-4 div.sk-estimator {font-family: monospace;background-color: #f0f8ff;border: 1px dotted black;border-radius: 0.25em;box-sizing: border-box;margin-bottom: 0.5em;}#sk-container-id-4 div.sk-estimator:hover {background-color: #d4ebff;}#sk-container-id-4 div.sk-parallel-item::after {content: \"\";width: 100%;border-bottom: 1px solid gray;flex-grow: 1;}#sk-container-id-4 div.sk-label:hover label.sk-toggleable__label {background-color: #d4ebff;}#sk-container-id-4 div.sk-serial::before {content: \"\";position: absolute;border-left: 1px solid gray;box-sizing: border-box;top: 0;bottom: 0;left: 50%;z-index: 0;}#sk-container-id-4 div.sk-serial {display: flex;flex-direction: column;align-items: center;background-color: white;padding-right: 0.2em;padding-left: 0.2em;position: relative;}#sk-container-id-4 div.sk-item {position: relative;z-index: 1;}#sk-container-id-4 div.sk-parallel {display: flex;align-items: stretch;justify-content: center;background-color: white;position: relative;}#sk-container-id-4 div.sk-item::before, #sk-container-id-4 div.sk-parallel-item::before {content: \"\";position: absolute;border-left: 1px solid gray;box-sizing: border-box;top: 0;bottom: 0;left: 50%;z-index: -1;}#sk-container-id-4 div.sk-parallel-item {display: flex;flex-direction: column;z-index: 1;position: relative;background-color: white;}#sk-container-id-4 div.sk-parallel-item:first-child::after {align-self: flex-end;width: 50%;}#sk-container-id-4 div.sk-parallel-item:last-child::after {align-self: flex-start;width: 50%;}#sk-container-id-4 div.sk-parallel-item:only-child::after {width: 0;}#sk-container-id-4 div.sk-dashed-wrapped {border: 1px dashed gray;margin: 0 0.4em 0.5em 0.4em;box-sizing: border-box;padding-bottom: 0.4em;background-color: white;}#sk-container-id-4 div.sk-label label {font-family: monospace;font-weight: bold;display: inline-block;line-height: 1.2em;}#sk-container-id-4 div.sk-label-container {text-align: center;}#sk-container-id-4 div.sk-container {/* jupyter's `normalize.less` sets `[hidden] { display: none; }` but bootstrap.min.css set `[hidden] { display: none !important; }` so we also need the `!important` here to be able to override the default hidden behavior on the sphinx rendered scikit-learn.org. See: https://github.com/scikit-learn/scikit-learn/issues/21755 */display: inline-block !important;position: relative;}#sk-container-id-4 div.sk-text-repr-fallback {display: none;}</style><div id=\"sk-container-id-4\" class=\"sk-top-container\"><div class=\"sk-text-repr-fallback\"><pre>RandomizedSearchCV(cv=5,\n",
       "                   estimator=XGBClassifier(base_score=None, booster=None,\n",
       "                                           callbacks=None,\n",
       "                                           colsample_bylevel=None,\n",
       "                                           colsample_bynode=None,\n",
       "                                           colsample_bytree=None,\n",
       "                                           early_stopping_rounds=None,\n",
       "                                           enable_categorical=False,\n",
       "                                           eval_metric=None, feature_types=None,\n",
       "                                           gamma=None, gpu_id=None,\n",
       "                                           grow_policy=None,\n",
       "                                           importance_type=None,\n",
       "                                           interaction_constraints=None,\n",
       "                                           learning_rate...\n",
       "                                           max_leaves=None,\n",
       "                                           min_child_weight=None, missing=nan,\n",
       "                                           monotone_constraints=None,\n",
       "                                           n_estimators=100, n_jobs=None,\n",
       "                                           num_parallel_tree=None,\n",
       "                                           predictor=None, random_state=None, ...),\n",
       "                   param_distributions={&#x27;colsample_bytree&#x27;: [0.8, 0.9, 1.0],\n",
       "                                        &#x27;learning_rate&#x27;: [0.1, 0.05, 0.01,\n",
       "                                                          0.001],\n",
       "                                        &#x27;max_depth&#x27;: [2, 3, 4, 5],\n",
       "                                        &#x27;n_estimators&#x27;: [25, 50, 75, 100, 200,\n",
       "                                                         300],\n",
       "                                        &#x27;subsample&#x27;: [0.8, 0.9, 1.0]},\n",
       "                   scoring=&#x27;accuracy&#x27;)</pre><b>In a Jupyter environment, please rerun this cell to show the HTML representation or trust the notebook. <br />On GitHub, the HTML representation is unable to render, please try loading this page with nbviewer.org.</b></div><div class=\"sk-container\" hidden><div class=\"sk-item sk-dashed-wrapped\"><div class=\"sk-label-container\"><div class=\"sk-label sk-toggleable\"><input class=\"sk-toggleable__control sk-hidden--visually\" id=\"sk-estimator-id-4\" type=\"checkbox\" ><label for=\"sk-estimator-id-4\" class=\"sk-toggleable__label sk-toggleable__label-arrow\">RandomizedSearchCV</label><div class=\"sk-toggleable__content\"><pre>RandomizedSearchCV(cv=5,\n",
       "                   estimator=XGBClassifier(base_score=None, booster=None,\n",
       "                                           callbacks=None,\n",
       "                                           colsample_bylevel=None,\n",
       "                                           colsample_bynode=None,\n",
       "                                           colsample_bytree=None,\n",
       "                                           early_stopping_rounds=None,\n",
       "                                           enable_categorical=False,\n",
       "                                           eval_metric=None, feature_types=None,\n",
       "                                           gamma=None, gpu_id=None,\n",
       "                                           grow_policy=None,\n",
       "                                           importance_type=None,\n",
       "                                           interaction_constraints=None,\n",
       "                                           learning_rate...\n",
       "                                           max_leaves=None,\n",
       "                                           min_child_weight=None, missing=nan,\n",
       "                                           monotone_constraints=None,\n",
       "                                           n_estimators=100, n_jobs=None,\n",
       "                                           num_parallel_tree=None,\n",
       "                                           predictor=None, random_state=None, ...),\n",
       "                   param_distributions={&#x27;colsample_bytree&#x27;: [0.8, 0.9, 1.0],\n",
       "                                        &#x27;learning_rate&#x27;: [0.1, 0.05, 0.01,\n",
       "                                                          0.001],\n",
       "                                        &#x27;max_depth&#x27;: [2, 3, 4, 5],\n",
       "                                        &#x27;n_estimators&#x27;: [25, 50, 75, 100, 200,\n",
       "                                                         300],\n",
       "                                        &#x27;subsample&#x27;: [0.8, 0.9, 1.0]},\n",
       "                   scoring=&#x27;accuracy&#x27;)</pre></div></div></div><div class=\"sk-parallel\"><div class=\"sk-parallel-item\"><div class=\"sk-item\"><div class=\"sk-label-container\"><div class=\"sk-label sk-toggleable\"><input class=\"sk-toggleable__control sk-hidden--visually\" id=\"sk-estimator-id-5\" type=\"checkbox\" ><label for=\"sk-estimator-id-5\" class=\"sk-toggleable__label sk-toggleable__label-arrow\">estimator: XGBClassifier</label><div class=\"sk-toggleable__content\"><pre>XGBClassifier(base_score=None, booster=None, callbacks=None,\n",
       "              colsample_bylevel=None, colsample_bynode=None,\n",
       "              colsample_bytree=None, early_stopping_rounds=None,\n",
       "              enable_categorical=False, eval_metric=None, feature_types=None,\n",
       "              gamma=None, gpu_id=None, grow_policy=None, importance_type=None,\n",
       "              interaction_constraints=None, learning_rate=None, max_bin=None,\n",
       "              max_cat_threshold=None, max_cat_to_onehot=None,\n",
       "              max_delta_step=None, max_depth=None, max_leaves=None,\n",
       "              min_child_weight=None, missing=nan, monotone_constraints=None,\n",
       "              n_estimators=100, n_jobs=None, num_parallel_tree=None,\n",
       "              predictor=None, random_state=None, ...)</pre></div></div></div><div class=\"sk-serial\"><div class=\"sk-item\"><div class=\"sk-estimator sk-toggleable\"><input class=\"sk-toggleable__control sk-hidden--visually\" id=\"sk-estimator-id-6\" type=\"checkbox\" ><label for=\"sk-estimator-id-6\" class=\"sk-toggleable__label sk-toggleable__label-arrow\">XGBClassifier</label><div class=\"sk-toggleable__content\"><pre>XGBClassifier(base_score=None, booster=None, callbacks=None,\n",
       "              colsample_bylevel=None, colsample_bynode=None,\n",
       "              colsample_bytree=None, early_stopping_rounds=None,\n",
       "              enable_categorical=False, eval_metric=None, feature_types=None,\n",
       "              gamma=None, gpu_id=None, grow_policy=None, importance_type=None,\n",
       "              interaction_constraints=None, learning_rate=None, max_bin=None,\n",
       "              max_cat_threshold=None, max_cat_to_onehot=None,\n",
       "              max_delta_step=None, max_depth=None, max_leaves=None,\n",
       "              min_child_weight=None, missing=nan, monotone_constraints=None,\n",
       "              n_estimators=100, n_jobs=None, num_parallel_tree=None,\n",
       "              predictor=None, random_state=None, ...)</pre></div></div></div></div></div></div></div></div></div></div>"
      ],
      "text/plain": [
       "RandomizedSearchCV(cv=5,\n",
       "                   estimator=XGBClassifier(base_score=None, booster=None,\n",
       "                                           callbacks=None,\n",
       "                                           colsample_bylevel=None,\n",
       "                                           colsample_bynode=None,\n",
       "                                           colsample_bytree=None,\n",
       "                                           early_stopping_rounds=None,\n",
       "                                           enable_categorical=False,\n",
       "                                           eval_metric=None, feature_types=None,\n",
       "                                           gamma=None, gpu_id=None,\n",
       "                                           grow_policy=None,\n",
       "                                           importance_type=None,\n",
       "                                           interaction_constraints=None,\n",
       "                                           learning_rate...\n",
       "                                           max_leaves=None,\n",
       "                                           min_child_weight=None, missing=nan,\n",
       "                                           monotone_constraints=None,\n",
       "                                           n_estimators=100, n_jobs=None,\n",
       "                                           num_parallel_tree=None,\n",
       "                                           predictor=None, random_state=None, ...),\n",
       "                   param_distributions={'colsample_bytree': [0.8, 0.9, 1.0],\n",
       "                                        'learning_rate': [0.1, 0.05, 0.01,\n",
       "                                                          0.001],\n",
       "                                        'max_depth': [2, 3, 4, 5],\n",
       "                                        'n_estimators': [25, 50, 75, 100, 200,\n",
       "                                                         300],\n",
       "                                        'subsample': [0.8, 0.9, 1.0]},\n",
       "                   scoring='accuracy')"
      ]
     },
     "execution_count": 47,
     "metadata": {},
     "output_type": "execute_result"
    }
   ],
   "source": [
    "from sklearn.model_selection import RandomizedSearchCV\n",
    "\n",
    "param_grid = {\n",
    "    'max_depth': [2, 3, 4, 5],\n",
    "    'learning_rate': [0.1, 0.05, 0.01, 0.001],\n",
    "    'n_estimators': [25, 50, 75, 100, 200, 300],\n",
    "    'subsample': [0.8, 0.9, 1.0],\n",
    "    'colsample_bytree': [0.8, 0.9, 1.0]\n",
    "}\n",
    "\n",
    "random_search = RandomizedSearchCV(model, param_distributions=param_grid, n_iter=10, cv=5, scoring='accuracy')\n",
    "random_search.fit(X_train_prepared, Y_train)"
   ]
  },
  {
   "cell_type": "code",
   "execution_count": 48,
   "id": "f6bc6cce",
   "metadata": {},
   "outputs": [
    {
     "name": "stdout",
     "output_type": "stream",
     "text": [
      "Best parameters: {'subsample': 0.8, 'n_estimators': 25, 'max_depth': 3, 'learning_rate': 0.001, 'colsample_bytree': 1.0}\n",
      "Best score: 0.6660723130262506\n"
     ]
    }
   ],
   "source": [
    "best_params = random_search.best_params_\n",
    "best_score = random_search.best_score_\n",
    "print(\"Best parameters:\", best_params)\n",
    "print(\"Best score:\", best_score)"
   ]
  },
  {
   "cell_type": "code",
   "execution_count": 49,
   "id": "4787e928",
   "metadata": {},
   "outputs": [],
   "source": [
    "model = xgb.XGBClassifier(**best_params)"
   ]
  },
  {
   "cell_type": "code",
   "execution_count": 50,
   "id": "7be09c48",
   "metadata": {},
   "outputs": [
    {
     "data": {
      "text/html": [
       "<style>#sk-container-id-5 {color: black;background-color: white;}#sk-container-id-5 pre{padding: 0;}#sk-container-id-5 div.sk-toggleable {background-color: white;}#sk-container-id-5 label.sk-toggleable__label {cursor: pointer;display: block;width: 100%;margin-bottom: 0;padding: 0.3em;box-sizing: border-box;text-align: center;}#sk-container-id-5 label.sk-toggleable__label-arrow:before {content: \"▸\";float: left;margin-right: 0.25em;color: #696969;}#sk-container-id-5 label.sk-toggleable__label-arrow:hover:before {color: black;}#sk-container-id-5 div.sk-estimator:hover label.sk-toggleable__label-arrow:before {color: black;}#sk-container-id-5 div.sk-toggleable__content {max-height: 0;max-width: 0;overflow: hidden;text-align: left;background-color: #f0f8ff;}#sk-container-id-5 div.sk-toggleable__content pre {margin: 0.2em;color: black;border-radius: 0.25em;background-color: #f0f8ff;}#sk-container-id-5 input.sk-toggleable__control:checked~div.sk-toggleable__content {max-height: 200px;max-width: 100%;overflow: auto;}#sk-container-id-5 input.sk-toggleable__control:checked~label.sk-toggleable__label-arrow:before {content: \"▾\";}#sk-container-id-5 div.sk-estimator input.sk-toggleable__control:checked~label.sk-toggleable__label {background-color: #d4ebff;}#sk-container-id-5 div.sk-label input.sk-toggleable__control:checked~label.sk-toggleable__label {background-color: #d4ebff;}#sk-container-id-5 input.sk-hidden--visually {border: 0;clip: rect(1px 1px 1px 1px);clip: rect(1px, 1px, 1px, 1px);height: 1px;margin: -1px;overflow: hidden;padding: 0;position: absolute;width: 1px;}#sk-container-id-5 div.sk-estimator {font-family: monospace;background-color: #f0f8ff;border: 1px dotted black;border-radius: 0.25em;box-sizing: border-box;margin-bottom: 0.5em;}#sk-container-id-5 div.sk-estimator:hover {background-color: #d4ebff;}#sk-container-id-5 div.sk-parallel-item::after {content: \"\";width: 100%;border-bottom: 1px solid gray;flex-grow: 1;}#sk-container-id-5 div.sk-label:hover label.sk-toggleable__label {background-color: #d4ebff;}#sk-container-id-5 div.sk-serial::before {content: \"\";position: absolute;border-left: 1px solid gray;box-sizing: border-box;top: 0;bottom: 0;left: 50%;z-index: 0;}#sk-container-id-5 div.sk-serial {display: flex;flex-direction: column;align-items: center;background-color: white;padding-right: 0.2em;padding-left: 0.2em;position: relative;}#sk-container-id-5 div.sk-item {position: relative;z-index: 1;}#sk-container-id-5 div.sk-parallel {display: flex;align-items: stretch;justify-content: center;background-color: white;position: relative;}#sk-container-id-5 div.sk-item::before, #sk-container-id-5 div.sk-parallel-item::before {content: \"\";position: absolute;border-left: 1px solid gray;box-sizing: border-box;top: 0;bottom: 0;left: 50%;z-index: -1;}#sk-container-id-5 div.sk-parallel-item {display: flex;flex-direction: column;z-index: 1;position: relative;background-color: white;}#sk-container-id-5 div.sk-parallel-item:first-child::after {align-self: flex-end;width: 50%;}#sk-container-id-5 div.sk-parallel-item:last-child::after {align-self: flex-start;width: 50%;}#sk-container-id-5 div.sk-parallel-item:only-child::after {width: 0;}#sk-container-id-5 div.sk-dashed-wrapped {border: 1px dashed gray;margin: 0 0.4em 0.5em 0.4em;box-sizing: border-box;padding-bottom: 0.4em;background-color: white;}#sk-container-id-5 div.sk-label label {font-family: monospace;font-weight: bold;display: inline-block;line-height: 1.2em;}#sk-container-id-5 div.sk-label-container {text-align: center;}#sk-container-id-5 div.sk-container {/* jupyter's `normalize.less` sets `[hidden] { display: none; }` but bootstrap.min.css set `[hidden] { display: none !important; }` so we also need the `!important` here to be able to override the default hidden behavior on the sphinx rendered scikit-learn.org. See: https://github.com/scikit-learn/scikit-learn/issues/21755 */display: inline-block !important;position: relative;}#sk-container-id-5 div.sk-text-repr-fallback {display: none;}</style><div id=\"sk-container-id-5\" class=\"sk-top-container\"><div class=\"sk-text-repr-fallback\"><pre>XGBClassifier(base_score=None, booster=None, callbacks=None,\n",
       "              colsample_bylevel=None, colsample_bynode=None,\n",
       "              colsample_bytree=1.0, early_stopping_rounds=None,\n",
       "              enable_categorical=False, eval_metric=None, feature_types=None,\n",
       "              gamma=None, gpu_id=None, grow_policy=None, importance_type=None,\n",
       "              interaction_constraints=None, learning_rate=0.001, max_bin=None,\n",
       "              max_cat_threshold=None, max_cat_to_onehot=None,\n",
       "              max_delta_step=None, max_depth=3, max_leaves=None,\n",
       "              min_child_weight=None, missing=nan, monotone_constraints=None,\n",
       "              n_estimators=25, n_jobs=None, num_parallel_tree=None,\n",
       "              predictor=None, random_state=None, ...)</pre><b>In a Jupyter environment, please rerun this cell to show the HTML representation or trust the notebook. <br />On GitHub, the HTML representation is unable to render, please try loading this page with nbviewer.org.</b></div><div class=\"sk-container\" hidden><div class=\"sk-item\"><div class=\"sk-estimator sk-toggleable\"><input class=\"sk-toggleable__control sk-hidden--visually\" id=\"sk-estimator-id-7\" type=\"checkbox\" checked><label for=\"sk-estimator-id-7\" class=\"sk-toggleable__label sk-toggleable__label-arrow\">XGBClassifier</label><div class=\"sk-toggleable__content\"><pre>XGBClassifier(base_score=None, booster=None, callbacks=None,\n",
       "              colsample_bylevel=None, colsample_bynode=None,\n",
       "              colsample_bytree=1.0, early_stopping_rounds=None,\n",
       "              enable_categorical=False, eval_metric=None, feature_types=None,\n",
       "              gamma=None, gpu_id=None, grow_policy=None, importance_type=None,\n",
       "              interaction_constraints=None, learning_rate=0.001, max_bin=None,\n",
       "              max_cat_threshold=None, max_cat_to_onehot=None,\n",
       "              max_delta_step=None, max_depth=3, max_leaves=None,\n",
       "              min_child_weight=None, missing=nan, monotone_constraints=None,\n",
       "              n_estimators=25, n_jobs=None, num_parallel_tree=None,\n",
       "              predictor=None, random_state=None, ...)</pre></div></div></div></div></div>"
      ],
      "text/plain": [
       "XGBClassifier(base_score=None, booster=None, callbacks=None,\n",
       "              colsample_bylevel=None, colsample_bynode=None,\n",
       "              colsample_bytree=1.0, early_stopping_rounds=None,\n",
       "              enable_categorical=False, eval_metric=None, feature_types=None,\n",
       "              gamma=None, gpu_id=None, grow_policy=None, importance_type=None,\n",
       "              interaction_constraints=None, learning_rate=0.001, max_bin=None,\n",
       "              max_cat_threshold=None, max_cat_to_onehot=None,\n",
       "              max_delta_step=None, max_depth=3, max_leaves=None,\n",
       "              min_child_weight=None, missing=nan, monotone_constraints=None,\n",
       "              n_estimators=25, n_jobs=None, num_parallel_tree=None,\n",
       "              predictor=None, random_state=None, ...)"
      ]
     },
     "execution_count": 50,
     "metadata": {},
     "output_type": "execute_result"
    }
   ],
   "source": [
    "model.fit(X_train_prepared, Y_train)"
   ]
  },
  {
   "cell_type": "code",
   "execution_count": 51,
   "id": "a85d6fa4",
   "metadata": {},
   "outputs": [
    {
     "data": {
      "image/png": "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",
      "text/plain": [
       "<Figure size 432x288 with 2 Axes>"
      ]
     },
     "metadata": {
      "needs_background": "light"
     },
     "output_type": "display_data"
    }
   ],
   "source": [
    "cm = confusion_matrix(Y_train,predictions_train)\n",
    "y_train_labels = sorted(y_train.unique())\n",
    "sns.heatmap(cm, annot=True, cmap='Blues', fmt='g', xticklabels=y_train_labels, yticklabels=y_train_labels)\n",
    "\n",
    "# Set the plot title and axis labels\n",
    "plt.title('Confusion Matrix on Train')\n",
    "plt.xlabel('Predicted Label')\n",
    "plt.ylabel('True Label')\n",
    "\n",
    "# Show the plot\n",
    "plt.show()"
   ]
  },
  {
   "cell_type": "code",
   "execution_count": 52,
   "id": "a576c5de",
   "metadata": {},
   "outputs": [
    {
     "name": "stdout",
     "output_type": "stream",
     "text": [
      "              precision    recall  f1-score   support\n",
      "\n",
      "           0       0.71      0.98      0.83      2239\n",
      "           1       0.84      0.22      0.35      1124\n",
      "\n",
      "    accuracy                           0.73      3363\n",
      "   macro avg       0.78      0.60      0.59      3363\n",
      "weighted avg       0.76      0.73      0.67      3363\n",
      "\n"
     ]
    }
   ],
   "source": [
    "from sklearn.metrics import classification_report\n",
    "\n",
    "# Generate a classification report\n",
    "report = classification_report(Y_train, predictions_train)\n",
    "\n",
    "# Print the report\n",
    "print(report)"
   ]
  },
  {
   "cell_type": "code",
<<<<<<< HEAD
   "execution_count": 53,
=======
   "execution_count": 222,
>>>>>>> 4c132f4 (Finish Training)
   "id": "7d82b0c5",
   "metadata": {},
   "outputs": [
    {
     "data": {
<<<<<<< HEAD
      "image/png": "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",
=======
      "image/png": "iVBORw0KGgoAAAANSUhEUgAAAkgAAAHFCAYAAAAJ2AY0AAAAOXRFWHRTb2Z0d2FyZQBNYXRwbG90bGliIHZlcnNpb24zLjcuMCwgaHR0cHM6Ly9tYXRwbG90bGliLm9yZy88F64QAAAACXBIWXMAAA9hAAAPYQGoP6dpAACSy0lEQVR4nOzdd1xT1/sH8E+AEPaQKSqIExei4ECLW1Ss268DnLhHVbBaV7XWQeuoe1Xc4qizal20zrpR3FgcKCogAgrIJjm/P/hxMSQgwSQ3hOf9evky97kjT/bDueecK2CMMRBCCCGEEI4O3wkQQgghhGgaKpAIIYQQQgqhAokQQgghpBAqkAghhBBCCqECiRBCCCGkECqQCCGEEEIKoQKJEEIIIaQQKpAIIYQQQgqhAokQQgghpJAyWSBt374dAoGA+6enp4eKFStiwIABePr0Kd/pAQCqVq2KYcOG8Z2GjLS0NPzyyy9o1KgRTExMYGxsDDc3NyxevBhpaWl8p1diixcvxtGjR2XiFy5cgEAgwIULF9SeU74XL15g4sSJqFWrFgwNDWFkZIR69ephzpw5ePv2LbddmzZtUL9+fd7y/Bp79uzBypUrVXb80nx+rl69ip9++gkfP36UWdemTRu0adNGKbnla9++PcaOHcst57/38v/p6urCxsYG3bp1Q1hYmNxjMMawZ88etGvXDpaWlhCJRKhWrRomTJiA169fF3nfx48fR7du3WBnZwd9fX1UqFAB7du3R0hICHJycgAAHz58gIWFhdzPSXFK+v7VRowxdOjQAVZWVoiLi5NZP3bsWOjr6yM8PFwq/u7dO8yaNQtubm4wMzODvr4+KleujN69e+PYsWMQi8VfvO82bdpIvX+EQiGqVq2KESNG4NWrV0p7jKVV3Ofrcy9fvpR6HMX9e/ny5VflNGzYMFStWvWrjlEsVgZt27aNAWDbtm1j165dY+fPn2cLFy5khoaGzNbWliUlJfGdIrtz5w579uwZ32lIiYuLY/Xr12eGhobshx9+YGfPnmVnz55lM2bMYIaGhqx+/fosLi6O7zRLxNjYmA0dOlQmnpyczK5du8aSk5PVnxRj7Pjx48zY2Jg5OTmxpUuXsr///pv9888/bOXKlczV1ZW5ublx27Zu3ZrVq1ePlzy/VteuXZmTk5PKjl+az8/SpUsZABYVFSWz7tGjR+zRo0dKyo6xo0ePMpFIxN68ecPFzp8/zwCwxYsXs2vXrrFLly6xVatWsQoVKjAjIyMWGRkpdQyxWMz69+/PALCBAweyo0ePsvPnz7NVq1axypUrMwsLC/bvv/9K7SORSNiwYcMYAObj48N2797NLl68yI4dO8YCAgKYmZkZW7lyJbf9Tz/9xGrUqMGysrJK9LgUef9qq1evXjEzMzP27bffSsVPnz7NALCffvpJKn7t2jVmY2PDrK2t2Y8//sj++usvdvHiRbZr1y7Wr18/pqury4KDg794v61bt2bVqlVj165dY9euXWMXL15k69atY7a2tqxKlSosLS1NqY9TUcV9vj6XmZnJPYb8f40aNZJ6bPn/MjMzvyqnZ8+esTt37nzVMYpTpgukW7duScXnz5/PALCtW7fylBm/cnNzi33DeXt7Mz09PXb58mWZdZcvX2Z6enqsU6dOqkxRri/lLU9RBRKfXrx4wYyNjVmjRo3Yx48fZdZLJBJ26NAhblkdBZJEImHp6elKP66qCqSvybWkX+DK0LRpUzZgwACpWH6BdODAAan4jh07GAA2d+5cqfjixYsZAPbLL7/IHD8uLo45OTkxOzs79uHDBy7+66+/MgBs/vz5cvOKjY2V+nzHxcUxPT09FhIS8sXHpOj792tkZ2eznJwcpRxLFYKDg6V+S5KSklilSpVY48aNpfL+8OEDs7OzY87OziwmJkbuse7du8fOnTv3xfss6vtgy5YtDAA7c+ZMKR+NcnzN56uk33Wq+K76GlpVIP31118MAAsKCpKK37p1i3Xr1o1ZWloykUjE3Nzc2P79+2WO++bNGzZq1ChWuXJlJhQKWcWKFVmfPn2kWlWSk5PZ1KlTWdWqVZlQKGQODg5s8uTJ7NOnT1LHcnJy4n7A4+PjmVAoZHPmzJG5z4iICAaArVq1iovFxsay0aNHs0qVKjGhUMiqVq3KfvrpJ6kPZlRUFAPAfv31V7ZgwQJWtWpVpqury06dOiX3Obt16xYDwMaMGVPEs8rY6NGjGQAWFhbGxQCwCRMmsI0bN7KaNWsyfX19VqdOHbZ3716Z/b8274yMDBYYGMgaNmzIzMzMmKWlJWvevDk7evSo1P0AkPnXunVrxljBj9T58+e57YcOHcqMjY3Z06dPWZcuXZixsTGrXLkyCwwMlCnMXr9+zfr06cNMTEyYubk58/X1ZTdv3uRaLIszceJEBoBdu3at2O3y5X9p3Lx5k33zzTfM0NCQOTs7s6CgICYWi7ntSvq85D83EyZMYBs2bGAuLi5MKBSyDRs2MMbyWhOaNm3KLC0tmampKWvUqBELDg5mEolE5jghISGsefPmzNjYmBkbG7OGDRtyfwW3bt1a7muQLysriy1YsIDVrl2b6evrM2trazZs2DAWHx8vdR9OTk6sa9eu7NChQ8zNzY2JRCL2ww8/cOs+L4DFYjFbsGABq1WrFjMwMGDm5uasQYMGXGvJvHnz5OaU/z5o3bo19x7Jl5mZyebPn89cXFyYSCRiFSpUYG3atGFXrlwp9nW7c+cOA8D++usvqXhRBdKjR49kPntZWVnM0tKS1alTR+7zzxhje/bsYQDYsmXLGGN5RUWFChWYi4tLkfvI06VLF+bl5fXF7RR9/xZ+jfIVfq7zn5edO3eywMBA5uDgwAQCAbt79y4DILd15eTJkwwA+/PPP7lYZGQkGzhwILOxsWH6+vrMxcWFrV27tkS5lkaXLl2Yubk5i46OZr6+vkwkErGHDx9KbbNkyRK5r3lpFFVEHDx4kAGQKbIuX77M2rVrx0xMTJihoSHz9PRkJ06ckNn/wYMHrHv37szCwoKJRCLWsGFDtn37dqltvvbzVZrHVtznf+3atczLy4vZ2NgwIyMjVr9+ffbrr7+y7OxsqWMMHTpU5g+1/O/AnTt3MhcXF2ZoaMhcXV3Z8ePHS5Tr5/SUc6JOM0RFRQEAatWqxcXOnz+Pzp07o1mzZti4cSPMzc2xb98+9O/fH+np6Vw/h7dv36JJkybIycnBrFmz4OrqisTERJw5cwYfPnyAnZ0d0tPT0bp1a7x584bb5tGjR5g7dy4ePHiAv//+GwKBQCYvGxsbfPvtt9ixYwfmz58PHZ2Crl/btm2Dvr4+/Pz8AABxcXFo2rQpdHR0MHfuXFSvXh3Xrl3DwoUL8fLlS2zbtk3q2KtXr0atWrWwbNkymJmZoWbNmnKfm9DQUABAz549i3z+evbsid9//x2hoaFwd3fn4seOHcP58+fx888/w9jYGOvXr8fAgQOhp6eHvn37Ki3vrKwsJCUl4fvvv0elSpWQnZ2Nv//+G71798a2bdswZMgQAMC1a9fQrl07tG3bFj/++CMAwMzMrMjHBQA5OTno3r07RowYgalTp+LSpUtYsGABzM3NMXfuXAB5/bPatm2LpKQk/Prrr6hRowZOnz6N/v37F3vsfGfPnoWdnR2aN29eou3znzc/Pz9MnToV8+bNw5EjRzBz5kw4ODhwj7ekz0u+o0eP4vLly5g7dy7s7e1ha2sLIK9vwJgxY+Do6AgAuH79Or777ju8ffuWew4AYO7cuViwYAF69+6NqVOnwtzcHA8fPuT6Qaxfvx6jR4/G8+fPceTIEan7lkgk6NGjBy5fvozp06ejRYsWePXqFebNm4c2bdogLCwMhoaG3PZ37txBREQE5syZA2dnZxgbG8t9npYsWYKffvoJc+bMQatWrZCTk4MnT55w/SFGjhyJpKQkrFmzBocPH0bFihUBAHXr1pV7vNzcXHTp0gWXL1/GlClT0K5dO+Tm5uL69euIjo5GixYtinzNTpw4AV1dXbRq1arIbT4n73vp9u3b+PDhA0aPHi33OwMAunXrBh0dHYSGhmLq1KkICwtDUlISRo0aVeQ+8rRp0wYzZ87Ex48fYWFhUeR2pXn/KmLmzJnw9PTExo0boaOjgypVqqBRo0bYtm0bRowYIbXt9u3bYWtrCx8fHwDA48eP0aJFCzg6OmL58uWwt7fHmTNnMGnSJCQkJGDevHlKzzc4OBj169dH27Zt8fz5c/zyyy+oV6+e1DahoaHQ1dXl8lSG3NxcAEB2djYePnyIn3/+GdWqVZN6T168eBEdO3aEq6srtmzZApFIhPXr16Nbt27Yu3cv953133//oUWLFrC1tcXq1athZWWF3bt3Y9iwYXj37h2mT58OQPmfr5Iq6vP//Plz+Pr6wtnZGfr6+rh37x4WLVqEJ0+eYOvWrV887l9//YVbt27h559/homJCZYsWYJevXrhv//+Q7Vq1UqeoMIllQbIb0G6fv06y8nJYampqez06dPM3t6etWrVSqrFwsXFhTVq1EimOffbb79lFStW5P5S9/f3Z0KhkD1+/LjI+w0KCmI6OjoyLVf5Ff7Jkye5WOG/ro4dO8YAsLNnz3Kx3Nxc5uDgwPr06cPFxowZw0xMTNirV6+k7mPZsmUMANePIr8lpnr16jJVtTxjx45lANiTJ0+K3Ca/NWvcuHFcDAAzNDSUakXLzc1lLi4urEaNGirNOzc3l+Xk5LARI0awRo0aSa0r6hRbUS1IANgff/whta2Pjw+rXbs2t7xu3ToGQKYVbsyYMSVqQTIwMGDNmzcvdpvP5bfE3LhxQypet27dYk91Fve8AGDm5uZf7IcnFotZTk4O+/nnn5mVlRXXIvHixQumq6vL/Pz8it2/qFNse/fuZQBkTsXkt2CuX7+eizk5OTFdXV3233//yRyn8Ofn22+//WL/l+JOARRu1di5cycDwDZv3lzsMeXp0qULc3FxkYnnv/f279/PcnJyWHp6Orty5QqrXbs2q1u3rtSpsn379jEAbOPGjcXel52dHatTp45C+xQWGhoq931dmKLvX0VbkFq1aiWz7erVqxkAqfdAUlISE4lEbOrUqVysU6dOrHLlyjJ9CydOnMgMDAxU1u80/zRow4YNWW5ursx6FxcXZm9vLxPP/3zl//u8RbgoRbXM1qpVi0VEREht27x5c2Zra8tSU1O5WG5uLqtfvz6rXLky93keMGAAE4lELDo6Wmr/Ll26MCMjI+5U6td+vkry2OS1IBX1+f9c/nO5c+dOpqurK/VaF9WCZGdnx1JSUrhYXFwc09HRkTm79CVlchRbvubNm0MoFMLU1BSdO3eGpaUl/vzzT+jp5TWMPXv2DE+ePOFaZ3Jzc7l/Pj4+iI2NxX///QcAOHXqFNq2bYs6deoUeX8nTpxA/fr14ebmJnWsTp06fXHkVJcuXWBvby/VknLmzBnExMTA399f6j7atm0LBwcHqfvo0qULgLy/HD7XvXt3CIVCxZ64IuS9tyDz12n79u1hZ2fHLevq6qJ///549uwZ3rx5o9S8Dxw4gJYtW8LExAR6enoQCoXYsmULIiIivuqxCQQCdOvWTSrm6uoqNTrk4sWL3HvpcwMHDvyq+y6Ovb09mjZtWmxegGLPS/6IqMLOnTuHDh06wNzcHLq6uhAKhZg7dy4SExMRHx8PIO8vYrFYjAkTJpTq8Zw4cQIWFhbo1q2b1PvAzc0N9vb2Mp8RV1dXqZaVojRt2hT37t3D+PHjcebMGaSkpJQqv3ynTp2CgYGB1GevpGJiYrhWOXn69+8PoVAIIyMjtGzZEikpKfjrr7+Kbb0pCmNModYiefJz5XsEWp8+fWRifn5+EIlE2L59Oxfbu3cvsrKyMHz4cABAZmYm/vnnH/Tq1QtGRkYy3+OZmZm4fv16kfcrkUik9inJiDIgr0U5ODgYOjo6ePr0qUIjrgIDAyEUCrl/3bt359Z9nktubi73vQsA1atXx61bt3Dr1i1cu3YNe/bsgaGhIdq3b8+N0E5LS8ONGzfQt29fmJiYcPvq6upi8ODBePPmDfe7du7cObRv3x5VqlSRym/YsGFIT0/HtWvXACj/81VSRX3+w8PD0b17d1hZWXHfVUOGDIFYLEZkZOQXj9u2bVuYmppyy3Z2drC1tVV4NGCZLpB27tyJW7du4dy5cxgzZgwiIiKkfszevXsHAPj++++l3qxCoRDjx48HACQkJAAA3r9/j8qVKxd7f+/evcP9+/dljmVqagrGGHcsefT09DB48GAcOXKEa7bcvn07KlasiE6dOkndx/Hjx2XuI79pt/B95Dd1fkn+aZX85n558r8ACn+Y7O3tZbbNjyUmJiot78OHD6Nfv36oVKkSdu/ejWvXruHWrVvw9/dHZmZmiR5nUYyMjGBgYCAVE4lEUsdNTEyUKgTzyYvJ4+joWOzzK4+VlZVMTCQSISMjg1tW9HmR99zevHkT3t7eAIDNmzfjypUruHXrFmbPng0A3P29f/8eAL74WSjKu3fv8PHjR+jr68u8F+Li4kr9/p05cyaWLVuG69evo0uXLrCyskL79u2LHD7/Je/fv4eDg4PU6e6SysjIkHkvfe7XX3/FrVu3cPHiRcyePRvv3r1Dz549kZWVxW1Tks9jWloaEhISuM9jSfaRJz/Xz99T8pTm/asIea91hQoV0L17d+zcuZMrXLZv346mTZty3x2JiYnIzc3FmjVrZN5T+ae2ivvu9ff3l9qnffv2Jcp32rRpiI6Oxl9//QVjY2P4+/tLFTNA3nP2/v17pKenS8WnTp3KFTqFH3fhx7Bjxw5unYGBATw8PODh4YHmzZtj4MCBOHXqFGJjY7nT4B8+fABjTO7z6eDgwD1n+f+XZDtlf75KSl5u0dHR8PLywtu3b7Fq1SpcvnwZt27dwrp16wB8+X0MlOx7tSTKdB+kOnXqwMPDA0BexSgWixEcHIyDBw+ib9++sLa2BpD34vfu3VvuMWrXrg0gr59QfmtIUaytrWFoaFjkOdD8+yvK8OHDsXTpUq4P1LFjxzBlyhTo6upKHcPV1RWLFi2Se4z8N3a+kv512bFjR8yaNQtHjx6VaSHJlz9fSseOHaXi8uYDyY/lvxGVkffu3bvh7OyM/fv3S63//IdFlaysrHDz5k2ZuLzHL0+nTp2wZs0aXL9+Xan9OBR9XuQ9t/v27YNQKMSJEyekftwLz5FjY2MDAHjz5o1MoVwS1tbWsLKywunTp+Wu//yvuqJylUdPTw+BgYEIDAzEx48f8ffff2PWrFno1KkTXr9+DSMjI4XytLGxwb///guJRKJwkWRtbY2kpKQi11erVo37XmrVqhUMDQ0xZ84crFmzBt9//z0AwN3dHZaWljh27BiCgoLkPg/Hjh2DRCLhPo8eHh6oUKEC/vzzzyL3kSc/1y99Pyn6/jUwMJD7HkxISJB7X0XlO3z4cBw4cAChoaFwdHTErVu3sGHDBm69paUl1zpSVMums7NzkXn+9NNPmDhxIrdc+D0ozz///IONGzfixx9/ROfOnbFu3Tr069cPa9aswaRJk7jtOnbsiLNnz+LkyZNcf0wg74/M/M+Pvr6+1LFv3bpV4tyBvCLC2toa9+7dA5D3fOjo6CA2NlZm25iYGAAFr7WVlVWJtlP256uk5L0njh49irS0NBw+fBhOTk5c/O7duyrJoVgKnZDTEEWNYktKSuJGhuSf861Zsybz8fH54jHz+yAV10dn4cKFzMjIiL148eKLxyvq/HyzZs1Y06ZN2dq1a+X2CRo5ciRzcHD44jn1/L48S5cu/WIu+fKH+ReeW4WxgmH+nTt3loqjmD5I1atXV2revXv3luoTxFjeyDgTExNW+K1aoUIF1q9fP5ljFDeKrbD8kRn58vsgfd6XjLGS90EqyTDpw4cPc8tFjVopfF5dkecF/z+Co7DAwEBmYmIi1e8rPT2dOTo6SvUriIqKYrq6umzw4MHFPtbevXszW1tbmfju3bu5/oFfkj+Kpah1X5rGYeXKlVL92/L7s8jrR1hUH6QtW7Z8Mc/C/P39WYUKFWTiRY1iy87OZjVq1GBWVlZS/SLy+7f8+uuvMsd69+4dN8z/8/fSl4b5v3v3TubzHRISwgCwe/fuFfu4FH3/durUidWtW1dqm//++4/p6enJ7YNU1Eiv3NxcVqlSJdavXz/2/fffMwMDA5n779ChA2vYsGGJ53P6GsnJyczR0ZG5ublJfV769u3LjIyMpObnKskw/+Le558r6vvg9evXTCAQSD2nnp6ezN7eXmpYvFgsZg0aNJDqgzRw4EBmYGDA3r59K3XMrl27SvVBkkeRz1dpHltRz0v+/cTGxnIxiUTCmjZtKve7vahRbIWV5DulsDLdglSYpaUlZs6cienTp2PPnj0YNGgQNm3ahC5duqBTp04YNmwYKlWqhKSkJERERODOnTs4cOAAAODnn3/GqVOn0KpVK8yaNQsNGjTAx48fcfr0aQQGBsLFxQVTpkzBoUOH0KpVKwQEBMDV1RUSiQTR0dE4e/Yspk6dimbNmhWbo7+/P8aMGYOYmBi0aNGCa8HK9/PPPyM0NBQtWrTApEmTULt2bWRmZuLly5c4efIkNm7cWOrTHzt37kSHDh3g7e2NSZMmcU3N586dw6pVq+Di4iLVFyCftbU12rVrhx9//JEbxfbkyRPs27dPqXl/++23OHz4MMaPH4++ffvi9evXWLBgASpWrCgzQ3qDBg1w4cIFHD9+HBUrVoSpqanMc6mooUOHYsWKFRg0aBAWLlyIGjVq4NSpUzhz5gwAfLGlwdnZmWsddHNzw8SJE9GoUSMAeaNwtm7dCsYYevXqpVBeijwvRenatSt+++03+Pr6YvTo0UhMTMSyZcsgEomktqtatSpmzZqFBQsWICMjAwMHDoS5uTkeP36MhIQEzJ8/H0De83/48GFs2LAB7u7u0NHRgYeHBwYMGICQkBD4+Phg8uTJaNq0KYRCId68eYPz58+jR48eCj9+IG9EV/369eHh4QEbGxu8evUKK1euhJOTEzdys0GDBgCAVatWYejQoRAKhahdu7bcFoOBAwdi27ZtGDt2LP777z+0bdsWEokEN27cQJ06dTBgwIAic2nTpg22bt2KyMjIEvWfEgqFWLx4Mfr164dVq1Zhzpw5AIAffvgB9+7d4/7v378/zM3Ncf/+fSxduhSpqak4ceIEzM3NuWNNmzYNERERmDdvHm7evAlfX19UqVIFycnJuHTpEn7//XfMnz8fLVu25Pa5fv06rKysuOenKIq+fwcPHoxBgwZh/Pjx6NOnD169eoUlS5ZwrZAlpauriyFDhuC3336DmZkZevfuLfWYgbzX9JtvvoGXlxfGjRuHqlWrIjU1Fc+ePcPx48dx7tw5he6zOAEBAYiLi+O6DORbv3496tWrB39/f27W9PyZyrt164aGDRti3LhxaN68OUxMTJCYmIhLly4hLi6u2FGRn8vIyOD6U4nFYkRFRWHJkiUAgClTpnDbBQUFoWPHjmjbti2+//576OvrY/369Xj48CH27t3LtczMmzeP6x86d+5cVKhQASEhIfjrr7+wZMkS7nlW9ufra3Ts2BH6+voYOHAgpk+fjszMTGzYsAEfPnxQ6v2UiELllIYoqgWJsbw5YxwdHVnNmjW5UQf37t1j/fr1Y7a2tkwoFDJ7e3vWrl07mdEgr1+/Zv7+/sze3p6b46hfv37s3bt33DafPn1ic+bM4eZ4yZ8vIiAgQKqVpahqNTk5mRkaGhY7gub9+/ds0qRJzNnZmQmFQlahQgXm7u7OZs+ezc23VJoWpPz8Fy9ezNzc3JiRkREzMjJirq6ubOHChTJzOTFWUI2vX7+eVa9enQmFQubi4iJ34jll5P3LL7+wqlWrMpFIxOrUqcM2b94s09LDGGN3795lLVu2ZEZGRiWeB6kweceNjo5mvXv3ZiYmJszU1JT16dNH7pwsxXn+/DkbP348q1GjBhOJRMzQ0JDVrVuXBQYGSo0AKWkLkiLPC4r464kxxrZu3cpq167NRCIRq1atGgsKCuImoSs8MmXnzp2sSZMmzMDAgJmYmLBGjRpJtaAlJSWxvn37MgsLCyYQCKTyyMnJYcuWLWMNGzbk9ndxcWFjxoxhT58+5bZTpAVp+fLlrEWLFsza2prp6+szR0dHNmLECPby5Uup/WbOnMkcHByYjo7OF+dBysjIYHPnzuXm97KysmLt2rVjV69elZtTvuTkZGZiYsKWLFkiFf9SS0mzZs2YpaWl1F/tEomEhYSEsDZt2jALCwumr6/PnJ2d2bhx42RGhH7uzz//ZF27dmU2NjZMT0+PWVpasrZt27KNGzdKtbJIJBLm5OTEvvvuu2If0+dK+v6VSCRsyZIlrFq1aszAwIB5eHiwc+fOFTmKrbi5giIjI7lRW6GhoXK3iYqKYv7+/tw8azY2NqxFixZs4cKFJX5sX5L/WV+0aJHc9X/88QdDoXnrGMsbJTVz5kzm6urKjI2Nud+Pbt26sZ07d5ZoUszCo9h0dHSYg4MD69KlC7tw4YLM9vnzIBkbGzNDQ0PWvHlzuXP9PHjwgHXr1o2Zm5szfX191rBhQ5nW8K/9fJXksZW0BYmxvBnd878/KlWqxKZNm8ZOnTql9hYkwf8fkBC5BAIBJkyYgLVr1/KdCm8WL16MOXPmIDo6utStd0S7fPfdd/jnn3/w6NGjrx5lpkr//PMPvL298ejRI7i4uPCdDiFliladYiPka+UXgi4uLsjJycG5c+ewevVqDBo0iIojwpkzZw527tyJQ4cOSXXO1TQLFy6Ev78/FUeElAIVSIR8xsjICCtWrMDLly+RlZUFR0dH/PDDD1y/EUKAvKkfQkJC+OkXUUIfPnxA69atuSlNCCGKoVNshBBCCCGFlOmJIgkhhBBCVIEKJEIIIYSQQqhAIoQQQggppNx10pZIJIiJiYGpqalGD88lhBBCSAHGGFJTU0t9HUVFlbsCKSYmplTXmCKEEEII/16/fq2WaVfKXYGUPy3669evYWZmxnM2hBBCCCmJlJQUVKlSRemXNylKuSuQ8k+rmZmZUYFECCGElDHq6h5DnbQJIYQQQgqhAokQQgghpBAqkAghhBBCCqECiRBCCCGkECqQCCGEEEIKoQKJEEIIIaQQKpAIIYQQQgqhAokQQgghpBAqkAghhBBCCqECiRBCCCGkEF4LpEuXLqFbt25wcHCAQCDA0aNHv7jPxYsX4e7uDgMDA1SrVg0bN25UfaKEEEIIKVd4LZDS0tLQsGFDrF27tkTbR0VFwcfHB15eXggPD8esWbMwadIkHDp0SMWZEkIIIaQ84fVitV26dEGXLl1KvP3GjRvh6OiIlStXAgDq1KmDsLAwLFu2DH369FFRloQQQggpb3gtkBR17do1eHt7S8U6deqELVu2ICcnB0KhkKfMCCGEkHIk4SHw/n7BcuYH4L/9gLGdyu7yYYR6T3qVqQIpLi4OdnbST76dnR1yc3ORkJCAihUryuyTlZWFrKwsbjklJUXleRJCCCFlUuZHIDe9YDn9PXCiP2BaBRAI8mJvr0hvo2LJGSJMPOKD3XdqqO0+gTJWIAGAIP8F+n+MMbnxfEFBQZg/f77K8yKEEEKUhjHg4zNAkqvYfmlxwNvLgI6cMyoRuwGBDqBnKH/fuFtFH/fDf4rloSRXoqpg0J7eePnBEkCmWu+7TBVI9vb2iIuLk4rFx8dDT08PVlZWcveZOXMmAgMDueWUlBRUqVJFpXkSQgghAIDUN8DtFYCOnJ/bW0sAi+qAQLfQCgZ8eKqW9L7aN0GA0Pj/FySAdQPAspZSDp2VJcYAtwN48yENAGBqKkRqqlIOXSJlqkDy9PTE8ePHpWJnz56Fh4dHkf2PRCIRRCKROtIjhBBS3sTfBU4MyGthMbKVXZ8eX/z+H5+rJK0vEhTRn4dJ8v6v2bsglpEA1BsG1Oorva3QpOC0mwqITIEtW3uhU6fdaNmyCjZs6ABX1wUqu7/CeC2QPn36hGfPnnHLUVFRuHv3LipUqABHR0fMnDkTb9++xc6dOwEAY8eOxdq1axEYGIhRo0bh2rVr2LJlC/bu3cvXQyCEEKLNGAPEBf1YEX8X2OsJ6OoD4mzpbb9UDBXHwFI2lvkBsKoL2DdT7FjZyYBDC8Cipuw6YzvAvqlKC5vSYowhMzMXhoYFDR7e3tVx5swgtGvnjPT0T2rNh9cCKSwsDG3btuWW80+FDR06FNu3b0dsbCyio6O59c7Ozjh58iQCAgKwbt06ODg4YPXq1TTEnxBCiHKkvweO9gBEZnmnxxIfyd+ucHGUz9xZNpYcBbiOAer4yq4zc8r7V84lJWVg7NgTyMjIxbFjA6T6FXt7V+clJwHL7+VcTqSkpMDc3BzJyckwMzPjOx1CCCGa4qA38Cq05NsbVMg7rZaTDrhPARpPLvrUFSnS+fNRGDz4CN6+zetgtH69D8aNayKznbp/v8tUHyRCCCFE6VKigc1faMWx8yjojMwkgMdUoEYP1eemxbKzxZgz5xyWLbuK/KYaS0sD2Nub8JvY/6MCiRBCSPnx4Rlw/ee8DsZgQNJ/wOvzstt9sxhoOC7vtshcI/vslGVPniTA1/cQwsMLRqa3a+eMHTt6onJlzTi7QwUSIYQQ7cIYcHkGkPwyb3j9k70AWN5weib+8v7j3skfkUa+GmMMmzbdRmDgGWRk5M3xJBTqICioPQICPKGjozmFKBVIhBBCyr6k/4DXF4DkF3nzC8nzpeKo+VygJU0srCpZWbn43/8O4PjxSC5Wp441QkJ6o1Ej2Sth8I0KJEIIIZqPMSDlJZD9Ka8jNZMAn94CkX8An2JKfhzrBnkj07x+BRzb53WqtqoL6NK1PFVNJNKDqWnBvITjx3tg6VJvGBlp5nNPBRIhhBDNkp1a0Ar0/kFeQVSaa3+ZVgH6/p13mk1oBBjbKzdPorB163zw9Gki5s5tjW+/Vc6M26pCBRIhhBD1YizvSvAZCQAYcG4SkPUxr4+QOPP/46X0zSLAyA6o0ibvMh6EN/fvv0NMTCo6dy64yKyFhQFu3BhZ5PVTNQkVSIQQQtQj5RVwchDw9t/SH6NCHcC6HmBoCzi2yxtdVskLMLSiOYg0hETCsGrVdcyY8Q+MjYW4f3+c1Mi0slAcAVQgEUIIUTWJGLjyI3Az6MvbmlTK+//TW6BWP8B1VN4psoqegB5dV1PTxcSkYtiwowgNfQEgb66jxYsvY/36rjxnpjgqkAghhKhGxJ684fapr+WvN3MC6gzKu21RA3AZSEVQGXb06BOMHHkMiYkZXGzqVE8sWtSOx6xKjwokQgghysH+f+LFtBjgQPuit2u5EGg2iyZf1BJpadkICDiDzZvvcLGKFU2wc2cvdOhQjcfMvg4VSIQQQkrnUyxwbT6gZ5C3fGdV8dtbNwD6nAZMHFSfG1GLsLAY+PkdRmRkIhfr1csFmzd3g5WVEY+ZfT0qkAghhJRMSjQQeQB4cxl4/mfJ9/vfubxRZdRipFUyM3PRvftexMZ+AgAYGQmxenVn+Ps3KjMdsYtDBRIhhJCi3V4BXAhUfL/mPwIuvoCVi/JzIhrBwEAP69d3Ra9e+9GkiQNCQnqjZk0rvtNSGiqQCCGEALlZQPq7vFmmk57kDZk/P6Vk+zb/Eaj2/6OUTKvQKTQtlp0thr6+Lrfcs6cLjhzpj65da0Io1C1mz7KHCiRCCClvmAR4vAv4dzYgsgBSo/Nmr/6Sis3yOmG7TQCcOgDm1QAzR5WnS/iXnJyJiRNPISsrF/v395U6hdazp3a2ElKBRAgh5QmTAL999pf+p7cl22/gNcChuWpyIhrtypVoDBp0BC9ffgQAdO16D0OHuvGakzpQgUQIIdqMMSD2et7lOxgD/uwhfzsdISDJAar3ALKT8+YkEpoCppWBSt9QB+tyKCdHjAULLmHRosuQSBgAwMxMBAOD8lE6lI9HSQgh5UVOBvD3WCD+DpDw8MvbD7kH2LiqPi9Spjx7loRBgw7jxo2CFsaWLatg9+7eqFrVgr/E1IgKJEII0Qav/gYOdlRsn4nJgMjsy9uRcoMxhu3b7+K7704hLS0HAKCrK8BPP7XBjBnfQE+v/FzvjgokQggpyyRiYMUXvsotawJ6RkDtfnnLFjWAGr0AXaHq8yNlRmZmLgYPPoKDBx9zserVLRES0hvNmlXmMTN+UIFECCFlTU4aEH8XiLkGXJomf5sqbYEuu/KG3FP/IVICIpEucnLE3PKIEY2wcmVnmJjo85gVf6hAIoSQskCSC7z9F/jvAHBvfdHbDboN2DVWX15EawgEAgQHd8ezZ9sxf34b9OlTl++UeEUFEiGEaLqsFGCtefHb6JsBEz9SaxEpsSdPEvDu3Se0bl2Vi1lbG+H+/XHQ0aH3ERVIhBCiyRgrujhyGZg30aPH94BF2b1qOlEvxhg2bbqNwMAzMDUV4f79sbCzM+HWU3GUhwokQgjRRDlpQPg6+ReF/SYIqNUXsKyh/rxImRYfn4aRI4/h+PFIAEBGRi4WLLiEtWt9eM5M81CBRAghmkCSC4SvAdLeAWDArSXytwvIAXToq5so7tSppxg+/E+8e5fGxSZMaIIlSxScHqKcoE8ZIYTwKT0eeBCcd120Lxn+HxVHRGEZGTn44Ye/sWbNTS5ma2uMrVu7o2vXWjxmptnok0YIIaokzsm7/lm+qL+AY30APQMgN/PL+xvbA95bgCptAKGRytIk2unevTj4+R3Go0fvuZiPT01s3dpdqt8RkUUFEiGEfC3GgEc7gP/2S8dfni56n+KKo34X8v43rUKdr0mpZWTkwNt7N+Lj806pGRjoYdmyjhg/vgkENNrxi6hAIoSQ0mAMSHkJZKcCOxuW7hhWdfMuEpv4GHAbD9QdQnMYEaUxNBRixYpO8PM7jIYN7bBnTx/UrWvDd1plBhVIhBCiiLQ44NFO4PIPiu1XufVnx4gFOm7KO21GiBKJxRLo6hZcL83XtwEYY+jbty5EIvrJVwQ9W4QQUpz394GwZYDQtPgZrPONeAYYVChY1jUAhIaqy48QAGlp2QgIOIOcHAm2beshtc7Pz5WnrMo2KpAIIaQoby4B+1t/ebu6Q4CKzYCG42gma6J2YWEx8PM7jMjIRACAj08N/O9/9XjOquyjAokQQj6XFgdcnQe8vgB8iCx6u/r+gMfUvH5EhPBALJZgyZIrmDv3AnJz80ZKGhkJkZUl/sKepCSoQCKElF9Mkjf6LDMpb6LGyzOK3rb5XKBGD8CkEmBsp74cCZEjOjoZgwcfwaVLr7iYh4cDQkJ6o1YtKx4z0x5UIBFCyqe0OGBjxZJt23Ez4DpStfkQUkL79j3E2LEnkJycBSDvrO6sWV6YN681hEJdnrPTHlQgEULKF0kuEHsD2PdN8dvV9wdazAdMHACBTvHbEqIGGRk5GDPmBHbtus/FHB3NsXt3L3h5OfGYmXaiAokQUj4wBlyanjciTZ5uB/L+t3Gji8ASjSQS6UldR83XtwHWrfOBhYUBj1lpLyqQCCHajTHgxQngaHf5641sgXHv1JsTIaWgoyPA9u094OW1DfPnt6Hh+ypGBRIhRHtlJAHri+iwamAFNJsFNJqo3pwIKaFnz5KQmJiOZs0qc7GKFU3x5MlE6OnRaV9VowKJEKJ94sKAkCZFrx/3Lq/liBANxBjD9u138d13p2BhYYD798ehQoWCyUapOFIPepYJIdrl9sqii6MB/wJTGRVHRGMlJWWgX7+D8Pc/hrS0HLx9m4r58y/wnVa5RC1IhJCyLTkKODEgb1LHrI/yt2k2G2gyHRCZqTU1QhRx/nwUBg8+grdvU7nYiBGNsGhRex6zKr+oQCKElF0ZSUBwtaLXd9oK1BtGl/8gGi07W4w5c85h2bKrYCwvZmlpgM2bu6FPH5qpnS9UIBFCyo7czLyLx570Az4+k7+NuTOQ+hrwCwNsG6o3P0IU9ORJAnx9DyE8PI6LtWvnjB07eqJyZWrx5BMVSIQQzfcpBthUqfhtdIRAQLZ68iFECdLTc9Cq1Ta8f58OABAKdRAU1B4BAZ7Q0aFWT75RJ21CiGa7/3vxxZFBBaDJD8DkDPXlRIgSGBkJsWhROwBAnTrWuHlzFKZObUHFkYagFiRCiGYLHSMbc+4C1OiVdzkQHbr2FCk7GGMQfNYnbuTIxmAMGDTIFUZGQh4zI4VRgUQI0Uxp74DQ0dIxj2lAq1+p0zUpczIycvDDD3+DMYY1a3y4uEAgwOjR7jxmRopCBRIhRPPE3QJCmsrGWy9Rfy6EfKV79+Lg53cYjx69BwB07lwDXbvW4jkr8iXUB4kQolk+PpdfHHU/rP5cCPkKEgnDihXX0LRpMFccGRjocZ2yiWajFiRCiOa4NAO49at0rPYAoNMWQGjET06ElEJMTCqGDTuK0NAXXKxhQzvs2dMHdeva8JgZKSkqkAghmuFwVyDqpHTMdQzQcSM/+RBSSkeORGDUqONITCwYWTl1qicWLWoHkYh+dssKeqUIIfy6txH4e5xsvNUSoMk09edDSCllZuZi0qRT2Lz5DhdzcDDFjh090aFDMTO+E41EBRIhhD93VgHnp8jGx72jC8qSMkco1MGTJwnccq9eLti8uRusrOj0cFlEBRIhRP0yPwLrLOWvGxVNxREpk3R1dbBrVy+0bLkV8+e3gb9/I6k5j0jZQgUSIUS9JGL5xdHQh4B1PfXnQ0gpvXr1ER8+ZMLNzZ6LOTlZ4PnzSdTXSAvQMH9CiPo82gGskPPD0f8SFUekTNm79wEaNtyI3r33IyUlS2odFUfagV5FQojqvLkEPNgCZCUDz/+Uv81Upt6cCPkKycmZmDjxFHbvvv//y1mYP/8Cli/vxHNmRNl4b0Fav349nJ2dYWBgAHd3d1y+fLnY7UNCQtCwYUMYGRmhYsWKGD58OBITE9WULSGkRBIfA+usgf2tgcc7qTgiWuHKlWi4uW3iiiMA8PVtgLlzW/OYFVEVXguk/fv3Y8qUKZg9ezbCw8Ph5eWFLl26IDo6Wu72//77L4YMGYIRI0bg0aNHOHDgAG7duoWRI0eqOXNCSJEyEoHt9YDMYv5wGXSbiiNSZuTkiDF37nm0arUdL19+BACYmYmwe3cvhIT0hrm5Ab8JEpUQMMZ4+5Zq1qwZGjdujA0bNnCxOnXqoGfPnggKCpLZftmyZdiwYQOeP3/OxdasWYMlS5bg9evXJbrPlJQUmJubIzk5GWZmZl//IAgp71LfAKcGA+/uACaVgKQI2W16HAVsXAFjB0BPpPYUCSmt58+T4Od3GDduvOVi33zjiF27eqFqVQv+EiuH1P37zVsLUnZ2Nm7fvg1vb2+puLe3N65evSp3nxYtWuDNmzc4efIkGGN49+4dDh48iK5duxZ5P1lZWUhJSZH6RwhRkkc7gN+rAK8vANkpssWRgWVeS1GNHoC5MxVHpExJS8tG8+ZbuOJIV1eAhQvb4sKFoVQclQO8FUgJCQkQi8Wws7OTitvZ2SEuLk7uPi1atEBISAj69+8PfX192Nvbw8LCAmvWrCnyfoKCgmBubs79q1KlilIfByHl0qu/gVWGwOlhsuuEJnn/N54MTEhSa1qEKJOxsT7mzPECAFSvbomrV0dg9uxW0NXlvfsuUQPeR7EVnkSLMVbkxFqPHz/GpEmTMHfuXHTq1AmxsbGYNm0axo4diy1btsjdZ+bMmQgMDOSWU1JSqEgipLTiwoCQJvLXObYH+pwGdHj/WiGk1Ar/Bn33XTNIJAyjRrnDxESfx8yIuvH2TWZtbQ1dXV2Z1qL4+HiZVqV8QUFBaNmyJaZNy7s+k6urK4yNjeHl5YWFCxeiYsWKMvuIRCKIRNSsT0ipScTAk715/YyK4ncTsC+icCKkDMjOFmPOnHPQ0RHgl186cHEdHQECAjx5zIzwhbcCSV9fH+7u7ggNDUWvXr24eGhoKHr06CF3n/T0dOjpSaesq6sLIK/qJ4Qo2cPtwJnhRa/v+zdQuRWgK1RbSoQoW0TEe/j5HUZ4eBwEAqBTp+po29aZ77QIz3g9kRoYGIjg4GBs3boVERERCAgIQHR0NMaOHQsg7/TYkCFDuO27deuGw4cPY8OGDXjx4gWuXLmCSZMmoWnTpnBwcODrYRCinT4+L7o4+vaPvM7XTu2pOCJlFmMMGzbcgrv77wgPzzuboaeng+fPP/CcGdEEvHYW6N+/PxITE/Hzzz8jNjYW9evXx8mTJ+Hk5AQAiI2NlZoTadiwYUhNTcXatWsxdepUWFhYoF27dvj111/5egiEaBfGgKhTwBE5I0Ot6gHdDgBWddSfFyFKFh+fhhEjjuHEiUguVqeONfbs6SN1bTVSfvE6DxIfaB4kQorxuxOQKmei1m8WAc1mqT8fQlTg1KmnGDbsT8THp3Gx8eM9sHSpN4yMqEVUU6n795uGmxBCChQujgxtAO9goEZ3fvIhRIkyM3MxfXoo1qy5ycVsbIywdWsPfPttLR4zI5qICiRCCBB/F9jVSDo28Brg0JyXdAhRBV1dAa5ff8Mt+/jUxNat3WFnZ8JjVkRT0WxXhJR3T4/KFkcAFUdE6wiFuggJ6Q1rayOsXdsFJ04MpOKIFIlakAgpj94/AJKjgHe3ges/y64f+UL9ORGiZDExqUhOzkSdOjZcrGZNK7x8ORnGxjTpIykeFUiElDdP9gF/DZS/rvMOoO5goIjZ7AkpK44cicCoUcdha2uMsLDRUp2vqTgiJUGn2AgpTzI/Fl0ctV8H1BtCxREp09LSsjF69HH07v0HEhMzEBGRgJ9/vsh3WqQMohYkQsoDJgGO9wOeHpKOu00AjOyA2v2ACrX5yY0QJQkLi4Gf32FERiZysV69XDBtWgsesyJlFRVIhGiz5JdAcDGXTGi/Vm2pEKIqYrEES5Zcwdy5F5CbKwEAGBkJsXp1Z/j7NyryAuiEFIcKJEK01dlRwINg+eua/wi0lNM5m5AyJjo6GYMHH8GlS6+4WJMmDggJ6Y2aNa14zIyUdVQgEaJtQscC9zcVvX5KNl0/jWiF1NQseHj8jvfv0wHkdZ+bNcsL8+a1hlCoy3N2pKyjTtqEaIv0BODEQPnFUcdNeReXncqoOCJaw9RUhClT8ubrcnQ0x8WLw7BwYTsqjohSUAsSIWXVy7PAsT5ABZe8P53jbsluU9ET6H4IMKmo/vwIUYMffmgJiYRh4sSmsLAw4DsdokXoYrWElEUrhIAkt/htfK8DFZupJx9CVCw3V4IFCy5CT08HP/7Ymu90CA/oYrWEkOKttZBfHAl0AMYAp45A778AHfp4E+3w/HkS/PwO48aNt9DREaBDh2rw9KzCd1pEy9E3KCFlRU4GsNoYQKFG3yH3ABtXXlIiRJUYY9ix4x6+++4UPn3KBpB3NvnevXdUIBGVowKJkLLg2THgzx6y8QkfAAMLtadDiKolJWVgzJgTOHjwMRerXt0SISG90axZZR4zI+UFFUiEaLrUt/KLo6EPqDgiWun8+SgMHnwEb9+mcrERIxph5crOMDGh66gR9aACiRBNlpUC/F7or2UDS2B8Il0zjWid7GwxfvzxHJYuvYr84UOWlgbYvLkb+vSpy29ypNyhAokQTZWTBqw1l461Wws0msBPPoSomETCcOrUM644atfOGTt29ETlyjTimKgfTRRJiCZJfQP8dwBYYw6sNpFe59CSiiOi1QwM9LBnTx+YmYmwbFlHhIYOpuKI8IZakAjRFNHngAPti14/8F/15UKIGsTHpyE1NQvVq1fgYvXr2+LVqyk06SPhHbUgEcKnnLS8EWrLBUUXR24T8y4RQogWOXXqKRo02IC+fQ8gK0t6Xi8qjogmoBYkQvgSfw/Y3wrITpFdV6sv4NQJqDsI0KMfC6I9MjJy8MMPf2PNmpsA8lqRFi26jJ9/bstzZoRIowKJEL48Pya/OGq3Bmg0Uf35EKJi9+7Fwc/vMB49es/FfHxqYsKEJjxmRYh8VCARwoeoU8DVuQXLJg5Al12AYzv+ciJERSQShlWrrmPGjH+QnS0GkNche9myjhg/vgkENGUF0UBUIBGibvJmxe5+mC4sS7RSTEwqhg49ir//fsHFGja0w549fVC3rg2PmRFSPCqQCFGnq/OBaz9Jx2r1A+yb8pIOIaqUnJwJN7eNeP8+nYtNneqJRYvaQSSinx+i2egdSoiq5aQBl34A7q6TXdf7FODcWf05EaIG5uYGGD3aHYsWXYaDgyl27OiJDh2q8Z0WISVCBRIhqvApBngQDNxZCWR+kL8NFUekHJg3rzUkEoapUz1hZWXEdzqElFipCqTc3FxcuHABz58/h6+vL0xNTRETEwMzMzOYmJh8+QCEaLsj3wLx4UWvH/cOMLJVXz6EqJhYLMGSJVdgYKCHgABPLi4U6mLx4mImQCVEQylcIL169QqdO3dGdHQ0srKy0LFjR5iammLJkiXIzMzExo0bVZEnIWXDy7PAoU7y19XuD7T5LW/EGiFaJDo6GYMHH8GlS68gFOqgTZuqaNSoIt9pEfJVFJ5Je/LkyfDw8MCHDx9gaGjIxXv16oV//vlHqckRUiYwBrw4CRzpJr84GnIPCJQA3+6j4ohonX37HsLVdQMuXXoFAMjNleDq1dc8Z0XI11O4Benff//FlStXoK+vLxV3cnLC27dvlZYYIWXCv7OBG4uLXj/6DWBaSX35EKImKSlZmDjxJHbtus/FHB3NsXt3L3h5OfGYGSHKoXCBJJFIIBaLZeJv3ryBqampUpIiRONlfgDWVSh6ff/LQOVv1JcPIWp05Uo0Bg06gpcvP3IxX98GWLfOh66jRrSGwqfYOnbsiJUrV3LLAoEAnz59wrx58+Dj46PM3AjRTPd/L7o46roPmPCBiiOilXJyxJg79zxatdrOFUdmZiLs3t0LISG9qTgiWkXhFqQVK1agbdu2qFu3LjIzM+Hr64unT5/C2toae/fuVUWOhGiGt1eAfUUUPhM/AiJztaZDiLplZ4uxf/8jSCQMAPDNN47YtasXqla14DcxQlRAwBhjiu6UkZGBffv24fbt25BIJGjcuDH8/PykOm1rqpSUFJibmyM5ORlmZmZ8p0M0XcJDIPpcXqtR4iPZ9c3nAC0XqD8vQngSFhaDVq22YfZsL8yY8Q10dRU+EUFIqaj791vhAunSpUto0aIF9PSkG59yc3Nx9epVtGrVSqkJKhsVSKREPj4HttQofpthEYCVi3ryIYQHSUkZSEvLRpUq0q2j8fFpsLU15ikrUl6p+/db4dK/bdu2SEpKkoknJyejbdu2SkmKEF7dXll8cdTjKDCVUXFEtNr581Fwdd2Afv0OIjdXIrWOiiNSHijcB4kxBoFAIBNPTEyEsTF9aEgZ9ikW2FTEPEXN5wJ2jQFnH0BXqN68CFGj7Gwx5sw5h2XLroIx4O3bVPz667+YPVuzzw4QomwlLpB69+4NIG/U2rBhwyASibh1YrEY9+/fR4sWLZSfISGq9CkGODsSiDolf32zWcA3i9SbEyE8iYh4Dz+/wwgPj+Ni7do5Y+hQN/6SIoQnJS6QzM3zzkEzxmBqairVIVtfXx/NmzfHqFGjlJ8hIcr04Snw7xwg6yPw6mzx2454DljQlceJ9mOMYdOm2wgMPIOMjFwAgFCog8WL2yMw0BM6OrJnDQjRdiUukLZt2wYAqFq1Kr7//ns6nUbKlld/Ayf6A5my/eekiMyBbxYDbuPVkxchPIuPT8PIkcdw/HgkF6tTxxohIb3pemqkXCvVMP+yjEaxlUMXvgduLy9+m5YLgIbjAcNiZscmRMt8/JiJOnXWIS7uExcbP94DS5d6w8iI+toRzaLu32+FO2kDwMGDB/HHH38gOjoa2dnZUuvu3LmjlMQIUYrVpkDOJ9l49R5Al52AjhAQav78XYSogoWFAQYMqIeVK2/AxsYIW7f2wLff1uI7LUI0gsLD/FevXo3hw4fD1tYW4eHhaNq0KaysrPDixQt06dJFFTkSUjpvr8oWR73+yhui3/MoIDKj4oiUe0FBHTBpUlM8eDCOiiNCPqPwKTYXFxfMmzcPAwcOhKmpKe7du4dq1aph7ty5SEpKwtq1a1WVq1LQKbZyIjkKCC7UwXr0G8C0Ej/5EMIziYRh1arrMDbWx+jR7nynQ4jCNH6iyOjoaG44v6GhIVJTUwEAgwcPpmuxEc2Q/Um2OOr1FxVHpNyKiUlF5867ERh4FpMnn0ZExHu+UyJE4ylcINnb2yMxMREA4OTkhOvXrwMAoqKiUM76exNNwxjwuxOwxlQ63nQGUM2Hn5wI4dmRIxFwdd2A0NAXAIDMzFzuNiGkaAp30m7Xrh2OHz+Oxo0bY8SIEQgICMDBgwcRFhbGTSZJCC8OdgRSo2Xj3yxWfy6E8CwtLRsBAWeweXPBwBkHB1Ps2NETHTrQ/F6EfInCfZAkEgkkEgl3sdo//vgD//77L2rUqIGxY8dCX19fJYkqC/VB0mLLC01m13gK0HYFL6kQwqewsBj4+R1GZGQiF+vVywWbN3eDlZURj5kRUnrq/v1W6jxIb9++RaVKmt3PgwokLZWbCaz6bERaoBgQKHwGmZAyTSyWYMmSK5g79wJ3gVkjIyFWr+4Mf/9Gcq+jSUhZofGdtOWJi4vDd999hxo1irkCOiGqkJEIrLWULo4AKo5IuZSWloNNm25zxVGTJg64e3cMRoxoTMURIQoq8a/Ix48f4efnBxsbGzg4OGD16tWQSCSYO3cuqlWrhuvXr2Pr1q2qzJUQafc2Aeut866r9jln6pBNyiczMxF27eoFoVAHs2d74coVf9SsacV3WoSUSSXupD1r1ixcunQJQ4cOxenTpxEQEIDTp08jMzMTp06dQuvWrVWZJyEFctKB1UVcC7BqZ6DHUbWmQwhfUlKykJ6eA3t7Ey7m5eWE588noUoVcx4zI6TsK3GB9Ndff2Hbtm3o0KEDxo8fjxo1aqBWrVpYuXKlCtMj5DPvbgOHugAZcuZwcfEFfHbRqTVSbly5Eo1Bg47A2dkCf/89BDo6BafQqDgi5OuV+NckJiYGdevWBQBUq1YNBgYGGDlypMoSI0TK8X7Abg/5xdGYGKBrCBVHpFzIyRFj7tzzaNVqO16+/Ijz519ixYprfKdFiNYpcQuSRCKBUFhwdWddXV0YGxdxmoMQZWEM+KMt8Oai7Lp6Q4HO29WeEiF8efYsCYMGHcaNG2+52DffOKJPn7o8ZkWIdipxgcQYw7BhwyASiQAAmZmZGDt2rEyRdPjwYeVmSMq3qz/JFkfdDgI1ewM0KoeUE4wxbN9+F999dwppaTkAAF1dAebPb4MZM76Bri61nhKibCX+VA0dOhS2trYwNzeHubk5Bg0aBAcHB245/5+i1q9fD2dnZxgYGMDd3R2XL18udvusrCzMnj0bTk5OEIlEqF69Oo2e0zZvLgO7m+RdNuT6z9Lrxr0DavWh4oiUG0lJGejX7yD8/Y9xxVH16pa4enUEZs9uRcURISpS4hakbdu2Kf3O9+/fjylTpmD9+vVo2bIlNm3ahC5duuDx48dwdHSUu0+/fv3w7t07bNmyBTVq1EB8fDxyc3OVnhvhScRe4KSv/HXj3gNG1urNhxAeffiQgYYNN+LNmxQuNmJEI6xc2RkmJpp91QJCyjqlzqStqGbNmqFx48bYsGEDF6tTpw569uyJoKAgme1Pnz6NAQMG4MWLF6hQoUKp7pNm0tZgjAG/Ffpr2NAmr2N2p61A/eH85EUIj8aMOY7ff78DS0sDbN7cjfobkXKrTM6kXRrZ2dm4ffs2vL29peLe3t64evWq3H2OHTsGDw8PLFmyBJUqVUKtWrXw/fffIyMjQx0pE1Xb20J62XsLMD4emMqoOCLl1m+/dcKIEY1w//44Ko4IUaMSn2JTtoSEBIjFYtjZ2UnF7ezsEBcXJ3efFy9e4N9//4WBgQGOHDmChIQEjB8/HklJSUX2Q8rKykJWVha3nJKSInc7wrOEh0Ds9YJlk0pAA3/+8iFEzRhj2LTpNkxM9DFokCsXNzbWR3Bwdx4zI6R84q1Aylf4+kCMsSKvGSSRSCAQCBASEsJ1CP/tt9/Qt29frFu3DoaGhjL7BAUFYf78+cpPnHy9x7uA1xeBh1tk142MUn8+hPAkPj4NI0cew/HjkTAx0YenZ2VUr166bgSEEOXg7RSbtbU1dHV1ZVqL4uPjZVqV8lWsWBGVKlWSGi1Xp04dMMbw5s0bufvMnDkTycnJ3L/Xr18r70GQ0ru9Ajg1RH5x5PE9oCuUjROihU6degpX1w04fjwSAPDpUzZOnIjkOStCSKkKpF27dqFly5ZwcHDAq1evAAArV67En3/+WeJj6Ovrw93dHaGhoVLx0NBQtGjRQu4+LVu2RExMDD59+sTFIiMjoaOjg8qVK8vdRyQSwczMTOof4VnyS+BCoPx1PiFA66VqTYcQPmRk5GDSpFPw8dmDd+/SAAA2NkY4fnwgJk9uznN2hBCFC6QNGzYgMDAQPj4++PjxI8RiMQDAwsJC4euyBQYGIjg4GFu3bkVERAQCAgIQHR2NsWPHAshr/RkyZAi3va+vL6ysrDB8+HA8fvwYly5dwrRp0+Dv7y/39BrRQP8dAIKdpWM9jgITP+Z1xq5TxBB/QrTI/fvv0KTJZqxZc5OL+fjUxIMH4/Dtt7V4zIwQkk/hAmnNmjXYvHkzZs+eDV1dXS7u4eGBBw8eKHSs/v37Y+XKlfj555/h5uaGS5cu4eTJk3BycgIAxMbGIjo6mtvexMQEoaGh+PjxIzw8PODn54du3bph9erVij4Mom7pCcAud+BEP+l4kx+AGj0AEV1ck2g/iYRhxYpraNJkMx49yruuoIGBHtau7YITJwbCzs6E5wwJIfkUngfJ0NAQT548gZOTE0xNTXHv3j1Uq1YNT58+haurq8YPuad5kHjw7g6w2102TtdSI+XMhw8ZqFdvPWJj87oJuLraYc+e3qhXz5bnzAjRfBo/D5KzszPu3r0rEz916hTq1qU5Oogc8oqjPmepOCLljqWlIXbs6AkdHQGmTvXEzZsjqTgiREMpPMx/2rRpmDBhAjIzM8EYw82bN7F3714EBQUhODhYFTmSsoRJgAPtgdcXAF05l0JoPBlo8xsgoOtHEe2XlpaNzMxcWFkZcbGOHavjv/8mokYNGsZPiCZTuEAaPnw4cnNzMX36dKSnp8PX1xeVKlXCqlWrMGDAAFXkSMoKiRhY8dlbSpwtu03blWpLhxA+hYXFwM/vMGrUqIATJwZKze9GxREhmu+rrsWWkJAAiUQCW9uy00RMfZBU5M0lYH9r2bhlbUBoBIgsgBY/AZVbqTszQtRKLJZgyZIrmDv3AnJzJQCAdet8MH58E54zI6RsU/fvt8ItSPPnz8egQYNQvXp1WFvTldXJ/5NXHAWK6VQaKVeio5MxePARXLr0ios1aeKAjh2r8ZgVIaQ0FP71OnToEGrVqoXmzZtj7dq1eP/+vSryImVJ+Drp5YqeQEAOFUekXNm37yFcXTdwxZGOjgCzZ3vhyhV/1KxpxXN2hBBFKfwLdv/+fdy/fx/t2rXDb7/9hkqVKsHHxwd79uxBenq6KnIkmiw9Hjg3UTrmexXQ4f0yf4SoRUpKFoYMOYKBAw8hOTnvwtiOjua4cGEoFi5sB6FQ9wtHIIRooq/qgwQAV65cwZ49e3DgwAFkZmYiJSVFWbmpBPVBUhImAa4vAq7OlY6PiQFMKvKTEyFqlpiYjiZNNiMq6iMX8/VtgHXrfGBhYcBfYoRoIY2fB6kwY2NjGBoaQl9fHzk5OcrIiZQFEXtki6PaA6g4IuWKlZURWrZ0BACYmYmwe3cvhIT0puKIEC1QqvMgUVFR2LNnD0JCQhAZGYlWrVrhp59+wv/+9z9l50c0kUQMnBosHWs4Dmi/Tv72hGixtWu7QCyWYPHi9qha1YLvdAghSqJwgeTp6YmbN2+iQYMGGD58ODcPEikncjOBVYUuDOx7HajYjJ98CFETxhh27LgHMzMReveuw8XNzQ2wZ08fHjMjhKiCwgVS27ZtERwcjHr16qkiH6LpjhX6IdA3o+KIaL2kpAyMGXMCBw8+hoWFAZo0cUCVKnSBZUK0mcJ9kBYvXkzFUXmV9g6IOikd8/+Pn1wIUZPz56Pg6roBBw8+BgB8/JjJ3SaEaK8StSAFBgZiwYIFMDY2RmBgYLHb/vbbb0pJjGgYSS6w0V46Nj4RMKRLJhDtlJ0txpw557Bs2VXkj/W1tDTA5s3d0KcPXZibEG1XogIpPDycG6EWHh6u0oSIBvoUA2wq1M+s4XgqjojWevIkAb6+hxAeHsfF2rVzxo4dPVG5Mk0PQkh58NXzIJU1NA+SggpfgDZfoAT47OKbhGgDxhg2bbqNwMAzyMjIBQAIhToICmqPgABP6OjQe54Qvmj8PEj+/v5ITU2ViaelpcHf318pSRGexd8DDnoDywWyxZGOHhVHRGslJWXgxx/Pc8VRnTrWuHlzFKZObUHFESHljMIF0o4dO5CRkSETz8jIwM6dO5WSFOHRy1BglxvwKlT++oAcKo6I1rKyMkJwcDcAwPjxHggLGw03N/sv7EUI0UYlHuafkpICxhgYY0hNTYWBQcFMsWKxGCdPnoStra1KkiRq8uof4JC3/HV1BgEdNqg3H0JULCMjB9nZYpibF3yf9ejhgvv3x6JBAzseMyOE8K3EBZKFhQUEAgEEAgFq1aols14gEGD+/PlKTY6ogTgHuLMKuDRNdl3LhYB7ICA0lF1HSBl3//47+PoeQp06Nvjjj74QfNYySsURIaTEBdL58+fBGEO7du1w6NAhVKhQMIJJX18fTk5OcHBwUEmSREXi7+WdTitK89lqS4UQdZFIGFatuo4ZM/5BdrYYjx69x44d9zBsmBvfqRFCNEiJC6TWrVsDyLsOm6Ojo9RfW6QMEucUXRz1+BOo1lWt6RCiDjExqRg27ChCQ19wsYYN7dC0KV0uiRAirUQF0v3791G/fn3o6OggOTkZDx48KHJbV1dXpSVHVOjcd9LLRnZA/0tABdnTp4RogyNHIjBq1HEkJhYMMpk61ROLFrWDSFSq63YTQrRYib4V3NzcEBcXB1tbW7i5uUEgEEDe9EkCgQBisVjpSRIly/4E3N9UsGxSCRjzhr98CFGhtLRsBAScwebNd7iYg4MpduzoiQ4dqvGYGSFEk5WoQIqKioKNjQ13m5RhWcnAWgvp2KDbvKRCiKq9f5+Gb77ZhsjIRC7Wq5cLNm/uBisrIx4zI4RouhIVSE5OTnJvkzImJ022OLJvChjTiB2inaytjVCvng0iIxNhZCTE6tWd4e/fiPpQEkK+qFQTRf7111/c8vTp02FhYYEWLVrg1atXSk2OKJE4B1htIh3TEQJ+N/jJhxA1EAgE2Ly5G7p3r427d8dgxIjGVBwRQkpE4QJp8eLFMDTMmxfn2rVrWLt2LZYsWQJra2sEBAQoPUGiBDHXgZX60jFdERCQzU8+hKjIvn0PcerUU6mYlZUR/vxzAGrWtOIpK0JIWaTw0I3Xr1+jRo0aAICjR4+ib9++GD16NFq2bIk2bdooOz/ytTZVBj69lY1PTld/LoSoSEpKFiZOPIldu+7DxsYIDx6Mg52dyZd3JISQIijcgmRiYoLExLwOj2fPnkWHDh0AAAYGBnKv0UZ4dP932eLIvgnwXQogUPilJ0QjXbkSjYYNN2LXrvsAgPfv0xESUvRUJIQQUhIKtyB17NgRI0eORKNGjRAZGYmuXfMmFHz06BGqVq2q7PzI1wgdI73sHQw0GMFPLoQoWU6OGAsWXMKiRZchkeRNO2JmJsL69T7w86P52AghX0fhAmndunWYM2cOXr9+jUOHDsHKKu+8/u3btzFw4EClJ0hKKbVQy9HIF4C5Mz+5EKJkz54lYdCgw7hxo+B9/s03jti1qxeqVrXgLzFCiNYQMHkzPmqxlJQUmJubIzk5GWZmZnynozrXFwFX5hQsTy1XLzPRUowxbN9+F999dwppaTkAAF1dAebPb4MZM76Bri6dOiZEW6n797tU8+t//PgRW7ZsQUREBAQCAerUqYMRI0bA3Nxc2fmR0kqLK7hdbyh/eRCiRO/fpyMg4AxXHFWvbomQkN5o1qwyz5kRQrSNwn9uhYWFoXr16lixYgWSkpKQkJCAFStWoHr16rhz586XD0BUL/IgcHdtwbKLL3+5EKJEtrbG2LjxWwDAiBGNcPfuWCqOCCEqofApNi8vL9SoUQObN2+Gnl5eA1Rubi5GjhyJFy9e4NKlSypJVFm0/hQbkwC/6UrHxr0DjGz5yYeQr5CdLUZOjhjGxtLzeN28+RZNm1biKStCCB/U/ftdqhakH374gSuOAEBPTw/Tp09HWFiYUpMjpZD9SXrZO5iKI1ImPXmSAE/PLZgw4aTMOiqOCCGqpnCBZGZmhujoaJn469evYWpqqpSkyFeQ5BbcrtiMhvWTMocxho0bw9C48SbcuROLHTvu4Y8/HvGdFiGknFG4k3b//v0xYsQILFu2DC1atIBAIMC///6LadOm0TB/TbD+s8sp5NLEnaRsef8+DSNGHMPx45FcrE4da9SsWYHHrAgh5ZHCBdKyZcsgEAgwZMgQ5ObmtVYIhUKMGzcOv/zyi9ITJCWUkwEc7S4dc/bhJxdCSuH06WcYNuwo3r1L42Ljx3tg6VJvGBkJecyMEFIelXoepPT0dDx//hyMMdSoUQNGRkbKzk0ltLaT9nI5VygPFNMlRYjGy8jIwYwZf2P16ptczMbGCFu39sC339biMTNCiCbR2HmQ0tPTMW3aNBw9ehQ5OTno0KEDVq9eDWtra1XmR0ri9krZWP+LVBwRjRcfn4b27Xfi4cN4LubjUxNbt3ani80SQnhV4l/QefPmYfv27ejatSsGDBiA0NBQjBs3TpW5kZJIjAAuBEjHAsVA5Vb85EOIAqytjVCpUt7gDgMDPaxd2wUnTgyk4ogQwrsStyAdPnwYW7ZswYABAwAAgwYNQsuWLSEWi6Grq/uFvYnKbK8rvTzsEbUckTJDR0eAbdt6YMiQo1i1qjPq1rXhOyVCCAGgQAvS69ev4eXlxS03bdoUenp6iImJUUlipAQSCg19brsasKorf1tCNMDRo09w4cJLqVjFiqYIDR1MxREhRKOUuEASi8XQ15eezVZPT48byUZ4cHWe9HKjifzkQcgXpKVlY/To4+jVaz8GDTqMpCSagoIQotlKfIqNMYZhw4ZBJBJxsczMTIwdOxbGxsZc7PDhw8rNkMjKSgHWFrowsNcvgEDOSDZCeBYWFgM/v8OIjEwEALx9m4rt2+8iMNCT58wIIaRoJS6Qhg6VvSL8oEGDlJoMKYHcLNniCADqD1d/LoQUQyyWYMmSK5g79wJycyUAACMjIVav7gx//0Y8Z0cIIcUrcYG0bds2VeZBSuq/fbIx3+t0vTWiUaKjkzF48BFcuvSKi3l4OCAkpDdq1bIqZk9CCNEMCs+kTXiUkwbc/FU6NrVU83wSojL79j3E2LEnkJycBSDvzO+sWV6YN681hEIa8UoIKRuoQCormAT4vQqQ+aEg1uNP/vIhRI64uE8YOfIY0tJyAACOjubYvbsXvLyceM6MEEIUQxPmlBUv/pIujnSEgL0Hf/kQIoe9vQlWreoMABg4sD7u3RtLxREhpEyiFqSy4sqP0ssjngEmDvzkQsj/y8kRQyxmMDAo+Crx92+EatUs0batM4+ZEULI16EWpLLi/b2C2/87B5g58pcLIQCePUuCl9c2TJ16RiouEAioOCKElHmlKpB27dqFli1bwsHBAa9e5Y1SWblyJf78k/rEqERulvSyfRN+8iAEeXOibdsWDje3jbhx4y3Wrw/DiRORfKdFCCFKpXCBtGHDBgQGBsLHxwcfP36EWCwGAFhYWGDlypXKzo8AwKPt0sv6dCFPwo+kpAz063cQ/v4FHbGrV7eEra3xF/YkhJCyReECac2aNdi8eTNmz54tdZFaDw8PPHjwQKnJEQCMAX+PLViu2om/XEi5dv58FFxdN+DgwcdcbMSIRrh7dyyaNq3EY2aEEKJ8CnfSjoqKQqNGsrPgikQipKWlKSUp8pkHW6SXvX6Vvx0hKpKdLcacOeewbNlVsP+fdsvS0gCbN3dDnz50cWRCiHZSuEBydnbG3bt34eQkPXT31KlTqFuXviyVLnSU9LJtQ37yIOVSfHwaOnfejfDwOC7Wvr0zduzoiUqVzHjMjBBCVEvhAmnatGmYMGECMjMzwRjDzZs3sXfvXgQFBSE4OFgVOZZfEXuklwfd4ScPUm5ZWRnC1DTvAtVCoQ6CgtojIMATOjp0YWRCiHZTuA/S8OHDMW/ePEyfPh3p6enw9fXFxo0bsWrVKgwYMEDhBNavXw9nZ2cYGBjA3d0dly9fLtF+V65cgZ6eHtzc3BS+zzLjpJ/0sh1d4JOol66uDnbt6oUWLarg5s1RmDq1BRVHhJByQcAYK/XFvBISEiCRSGBrW7oLpe7fvx+DBw/G+vXr0bJlS2zatAnBwcF4/PgxHB2LnucnOTkZjRs3Ro0aNfDu3TvcvXu3xPeZkpICc3NzJCcnw8xMg08RvL4I/NGmYHnEM8CiOm/pkPLh1KmnsLQ0RPPmlaXijDEIBFQYEUL4o+7f76+aKNLa2rrUxREA/PbbbxgxYgRGjhyJOnXqYOXKlahSpQo2bNhQ7H5jxoyBr68vPD09S33fGu/FCellKo6ICmVk5GDSpFPw8dkDX99DSEmRnnuLiiNCSHlTqk7axX1ZvnjxokTHyc7Oxu3btzFjxgypuLe3N65evVrkftu2bcPz58+xe/duLFy48Iv3k5WVhaysgi/7lJSUEuXHG3E2sKsxkPioINZpK3/5EK13714c/PwO49Gj9wCAqKiP2LLlDgICtPgPEEII+QKFC6QpU6ZILefk5CA8PBynT5/GtGnTSnychIQEiMVi2NnZScXt7OwQFxcnd5+nT59ixowZuHz5MvT0SpZ6UFAQ5s+fX+K8eJWRBKy3ko1Xaav+XIjWk0gYVq26jhkz/kF2dt6ErwYGeli+3BvjxtGFkAkh5ZvCBdLkyZPlxtetW4ewsDCFEyjcGlVUXwexWAxfX1/Mnz8ftWrVKvHxZ86cicDAQG45JSUFVapUUThPlctOBQ7JmQSy9TLAvKra0yHaLSYmFcOGHUVoaEGLb8OGdtizpw/q1rXhMTNCCNEMChdIRenSpQtmzpyJbdu2lWh7a2tr6OrqyrQWxcfHy7QqAUBqairCwsIQHh6OiRMnAgAkEgkYY9DT08PZs2fRrl07mf1EIhFEIlEpHpEahf0GXJwqG5+UBgiN1J8P0WpHjkRg1KjjSEzM4GJTp3pi0aJ2EImU9pVACCFlmtK+DQ8ePIgKFSqUeHt9fX24u7sjNDQUvXr14uKhoaHo0aOHzPZmZmYylzJZv349zp07h4MHD8LZuQxfPfzuOtnYd6lUHBGli4lJxcCBh5CVlXdKzcHBFDt29ESHDtV4zowQQjSLwgVSo0aNpE6BMcYQFxeH9+/fY/369QodKzAwEIMHD4aHhwc8PT3x+++/Izo6GmPH5l17bObMmXj79i127twJHR0d1K9fX2p/W1tbGBgYyMTLlPT3QPJnHdurdQXaraUL0hKVcHAwxdKlHTFp0mn06uWCzZu7wcqKCnFCCClM4QKpZ8+eUss6OjqwsbFBmzZt4OLiotCx+vfvj8TERPz888+IjY1F/fr1cfLkSe4yJrGxsYiOjlY0xbIhJx24sQi4sVg63vM4QEOqiZKIxRJIJAxCYcGFpSdObIpq1Szh41OThu8TQkgRFJooMjc3FyEhIejUqRPs7e1VmZfKaMxEkcf7AZEHpGP1hgKdt/OSDtE+0dHJGDz4CJo1q4QlSzrynQ4hhHwVjZ4oUk9PD+PGjZOaV4iUUuHiqFY/wHsLP7kQrbNv30O4um7ApUuvsHTpVfzzT8nmJyOEEJJH4VNszZo1Q3h4OHcajChInA2sLDSqbtx7wMian3yIVklJycLEiSexa9d9LuboaA4DAxqdRgghilD4W3P8+PGYOnUq3rx5A3d3dxgbG0utd3V1VVpyWufjc2BLDdk4FUdECa5cicagQUfw8uVHLubr2wDr1vnAwsKAv8QIIaQMKnEfJH9/f6xcuRIWFhayBxEIuAkexWKxsnNUKl77IK0U5bUgfW5KNqArVG8eRKvk5IixYMElLFp0GRJJ3sfZzEyE9et94OdHf7AQQrSDun+/S1wg6erqIjY2FhkZGcVup+mn3ngrkBgDfvusy1fN3oBPCKBHf9mT0ouPT0P37ntx48ZbLvbNN47YtasXqla14C8xQghRMnX/fpf4FFt+HaXpBZDGOtZHernbQRrOT76apaUB8v/E0dUVYP78Npgx4xvo6io0/oIQQkghCn2L0pwpX+HZEellei6JEgiFuggJ6Q03N3tcvToCs2e3ouKIEEKUQKFO2rVq1fpikZSUlPRVCWmlwmcxA3L4yYOUeefPR8HS0hBubgXzkNWoUQF37oymP2AIIUSJFCqQ5s+fD3Nzc1Xlor3urJJe1qEh10Qx2dlizJlzDsuWXUXt2ta4fXs0jIwKOvdTcUQIIcql0C/1gAEDYGtrq6pctNeFAL4zIGXYkycJ8PU9hPDwOG558+bbmDy5Oc+ZEUKI9ipxZwX6C7WUnh6WXh7+Hz95kDKHMYaNG8PQuPEmrjgSCnWwbFlHfPddM56zI4QQ7abwKDaioMKj1yxr8pMHKVPi49MwcuQxHD8eycXq1LHGnj19pPofEUIIUY0SF0gSiUSVeWgvy5rAh6d5t/v+TaPXyBedOvUUw4f/iXfv0rjY+PEeWLrUW6rfESGEENWh3sKqxv6/sNQVAU7t+c2FaLw3b1LQo8c+5OTkvW9sbIywdWsPfPttLZ4zI4SQ8oUmTFGVpP+ANeZ5118DAKFx8dsTAqByZTP8/HNbAECXLjXw4ME4Ko4IIYQH1IKkKttcpJcLX4ONEAASCQNjTGpyx2nTWqB6dUv07VuXBkcQQghPqAVJFSRyLtjb44hsjJRrMTGp6Nx5NxYsuCQV19XVwf/+V4+KI0II4RG1IKlCdor08lQaAUikHTkSgVGjjiMxMQP//BMFb+/qaNGiCt9pEUII+X9UIKlCyquC204d+cuDaJy0tGwEBJzB5s13uJidnTFycuS0OhJCCOENFUiq8GBLwe3ECP7yIBolLCwGfn6HERmZyMV69XLB5s3dYGVlxGNmhBBCCqMCSRU+v9aa2zj+8iAaQSyWYMmSK5g79wJyc/OG7xsZCbF6dWf4+zeivkaEEKKBqEBShTsrC27bNeEtDcK/+Pg0/O9/B3DpUsFp1yZNHBAS0hs1a1rxmBkhhJDi0Cg2VbOqw3cGhEdmZiJ8/JgJIG8S9dmzvXDlij8VR4QQouGoQFK2pEjpZdPK/ORBNIKBgR727OmN2rWtcPHiMCxc2A5CoS7faRFCCPkCOsWmTIwB22oXLOub8ZcL4cWVK9GwtDRE3bo2XKxePVs8ejReajJIQgghmo2+sZUl8wPwW6Gn0yuIn1yI2uXkiDF37nm0arUdvr6HkJWVK7WeiiNCCClb6FtbGRgD1lWQjdf3V38uRO2eP0+Cl9c2LFhwCRIJw7177/D777f5TosQQshXoFNsylC45QgAxrwF9AzUnwtRG8YYduy4h+++O4VPn/KutaerK8D8+W0wfjyNXiSEkLKMCqSvdX6KbIwuLaL1kpIyMGbMCRw8+JiLVa9uiT17+qBp00o8ZkYIIUQZqED6GowBd1ZJxyZn8JMLUZtz56IwZMgRvH2bysVGjGiElSs7w8REn8fMCCGEKAsVSF/j6jzp5fGJdFpNy0VHJ6NTp93cjNiWlgbYvLkb+vSpy3NmhBBClIk6aX+N//YV3NYzBAzldNQmWsXR0RwzZ34DAGjXzhn374+j4ogQQrQQtSCVVvYn4MPTguWhD/jLhagMYwyMATo6BddL+/HHVqhe3RKDBzeUihNCCNEe1IJUWhenSi8b0KUjtE18fBp69NiH5cuvSsWFQl0MHepGxREhhGgxakEqrYdbC24b2gAGFrylQpTv1KmnGD78T7x7l4bTp5+hfftqaNy4It9pEUIIURMqkEpL8tlMyWNj+MuDKFVGRg5++OFvrFlzk4tZWBjgwwcanUgIIeUJFUil8Sm24LaeAaBDT6M2uHcvDn5+h/Ho0Xsu1qVLDWzb1gN2diY8ZkYIIUTd6Je9NBIfFdzOzeQvD6IUEgnDqlXXMWPGP8jOFgMADAz0sHRpR0yY0AQCAfU1IoSQ8oYKpNKIu1Vw2z2QvzzIV3v/Pg2+vofx998vuJirqx327OmNevVsecyMEEIIn2gUW2n8O6vgtiSHvzzIVzMyEiI6OplbnjrVEzdvjqTiiBBCyjkqkBSV9k56udb/+MmDKIWxsT727OmNqlUtEBo6GMuWeUMkooZVQggp7+iXQBGZH4GN9tKxSt/wkgopnbCwGFhaGqB69YJZz93dHRAZORFCoS6PmRFCCNEk1IKkiEvTpJebzQKoA2+ZIBZLEBR0GZ6eW+Dndxg5OWKp9VQcEUII+RwVSIp4ECy97D5V/nZEo0RHJ6Ndu52YNesccnMluHHjLYKD7/CdFiGEEA1Gp9hKKv6u9PKkdEBoyEsqpOT27XuIsWNPIDk5C0Beg9+sWV4YObIxz5kRQgjRZFQgldSuRtLLVBxptJSULEyceBK7dt3nYo6O5ti9uxe8vJx4zIwQQkhZQAVSaXQ7yHcGpBhXr77GoEGHERX1kYv5+jbAunU+sLAw4C8xQgghZQYVSCWR8FB6uVYffvIgX/Ty5Ue0br0dubkSAICZmQjr1/vAz8+V58wIIYSUJdRJuySO9uA7A1JCVata4LvvmgIAWrasgnv3xlJxRAghRGHUglQSyQWXoUDn7bylQWQxxgBA6nppixe3R40aFTB6tDv09OhvAEIIIYqjX48vkUjPl4NaffnJg8hISspAv34HsX79Lam4gYEexo9vQsURIYSQUqMWpC+JPie9LDTmJw8i5fz5KAwefARv36bixIlItGlTla6fRgghRGnoT+ziSMTAIe+CZcva/OVCAADZ2WJMnx6K9u134u3bVACAoaEed5sQQghRBmpBKs7xQheibb2UnzwIACAi4j38/A4jPDyOi7Vr54wdO3qicmUzHjMjhBCibahAKs6zI9LLzl34yaOcY4xh48YwTJ16FhkZuQAAoVAHQUHtERDgCR0duh4eIYQQ5aICqShRp6SXA3IAHXq61C0xMR3Dhv2JEyciuVidOtYICemNRo0q8pgZIYQQbUZ9kIpy2Kfgtr4ZFUc80dPTwYMH77jl8eM9EBY2moojQgghKkUFkjxvLksv+4TwkweBubkBdu/ujYoVTXD8+ECsW9cVRkZCvtMihBCi5ahZRJ43l6SXq3XlJ49y6N69OFSoYIgqVcy52DffOOLFi8kwMKC3KyGEEPXgvQVp/fr1cHZ2hoGBAdzd3XH58uUitz18+DA6duwIGxsbmJmZwdPTE2fOnFF+Uk/2FNzuuBkQUCdgVZNIGFasuIamTYMxePARiMUSqfVUHBFCCFEnXguk/fv3Y8qUKZg9ezbCw8Ph5eWFLl26IDo6Wu72ly5dQseOHXHy5Encvn0bbdu2Rbdu3RAeHq68pN7fBxIfFyxXqKW8YxO5YmJS0bnzbgQGnkV2thgXL77C1q1KfE0JIYQQBQlY/sWseNCsWTM0btwYGzZs4GJ16tRBz549ERQUVKJj1KtXD/3798fcuXNLtH1KSgrMzc2RnJwMMzM5c+f87gikvi5YnpIN6FKfF1U5ciQCo0YdR2JiBhebOtUTixa1g0hErUaEEELyfPH3W8l4+wXKzs7G7du3MWPGDKm4t7c3rl69WqJjSCQSpKamokKFCkVuk5WVhaysLG45JSWl+IN+Xhx5/kTFkYqkpWUjIOAMNm++w8UcHEyxY0dPdOhQjcfMCCGEEB5PsSUkJEAsFsPOzk4qbmdnh7i4uCL2krZ8+XKkpaWhX79+RW4TFBQEc3Nz7l+VKlWKSeqh9HKLeSXKgygmLCwGjRv/LlUc9e5dB/fvj6XiiBBCiEbgvZO2oFAHaMaYTEyevXv34qeffsL+/ftha1v0RUpnzpyJ5ORk7t/r16+L3BZPD5c4b1I6L158gKfnFkRGJgIAjI2F2LKlOw4e/B+srIx4zo4QQgjJw1uBZG1tDV1dXZnWovj4eJlWpcL279+PESNG4I8//kCHDh2K3VYkEsHMzEzqX5E+vS243XrZFx8DUVy1apYYMaIRAKBJEweEh4+Bv3+jEhXFhBBCiLrwViDp6+vD3d0doaGhUvHQ0FC0aNGiyP327t2LYcOGYc+ePejaVcnzE93/veC2qaNyj004y5d7Y9myjrhyxR81a1rxnQ4hhBAig9dTbIGBgQgODsbWrVsRERGBgIAAREdHY+zYsQDyTo8NGTKE237v3r0YMmQIli9fjubNmyMuLg5xcXFITk7++mQSI6SXnYpvmSJflpKShSFDjmDbNukh+8bG+pg6tQWEQl2eMiOEEEKKx+s46v79+yMxMRE///wzYmNjUb9+fZw8eRJOTk4AgNjYWKk5kTZt2oTc3FxMmDABEyZM4OJDhw7F9u3bvy6Z+ELz7hhYft3xyrmrV19j0KDDiIr6iCNHnsDLywk1ahQ92pAQQgjRJLzOg8SHIudReLIf+GtA3u0mPwCtfuEnwTIuN1eCBQsuYuHCy5BI8t5aZmYi7N/fF5071+A5O0IIIWVVuZkHSeO8OFFw29ievzzKsOfPk+Dndxg3bhR0dv/mG0fs2tULVata8JcYIYQQoiAqkPJF7P5soVw1qn01xhh27LiH7747hU+fsgEAuroCzJ/fBjNmfANdXd5nkyCEEEIUQgUSAKQnSC/XG8ZLGmXRhw8ZGD36BA4eLLh+XfXqltizpw+aNq3EY2aEEEJI6VGBBAB/9pBepg7aJSaRMFy9WjD55ogRjbByZWeYmOjzmBUhhBDydejcBwDEfHbtt8aT+cujDLKyMsKOHT1hZWWIgwf/h+Dg7lQcEUIIKfOoBanw6bVvgvjJo4yIiHiPChUMYWdnwsU6dKiGqKjJMDUV8ZgZIYQQojzUgvR56xEACA35yUPDMcawcWMY3N1/x/Dhf6Lw7BBUHBFCCNEmVCA92VNw25Fmz5YnPj4NPXrsw7hxfyEjIxenTj3Djh33+E6LEEIIURk6xfbf/oLbju34y0NDnT79DMOGHcW7d2lcbPx4D/TrV4/HrAghhBDVKt8FUk6a9LLrGH7y0EAZGTmYMeNvrF59k4vZ2Bhh69Ye+PbbWjxmRgghhKhe+S6Q7q6XXjaka4UBwIMH7+DrexgPH8ZzMR+fmti6tbtU52xCCCFEW5XvAunD04Lbtfryl4cGefYsCR4em5GdLQYAGBjoYdmyjhg/vgkEAgHP2RFCCCHqUb47aT/YXHC7Rm/+8tAgNWpUQP/+ef2LGja0w+3bozFhQlMqjgghhJQr5bcFKf299LJzF37y0EBr1/qgZs0KmD69JUSi8vsWIYQQUn6V3xakN5eklw0seEmDT2lp2Rg9+jj2738oFTczE+HHH1tTcUQIIaTcKr+/gCkvC267B/KWBl/CwmLg53cYkZGJOHDgMVq0qIIqVcz5TosQQgjRCOW3BSn5VcFtkQVvaaibWCxBUNBleHpuQWRkIgAgO1uM+/ff8ZwZIYQQojnKbwuS/mfD1e2b8JeHGkVHJ2Pw4CO4dKmgOGzSxAEhIb1Rs6YVj5kRQgghmqX8Fkhxtwpu65vxl4ea7Nv3EGPHnkBychYAQCAAZs3ywrx5rSEU6vKcHSGEEKJZym+BlPyi4Lae9l6gNiUlCxMnnsSuXfe5mKOjOXbv7gUvLyceMyOEEEI0V/ktkDISAIP/v23jymsqqpSenoNTp55xywMH1sf69V1hYWFQzF6EEEJI+VZ+O2l/TqC9T4O9vQm2bOkOMzMRdu/uhT17+lBxRAghhHxB+W1ByufcJa9DjpZ49iwJlpYGsLIy4mLdu9dGVNRkVKigvacSCSGEEGXS3qaTkrKoyXcGSsEYw7Zt4XBz24gxY06AMSa1noojQgghpOSoQMr6wHcGXy0pKQP9+h2Ev/8xpKXl4NChCOzd+/DLOxJCCCFELjrF5uzDdwZf5fz5KAwefARv36ZysREjGqF799o8ZkUIIYSUbVQglVHZ2WLMmXMOy5ZdRf7ZNEtLA2ze3A19+tTlNzlCCCGkjKMCqQx68iQBvr6HEB4ex8XatXPGjh09Ubmy9k96SQghhKgaFUhMzHcGCvnvvwQ0brwJGRm5AAChUAdBQe0REOAJHR3tGY1HCCGE8Ik6adu48Z2BQmrVskKXLnkj7+rUscbNm6MwdWoLKo4IIYQQJaIWpM8vWlsGCAQC/P77t6hVqwJ+/LE1jIyEfKdECCGEaB0qkDRYRkYOfvjhb3TsWA3duhWMSrOyMkJQUAceMyOkfGGMITc3F2Jx2TolT0hZIxQKoaurGRdQpwJJQ927Fwc/v8N49Og99u59iAcPxsHevmy1dhGiDbKzsxEbG4v09HS+UyFE6wkEAlSuXBkmJvz/3lGBpG/OdwZSJBKGVauuY8aMf5CdnffX6qdP2QgLi8G339biOTtCyheJRIKoqCjo6urCwcEB+vr6EGjRpYkI0SSMMbx//x5v3rxBzZo1eW9JogLJwILvDDgxMakYNuwoQkNfcLGGDe2wZ08f1K1rw2NmhJRP2dnZkEgkqFKlCoyMjL68AyHkq9jY2ODly5fIycmhAolXNXrxnQHnyJEIjBp1HImJGVxs6lRPLFrUDiJR+X6ZCOGbjg4N+CVEHTSphZZ+eXn26VM2AgJOIzg4nIs5OJhix46e6NChGo+ZEUIIIeVX+S6Q0uK+vI2KffiQgQMHHnPLvXq5YPPmbrCyouZ8QgghhC/lu93YzInvDFClijk2bfoWxsZCBAd3w6FD/ag4IoQQniQmJsLW1hYvX77kOxWts3btWnTv3p3vNEqsfBdI9Yep/S6jo5ORkpIlFevfvz6ePZuEESMaa9T5V0JI2TRs2DAIBAIIBALo6enB0dER48aNw4cPH2S2vXr1Knx8fGBpaQkDAwM0aNAAy5cvlzvn0/nz5+Hj4wMrKysYGRmhbt26mDp1Kt6+fauOh6UWQUFB6NatG6pWrcp3Kipz8eJFuLu7w8DAANWqVcPGjRuL3X779u3c+6nwv/j4eG67M2fOoHnz5jA1NYWNjQ369OmDqKgobv2oUaNw69Yt/Pvvvyp7bMpUvgskPWO13t2+fQ/h6roB3313SmYdzXFECFGmzp07IzY2Fi9fvkRwcDCOHz+O8ePHS21z5MgRtG7dGpUrV8b58+fx5MkTTJ48GYsWLcKAAQPAGOO23bRpEzp06AB7e3scOnQIjx8/xsaNG5GcnIzly5er7XFlZ2er7NgZGRnYsmULRo4c+VXHUWWOXysqKgo+Pj7w8vJCeHg4Zs2ahUmTJuHQoUNF7tO/f3/ExsZK/evUqRNat24NW1tbAMCLFy/Qo0cPtGvXDnfv3sWZM2eQkJCA3r17c8cRiUTw9fXFmjVrVP44lYKVM8nJyQwAS14Ixl5fVtN9ZrLBgw8z4Cfu38GDj9Ry34SQ0svIyGCPHz9mGRkZfKeikKFDh7IePXpIxQIDA1mFChW45U+fPjErKyvWu3dvmf2PHTvGALB9+/Yxxhh7/fo109fXZ1OmTJF7fx8+fCgylw8fPrBRo0YxW1tbJhKJWL169djx48cZY4zNmzePNWzYUGr7FStWMCcnJ5nHsnjxYlaxYkXm5OTEZsyYwZo1ayZzXw0aNGBz587llrdu3cpcXFyYSCRitWvXZuvWrSsyT8YYO3ToELO2tpaK5ebmMn9/f1a1alVmYGDAatWqxVauXCm1jbwcGWPszZs3rF+/fszCwoJVqFCBde/enUVFRXH73bx5k3Xo0IFZWVkxMzMz1qpVK3b79u1ic/xa06dPZy4uLlKxMWPGsObNm5f4GPHx8UwoFLKdO3dysQMHDjA9PT0mFou52LFjx5hAIGDZ2dlc7MKFC0xfX5+lp6fLPXZxnznu9zs5ucS5fo3y3UlbDa5cicagQUfw8uVHLjZwYH20b08j1Agpk3Z78DPAw9geGBRWql1fvHiB06dPQygsuHbj2bNnkZiYiO+//15m+27duqFWrVrYu3cv+vfvjwMHDiA7OxvTp0+Xe3wLCwu5cYlEgi5duiA1NRW7d+9G9erV8fjxY4Xnt/nnn39gZmaG0NBQrlXrl19+wfPnz1G9enUAwKNHj/DgwQMcPHgQALB582bMmzcPa9euRaNGjRAeHo5Ro0bB2NgYQ4cOlXs/ly5dgoeHh8xjqFy5Mv744w9YW1vj6tWrGD16NCpWrIh+/foVmWN6ejratm0LLy8vXLp0CXp6eli4cCE6d+6M+/fvQ19fH6mpqRg6dChWr14NAFi+fDl8fHzw9OlTmJqays0xJCQEY8aMKfb52rRpE/z8/OSuu3btGry9vaVinTp1wpYtW5CTkyP1HinKzp07YWRkhL59+3IxDw8P6OrqYtu2bRg2bBg+ffqEXbt2wdvbW+qYHh4eyMnJwc2bN9G6desv3hefqEBSkZwcMRYsuIRFiy5DIsn7QJuZibB+vQ/8/Fx5zo4QUmppccAnze9zc+LECZiYmEAsFiMzMxMA8Ntvv3HrIyMjAQB16tSRu7+Liwu3zdOnT2FmZoaKFSsqlMPff/+NmzdvIiIiArVq5V0JoFo1xf84NDY2RnBwMPT19bmYq6sr9uzZgx9//BFAXuHQpEkT7n4WLFiA5cuXc6d4nJ2d8fjxY2zatKnIAunly5dwcHCQigmFQsyfP59bdnZ2xtWrV/HHH39IFUiFc9y6dSt0dHQQHBzM9S3dtm0bLCwscOHCBXh7e6Ndu3ZS97Vp0yZYWlri4sWL+Pbbb+Xm2L17dzRr1qzY58vOzq7IdXFxcTLr7ezskJubi4SEhBK9xlu3boWvry8MDQ25WNWqVXH27Fn873//w5gxYyAWi+Hp6YmTJ09K7WtsbAwLCwu8fPmSCiSNpqv/5W1K4dmzJAwadBg3bhR8ibZsWQW7d/dG1aoWKrlPQoiaGNuXiftt27YtNmzYgPT0dAQHByMyMhLfffedzHbss35GheP5P+yf31bE3bt3UblyZa5oKa0GDRpIFUcA4Ofnh61bt+LHH38EYwx79+7FlClTAADv37/H69evMWLECIwaNYrbJzc3F+bmRV9eKiMjAwYGBjLxjRs3Ijg4GK9evUJGRgays7Ph5uZWbI63b9/Gs2fPZFqCMjMz8fz5cwBAfHw85s6di3PnzuHdu3cQi8VIT09HdHR0kTmampoW2bpUUoVfy/z3QEle42vXruHx48fYuXOnVDwuLg4jR47E0KFDMXDgQKSmpmLu3Lno27cvQkNDpY5taGhYJq5tWL4LJNtGSj9kRMR7NGmyGWlpOQAAXV0BfvqpDWbM+AZ6euW7TzwhWqGUp7nUzdjYGDVq1AAArF69Gm3btsX8+fOxYMECAOCKloiICLRo0UJm/ydPnqBu3brctsnJyYiNjVWoFenzFgZ5dHR0ZAq0nJwcuY+lMF9fX8yYMQN37txBRkYGXr9+jQEDBgDIOy0G5J1mK9zaUtzpPWtra5mRfn/88QcCAgKwfPlyeHp6wtTUFEuXLsWNGzeKzVEikcDd3R0hISEy92Njk3fpqGHDhuH9+/dYuXIlnJycIBKJ4OnpWWwn7689xWZvb4+4OOlTxPHx8dDT04OVlVWxxwWA4OBguLm5wd3dXSq+bt06mJmZYcmSJVxs9+7dqFKlCm7cuIHmzZtz8aSkJO450GTlu0ASKL9gcXGxhpeXE06ffobq1S0REtIbzZpVVvr9EEKIIubNm4cuXbpg3LhxcHBwgLe3NypUqIDly5fLFEjHjh3D06dPuWKqb9++mDFjBpYsWYIVK1bIHPvjx49y+yG5urrizZs3iIyMlNuKZGNjg7i4OKkWqrt375bo8VSuXBmtWrVCSEgIMjIy0KFDB+7UkZ2dHSpVqoQXL14UWSjI06hRI+zevVsqdvnyZbRo0UJqBGB+C1BxGjdujP3798PW1hZmZmZyt7l8+TLWr18PHx8fAMDr16+RkJBQ7HG/9hSbp6cnjh8/LhU7e/YsPDw8vtj/6NOnT/jjjz8QFBQksy49PV2m+Mxfzi9YgbznLjMzE40aKb+BQunU0hVcg0iNYhPnquQ+YmNT2eTJp1hqapZKjk8IUQ9tGsXGGGPu7u5swoQJ3PKBAweYrq4uGzVqFLt37x6LiopiwcHBzNLSkvXt25dJJBJu23Xr1jGBQMD8/f3ZhQsX2MuXL9m///7LRo8ezQIDA4vMpU2bNqx+/frs7Nmz7MWLF+zkyZPs1KlTjDHGHj9+zAQCAfvll1/Ys2fP2Nq1a5mlpaXcUWzy/P7778zBwYFZW1uzXbt2Sa3bvHkzMzQ0ZCtXrmT//fcfu3//Ptu6dStbvnx5kbnev3+f6enpsaSkJC62cuVKZmZmxk6fPs3+++8/NmfOHGZmZiY1+k5ejmlpaaxmzZqsTZs27NKlS+zFixfswoULbNKkSez169eMMcbc3NxYx44d2ePHj9n169eZl5cXMzQ0ZCtWrCgyx6/14sULZmRkxAICAtjjx4/Zli1bmFAoZAcPHuS2OXz4MKtdu7bMvsHBwczAwEDq+cn3zz//MIFAwObPn88iIyPZ7du3WadOnZiTk5PUiLVt27axatWqFZmfJo1iowLpK2Rl5bLp08+y0NDnSsqOEKJJtK1ACgkJYfr6+iw6OpqLXbp0iXXu3JmZm5szfX19VrduXbZs2TKWmyv7/RgaGso6derELC0tmYGBAXNxcWHff/89i4mJKTKXxMRENnz4cGZlZcUMDAxY/fr12YkTJ7j1GzZsYFWqVGHGxsZsyJAhbNGiRSUukD58+MBEIhEzMjJiqampch+vm5sb09fXZ5aWlqxVq1bs8OHDRebKGGPNmzdnGzdu5JYzMzPZsGHDmLm5ObOwsGDjxo1jM2bM+GKBxBhjsbGxbMiQIcza2pqJRCJWrVo1NmrUKO4H/s6dO8zDw4OJRCJWs2ZNduDAAebk5KTSAomxvKH2jRo1Yvr6+qxq1apsw4YNUuu3bdvG5LWfeHp6Ml9f3yKPu3fvXtaoUSNmbGzMbGxsWPfu3VlERITUNt7e3iwoKKjIY2hSgSRgrIgeeloqJSUF5ubmSF4ImM3MBXQUG26a78mTBPj6HkJ4eBwcHExx//5YukQIIVomMzMTUVFRcHZ2ltt5l2ifkydP4vvvv8fDhw+ho0P9RpXp4cOHaN++PSIjI4vsLF/cZ477/U5OLvK0pTLRq68gxhg2bgxD48abEB6e19Ht/fs0XL36mufMCCGEfC0fHx+MGTNGqy6foiliYmKwc+fOYkcSapLy3UlbQfHxaRg58hiOH4/kYnXqWGPPnj5wc+Np6C8hhBClmjx5Mt8paKXCE1RqOiqQSuj06WcYNuwo3r1L42Ljx3tg6VJvGBl9eeZRQgghhJQd5btAKkH/o4yMHMyY8TdWr77JxWxsjLB1aw98++3XTX5GCCGEEM1UfgukEk4SGROTii1bwrllH5+a2Lq1O+zsTFSVGSFEw5SzsSyE8EaTPmvUSfsLqlevgNWru8DAQA9r13bBiRMDqTgipJzInzivLFwWgRBtkD+LuKIXNFaF8tuCVISYmFRYWBhI9SsaPtwN7ds7w8nJgr/ECCFqp6urCwsLC8THxwMAjIyMSnVNMkLIl0kkErx//x5GRkbQ0+O/POE/Aw1y5EgERo06jv/9ry42bCi4krJAIKDiiJByyt4+b4RqfpFECFEdHR0dODo6asQfIlQgAfj0KRsBAacRHJzX12jjxtvo2rUWdcImhEAgEKBixYqwtbWVeyFVQojy6Ovra8wEnbwXSOvXr8fSpUsRGxuLevXqYeXKlfDy8ipy+4sXLyIwMBCPHj2Cg4MDpk+fjrFjx5b6/m/degs/v8N4+jSJi/Xq5QJPT7rALCGkgK6urkb0iyCEqAevZdr+/fsxZcoUzJ49G+Hh4fDy8kKXLl0QHR0td/uoqCj4+PjAy8sL4eHhmDVrFiZNmoRDhw4pfN9iCRAUdBktWmzliiMjIyGCg7vh0KF+dNkQQgghpBzj9VpszZo1Q+PGjbFhwwYuVqdOHfTs2RNBQUEy2//www84duwYIiIiuNjYsWNx7949XLt2rUT3mX8tlxY1xuDqs4pcvEkTB4SE9EbNmlZf8YgIIYQQogrl5lps2dnZuH37tszU497e3rh69arcfa5duyazfadOnRAWFqZw34CrzywBADo6Asye7YUrV/ypOCKEEEIIAB77ICUkJEAsFsPOzk4qbmdnh7i4OLn7xMXFyd0+NzcXCQkJqFixosw+WVlZyMrK4paTk5Pz16ByZXNs3vwtWrRwREZGGjIyvu4xEUIIIUQ1UlJSAKhvMkneO2kXHsrHGCt2eJ+87eXF8wUFBWH+/Ply1qzAmzdAly4zFUuYEEIIIbxJTEyEubm5yu+HtwLJ2toaurq6Mq1F8fHxMq1E+ezt7eVur6enBysr+afHZs6cicDAQG7548ePcHJyQnR0tFqeYFK8lJQUVKlSBa9fv1bLOWVSNHotNAe9FpqDXgvNkZycDEdHR1SoUEEt98dbgaSvrw93d3eEhoaiV69eXDw0NBQ9evSQu4+npyeOHz8uFTt79iw8PDy4SwIUJhKJIBKJZOLm5ub0ZtcgZmZm9HpoCHotNAe9FpqDXgvNoa55kngd5h8YGIjg4GBs3boVERERCAgIQHR0NDev0cyZMzFkyBBu+7Fjx+LVq1cIDAxEREQEtm7dii1btuD777/n6yEQQgghRAvx2gepf//+SExMxM8//4zY2FjUr18fJ0+ehJOTEwAgNjZWak4kZ2dnnDx5EgEBAVi3bh0cHBywevVq9OnTh6+HQAghhBAtxHsn7fHjx2P8+PFy123fvl0m1rp1a9y5c6fU9ycSiTBv3jy5p92I+tHroTnotdAc9FpoDnotNIe6XwteJ4okhBBCCNFEmnFFOEIIIYQQDUIFEiGEEEJIIVQgEUIIIYQUQgUSIYQQQkghWlkgrV+/Hs7OzjAwMIC7uzsuX75c7PYXL16Eu7s7DAwMUK1aNWzcuFFNmWo/RV6Lw4cPo2PHjrCxsYGZmRk8PT1x5swZNWar/RT9bOS7cuUK9PT04ObmptoEyxFFX4usrCzMnj0bTk5OEIlEqF69OrZu3aqmbLWboq9FSEgIGjZsCCMjI1SsWBHDhw9HYmKimrLVXpcuXUK3bt3g4OAAgUCAo0ePfnEflf5+My2zb98+JhQK2ebNm9njx4/Z5MmTmbGxMXv16pXc7V+8eMGMjIzY5MmT2ePHj9nmzZuZUChkBw8eVHPm2kfR12Ly5Mns119/ZTdv3mSRkZFs5syZTCgUsjt37qg5c+2k6OuR7+PHj6xatWrM29ubNWzYUD3JarnSvBbdu3dnzZo1Y6GhoSwqKorduHGDXblyRY1ZaydFX4vLly8zHR0dtmrVKvbixQt2+fJlVq9ePdazZ081Z659Tp48yWbPns0OHTrEALAjR44Uu72qf7+1rkBq2rQpGzt2rFTMxcWFzZgxQ+7206dPZy4uLlKxMWPGsObNm6ssx/JC0ddCnrp167L58+crO7VyqbSvR//+/dmcOXPYvHnzqEBSEkVfi1OnTjFzc3OWmJiojvTKFUVfi6VLl7Jq1apJxVavXs0qV66sshzLo5IUSKr+/daqU2zZ2dm4ffs2vL29peLe3t64evWq3H2uXbsms32nTp0QFhaGnJwcleWq7UrzWhQmkUiQmpqqtgsTarPSvh7btm3D8+fPMW/ePFWnWG6U5rU4duwYPDw8sGTJElSqVAm1atXC999/j4yMDHWkrLVK81q0aNECb968wcmTJ8EYw7t373Dw4EF07dpVHSmTz6j695v3mbSVKSEhAWKxGHZ2dlJxOzs7xMXFyd0nLi5O7va5ublISEhAxYoVVZavNivNa1HY8uXLkZaWhn79+qkixXKlNK/H06dPMWPGDFy+fBl6elr1VcGr0rwWL168wL///gsDAwMcOXIECQkJGD9+PJKSkqgf0lcozWvRokULhISEoH///sjMzERubi66d++ONWvWqCNl8hlV/35rVQtSPoFAILXMGJOJfWl7eXGiOEVfi3x79+7FTz/9hP3798PW1lZV6ZU7JX09xGIxfH19MX/+fNSqVUtd6ZUrinw2JBIJBAIBQkJC0LRpU/j4+OC3337D9u3bqRVJCRR5LR4/foxJkyZh7ty5uH37Nk6fPo2oqCjuIutEvVT5+61VfxZaW1tDV1dXpvKPj4+XqTLz2dvby91eT08PVlZWKstV25Xmtci3f/9+jBgxAgcOHECHDh1UmWa5oejrkZqairCwMISHh2PixIkA8n6kGWPQ09PD2bNn0a5dO7Xkrm1K89moWLEiKlWqBHNzcy5Wp04dMMbw5s0b1KxZU6U5a6vSvBZBQUFo2bIlpk2bBgBwdXWFsbExvLy8sHDhQjrroEaq/v3WqhYkfX19uLu7IzQ0VCoeGhqKFi1ayN3H09NTZvuzZ8/Cw8MDQqFQZblqu9K8FkBey9GwYcOwZ88eOqevRIq+HmZmZnjw4AHu3r3L/Rs7dixq166Nu3fvolmzZupKXeuU5rPRsmVLxMTE4NOnT1wsMjISOjo6qFy5skrz1WaleS3S09OhoyP906mrqwugoPWCqIfKf7+V0tVbg+QP2dyyZQt7/PgxmzJlCjM2NmYvX75kjDE2Y8YMNnjwYG77/GGCAQEB7PHjx2zLli00zF9JFH0t9uzZw/T09Ni6detYbGws9+/jx498PQStoujrURiNYlMeRV+L1NRUVrlyZda3b1/26NEjdvHiRVazZk02cuRIvh6C1lD0tdi2bRvT09Nj69evZ8+fP2f//vsv8/DwYE2bNuXrIWiN1NRUFh4ezsLDwxkA9ttvv7Hw8HBuygV1/35rXYHEGGPr1q1jTk5OTF9fnzVu3JhdvHiRWzd06FDWunVrqe0vXLjAGjVqxPT19VnVqlXZhg0b1Jyx9lLktWjdujUDIPNv6NCh6k9cSyn62fgcFUjKpehrERERwTp06MAMDQ1Z5cqVWWBgIEtPT1dz1tpJ0ddi9erVrG7duszQ0JBVrFiR+fn5sTdv3qg5a+1z/vz5Yn8D1P37LWCM2gQJIYQQQj6nVX2QCCGEEEKUgQokQgghhJBCqEAihBBCCCmECiRCCCGEkEKoQCKEEEIIKYQKJEIIIYSQQqhAIoQQQggphAokQoiU7du3w8LCgu80Sq1q1apYuXJlsdv89NNPcHNzU0s+hJCyiQokQrTQsGHDIBAIZP49e/aM79Swfft2qZwqVqyIfv36ISoqSinHv3XrFkaPHs0tCwQCHD16VGqb77//Hv/8849S7q8ohR+nnZ0dunXrhkePHil8nLJcsBJSVlGBRIiW6ty5M2JjY6X+OTs7850WgLyL4cbGxiImJgZ79uzB3bt30b17d4jF4q8+to2NDYyMjIrdxsTERClX+/6Szx/nX3/9hbS0NHTt2hXZ2dkqv29CyNehAokQLSUSiWBvby/1T1dXF7/99hsaNGgAY2NjVKlSBePHj5e6Snxh9+7dQ9u2bWFqagozMzO4u7sjLCyMW3/1/9q715Cm3zYO4N9Nt1xTO/giNQ/DydIXFUmlGRWWoSwyFo7KkSJZWtrCDlZvmhAGIR4qSHsRM8VQKRdCheSxtKClhK5CFsmIUiJSIzV1ej0vHvrh5jQ7/J/+PF0f8MV9+N27bm+Qi999yR4/xubNmyGTyRAYGAi9Xo/h4eE5YxOJRPD19YWfnx9iYmJgMBhgsViEN1wlJSVQKpWQSqVYsWIFKioqHJ7Pzc1FUFAQFixYAH9/f+j1emFs+hWbQqEAAGg0GohEIqE9/Yqtvr4eHh4eGBwcdPgMvV6PLVu2/LZ9rl27FtnZ2bDZbOjp6RHmzHUeLS0tSE1NxdDQkPAmKjc3FwAwPj6OnJwcLF++HHK5HJGRkWhpaZkzHsbY/HGCxNhfRiwW4/Lly7BYLLhx4waampqQk5Mz63ydToeAgACYzWZ0dHTgzJkzkEgkAIDu7m7ExcVh9+7d6OrqQnV1Ndra2pCVlfVDMclkMgDAxMQETCYTjh07hhMnTsBisSA9PR2pqalobm4GANy6dQtFRUW4du0arFYr7ty5g5UrV7pc12w2AwCMRiP6+vqE9nSxsbFYvHgxbt++LfRNTk6ipqYGOp3ut+1zcHAQN2/eBADh9wfMfR7R0dEoLi4W3kT19fXh5MmTAIDU1FS0t7ejqqoKXV1d0Gq1iI+Ph9VqnXdMjLE5/LavvWWM/WukpKSQm5sbyeVy4ScxMdHl3JqaGvLx8RHaRqORFi1aJLS9vLyorKzM5bP79++nQ4cOOfQ9evSIxGIxjY6OunzGef23b99SVFQUBQQE0NjYGEVHR9PBgwcdntFqtaRWq4mIqKCggFQqFY2Pj7tcPzg4mIqKioQ2ADKZTA5zDAYDrV69Wmjr9XraunWr0K6vryepVEqfPn36pX0CILlcTgsXLhS+mTwhIcHl/G++dx5ERK9fvyaRSETv3r1z6N+2bRudPXt2zvUZY/Pj/mfTM8bYPyUmJgYlJSVCWy6XAwCam5tx4cIFvHz5Ep8/f4bdbsfXr18xPDwszJnu+PHjSEtLQ0VFBWJjY6HVaqFUKgEAHR0deP36NSorK4X5RISpqSn09vYiPDzcZWxDQ0Pw9PQEEWFkZAQRERGora2FVCrFq1evHIqsAWDjxo24dOkSAECr1aK4uBghISGIj4+HWq3Gzp074e7+83/OdDodNmzYgPfv38Pf3x+VlZVQq9VYsmTJL+3Ty8sLnZ2dsNvtaG1tRX5+PkpLSx3m/Oh5AEBnZyeICCqVyqF/bGzsf1JbxdjfgBMkxv5PyeVyhIaGOvTZbDao1WpkZGTg/PnzWLp0Kdra2nDgwAFMTEy4XCc3NxdJSUm4e/cu7t+/D4PBgKqqKmg0GkxNTSE9Pd2hBuiboKCgWWP7ljiIxWIsW7ZsRiIgEokc2kQk9AUGBqKnpwcPHjxAQ0MDjhw5gvz8fLS2tjpcXf2I9evXQ6lUoqqqCocPH4bJZILRaBTGf3afYrFYOIOwsDD09/djz549ePjwIYCfO49v8bi5uaGjowNubm4OY56enj+0d8aYa5wgMfYXefbsGex2OwoKCiAW/7cEsaam5rvPqVQqqFQqZGdnY9++fTAajdBoNIiIiMCLFy9mJGLfMz1xcBYeHo62tjYkJycLfY8fP3Z4SyOTyZCQkICEhARkZmYiLCwM3d3diIiImLGeRCKZ13/HJSUlobKyEgEBARCLxdixY4cw9rP7dJadnY3CwkKYTCZoNJp5nYdUKp0R/5o1azA5OYkPHz5g06ZNvxQTY8w1LtJm7C+iVCpht9tx5coVvHnzBhUVFTOufKYbHR1FVlYWWlpaYLPZ0N7eDrPZLCQrp0+fxpMnT5CZmYnnz5/DarWirq4OR48e/ekYT506hbKyMpSWlsJqtaKwsBC1tbVCcXJZWRmuX78Oi8Ui7EEmkyE4ONjlegqFAo2Njejv78fAwMCsn6vT6dDZ2Ym8vDwkJibCw8NDGPtd+/T29kZaWhoMBgOIaF7noVAo8OXLFzQ2NuLjx48YGRmBSqWCTqdDcnIyamtr0dvbC7PZjIsXL+LevXs/FBNjbBZ/sgCKMfbPSElJoV27drkcKywsJD8/P5LJZBQXF0fl5eUEgAYGBojIsSh4bGyM9u7dS4GBgSSVSsnf35+ysrIcCpOfPn1K27dvJ09PT5LL5bRq1SrKy8ubNTZXRcfOrl69SiEhISSRSEilUlF5ebkwZjKZKDIykry9vUkul1NUVBQ1NDQI485F2nV1dRQaGkru7u4UHBxMRDOLtL9Zt24dAaCmpqYZY79rnzabjdzd3am6upqIvn8eREQZGRnk4+NDAMhgMBAR0fj4OJ07d44UCgVJJBLy9fUljUZDXV1ds8bEGJs/ERHRn03RGGOMMcb+XfiKjTHGGGPMCSdIjDHGGGNOOEFijDHGGHPCCRJjjDHGmBNOkBhjjDHGnHCCxBhjjDHmhBMkxhhjjDEnnCAxxhhjjDnhBIkxxhhjzAknSIwxxhhjTjhBYowxxhhzwgkSY4wxxpiT/wCMFtjWqlEHTQAAAABJRU5ErkJggg==\n",
>>>>>>> 4c132f4 (Finish Training)
      "text/plain": [
       "<Figure size 432x288 with 1 Axes>"
      ]
     },
     "metadata": {
      "needs_background": "light"
     },
     "output_type": "display_data"
    }
   ],
   "source": [
    "from sklearn.metrics import roc_curve, auc\n",
    "import matplotlib.pyplot as plt\n",
    "\n",
    "# Obtain predicted probabilities for the positive class\n",
    "y_pred_probs = model.predict_proba(X_train_prepared)[:, 1]\n",
    "\n",
    "# Calculate FPR, TPR, and thresholds\n",
    "fpr, tpr, thresholds = roc_curve(Y_train, y_pred_probs)\n",
    "\n",
    "# Calculate AUC\n",
    "roc_auc = auc(fpr, tpr)\n",
    "\n",
    "# Plot the ROC curve\n",
    "plt.figure()\n",
    "plt.plot(fpr, tpr, color='darkorange', lw=2, label='ROC curve (area = %0.2f)' % roc_auc)\n",
    "plt.plot([0, 1], [0, 1], color='navy', lw=2, linestyle='--')\n",
    "plt.xlim([0.0, 1.0])\n",
    "plt.ylim([0.0, 1.05])\n",
    "plt.xlabel('False Positive Rate')\n",
    "plt.ylabel('True Positive Rate')\n",
    "plt.title('Receiver Operating Characteristic (ROC) Curve - XG-Boost Train')\n",
    "plt.legend(loc=\"lower right\")\n",
    "plt.show()\n"
   ]
  },
  {
   "cell_type": "code",
<<<<<<< HEAD
   "execution_count": 54,
=======
   "execution_count": 210,
>>>>>>> 4c132f4 (Finish Training)
   "id": "7670d2fb",
   "metadata": {},
   "outputs": [
    {
     "ename": "NameError",
     "evalue": "name 'roc_auc_score' is not defined",
     "output_type": "error",
     "traceback": [
<<<<<<< HEAD
      "\u001b[1;31m---------------------------------------------------------------------------\u001b[0m",
      "\u001b[1;31mNameError\u001b[0m                                 Traceback (most recent call last)",
      "\u001b[1;32mc:\\Users\\G532\\Desktop\\stuff\\uni\\2ano\\PACD1\\Notebooks\\training2.ipynb Cell 68\u001b[0m in \u001b[0;36m<cell line: 2>\u001b[1;34m()\u001b[0m\n\u001b[0;32m      <a href='vscode-notebook-cell:/c%3A/Users/G532/Desktop/stuff/uni/2ano/PACD1/Notebooks/training2.ipynb#Y124sZmlsZQ%3D%3D?line=0'>1</a>\u001b[0m \u001b[39m# Calculate AUC\u001b[39;00m\n\u001b[1;32m----> <a href='vscode-notebook-cell:/c%3A/Users/G532/Desktop/stuff/uni/2ano/PACD1/Notebooks/training2.ipynb#Y124sZmlsZQ%3D%3D?line=1'>2</a>\u001b[0m auc \u001b[39m=\u001b[39m roc_auc_score(Y_train, y_pred_probs)\n\u001b[0;32m      <a href='vscode-notebook-cell:/c%3A/Users/G532/Desktop/stuff/uni/2ano/PACD1/Notebooks/training2.ipynb#Y124sZmlsZQ%3D%3D?line=3'>4</a>\u001b[0m \u001b[39mprint\u001b[39m(\u001b[39m\"\u001b[39m\u001b[39mAUC:\u001b[39m\u001b[39m\"\u001b[39m, auc)\n",
      "\u001b[1;31mNameError\u001b[0m: name 'roc_auc_score' is not defined"
=======
      "\u001b[0;31m---------------------------------------------------------------------------\u001b[0m",
      "\u001b[0;31mNameError\u001b[0m                                 Traceback (most recent call last)",
      "Cell \u001b[0;32mIn[210], line 2\u001b[0m\n\u001b[1;32m      1\u001b[0m \u001b[38;5;66;03m# Calculate AUC\u001b[39;00m\n\u001b[0;32m----> 2\u001b[0m auc \u001b[38;5;241m=\u001b[39m \u001b[43mroc_auc_score\u001b[49m(Y_train, y_pred_probs)\n\u001b[1;32m      4\u001b[0m \u001b[38;5;28mprint\u001b[39m(\u001b[38;5;124m\"\u001b[39m\u001b[38;5;124mAUC:\u001b[39m\u001b[38;5;124m\"\u001b[39m, auc)\n",
      "\u001b[0;31mNameError\u001b[0m: name 'roc_auc_score' is not defined"
>>>>>>> 4c132f4 (Finish Training)
     ]
    }
   ],
   "source": [
    "# Calculate AUC\n",
    "auc = roc_auc_score(Y_train, y_pred_probs)\n",
    "\n",
    "print(\"AUC:\", auc)"
   ]
  },
  {
   "cell_type": "code",
<<<<<<< HEAD
   "execution_count": null,
=======
   "execution_count": 213,
>>>>>>> 4c132f4 (Finish Training)
   "id": "6970bd41",
   "metadata": {},
   "outputs": [
    {
     "data": {
<<<<<<< HEAD
      "image/png": "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",
=======
      "image/png": "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\n",
>>>>>>> 4c132f4 (Finish Training)
      "text/plain": [
       "<Figure size 640x480 with 1 Axes>"
      ]
     },
     "metadata": {},
     "output_type": "display_data"
    }
   ],
   "source": [
    "from sklearn.metrics import roc_curve, auc\n",
    "import matplotlib.pyplot as plt\n",
    "\n",
    "# Obtain predicted probabilities for the positive class\n",
    "y_pred_probs = model.predict_proba(X_val_prepared)[:, 1]\n",
    "\n",
    "# Calculate FPR, TPR, and thresholds\n",
    "fpr, tpr, thresholds = roc_curve(Y_val, y_pred_probs)\n",
    "\n",
    "# Calculate AUC\n",
    "roc_auc = auc(fpr, tpr)\n",
    "\n",
    "# Plot the ROC curve\n",
    "plt.figure()\n",
    "plt.plot(fpr, tpr, color='darkorange', lw=2, label='ROC curve (area = %0.2f)' % roc_auc)\n",
    "plt.plot([0, 1], [0, 1], color='navy', lw=2, linestyle='--')\n",
    "plt.xlim([0.0, 1.0])\n",
    "plt.ylim([0.0, 1.05])\n",
    "plt.xlabel('False Positive Rate')\n",
    "plt.ylabel('True Positive Rate')\n",
    "plt.title('Receiver Operating Characteristic (ROC) Curve - XG-Boost')\n",
    "plt.legend(loc=\"lower right\")\n",
    "plt.show()\n"
   ]
  },
  {
   "cell_type": "code",
   "execution_count": null,
   "id": "3d792ea6",
   "metadata": {},
   "outputs": [
    {
     "name": "stdout",
     "output_type": "stream",
     "text": [
      "AUC: 0.5226702698883707\n"
     ]
    }
   ],
   "source": [
    "# Calculate AUC\n",
    "auc = roc_auc_score(Y_val, y_pred_probs)\n",
    "\n",
    "print(\"AUC:\", auc)"
   ]
  },
  {
   "attachments": {},
   "cell_type": "markdown",
   "id": "e0e5a801",
   "metadata": {},
   "source": [
    "## SVM"
   ]
  },
  {
   "cell_type": "code",
<<<<<<< HEAD
   "execution_count": null,
=======
   "execution_count": 214,
>>>>>>> 4c132f4 (Finish Training)
   "id": "b5d762d8",
   "metadata": {},
   "outputs": [],
   "source": [
    "from sklearn.svm import SVC"
   ]
  },
  {
   "cell_type": "code",
<<<<<<< HEAD
   "execution_count": null,
=======
   "execution_count": 215,
>>>>>>> 4c132f4 (Finish Training)
   "id": "3f9fdfa4",
   "metadata": {},
   "outputs": [],
   "source": [
    "clf = SVC(kernel='sigmoid')"
   ]
  },
  {
   "cell_type": "code",
<<<<<<< HEAD
   "execution_count": null,
=======
   "execution_count": 216,
>>>>>>> 4c132f4 (Finish Training)
   "id": "3767ae8e",
   "metadata": {},
   "outputs": [
    {
     "data": {
      "text/html": [
       "<style>#sk-container-id-23 {color: black;background-color: white;}#sk-container-id-23 pre{padding: 0;}#sk-container-id-23 div.sk-toggleable {background-color: white;}#sk-container-id-23 label.sk-toggleable__label {cursor: pointer;display: block;width: 100%;margin-bottom: 0;padding: 0.3em;box-sizing: border-box;text-align: center;}#sk-container-id-23 label.sk-toggleable__label-arrow:before {content: \"▸\";float: left;margin-right: 0.25em;color: #696969;}#sk-container-id-23 label.sk-toggleable__label-arrow:hover:before {color: black;}#sk-container-id-23 div.sk-estimator:hover label.sk-toggleable__label-arrow:before {color: black;}#sk-container-id-23 div.sk-toggleable__content {max-height: 0;max-width: 0;overflow: hidden;text-align: left;background-color: #f0f8ff;}#sk-container-id-23 div.sk-toggleable__content pre {margin: 0.2em;color: black;border-radius: 0.25em;background-color: #f0f8ff;}#sk-container-id-23 input.sk-toggleable__control:checked~div.sk-toggleable__content {max-height: 200px;max-width: 100%;overflow: auto;}#sk-container-id-23 input.sk-toggleable__control:checked~label.sk-toggleable__label-arrow:before {content: \"▾\";}#sk-container-id-23 div.sk-estimator input.sk-toggleable__control:checked~label.sk-toggleable__label {background-color: #d4ebff;}#sk-container-id-23 div.sk-label input.sk-toggleable__control:checked~label.sk-toggleable__label {background-color: #d4ebff;}#sk-container-id-23 input.sk-hidden--visually {border: 0;clip: rect(1px 1px 1px 1px);clip: rect(1px, 1px, 1px, 1px);height: 1px;margin: -1px;overflow: hidden;padding: 0;position: absolute;width: 1px;}#sk-container-id-23 div.sk-estimator {font-family: monospace;background-color: #f0f8ff;border: 1px dotted black;border-radius: 0.25em;box-sizing: border-box;margin-bottom: 0.5em;}#sk-container-id-23 div.sk-estimator:hover {background-color: #d4ebff;}#sk-container-id-23 div.sk-parallel-item::after {content: \"\";width: 100%;border-bottom: 1px solid gray;flex-grow: 1;}#sk-container-id-23 div.sk-label:hover label.sk-toggleable__label {background-color: #d4ebff;}#sk-container-id-23 div.sk-serial::before {content: \"\";position: absolute;border-left: 1px solid gray;box-sizing: border-box;top: 0;bottom: 0;left: 50%;z-index: 0;}#sk-container-id-23 div.sk-serial {display: flex;flex-direction: column;align-items: center;background-color: white;padding-right: 0.2em;padding-left: 0.2em;position: relative;}#sk-container-id-23 div.sk-item {position: relative;z-index: 1;}#sk-container-id-23 div.sk-parallel {display: flex;align-items: stretch;justify-content: center;background-color: white;position: relative;}#sk-container-id-23 div.sk-item::before, #sk-container-id-23 div.sk-parallel-item::before {content: \"\";position: absolute;border-left: 1px solid gray;box-sizing: border-box;top: 0;bottom: 0;left: 50%;z-index: -1;}#sk-container-id-23 div.sk-parallel-item {display: flex;flex-direction: column;z-index: 1;position: relative;background-color: white;}#sk-container-id-23 div.sk-parallel-item:first-child::after {align-self: flex-end;width: 50%;}#sk-container-id-23 div.sk-parallel-item:last-child::after {align-self: flex-start;width: 50%;}#sk-container-id-23 div.sk-parallel-item:only-child::after {width: 0;}#sk-container-id-23 div.sk-dashed-wrapped {border: 1px dashed gray;margin: 0 0.4em 0.5em 0.4em;box-sizing: border-box;padding-bottom: 0.4em;background-color: white;}#sk-container-id-23 div.sk-label label {font-family: monospace;font-weight: bold;display: inline-block;line-height: 1.2em;}#sk-container-id-23 div.sk-label-container {text-align: center;}#sk-container-id-23 div.sk-container {/* jupyter's `normalize.less` sets `[hidden] { display: none; }` but bootstrap.min.css set `[hidden] { display: none !important; }` so we also need the `!important` here to be able to override the default hidden behavior on the sphinx rendered scikit-learn.org. See: https://github.com/scikit-learn/scikit-learn/issues/21755 */display: inline-block !important;position: relative;}#sk-container-id-23 div.sk-text-repr-fallback {display: none;}</style><div id=\"sk-container-id-23\" class=\"sk-top-container\"><div class=\"sk-text-repr-fallback\"><pre>SVC(kernel=&#x27;sigmoid&#x27;)</pre><b>In a Jupyter environment, please rerun this cell to show the HTML representation or trust the notebook. <br />On GitHub, the HTML representation is unable to render, please try loading this page with nbviewer.org.</b></div><div class=\"sk-container\" hidden><div class=\"sk-item\"><div class=\"sk-estimator sk-toggleable\"><input class=\"sk-toggleable__control sk-hidden--visually\" id=\"sk-estimator-id-23\" type=\"checkbox\" checked><label for=\"sk-estimator-id-23\" class=\"sk-toggleable__label sk-toggleable__label-arrow\">SVC</label><div class=\"sk-toggleable__content\"><pre>SVC(kernel=&#x27;sigmoid&#x27;)</pre></div></div></div></div></div>"
      ],
      "text/plain": [
       "SVC(kernel='sigmoid')"
      ]
     },
     "execution_count": 216,
     "metadata": {},
     "output_type": "execute_result"
    }
   ],
   "source": [
    "clf.fit(X_train_prepared, Y_train)"
   ]
  },
  {
   "cell_type": "code",
<<<<<<< HEAD
   "execution_count": null,
=======
   "execution_count": 217,
>>>>>>> 4c132f4 (Finish Training)
   "id": "2c5a8d77",
   "metadata": {},
   "outputs": [],
   "source": [
    "# O training data\n",
    "predictions_train = clf.predict(X_train_prepared)\n",
    "\n",
    "#On val data\n",
    "predictions_val = clf.predict(X_val_prepared)"
   ]
  },
  {
   "cell_type": "code",
<<<<<<< HEAD
   "execution_count": null,
=======
   "execution_count": 218,
>>>>>>> 4c132f4 (Finish Training)
   "id": "d0866c4f",
   "metadata": {},
   "outputs": [
    {
     "data": {
      "image/png": "iVBORw0KGgoAAAANSUhEUgAAAiQAAAHFCAYAAADCA+LKAAAAOXRFWHRTb2Z0d2FyZQBNYXRwbG90bGliIHZlcnNpb24zLjcuMCwgaHR0cHM6Ly9tYXRwbG90bGliLm9yZy88F64QAAAACXBIWXMAAA9hAAAPYQGoP6dpAABHPUlEQVR4nO3de3yP9f/H8ednR6ftw8Y205wPOcUimkOISE59OyASWaMcl2NSUf0yVqGcSeasvpWir0QpkfOiIikZki2nmdNss12/P3x9vn1sfDY+l4t53L+36/bt877e1/t6XZfDXl7v93V9bIZhGAIAALCQh9UBAAAAkJAAAADLkZAAAADLkZAAAADLkZAAAADLkZAAAADLkZAAAADLkZAAAADLkZAAAADLkZDAbX766Sc9/fTTKleunAoUKKAiRYro7rvvVmxsrE6cOGHqubdv364mTZrIbrfLZrNp4sSJbj+HzWbT6NGj3T6uK3FxcbLZbLLZbPr222+z7TcMQxUrVpTNZlPTpk2v6RxTp05VXFxcno759ttvrxjT9di0aZMef/xxlSxZUj4+PgoJCdFjjz2mjRs3uu0cl2LPzXa9mjZtes2/LsDtxMvqAJA/zJo1S3369FGVKlU0dOhQVatWTRkZGdq2bZumT5+ujRs3aunSpaadv2fPnjp79qyWLFmiYsWKqWzZsm4/x8aNG3XHHXe4fdzc8vPz0+zZs7P9cFu7dq3++OMP+fn5XfPYU6dOVfHixdWjR49cH3P33Xdr48aNqlat2jWf93KTJk1SdHS06tWrp9jYWJUpU0YHDx7UlClT1KhRI73zzjvq16/fdZ/nUuz/9K9//UsVKlTQW2+9dd3j/9PUqVPdOh6QbxnAddqwYYPh6elpPPjgg8b58+ez7U9LSzM+++wzU2Pw8vIynnvuOVPPYZU5c+YYkoxnnnnGKFiwoJGSkuK0/8knnzQiIiKM6tWrG02aNLmmc+Tl2PT0dCMjI+OaznM169evNzw8PIy2bdtmGz8jI8No27at4eHhYaxfv97t5zYMwyhTpozRpk2bq/bJysoyzp07Z8r5gdsdUza4bmPGjJHNZtPMmTPl6+ubbb+Pj4/at2/v+JyVlaXY2Fjdeeed8vX1VVBQkJ566ikdOnTI6bimTZuqRo0a2rp1qxo3bqxChQqpfPnyGjt2rLKysiT9bzrjwoULmjZtmlOZffTo0TmW3C8ds3//fkfbmjVr1LRpUwUGBqpgwYIqXbq0Hn30UZ07d87RJ6cpm507d6pDhw4qVqyYChQooNq1a2vu3LlOfS5NDyxevFgjR45UaGio/P391aJFC+3Zsyd3N1nSE088IUlavHixoy0lJUUff/yxevbsmeMxr776qurXr6+AgAD5+/vr7rvv1uzZs2X84zs1y5Ytq127dmnt2rWO+3epwnQp9vnz52vw4MEqVaqUfH19tXfv3mxTNseOHVNYWJgaNGigjIwMx/i//PKLChcurG7dul31+mJiYmSz2TRt2jR5eTkXb728vDR16lTZbDaNHTvW0X7p13jXrl164oknZLfbFRwcrJ49eyolJcX1TXXBZrOpX79+mj59uqpWrSpfX1/Hr29u7q2Ufcpm//79stlseuuttzR+/HiVK1dORYoUUUREhDZt2nTdMQO3KhISXJfMzEytWbNGderUUVhYWK6Oee655zR8+HA98MADWrZsmV5//XWtXLlSDRo00LFjx5z6JiUlqWvXrnryySe1bNkytW7dWiNGjNCCBQskSW3atHGU3i+tM8jrWoP9+/erTZs28vHx0fvvv6+VK1dq7NixKly4sNLT06943J49e9SgQQPt2rVL7777rj755BNVq1ZNPXr0UGxsbLb+L774og4cOKD33ntPM2fO1O+//6527dopMzMzV3H6+/vrscce0/vvv+9oW7x4sTw8PNSpU6crXlvv3r314Ycf6pNPPtEjjzyi/v376/XXX3f0Wbp0qcqXL6/w8HDH/bt8em3EiBE6ePCgpk+fruXLlysoKCjbuYoXL64lS5Zo69atGj58uCTp3Llzevzxx1W6dGlNnz79iteWmZmpb775RnXr1r3itFhYWJjq1KmjNWvWZLtnjz76qCpXrqyPP/5YL7zwghYtWqTnn3/+iufLi08//VTTpk3TK6+8oi+//FKNGzeWlLt7ezVTpkzR6tWrNXHiRC1cuFBnz57VQw895JZECrglWV2iwa0tKSnJkGR07tw5V/13795tSDL69Onj1L5582ZDkvHiiy862po0aWJIMjZv3uzUt1q1akarVq2c2iQZffv2dWobNWqUkdNv8UtTIAkJCYZhGMZHH31kSDJ27Nhx1dglGaNGjXJ87ty5s+Hr62scPHjQqV/r1q2NQoUKGSdPnjQMwzC++eYbQ5Lx0EMPOfX78MMPDUnGxo0br3reS/Fu3brVMdbOnTsNwzCMe+65x+jRo4dhGK6nXTIzM42MjAzjtddeMwIDA42srCzHvisde+l899133xX3ffPNN07t48aNMyQZS5cuNbp3724ULFjQ+Omnn656jbn9fdSpUydDkvH3338bhvG/X+PY2Finfn369DEKFCjgdI2u5DRlI8mw2+3GiRMnrnrs1e5tkyZNnO5tQkKCIcmoWbOmceHCBUf7li1bDEnG4sWLcx0zkJ9QIcEN9c0330hStsWT9erVU9WqVfX11187tYeEhKhevXpObXfddZcOHDjgtphq164tHx8f9erVS3PnztW+fftyddyaNWvUvHnzbJWhHj166Ny5c9kqNf+ctpIuXoekPF1LkyZNVKFCBb3//vv6+eeftXXr1itO11yKsUWLFrLb7fL09JS3t7deeeUVHT9+XEeOHMn1eR999NFc9x06dKjatGmjJ554QnPnztWkSZNUs2bNXB9/NcZ/p0Mun4rL6d6eP38+T9d4Jffff7+KFSuWrf16722bNm3k6enpFLOUt98PQH5CQoLrUrx4cRUqVEgJCQm56n/8+HFJUsmSJbPtCw0Ndey/JDAwMFs/X19fpaamXkO0OatQoYK++uorBQUFqW/fvqpQoYIqVKigd95556rHHT9+/IrXcWn/P11+LZfW2+TlWmw2m55++mktWLBA06dPV+XKlR1TCJfbsmWLWrZsKeniU1Dff/+9tm7dqpEjR+b5vDld59Vi7NGjh86fP6+QkBCXa0ek3P8+2r9/vwoVKqSAgACndnfc2yvJ6drdcW/NjBm4FZGQ4Lp4enqqefPmio+Pz7YoNSeX/hJOTEzMtu/w4cMqXry422IrUKCAJCktLc2p/fJ1KpLUuHFjLV++XCkpKdq0aZMiIiIUHR2tJUuWXHH8wMDAK16HJLdeyz/16NFDx44d0/Tp0/X0009fsd+SJUvk7e2tzz//XB07dlSDBg1Ut27dazpnXt7HkZiYqL59+6p27do6fvy4hgwZ4vIYT09PNWvWTNu2bbvi76NDhw4pPj5e999/v1NlwWw5Xbs77y2Ai0hIcN1GjBghwzAUFRWV4yLQjIwMLV++XNLF8rckx6LUS7Zu3ardu3erefPmbovr0pMiP/30k1P7pVhy4unpqfr162vKlCmSpB9++OGKfZs3b641a9Y4EpBL5s2bp0KFCunee++9xsivrlSpUho6dKjatWun7t27X7GfzWaTl5eX0w/v1NRUzZ8/P1tfd1WdMjMz9cQTT8hms+mLL75QTEyMJk2apE8++cTlsZd+H/Xp0yfbotXMzEw999xzMgxDI0aMuO44r1de7i2A3OHFaLhuERERmjZtmvr06aM6deroueeeU/Xq1ZWRkaHt27dr5syZqlGjhtq1a6cqVaqoV69emjRpkjw8PNS6dWvt379fL7/8ssLCwtz2ZIQkPfTQQwoICFBkZKRee+01eXl5KS4uTn/++adTv+nTp2vNmjVq06aNSpcurfPnzzueZGnRosUVxx81apQ+//xzNWvWTK+88ooCAgK0cOFC/ec//1FsbKzsdrvbruVy/3z09UratGmj8ePHq0uXLurVq5eOHz+ut956K8dHs2vWrKklS5bogw8+UPny5VWgQIFrWvcxatQorVu3TqtWrVJISIgGDx6stWvXKjIyUuHh4SpXrtwVj23YsKEmTpyo6OhoNWrUSP369VPp0qUdL0bbvHmzJk6cqAYNGuQ5LnfLy70FkDskJHCLqKgo1atXTxMmTNC4ceOUlJQkb29vVa5cWV26dHF6u+a0adNUoUIFzZ49W1OmTJHdbteDDz6omJiYHNeMXCt/f3+tXLlS0dHRevLJJ1W0aFE988wzat26tZ555hlHv9q1a2vVqlUaNWqUkpKSVKRIEdWoUUPLli1zrBPISZUqVbRhwwa9+OKL6tu3r1JTU1W1alXNmTMnT288Ncv999+v999/X+PGjVO7du1UqlQpRUVFKSgoSJGRkU59X331VSUmJioqKkqnT59WmTJlnN7TkhurV69WTEyMXn75ZadKV1xcnMLDw9WpUyetX79ePj4+Vxyjf//+uueee/T2229r8ODBOn78uAICAtSoUSOtX79eEREReYrJLHm5twByx2YYl73FBwAA4AZjDQkAALAcCQkAALAcCQkAALAcCQkAALAcCQkAALAcCQkAALAcCQkAALBcvnwxWsHwfq47AbehJfNesjoE4KbToWaI6edw18+l1O2T3TLOzYgKCQAAsFy+rJAAAHBTsfHvf1dISAAAMJvNZnUENz0SEgAAzEaFxCXuEAAAsBwVEgAAzMaUjUskJAAAmI0pG5e4QwAAwHJUSAAAMBtTNi6RkAAAYDambFziDgEAAMtRIQEAwGxM2bhEQgIAgNmYsnGJOwQAACxHhQQAALMxZeMSCQkAAGZjysYlEhIAAMxGhcQlUjYAAGA5KiQAAJiNKRuXSEgAADAbCYlL3CEAAGA5KiQAAJjNg0WtrpCQAABgNqZsXOIOAQAAy1EhAQDAbLyHxCUSEgAAzMaUjUvcIQAAYDkqJAAAmI0pG5dISAAAMBtTNi6RkAAAYDYqJC6RsgEAAMuRkAAAYDabh3u2PPruu+/Url07hYaGymaz6dNPP71i3969e8tms2nixIlO7Wlpaerfv7+KFy+uwoULq3379jp06JBTn+TkZHXr1k12u112u13dunXTyZMn8xQrCQkAAGaz2dyz5dHZs2dVq1YtTZ48+ar9Pv30U23evFmhoaHZ9kVHR2vp0qVasmSJ1q9frzNnzqht27bKzMx09OnSpYt27NihlStXauXKldqxY4e6deuWp1hZQwIAQD7VunVrtW7d+qp9/vrrL/Xr109ffvml2rRp47QvJSVFs2fP1vz589WiRQtJ0oIFCxQWFqavvvpKrVq10u7du7Vy5Upt2rRJ9evXlyTNmjVLERER2rNnj6pUqZKrWKmQAABgNjdN2aSlpenUqVNOW1pa2jWHlZWVpW7dumno0KGqXr16tv3x8fHKyMhQy5YtHW2hoaGqUaOGNmzYIEnauHGj7Ha7IxmRpHvvvVd2u93RJzdISAAAMJubpmxiYmIc6zQubTExMdcc1rhx4+Tl5aUBAwbkuD8pKUk+Pj4qVqyYU3twcLCSkpIcfYKCgrIdGxQU5OiTG0zZAABwixgxYoQGDRrk1Obr63tNY8XHx+udd97RDz/8IFse16cYhuF0TE7HX97HFSokAACYzU1TNr6+vvL393farjUhWbdunY4cOaLSpUvLy8tLXl5eOnDggAYPHqyyZctKkkJCQpSenq7k5GSnY48cOaLg4GBHn7///jvb+EePHnX0yQ0SEgAAzGbRY79X061bN/3000/asWOHYwsNDdXQoUP15ZdfSpLq1Kkjb29vrV692nFcYmKidu7cqQYNGkiSIiIilJKSoi1btjj6bN68WSkpKY4+ucGUDQAA+dSZM2e0d+9ex+eEhATt2LFDAQEBKl26tAIDA536e3t7KyQkxPFkjN1uV2RkpAYPHqzAwEAFBARoyJAhqlmzpuOpm6pVq+rBBx9UVFSUZsyYIUnq1auX2rZtm+snbCQSEgAAzGfRq+O3bdumZs2aOT5fWn/SvXt3xcXF5WqMCRMmyMvLSx07dlRqaqqaN2+uuLg4eXp6OvosXLhQAwYMcDyN0759e5fvPrmczTAMI09H3AIKhvezOgTgprRk3ktWhwDcdDrUDDH9HAU7zHDLOKmf9XbLODcjKiQAAJiNL9dziUWtAADAclRIAAAwm5ufkMmPSEgAADAbUzYukbIBAADLUSEBAMBkeX01++2IhAQAAJORkLjGlA0AALAcFRIAAMxGgcQlEhIAAEzGlI1rTNkAAADLUSEBAMBkVEhcIyEBAMBkJCSukZAAAGAyEhLXWEMCAAAsR4UEAACzUSBxiYQEAACTMWXjGlM2AADAclRIAAAwGRUS10hIAAAwGQmJa0zZAAAAy1EhAQDAZFRIXCMhAQDAbOQjLjFlAwAALEeFBAAAkzFl4xoJCQAAJiMhcY2EBAAAk5GQuMYaEgAAYDkqJAAAmI0CiUskJAAAmIwpG9eYsgEAAJajQgIAgMmokLhGQgIAgMlISFxjygYAAFiOCgkAACajQuIaCQkAAGYjH3GJKRsAAGA5KiQAAJiMKRvXSEgAADAZCYlrJCQAAJiMhMQ11pAAAADLUSEBAMBsFEhcIiEBAMBkTNm4xpQNAACwHBUSXFXDuyvo+ada6O5qpVWyhF0dn5+p5d/+5Ng/89Un1a39vU7HbPkpQU26v+343PORhurUuq5q33mH/IsUVEjjoUo5k+p0zL8n9latyqVUIsBPyafO6ZvNe/TSu58p8WiKuRcIuEnMc52UfDQpW3tEq4fV/un++nLxe/p1+yYd/ztRBQoVVqWaddT6yd6yBxR36n9gz06tXPyeDv6+W56eXgotW1GRI2Pl7et7oy4FJqBC4hoJCa6qcEFf/fzbX5q/bJOWvB2VY58vv9+l3qMWOD6nZ2Q67S9UwFurN/yi1Rt+0esDOuQ4xndbf9Obs79U0rEUhQYVVczz/9KiNyPVrMd4910MYKL+Y2fIyPrf7/2kPxM067XBuiuiqdLTzuuvhN/U/LGnVLJMRaWePa3lcyYrbuyLGhg703HMgT07NfuNYWr2r67qEDlQnl7eSty/VzYPfpjd6khIXCMhwVWt+v4Xrfr+l6v2SU+/oL+Pn77i/smLvpUkNa5T6Yp9Ji38xvHfBxOT9dac1fpwfJS8vDx04UJW3oIGLFDEXtTp8zefLlJgSCmVr15bNptNUa84J9cdIgdo0gvPKvno3ypWIliStDxuihq2flTN/tXV0a9EyTtMjx24GZCQ4Lo1rltJB76OUcrpVK2L/12jJy/X0eQz1zxeMf9C6ty6rjb9mEAyglvShYwM/fDdat3X9vEr/sv4/LmzstlsKli4iCTpTEqyDv7+i8Ibt9CUF/vo+N+HVaJUaT34xDMqV/WuGxk+TECFxDXLF7WmpqZq/fr1+uWX7P8KP3/+vObNm2dBVMitVd//oqdfnKvWvd7VC+M/UZ3qZfTFzAHy8c57rvt/Azro2Ia3dXhtrMJKBujx52e6Pgi4Ce3auk7nz55RnWatc9yfkZ6mFQtmqnajFipQqLAk6fjfhyVJqz+MU70WbRU5MlalylXWzFcH6WjioRsWO0xic9OWj1makPz222+qWrWq7rvvPtWsWVNNmzZVYmKiY39KSoqefvrpq46RlpamU6dOOW3/nMeFuT5a9YNWrt+lX/5I1IrvdurhflNVqUyQWjeunuexJsz7Svd2Hqc2z05WZmaW3nu9mwkRA+bb+vUKVQmvl23BqiRlXrigRRNek2Fk6V9RzzvajSxDklT/gXa65/6HVKp8ZbV/up9KhIZp25oVNyx2wCqWJiTDhw9XzZo1deTIEe3Zs0f+/v5q2LChDh48mOsxYmJiZLfbnbYLf8ebGDWuJunYKR1MPKGKpUvk+djjJ89q78EjWrP5Vz31why1blxD9e8qZ0KUgHmSjybp95/jVa9522z7Mi9c0ILxo3TiSKKiXnnbUR2RJP9igZKk4LCyTscE3VFGyUf/NjVmmM9ms7lly88sTUg2bNigMWPGqHjx4qpYsaKWLVum1q1bq3Hjxtq3b1+uxhgxYoRSUlKcNq/gOiZHjisJsBfWHcHFlHjs1HWNc+nP3bVM/QBW2rrmCxXxL6o76zg/Dn8pGTmW+JeiXhmvwn52p/3FgkLkH1BcR//606n92OE/HYtecesiIXHN0r/tU1NT5eXlHMKUKVPk4eGhJk2aaNGiRS7H8PX1le9lz+fbPDzdGuftrHBBH1UI+1+1o2ypQN1VuZSST53TiZSzeunZNvr06x1KPJqiMqGBeq1/Ox0/eUbL1vzoOCY40E/Bgf6qUPpi+bpGpVCdPntefyYlK/nUOdWtXkZ1a5TRhu1/6OTpcypbqrheea6N/jh4VJt/Srjh1wxcq6ysLG375gvVafqgPD3/93dbZuYFzX/rFf2V8JueHjFWRlamTicflyQVLOIvL29v2Ww2NWnfWas/nKOSZSsotGxFxX/7pY4cPqhuQ16z6pLgJvk8l3ALSxOSO++8U9u2bVPVqlWd2idNmiTDMNS+fXuLIsMld1cro1XvDXR8jh3yqCRp/rJNGjDmA1WvGKoubeupqF9BJR07pbVbf1O34e/rzLk0xzHPPNZYLz37kOPzV+9fnDePemW+FizfrNS0DHW4v5ZeeraNChf0UdKxFK3asFtPvTBH6RkXbtCVAtdv70/xOnnsb91z/0NO7SnHj+qXbd9LkiYOiXTa13v0RFWoES5Jatz2cV3ISNfyuMk6d+a0QstUUNTLbyswpNSNuQDkO999953efPNNxcfHKzExUUuXLtXDDz8sScrIyNBLL72kFStWaN++fbLb7WrRooXGjh2r0NBQxxhpaWkaMmSIFi9erNTUVDVv3lxTp07VHXf875H05ORkDRgwQMuWLZMktW/fXpMmTVLRokVzHavNMAzDLVd9DWJiYrRu3TqtWJHzgq0+ffpo+vTpysrK26OfBcP7uSM8IN9ZMu8lq0MAbjodaoaYfo5KQ1e6ZZzf33wwT/2/+OILff/997r77rv16KOPOiUkKSkpeuyxxxQVFaVatWopOTlZ0dHRunDhgrZt2+YY47nnntPy5csVFxenwMBADR48WCdOnFB8fLw8PS/OSLRu3VqHDh3SzJkXn47s1auXypYtq+XLl+c6VksTErOQkAA5IyEBsrsRCUnlYe5JSH6LzVtC8k82m80pIcnJ1q1bVa9ePR04cEClS5dWSkqKSpQoofnz56tTp06SpMOHDyssLEwrVqxQq1attHv3blWrVk2bNm1S/fr1JUmbNm1SRESEfv31V1WpUiVX8Vn+HhIAAJA7Ob3qIi0tzfWBuZSSkiKbzeaYaomPj1dGRoZatmzp6BMaGqoaNWpow4YNkqSNGzfKbrc7khFJuvfee2W32x19coOEBAAAk7nrKZucXnURExPjlhjPnz+vF154QV26dJG/v78kKSkpST4+PipWrJhT3+DgYCUlJTn6BAUFZRsvKCjI0Sc3eKYSAACTuespmxEjRmjQoEFObZc/aXotMjIy1LlzZ2VlZWnq1Kku+xuG4fQYck6PJF/exxUSEgAAbhE5veriemVkZKhjx45KSEjQmjVrHNURSQoJCVF6erqSk5OdqiRHjhxRgwYNHH3+/jv7y/uOHj2q4ODcv0OHKRsAAEzm4WFzy+Zul5KR33//XV999ZUCAwOd9tepU0fe3t5avXq1oy0xMVE7d+50JCQRERFKSUnRli1bHH02b96slJQUR5/coEICAIDJrHox2pkzZ7R3717H54SEBO3YsUMBAQEKDQ3VY489ph9++EGff/65MjMzHWs+AgIC5OPjI7vdrsjISA0ePFiBgYEKCAjQkCFDVLNmTbVo0UKSVLVqVT344IOKiorSjBkzJF187Ldt27a5fsJGIiEBACDf2rZtm5o1a+b4fGn9Sffu3TV69GjHi8xq167tdNw333yjpk2bSpImTJggLy8vdezY0fFitLi4OMc7SCRp4cKFGjBggONpnPbt22vy5Ml5ipX3kAC3Ed5DAmR3I95DUuOl1a475cLO/3vALePcjKiQAABgMr7LxjUSEgAATJbfv6nXHXjKBgAAWI4KCQAAJqNC4hoJCQAAJiMfcY0pGwAAYDkqJAAAmIwpG9dISAAAMBn5iGtM2QAAAMtRIQEAwGRM2bhGQgIAgMnIR1xjygYAAFiOCgkAACZjysY1EhIAAExGPuIaCQkAACajQuIaa0gAAIDlqJAAAGAyCiSukZAAAGAypmxcY8oGAABYjgoJAAAmo0DiGgkJAAAmY8rGNaZsAACA5aiQAABgMgokrpGQAABgMqZsXGPKBgAAWI4KCQAAJqNC4hoJCQAAJiMfcY2EBAAAk1EhcY01JAAAwHJUSAAAMBkFEtdISAAAMBlTNq4xZQMAACxHhQQAAJNRIHGNhAQAAJN5kJG4xJQNAACwHBUSAABMRoHENRISAABMxlM2rpGQAABgMg/yEZdYQwIAACxHhQQAAJMxZeMaCQkAACYjH3GNKRsAAGA5KiQAAJjMJkokrpCQAABgMp6ycS1XCcmyZctyPWD79u2vORgAAHB7ylVC8vDDD+dqMJvNpszMzOuJBwCAfIenbFzLVUKSlZVldhwAAORb5COuXddTNufPn3dXHAAA4DaW54QkMzNTr7/+ukqVKqUiRYpo3759kqSXX35Zs2fPdnuAAADc6jxsNrds+VmeE5I33nhDcXFxio2NlY+Pj6O9Zs2aeu+999waHAAA+YHN5p4tP8tzQjJv3jzNnDlTXbt2laenp6P9rrvu0q+//urW4AAAyA9sNptbtvwszwnJX3/9pYoVK2Zrz8rKUkZGhluCAgAAt5c8JyTVq1fXunXrsrX/+9//Vnh4uFuCAgAgP2HKxrU8JySjRo1Sv379NG7cOGVlZemTTz5RVFSUxowZo1deecWMGAEAuKVZtaj1u+++U7t27RQaGiqbzaZPP/3Uab9hGBo9erRCQ0NVsGBBNW3aVLt27XLqk5aWpv79+6t48eIqXLiw2rdvr0OHDjn1SU5OVrdu3WS322W329WtWzedPHkyb/corxfXrl07ffDBB1qxYoVsNpteeeUV7d69W8uXL9cDDzyQ1+EAAIBJzp49q1q1amny5Mk57o+NjdX48eM1efJkbd26VSEhIXrggQd0+vRpR5/o6GgtXbpUS5Ys0fr163XmzBm1bdvW6UWoXbp00Y4dO7Ry5UqtXLlSO3bsULdu3fIUq80wDOPaLvPmVTC8n9UhADelJfNesjoE4KbToWaI6efoPHe7W8ZZ0v3al0bYbDYtXbrU8fZ1wzAUGhqq6OhoDR8+XNLFakhwcLDGjRun3r17KyUlRSVKlND8+fPVqVMnSdLhw4cVFhamFStWqFWrVtq9e7eqVaumTZs2qX79+pKkTZs2KSIiQr/++quqVKmSq/iu+cVo27Zt0/z587VgwQLFx8df6zAAAOR7N+NTNgkJCUpKSlLLli0dbb6+vmrSpIk2bNggSYqPj1dGRoZTn9DQUNWoUcPRZ+PGjbLb7Y5kRJLuvfde2e12R5/cyPO3/R46dEhPPPGEvv/+exUtWlSSdPLkSTVo0ECLFy9WWFhYXocEAAC5kJaWprS0NKc2X19f+fr65nmspKQkSVJwcLBTe3BwsA4cOODo4+Pjo2LFimXrc+n4pKQkBQUFZRs/KCjI0Sc38lwh6dmzpzIyMrR7926dOHFCJ06c0O7du2UYhiIjI/M6HAAA+Z6HzT1bTEyMY+HopS0mJua6Yru88mIYhstqzOV9cuqfm3H+Kc8VknXr1mnDhg1Oc0JVqlTRpEmT1LBhw7wOBwBAvueu6ZYRI0Zo0KBBTm3XUh2RpJCQi2tnkpKSVLJkSUf7kSNHHFWTkJAQpaenKzk52alKcuTIETVo0MDR5++//842/tGjR7NVX64mzxWS0qVL5/gCtAsXLqhUqVJ5HQ4AAOSSr6+v/P39nbZrTUjKlSunkJAQrV692tGWnp6utWvXOpKNOnXqyNvb26lPYmKidu7c6egTERGhlJQUbdmyxdFn8+bNSklJcfTJjTxXSGJjY9W/f39NmTJFderUkc1m07Zt2zRw4EC99dZbeR0OAIB8z6qXmp05c0Z79+51fE5ISNCOHTsUEBCg0qVLKzo6WmPGjFGlSpVUqVIljRkzRoUKFVKXLl0kSXa7XZGRkRo8eLACAwMVEBCgIUOGqGbNmmrRooUkqWrVqnrwwQcVFRWlGTNmSJJ69eqltm3b5voJGymXCUmxYsWcyk1nz55V/fr15eV18fALFy7Iy8tLPXv2dDxOBAAALrLqe2i2bdumZs2aOT5fmu7p3r274uLiNGzYMKWmpqpPnz5KTk5W/fr1tWrVKvn5+TmOmTBhgry8vNSxY0elpqaqefPmiouLc/o+u4ULF2rAgAGOp3Hat29/xXefXEmu3kMyd+7cXA/YvXv3PAVgBt5DAuSM95AA2d2I95D0WPyTW8aJe+Iut4xzM8pVheRmSDIAAED+lec1JP+UmpqabYGrv7//dQUEAEB+Y9WUza0kz0/ZnD17Vv369VNQUJCKFCmiYsWKOW0AAMCZzU1bfpbnhGTYsGFas2aNpk6dKl9fX7333nt69dVXFRoaqnnz5pkRIwAAyOfyPGWzfPlyzZs3T02bNlXPnj3VuHFjVaxYUWXKlNHChQvVtWtXM+IEAOCW5cGUjUt5rpCcOHFC5cqVk3RxvciJEyckSY0aNdJ3333n3ugAAMgHbDb3bPlZnhOS8uXLa//+/ZKkatWq6cMPP5R0sXJy6cv2AAAA8iLPCcnTTz+tH3/8UdLFd+pfWkvy/PPPa+jQoW4PEACAW53NZnPLlp/leQ3J888/7/jvZs2a6ddff9W2bdtUoUIF1apVy63BAQCQH+TzXMIt8lwhuVzp0qX1yCOPKCAgQD179nRHTAAA4DZz3QnJJSdOnMjTK+YBALhdeNhsbtnys+t6UysAAHAtn+cSbkFCAgCAyfL7glR3cNuUDQAAwLXKdYXkkUceuer+kydPXm8sbvP++yOsDgG4KbWqav7XrAPIjn/9u5brhMRut7vc/9RTT113QAAA5DdM2biW64Rkzpw5ZsYBAABuYyxqBQDAZB4USFwiIQEAwGQkJK6xzgYAAFiOCgkAACZjUatrJCQAAJiMKRvXrmnKZv78+WrYsKFCQ0N14MABSdLEiRP12WefuTU4AABwe8hzQjJt2jQNGjRIDz30kE6ePKnMzExJUtGiRTVx4kR3xwcAwC3PZnPPlp/lOSGZNGmSZs2apZEjR8rT09PRXrduXf38889uDQ4AgPyAb/t1Lc9rSBISEhQeHp6t3dfXV2fPnnVLUAAA5Cc80upanu9RuXLltGPHjmztX3zxhapVq+aOmAAAwG0mzxWSoUOHqm/fvjp//rwMw9CWLVu0ePFixcTE6L333jMjRgAAbmn5fLbFLfKckDz99NO6cOGChg0bpnPnzqlLly4qVaqU3nnnHXXu3NmMGAEAuKXl9/Uf7nBN7yGJiopSVFSUjh07pqysLAUFBbk7LgAAcBu5rhejFS9e3F1xAACQb1EgcS3PCUm5cuWu+grcffv2XVdAAADkN7yp1bU8JyTR0dFOnzMyMrR9+3atXLlSQ4cOdVdcAADgNpLnhGTgwIE5tk+ZMkXbtm277oAAAMhvWNTqmtve1dK6dWt9/PHH7hoOAIB8g1fHu+a2hOSjjz5SQECAu4YDAAC3kTxP2YSHhzstajUMQ0lJSTp69KimTp3q1uAAAMgPWNTqWp4Tkocfftjps4eHh0qUKKGmTZvqzjvvdFdcAADkGzaRkbiSp4TkwoULKlu2rFq1aqWQkBCzYgIAIF+hQuJantaQeHl56bnnnlNaWppZ8QAAgNtQnhe11q9fX9u3bzcjFgAA8iUPm3u2/CzPa0j69OmjwYMH69ChQ6pTp44KFy7stP+uu+5yW3AAAOQHV3vDOS7KdULSs2dPTZw4UZ06dZIkDRgwwLHPZrPJMAzZbDZlZma6P0oAAJCv5TohmTt3rsaOHauEhAQz4wEAIN/J79Mt7pDrhMQwDElSmTJlTAsGAID8iBkb1/K0qJU5MAAAYIY8LWqtXLmyy6TkxIkT1xUQAAD5DV+u51qeEpJXX31VdrvdrFgAAMiXWEPiWp4Sks6dOysoKMisWAAAwG0q1wkJ60cAALg2/Ah1Lc9P2QAAgLzx4Mv1XMp1QpKVlWVmHAAA5FtUSFzL83fZAAAAuBsJCQAAJrPiy/UuXLigl156SeXKlVPBggVVvnx5vfbaa04zHoZhaPTo0QoNDVXBggXVtGlT7dq1y2mctLQ09e/fX8WLF1fhwoXVvn17HTp0yB23xQkJCQAAJvOw2dyy5cW4ceM0ffp0TZ48Wbt371ZsbKzefPNNTZo0ydEnNjZW48eP1+TJk7V161aFhITogQce0OnTpx19oqOjtXTpUi1ZskTr16/XmTNn1LZtW7d/d53NyIerVRdv/8vqEICb0r9qlrI6BOCmUyDP33ufdzM3HXDLOL3uzf3Xt7Rt21bBwcGaPXu2o+3RRx9VoUKFNH/+fBmGodDQUEVHR2v48OGSLlZDgoODNW7cOPXu3VspKSkqUaKE5s+f7/hy3cOHDyssLEwrVqxQq1at3HJdEhUSAABMZ7O5Z8uLRo0a6euvv9Zvv/0mSfrxxx+1fv16PfTQQ5KkhIQEJSUlqWXLlo5jfH191aRJE23YsEGSFB8fr4yMDKc+oaGhqlGjhqOPu9yAvBAAgNubu14dn5aWprS0NKc2X19f+fr6Zus7fPhwpaSk6M4775Snp6cyMzP1xhtv6IknnpAkJSUlSZKCg4OdjgsODtaBAwccfXx8fFSsWLFsfS4d7y5USAAAuEXExMTIbrc7bTExMTn2/eCDD7RgwQItWrRIP/zwg+bOnau33npLc+fOdep3+YtPDcNw+TLU3PTJKyokAACYzF0/u0eMGKFBgwY5teVUHZGkoUOH6oUXXlDnzp0lSTVr1tSBAwcUExOj7t27KyQkRNLFKkjJkiUdxx05csRRNQkJCVF6erqSk5OdqiRHjhxRgwYN3HNR/0WFBAAAk3m4afP19ZW/v7/TdqWE5Ny5c/LwcP4x7+np6Xjst1y5cgoJCdHq1asd+9PT07V27VpHslGnTh15e3s79UlMTNTOnTvdnpBQIQEAIB9q166d3njjDZUuXVrVq1fX9u3bNX78ePXs2VPSxama6OhojRkzRpUqVVKlSpU0ZswYFSpUSF26dJEk2e12RUZGavDgwQoMDFRAQICGDBmimjVrqkWLFm6Nl4QEAACTWfEFtZMmTdLLL7+sPn366MiRIwoNDVXv3r31yiuvOPoMGzZMqamp6tOnj5KTk1W/fn2tWrVKfn5+jj4TJkyQl5eXOnbsqNTUVDVv3lxxcXHy9PR0a7y8hwS4jfAeEiC7G/Eeknnb/nTLOE/VDXPLODcjKiQAAJjMXY/95mcsagUAAJajQgIAgMmoj7hGQgIAgMmYsXGNKRsAAGA5KiQAAJjMisd+bzUkJAAAmIzpCNe4RwAAwHJUSAAAMBlTNq6RkAAAYDLSEdeYsgEAAJajQgIAgMmYsnGNhAQAAJMxHeEaCQkAACajQuIaSRsAALAcFRIAAExGfcQ1EhIAAEzGjI1rTNkAAADLUSEBAMBkHkzauERCAgCAyZiycY0pGwAAYDkqJAAAmMzGlI1LJCQAAJiMKRvXmLIBAACWo0ICAIDJeMrGNRISAABMxpSNayQkAACYjITENdaQAAAAy1EhAQDAZDz26xoJCQAAJvMgH3GJKRsAAGA5KiQAAJiMKRvXSEgAADAZT9m4xpQNAACwHBUSAABMxpSNayQkAACYjKdsXGPKBgAAWI4KCfJkQr8nlHLs72zt97TsoDY9B0qSjv51QKsXzdSBX36SYWSpxB1l9Xj0KypaPNjpGMMwtHDsCO39cYs6DX5NVe9pdEOuATDDh0sW6cMPFuvwX39JkipUrKTez/VRo8ZNHH32/fGHJo5/U/HbtiorK0sVKlbSm29PVMnQUElSenq63n5znFau+Fzn09JUv/69GvnyaAWHhFhyTXAfpmxcIyFBnvQaM01ZWVmOz0f+TND8N4aqWv2Lf+meSPpL748aqPBmrdXssR7yLVRYx/46KC9vn2xjbVrxkfgzivwiKDhEA58forDSpSVJyz/7VAP79dUHHy9VxYqV9OfBg+rRrYv+9cijeq7fAPkV8dO+fX/Ix9fXMUbs2De09ttvNO6tCbIXLaq3Y8eqf5/eWvzvT+Tp6WnVpcENeMrGNRIS5Elh/6JOn9d/tkjFgkNVtlotSdLXH7yvSrXrqWXX3o4+AcGh2cZJOvCHNv7nI0WNmaa3n33M1JiBG6Fps/udPvcf+Lw+XLJYP/24QxUrVtKkdyeo0X336fkhwxx97ggLc/z36dOntfTjj/XG2FjdG9FAkjRm3Jtq1bypNm3coIaNGt+YC4EpyEdcYw0JrtmFCxn6af1XCm/aWjabTVlZWfp9+yYFlgzT/DHDFNvrEc0a2Ue7t653Oi497bw+evf/9FDPAfIrGmBR9IB5MjMz9cWK/yg19Zxq1QpXVlaW1q39VmXKlNWzUZFq2jhCXTs/rjVff+U45pddO3XhQoYaNGjoaAsKClbFipX0447tVlwGcENZnpDs3r1bc+bM0a+//ipJ+vXXX/Xcc8+pZ8+eWrNmjcvj09LSdOrUKactIz3N7LAh6det3+v82TOq3aSVJOnsqZNKP5+q9csWq2Kte9TtxVjdWa+RPhg/Svt/+dFx3JfzpiqscnXdWbfhlYYGbkm//7ZH99YN1z3hNfXGa6M04d0pqlCxok4cP65z587p/dmz1LBRY02f+b7ub/6ABg3sp21bt0iSjh87Jm9vb/nb7U5jBhQvrmPHjllxOXAjD5vNLVt+ZmlCsnLlStWuXVtDhgxReHi4Vq5cqfvuu0979+7VwYMH1apVK5dJSUxMjOx2u9P22fuTb9AV3N62f7NClWrXk39AcUmS8d+1JVXqNFBEm8dVsmxFNe7QRZXvvlfbvlomSfp12/dK2LVdD3bva1ncgFnKli2nDz/+VPMXfaDHOz2hl18crj/27lWWcfHPRrNmzdWtew/dWbWqIqN66b4mTfXvD5ZcfVDDYP1BPmBz05afWZqQvPbaaxo6dKiOHz+uOXPmqEuXLoqKitLq1av11VdfadiwYRo7duxVxxgxYoRSUlKctg49+92gK7h9nTyapH0//6C772/jaCvkb5eHp6dK3FHGqW+J0DJKOXZEkpSwa7tO/H1YY3u206tdWujVLi0kSR+OH605rz5/4y4AMIG3j49Klymj6jVqauDzg1W5yp1auGCeihUtJi8vL5WvUMGpf7nyFZSUeFiSFFi8uDIyMnQqJcWpz4njxxUYWPyGXQNgFUsXte7atUvz5s2TJHXs2FHdunXTo48+6tj/xBNPaPbs2Vcdw9fXV77/WKUuSd4+p90fLJxs/3alCtuLqlL4vY42Ly9vhZavouOH/3TqezzpT9n/+8hvow5dnJIYSZo2NFKtnuqjKnUizA8cuIEMw1BGerq8fXxUvUZN7d+f4LT/wIH9KhlaSpJUrXoNeXl5a+PG79XqwYckSUePHtHevb8revDQGx473Cy/lzfc4KZ5ysbDw0MFChRQ0aJFHW1+fn5KuexfC7BeVlaWdqxdqVr3tcz2KGLDdp3073deV5mqd6ls9XDt3bFFe+I3qscrEyRJfkUDclzIai8epGJBJW9I/IAZ3p04Xo0a36fgkBCdO3tWK79YoW1bt2jqjPckSd2fjtSwwc+rTp17dE+9+vp+/Tp99+03em/OxX+U+fn56V+PPqq33xynokWLyd9u1/g3x6lSpcqOp25w6+I9JK5ZmpCULVtWe/fuVcWKFSVJGzduVOn/PsMvSX/++adKluSH1M1m38/xSjl2ROFNW2fbV7VeY7V95nmt/2yRvoibrMDQMHUa9KrK3FnTgkiBG+f48WMa+cIwHT16REX8/FS5chVNnfGeIv771EzzFg/opVGj9f6smRoX838qW7ac3p74ru6uU9cxxtDhL8rT00tDB0UrLe286tWP0OtTxvIOEtwWbIZhGFadfPr06QoLC1ObNm1y3D9y5Ej9/fffeu+99/I07uLtf7kjPCDf+VfNUlaHANx0CtyAf5pv2eeean+98nbXnW5RliYkZiEhAXJGQgJkdyMSkq1uSkjuyccJieXvIQEAALhpFrUCAJBvsabVJRISAABMxlM2rpGQAABgMt626xprSAAAgOVISAAAMJlV32Xz119/6cknn1RgYKAKFSqk2rVrKz4+3rHfMAyNHj1aoaGhKliwoJo2bapdu3Y5jZGWlqb+/furePHiKly4sNq3b69Dhw5dQzRXR0ICAIDZLMhIkpOT1bBhQ3l7e+uLL77QL7/8orffftvpjeixsbEaP368Jk+erK1btyokJEQPPPCATp/+31ewREdHa+nSpVqyZInWr1+vM2fOqG3btsrMzLy2e3EFvIcEuI3wHhIguxvxHpIfDpxyyzh3l/HPdd8XXnhB33//vdatW5fjfsMwFBoaqujoaA0fPlzSxWpIcHCwxo0bp969eyslJUUlSpTQ/Pnz1alTJ0nS4cOHFRYWphUrVqhVq1bXf1H/RYUEAACT2dz0v7S0NJ06dcppS0tLy/Gcy5YtU926dfX4448rKChI4eHhmjVrlmN/QkKCkpKS1LJlS0ebr6+vmjRpog0bNkiS4uPjlZGR4dQnNDRUNWrUcPRxFxISAABMZrO5Z4uJiZHdbnfaYmJicjznvn37NG3aNFWqVElffvmlnn32WQ0YMEDz5l38QsekpCRJUnBwsNNxwcHBjn1JSUny8fFRsWLFrtjHXXjsFwCAW8SIESM0aNAgpzZfX98c+2ZlZalu3boaM2aMJCk8PFy7du3StGnT9NRTTzn62S57JtkwjGxtl8tNn7yiQgIAgMnctabV19dX/v7+TtuVEpKSJUuqWrVqTm1Vq1bVwYMHJUkhISGSlK3SceTIEUfVJCQkROnp6UpOTr5iH3chIQEAwGwWPGXTsGFD7dmzx6ntt99+U5kyZSRJ5cqVU0hIiFavXu3Yn56errVr16pBgwaSpDp16sjb29upT2Jionbu3Ono4y5M2QAAkA89//zzatCggcaMGaOOHTtqy5YtmjlzpmbOnCnp4lRNdHS0xowZo0qVKqlSpUoaM2aMChUqpC5dukiS7Ha7IiMjNXjwYAUGBiogIEBDhgxRzZo11aJFC7fGS0ICAIDJrPgum3vuuUdLly7ViBEj9Nprr6lcuXKaOHGiunbt6ugzbNgwpaamqk+fPkpOTlb9+vW1atUq+fn5OfpMmDBBXl5e6tixo1JTU9W8eXPFxcXJ09PTrfHyHhLgNsJ7SIDsbsR7SH4+dMYt49S8o4hbxrkZUSEBAMBkfLeeayxqBQAAlqNCAgCA2SiRuERCAgCAyaxY1HqrYcoGAABYjgoJAAAmc/Nb1vMlEhIAAExGPuIaUzYAAMByVEgAADAbJRKXSEgAADAZT9m4xpQNAACwHBUSAABMxlM2rpGQAABgMvIR10hIAAAwGxmJS6whAQAAlqNCAgCAyXjKxjUSEgAATMaiVteYsgEAAJajQgIAgMkokLhGQgIAgNnISFxiygYAAFiOCgkAACbjKRvXSEgAADAZT9m4xpQNAACwHBUSAABMRoHENRISAADMRkbiEgkJAAAmY1Gra6whAQAAlqNCAgCAyXjKxjUSEgAATEY+4hpTNgAAwHJUSAAAMBlTNq6RkAAAYDoyEleYsgEAAJajQgIAgMmYsnGNhAQAAJORj7jGlA0AALAcFRIAAEzGlI1rJCQAAJiM77JxjYQEAACzkY+4xBoSAABgOSokAACYjAKJayQkAACYjEWtrjFlAwAALEeFBAAAk/GUjWskJAAAmI18xCWmbAAAgOWokAAAYDIKJK6RkAAAYDKesnGNKRsAAGA5KiQAAJiMp2xcIyEBAMBkTNm4xpQNAACwHAkJAAC3gZiYGNlsNkVHRzvaDMPQ6NGjFRoaqoIFC6pp06batWuX03FpaWnq37+/ihcvrsKFC6t9+/Y6dOiQ2+MjIQEAwGQ2m3u2a7V161bNnDlTd911l1N7bGysxo8fr8mTJ2vr1q0KCQnRAw88oNOnTzv6REdHa+nSpVqyZInWr1+vM2fOqG3btsrMzLz2gHJAQgIAgMlsbvrftThz5oy6du2qWbNmqVixYo52wzA0ceJEjRw5Uo888ohq1KihuXPn6ty5c1q0aJEkKSUlRbNnz9bbb7+tFi1aKDw8XAsWLNDPP/+sr776yi335hISEgAAbhFpaWk6deqU05aWlnbVY/r27as2bdqoRYsWTu0JCQlKSkpSy5YtHW2+vr5q0qSJNmzYIEmKj49XRkaGU5/Q0FDVqFHD0cddSEgAADCZu6ZsYmJiZLfbnbaYmJgrnnfJkiX64YcfcuyTlJQkSQoODnZqDw4OduxLSkqSj4+PU2Xl8j7uwmO/AACYzF1P/Y4YMUKDBg1yavP19c2x759//qmBAwdq1apVKlCgwJVju2xximEY2doul5s+eUWFBACAW4Svr6/8/f2dtislJPHx8Tpy5Ijq1KkjLy8veXl5ae3atXr33Xfl5eXlqIxcXuk4cuSIY19ISIjS09OVnJx8xT7uQkICAIDZbG7a8qB58+b6+eeftWPHDsdWt25dde3aVTt27FD58uUVEhKi1atXO45JT0/X2rVr1aBBA0lSnTp15O3t7dQnMTFRO3fudPRxF6ZsAAAwmRWvjvfz81ONGjWc2goXLqzAwEBHe3R0tMaMGaNKlSqpUqVKGjNmjAoVKqQuXbpIkux2uyIjIzV48GAFBgYqICBAQ4YMUc2aNbMtkr1eJCQAANymhg0bptTUVPXp00fJycmqX7++Vq1aJT8/P0efCRMmyMvLSx07dlRqaqqaN2+uuLg4eXp6ujUWm2EYhltHvAks3v6X1SEAN6V/1SxldQjATafADfin+dl09/yoLeyTf78UhwoJAAAmy79phPuQkAAAYDYyEpd4ygYAAFiOCgkAACaz4imbWw0JCQAAJnPzS03zJaZsAACA5fLlY7+4OaSlpSkmJkYjRoy44quNgdsRfzaA7EhIYJpTp07JbrcrJSVF/v7+VocD3DT4swFkx5QNAACwHAkJAACwHAkJAACwHAkJTOPr66tRo0axaA+4DH82gOxY1AoAACxHhQQAAFiOhAQAAFiOhAQAAFiOhAQAAFiOhARuFxMTo3vuuUd+fn4KCgrSww8/rD179lgdFmC5adOm6a677pK/v7/8/f0VERGhL774wuqwgJsCCQncbu3aterbt682bdqk1atX68KFC2rZsqXOnj1rdWiApe644w6NHTtW27Zt07Zt23T//ferQ4cO2rVrl9WhAZbjsV+Y7ujRowoKCtLatWt13333WR0OcFMJCAjQm2++qcjISKtDASzlZXUAyP9SUlIkXfyLF8BFmZmZ+ve//62zZ88qIiLC6nAAy1EhgakMw1CHDh2UnJysdevWWR0OYLmff/5ZEREROn/+vIoUKaJFixbpoYcesjoswHJUSGCqfv366aefftL69eutDgW4KVSpUkU7duzQyZMn9fHHH6t79+5au3atqlWrZnVogKWokMA0/fv316effqrvvvtO5cqVszoc4KbUokULVahQQTNmzLA6FMBSVEjgdoZhqH///lq6dKm+/fZbkhHgKgzDUFpamtVhAJYjIYHb9e3bV4sWLdJnn30mPz8/JSUlSZLsdrsKFixocXSAdV588UW1bt1aYWFhOn36tJYsWaJvv/1WK1eutDo0wHJM2cDtbDZbju1z5sxRjx49bmwwwE0kMjJSX3/9tRITE2W323XXXXdp+PDheuCBB6wODbAcCQkAALAcb2oFAACWIyEBAACWIyEBAACWIyEBAACWIyEBAACWIyEBAACWIyEBAACWIyEBbgKjR49W7dq1HZ979Oihhx9++IbHsX//ftlsNu3YscO0c1x+rdfiRsQJ4MYiIQGuoEePHrLZbLLZbPL29lb58uU1ZMgQnT171vRzv/POO4qLi8tV3xv9w7lp06aKjo6+IecCcPvgu2yAq3jwwQc1Z84cZWRkaN26dXrmmWd09uxZTZs2LVvfjIwMeXt7u+W8drvdLeMAwK2CCglwFb6+vgoJCVFYWJi6dOmirl276tNPP5X0v6mH999/X+XLl5evr68Mw1BKSop69eqloKAg+fv76/7779ePP/7oNO7YsWMVHBwsPz8/RUZG6vz58077L5+yycrK0rhx41SxYkX5+vqqdOnSeuONNyTJ8W3K4eHhstlsatq0qeO4OXPmqGrVqipQoIDuvPNOTZ061ek8W7ZsUXh4uAoUKKC6detq+/bt133Phg8frsqVK6tQoUIqX768Xn75ZWVkZGTrN2PGDIWFhalQoUJ6/PHHdfLkSaf9rmIHkL9QIQHyoGDBgk4/XPfu3asPP/xQH3/8sTw9PSVJbdq0UUBAgFasWCG73a4ZM2aoefPm+u233xQQEKAPP/xQo0aN0pQpU9S4cWPNnz9f7777rsqXL3/F844YMUKzZs3ShAkT1KhRIyUmJurXX3+VdDGpqFevnr766itVr15dPj4+kqRZs2Zp1KhRmjx5ssLDw7V9+3ZFRUWpcOHC6t69u86ePau2bdvq/vvv14IFC5SQkKCBAwde9z3y8/NTXFycQkND9fPPPysqKkp+fn4aNmxYtvu2fPlynTp1SpGRkerbt68WLlyYq9gB5EMGgBx1797d6NChg+Pz5s2bjcDAQKNjx46GYRjGqFGjDG9vb+PIkSOOPl9//bXh7+9vnD9/3mmsChUqGDNmzDAMwzAiIiKMZ5991ml//fr1jVq1auV47lOnThm+vr7GrFmzcowzISHBkGRs377dqT0sLMxYtGiRU9vrr79uREREGIZhGDNmzDACAgKMs2fPOvZPmzYtx7H+qUmTJsbAgQOvuP9ysbGxRp06dRyfR40aZXh6ehp//vmno+2LL74wPDw8jMTExFzFfqVrBnDrokICXMXnn3+uIkWK6MKFC8rIyFCHDh00adIkx/4yZcqoRIkSjs/x8fE6c+aMAgMDncZJTU3VH3/8IUnavXu3nn32Waf9ERER+uabb3KMYffu3UpLS1Pz5s1zHffRo0f1559/KjIyUlFRUY72CxcuONan7N69W7Vq1VKhQoWc4rheH330kSZOnKi9e/fqzJkzunDhgvz9/Z36lC5dWnfccYfTebOysrRnzx55enq6jB1A/kNCAlxFs2bNNG3aNHl7eys0NDTbotXChQs7fc7KylLJkiX17bffZhuraNGi1xRDwYIF83xMVlaWpItTH/Xr13fad2lqyTCMa4rnajZt2qTOnTvr1VdfVatWrWS327VkyRK9/fbbVz3OZrM5/j83sQPIf0hIgKsoXLiwKlasmOv+d999t5KSkuTl5aWyZcvm2Kdq1aratGmTnnrqKUfbpk2brjhmpUqVVLBgQX399dd65plnsu2/tGYkMzPT0RYcHKxSpUpp37596tq1a47jVqtWTfPnz1dqaqoj6blaHLnx/fffq0yZMho5cqSj7cCBA9n6HTx4UIcPH1ZoaKgkaePGjfLw8FDlypVzFTuA/IeEBHCjFi1aKCIiQg8//LDGjRunKlWq6PDhw1qxYoUefvhh1a1bVwMHDlT37t1Vt25dNWrUSAsXLtSuXbuuuKi1QIECGj58uIYNGyYfHx81bNhQR48e1a5duxQZGamgoCAVLFhQK1eu1B133KECBQrIbrdr9OjRGjBggPz9/dW6dWulpaVp27ZtSk5O1qBBg9SlSxeNHDlSkZGReumll7R//3699dZbubrOo0ePZnvvSUhIiCpWrKiDBw9qyZIluueee/Sf//xHS5cuzfGaunfvrrfeekunTp3SgAED1LFjR4WEhEiSy9gB5ENWL2IBblaXL2q93KhRo5wWol5y6tQpo3///kZoaKjh7e1thIWFGV27djUOHjzo6PPGG28YxYsXN4oUKWJ0797dGDZs2BUXtRqGYWRmZhr/93//Z5QpU8bw9vY2SpcubYwZM8axf9asWUZYWJjh4eFhNGnSxNG+cOFCo3bt2oaPj49RrFgx47777jM++eQTx/6NGzcatWrVMnx8fIzatWsbH3/8ca4WtUrKto0aNcowDMMYOnSoERgYaBQpUsTo1KmTMWHCBMNut2e7b1OnTjVCQ0ONAgUKGI888ohx4sQJp/NcLXYWtQL5j80wTJhIBgAAyANejAYAACxHQgIAACxHQgIAACxHQgIAACxHQgIAACxHQgIAACxHQgIAACxHQgIAACxHQgIAACxHQgIAACxHQgIAACxHQgIAACz3/xc8CYQlgsRdAAAAAElFTkSuQmCC",
      "text/plain": [
       "<Figure size 640x480 with 2 Axes>"
      ]
     },
     "metadata": {},
     "output_type": "display_data"
    }
   ],
   "source": [
    "cm = confusion_matrix(Y_train,predictions_train)\n",
    "y_train_labels = sorted(y_train.unique())\n",
    "sns.heatmap(cm, annot=True, cmap='Blues', fmt='g', xticklabels=y_train_labels, yticklabels=y_train_labels)\n",
    "\n",
    "# Set the plot title and axis labels\n",
    "plt.title('Confusion Matrix On Train')\n",
    "plt.xlabel('Predicted Label')\n",
    "plt.ylabel('True Label')\n",
    "\n",
    "# Show the plot\n",
    "plt.show()"
   ]
  },
  {
   "cell_type": "code",
<<<<<<< HEAD
   "execution_count": null,
=======
   "execution_count": 199,
>>>>>>> 4c132f4 (Finish Training)
   "id": "b96df610",
   "metadata": {},
   "outputs": [
    {
     "name": "stdout",
     "output_type": "stream",
     "text": [
      "              precision    recall  f1-score   support\n",
      "\n",
      "           0       0.66      0.68      0.67      2239\n",
      "           1       0.33      0.32      0.33      1124\n",
      "\n",
      "    accuracy                           0.56      3363\n",
      "   macro avg       0.50      0.50      0.50      3363\n",
      "weighted avg       0.55      0.56      0.55      3363\n",
      "\n"
     ]
    }
   ],
   "source": [
    "# Generate a classification report\n",
    "report = classification_report(Y_train, predictions_train)\n",
    "\n",
    "# Print the report\n",
    "print(report)"
   ]
  },
  {
   "cell_type": "code",
<<<<<<< HEAD
   "execution_count": null,
=======
   "execution_count": 200,
>>>>>>> 4c132f4 (Finish Training)
   "id": "a6142723",
   "metadata": {},
   "outputs": [
    {
     "data": {
<<<<<<< HEAD
      "image/png": "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",
=======
      "image/png": "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\n",
>>>>>>> 4c132f4 (Finish Training)
      "text/plain": [
       "<Figure size 640x480 with 2 Axes>"
      ]
     },
     "metadata": {},
     "output_type": "display_data"
    }
   ],
   "source": [
    "cm = confusion_matrix(Y_val,predictions_val)\n",
    "y_train_labels = sorted(y_train.unique())\n",
    "sns.heatmap(cm, annot=True, cmap='Blues', fmt='g', xticklabels=y_train_labels, yticklabels=y_train_labels)\n",
    "\n",
    "# Set the plot title and axis labels\n",
    "plt.title('Confusion Matrix - SVM')\n",
    "plt.xlabel('Predicted Label')\n",
    "plt.ylabel('True Label')\n",
    "\n",
    "# Show the plot\n",
    "plt.show()"
   ]
  },
  {
<<<<<<< HEAD
   "attachments": {},
=======
   "cell_type": "code",
   "execution_count": 201,
   "id": "743f72ed",
   "metadata": {},
   "outputs": [],
   "source": [
    "accuracy.append(accuracy_score(Y_val, predictions_val))\n",
    "precision.append(precision_score(Y_val, predictions_val))\n",
    "recall.append(recall_score(Y_val, predictions_val))"
   ]
  },
  {
>>>>>>> 4c132f4 (Finish Training)
   "cell_type": "markdown",
   "id": "1fc46ba0",
   "metadata": {},
   "source": [
    "### Cross Validation with SVM"
   ]
  },
  {
   "cell_type": "code",
<<<<<<< HEAD
   "execution_count": null,
=======
   "execution_count": 202,
>>>>>>> 4c132f4 (Finish Training)
   "id": "3da85165",
   "metadata": {},
   "outputs": [
    {
     "name": "stdout",
     "output_type": "stream",
     "text": [
      "SVM\n",
      "Cross-validation scores: [0.55869242 0.61218425 0.55869242 0.59077381 0.55357143]\n",
      "Average score: 0.5747828663411874\n"
     ]
    }
   ],
   "source": [
    "scores = cross_val_score(clf, X_train_prepared, y_train, cv=5)\n",
    "print(\"SVM\")\n",
    "print(\"Cross-validation scores:\", scores)\n",
    "print(\"Average score:\", scores.mean())"
   ]
  },
  {
   "attachments": {},
   "cell_type": "markdown",
   "id": "ba6edb3b",
   "metadata": {},
   "source": [
    "### Fine and tune the model"
   ]
  },
  {
   "cell_type": "code",
   "execution_count": null,
   "id": "e3286382",
   "metadata": {},
   "outputs": [],
   "source": [
    "from scipy.stats import uniform"
   ]
  },
  {
   "cell_type": "code",
   "execution_count": null,
   "id": "f7b70075",
   "metadata": {},
   "outputs": [],
   "source": [
    "clf = SVC()"
   ]
  },
  {
   "cell_type": "code",
   "execution_count": null,
   "id": "2fd3c3c6",
   "metadata": {},
   "outputs": [],
   "source": [
    "param_grid = {\n",
    "    'C': uniform(loc=0, scale=1),\n",
    "    'gamma': ['scale', 'auto'],\n",
    "    'kernel': ['linear', 'rbf']\n",
    "}"
   ]
  },
  {
   "cell_type": "code",
   "execution_count": null,
   "id": "aa54f6f5",
   "metadata": {},
   "outputs": [],
   "source": [
    "random_search = RandomizedSearchCV(clf, param_distributions=param_grid, n_iter=10, cv=5, scoring='accuracy')"
   ]
  },
  {
   "cell_type": "code",
   "execution_count": null,
   "id": "7742a620",
   "metadata": {},
   "outputs": [
    {
     "data": {
      "text/html": [
       "<style>#sk-container-id-10 {color: black;background-color: white;}#sk-container-id-10 pre{padding: 0;}#sk-container-id-10 div.sk-toggleable {background-color: white;}#sk-container-id-10 label.sk-toggleable__label {cursor: pointer;display: block;width: 100%;margin-bottom: 0;padding: 0.3em;box-sizing: border-box;text-align: center;}#sk-container-id-10 label.sk-toggleable__label-arrow:before {content: \"▸\";float: left;margin-right: 0.25em;color: #696969;}#sk-container-id-10 label.sk-toggleable__label-arrow:hover:before {color: black;}#sk-container-id-10 div.sk-estimator:hover label.sk-toggleable__label-arrow:before {color: black;}#sk-container-id-10 div.sk-toggleable__content {max-height: 0;max-width: 0;overflow: hidden;text-align: left;background-color: #f0f8ff;}#sk-container-id-10 div.sk-toggleable__content pre {margin: 0.2em;color: black;border-radius: 0.25em;background-color: #f0f8ff;}#sk-container-id-10 input.sk-toggleable__control:checked~div.sk-toggleable__content {max-height: 200px;max-width: 100%;overflow: auto;}#sk-container-id-10 input.sk-toggleable__control:checked~label.sk-toggleable__label-arrow:before {content: \"▾\";}#sk-container-id-10 div.sk-estimator input.sk-toggleable__control:checked~label.sk-toggleable__label {background-color: #d4ebff;}#sk-container-id-10 div.sk-label input.sk-toggleable__control:checked~label.sk-toggleable__label {background-color: #d4ebff;}#sk-container-id-10 input.sk-hidden--visually {border: 0;clip: rect(1px 1px 1px 1px);clip: rect(1px, 1px, 1px, 1px);height: 1px;margin: -1px;overflow: hidden;padding: 0;position: absolute;width: 1px;}#sk-container-id-10 div.sk-estimator {font-family: monospace;background-color: #f0f8ff;border: 1px dotted black;border-radius: 0.25em;box-sizing: border-box;margin-bottom: 0.5em;}#sk-container-id-10 div.sk-estimator:hover {background-color: #d4ebff;}#sk-container-id-10 div.sk-parallel-item::after {content: \"\";width: 100%;border-bottom: 1px solid gray;flex-grow: 1;}#sk-container-id-10 div.sk-label:hover label.sk-toggleable__label {background-color: #d4ebff;}#sk-container-id-10 div.sk-serial::before {content: \"\";position: absolute;border-left: 1px solid gray;box-sizing: border-box;top: 0;bottom: 0;left: 50%;z-index: 0;}#sk-container-id-10 div.sk-serial {display: flex;flex-direction: column;align-items: center;background-color: white;padding-right: 0.2em;padding-left: 0.2em;position: relative;}#sk-container-id-10 div.sk-item {position: relative;z-index: 1;}#sk-container-id-10 div.sk-parallel {display: flex;align-items: stretch;justify-content: center;background-color: white;position: relative;}#sk-container-id-10 div.sk-item::before, #sk-container-id-10 div.sk-parallel-item::before {content: \"\";position: absolute;border-left: 1px solid gray;box-sizing: border-box;top: 0;bottom: 0;left: 50%;z-index: -1;}#sk-container-id-10 div.sk-parallel-item {display: flex;flex-direction: column;z-index: 1;position: relative;background-color: white;}#sk-container-id-10 div.sk-parallel-item:first-child::after {align-self: flex-end;width: 50%;}#sk-container-id-10 div.sk-parallel-item:last-child::after {align-self: flex-start;width: 50%;}#sk-container-id-10 div.sk-parallel-item:only-child::after {width: 0;}#sk-container-id-10 div.sk-dashed-wrapped {border: 1px dashed gray;margin: 0 0.4em 0.5em 0.4em;box-sizing: border-box;padding-bottom: 0.4em;background-color: white;}#sk-container-id-10 div.sk-label label {font-family: monospace;font-weight: bold;display: inline-block;line-height: 1.2em;}#sk-container-id-10 div.sk-label-container {text-align: center;}#sk-container-id-10 div.sk-container {/* jupyter's `normalize.less` sets `[hidden] { display: none; }` but bootstrap.min.css set `[hidden] { display: none !important; }` so we also need the `!important` here to be able to override the default hidden behavior on the sphinx rendered scikit-learn.org. See: https://github.com/scikit-learn/scikit-learn/issues/21755 */display: inline-block !important;position: relative;}#sk-container-id-10 div.sk-text-repr-fallback {display: none;}</style><div id=\"sk-container-id-10\" class=\"sk-top-container\"><div class=\"sk-text-repr-fallback\"><pre>RandomizedSearchCV(cv=5, estimator=SVC(),\n",
       "                   param_distributions={&#x27;C&#x27;: &lt;scipy.stats._distn_infrastructure.rv_continuous_frozen object at 0x7fb2c3edce80&gt;,\n",
       "                                        &#x27;gamma&#x27;: [&#x27;scale&#x27;, &#x27;auto&#x27;],\n",
       "                                        &#x27;kernel&#x27;: [&#x27;linear&#x27;, &#x27;rbf&#x27;]},\n",
       "                   scoring=&#x27;accuracy&#x27;)</pre><b>In a Jupyter environment, please rerun this cell to show the HTML representation or trust the notebook. <br />On GitHub, the HTML representation is unable to render, please try loading this page with nbviewer.org.</b></div><div class=\"sk-container\" hidden><div class=\"sk-item sk-dashed-wrapped\"><div class=\"sk-label-container\"><div class=\"sk-label sk-toggleable\"><input class=\"sk-toggleable__control sk-hidden--visually\" id=\"sk-estimator-id-16\" type=\"checkbox\" ><label for=\"sk-estimator-id-16\" class=\"sk-toggleable__label sk-toggleable__label-arrow\">RandomizedSearchCV</label><div class=\"sk-toggleable__content\"><pre>RandomizedSearchCV(cv=5, estimator=SVC(),\n",
       "                   param_distributions={&#x27;C&#x27;: &lt;scipy.stats._distn_infrastructure.rv_continuous_frozen object at 0x7fb2c3edce80&gt;,\n",
       "                                        &#x27;gamma&#x27;: [&#x27;scale&#x27;, &#x27;auto&#x27;],\n",
       "                                        &#x27;kernel&#x27;: [&#x27;linear&#x27;, &#x27;rbf&#x27;]},\n",
       "                   scoring=&#x27;accuracy&#x27;)</pre></div></div></div><div class=\"sk-parallel\"><div class=\"sk-parallel-item\"><div class=\"sk-item\"><div class=\"sk-label-container\"><div class=\"sk-label sk-toggleable\"><input class=\"sk-toggleable__control sk-hidden--visually\" id=\"sk-estimator-id-17\" type=\"checkbox\" ><label for=\"sk-estimator-id-17\" class=\"sk-toggleable__label sk-toggleable__label-arrow\">estimator: SVC</label><div class=\"sk-toggleable__content\"><pre>SVC()</pre></div></div></div><div class=\"sk-serial\"><div class=\"sk-item\"><div class=\"sk-estimator sk-toggleable\"><input class=\"sk-toggleable__control sk-hidden--visually\" id=\"sk-estimator-id-18\" type=\"checkbox\" ><label for=\"sk-estimator-id-18\" class=\"sk-toggleable__label sk-toggleable__label-arrow\">SVC</label><div class=\"sk-toggleable__content\"><pre>SVC()</pre></div></div></div></div></div></div></div></div></div></div>"
      ],
      "text/plain": [
       "RandomizedSearchCV(cv=5, estimator=SVC(),\n",
       "                   param_distributions={'C': <scipy.stats._distn_infrastructure.rv_continuous_frozen object at 0x7fb2c3edce80>,\n",
       "                                        'gamma': ['scale', 'auto'],\n",
       "                                        'kernel': ['linear', 'rbf']},\n",
       "                   scoring='accuracy')"
      ]
     },
     "execution_count": 91,
     "metadata": {},
     "output_type": "execute_result"
    }
   ],
   "source": [
    "random_search.fit(X_train_prepared, y_train)"
   ]
  },
  {
   "cell_type": "code",
   "execution_count": null,
   "id": "b60102a5",
   "metadata": {},
   "outputs": [
    {
     "name": "stdout",
     "output_type": "stream",
     "text": [
      "Best parameters: {'C': 0.7879985514350598, 'gamma': 'auto', 'kernel': 'linear'}\n",
      "Best score: 0.6657746939786315\n"
     ]
    }
   ],
   "source": [
    "best_params = random_search.best_params_\n",
    "best_score = random_search.best_score_\n",
    "print(\"Best parameters:\", best_params)\n",
    "print(\"Best score:\", best_score)"
   ]
  },
  {
   "cell_type": "code",
   "execution_count": null,
   "id": "7304a8a1",
   "metadata": {},
   "outputs": [
    {
     "data": {
      "text/html": [
       "<style>#sk-container-id-11 {color: black;background-color: white;}#sk-container-id-11 pre{padding: 0;}#sk-container-id-11 div.sk-toggleable {background-color: white;}#sk-container-id-11 label.sk-toggleable__label {cursor: pointer;display: block;width: 100%;margin-bottom: 0;padding: 0.3em;box-sizing: border-box;text-align: center;}#sk-container-id-11 label.sk-toggleable__label-arrow:before {content: \"▸\";float: left;margin-right: 0.25em;color: #696969;}#sk-container-id-11 label.sk-toggleable__label-arrow:hover:before {color: black;}#sk-container-id-11 div.sk-estimator:hover label.sk-toggleable__label-arrow:before {color: black;}#sk-container-id-11 div.sk-toggleable__content {max-height: 0;max-width: 0;overflow: hidden;text-align: left;background-color: #f0f8ff;}#sk-container-id-11 div.sk-toggleable__content pre {margin: 0.2em;color: black;border-radius: 0.25em;background-color: #f0f8ff;}#sk-container-id-11 input.sk-toggleable__control:checked~div.sk-toggleable__content {max-height: 200px;max-width: 100%;overflow: auto;}#sk-container-id-11 input.sk-toggleable__control:checked~label.sk-toggleable__label-arrow:before {content: \"▾\";}#sk-container-id-11 div.sk-estimator input.sk-toggleable__control:checked~label.sk-toggleable__label {background-color: #d4ebff;}#sk-container-id-11 div.sk-label input.sk-toggleable__control:checked~label.sk-toggleable__label {background-color: #d4ebff;}#sk-container-id-11 input.sk-hidden--visually {border: 0;clip: rect(1px 1px 1px 1px);clip: rect(1px, 1px, 1px, 1px);height: 1px;margin: -1px;overflow: hidden;padding: 0;position: absolute;width: 1px;}#sk-container-id-11 div.sk-estimator {font-family: monospace;background-color: #f0f8ff;border: 1px dotted black;border-radius: 0.25em;box-sizing: border-box;margin-bottom: 0.5em;}#sk-container-id-11 div.sk-estimator:hover {background-color: #d4ebff;}#sk-container-id-11 div.sk-parallel-item::after {content: \"\";width: 100%;border-bottom: 1px solid gray;flex-grow: 1;}#sk-container-id-11 div.sk-label:hover label.sk-toggleable__label {background-color: #d4ebff;}#sk-container-id-11 div.sk-serial::before {content: \"\";position: absolute;border-left: 1px solid gray;box-sizing: border-box;top: 0;bottom: 0;left: 50%;z-index: 0;}#sk-container-id-11 div.sk-serial {display: flex;flex-direction: column;align-items: center;background-color: white;padding-right: 0.2em;padding-left: 0.2em;position: relative;}#sk-container-id-11 div.sk-item {position: relative;z-index: 1;}#sk-container-id-11 div.sk-parallel {display: flex;align-items: stretch;justify-content: center;background-color: white;position: relative;}#sk-container-id-11 div.sk-item::before, #sk-container-id-11 div.sk-parallel-item::before {content: \"\";position: absolute;border-left: 1px solid gray;box-sizing: border-box;top: 0;bottom: 0;left: 50%;z-index: -1;}#sk-container-id-11 div.sk-parallel-item {display: flex;flex-direction: column;z-index: 1;position: relative;background-color: white;}#sk-container-id-11 div.sk-parallel-item:first-child::after {align-self: flex-end;width: 50%;}#sk-container-id-11 div.sk-parallel-item:last-child::after {align-self: flex-start;width: 50%;}#sk-container-id-11 div.sk-parallel-item:only-child::after {width: 0;}#sk-container-id-11 div.sk-dashed-wrapped {border: 1px dashed gray;margin: 0 0.4em 0.5em 0.4em;box-sizing: border-box;padding-bottom: 0.4em;background-color: white;}#sk-container-id-11 div.sk-label label {font-family: monospace;font-weight: bold;display: inline-block;line-height: 1.2em;}#sk-container-id-11 div.sk-label-container {text-align: center;}#sk-container-id-11 div.sk-container {/* jupyter's `normalize.less` sets `[hidden] { display: none; }` but bootstrap.min.css set `[hidden] { display: none !important; }` so we also need the `!important` here to be able to override the default hidden behavior on the sphinx rendered scikit-learn.org. See: https://github.com/scikit-learn/scikit-learn/issues/21755 */display: inline-block !important;position: relative;}#sk-container-id-11 div.sk-text-repr-fallback {display: none;}</style><div id=\"sk-container-id-11\" class=\"sk-top-container\"><div class=\"sk-text-repr-fallback\"><pre>SVC(C=0.7879985514350598, gamma=&#x27;auto&#x27;, kernel=&#x27;linear&#x27;)</pre><b>In a Jupyter environment, please rerun this cell to show the HTML representation or trust the notebook. <br />On GitHub, the HTML representation is unable to render, please try loading this page with nbviewer.org.</b></div><div class=\"sk-container\" hidden><div class=\"sk-item\"><div class=\"sk-estimator sk-toggleable\"><input class=\"sk-toggleable__control sk-hidden--visually\" id=\"sk-estimator-id-19\" type=\"checkbox\" checked><label for=\"sk-estimator-id-19\" class=\"sk-toggleable__label sk-toggleable__label-arrow\">SVC</label><div class=\"sk-toggleable__content\"><pre>SVC(C=0.7879985514350598, gamma=&#x27;auto&#x27;, kernel=&#x27;linear&#x27;)</pre></div></div></div></div></div>"
      ],
      "text/plain": [
       "SVC(C=0.7879985514350598, gamma='auto', kernel='linear')"
      ]
     },
     "execution_count": 93,
     "metadata": {},
     "output_type": "execute_result"
    }
   ],
   "source": [
    "clf = SVC(**best_params)\n",
    "clf.fit(X_train_prepared, y_train)"
   ]
  },
  {
   "attachments": {},
   "cell_type": "markdown",
   "id": "952c545b",
   "metadata": {},
   "source": [
    "## Evaluate with ROC"
   ]
  },
  {
   "cell_type": "code",
<<<<<<< HEAD
   "execution_count": null,
=======
   "execution_count": 219,
>>>>>>> 4c132f4 (Finish Training)
   "id": "0bcda12c",
   "metadata": {},
   "outputs": [],
   "source": [
    "import numpy as np"
   ]
  },
  {
   "cell_type": "code",
<<<<<<< HEAD
   "execution_count": null,
=======
   "execution_count": 221,
>>>>>>> 4c132f4 (Finish Training)
   "id": "bf46379c",
   "metadata": {},
   "outputs": [
    {
     "data": {
      "image/png": "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\n",
      "text/plain": [
       "<Figure size 640x480 with 1 Axes>"
      ]
     },
     "metadata": {},
     "output_type": "display_data"
    }
   ],
   "source": [
    "from sklearn.metrics import roc_curve, auc\n",
    "decision_scores = clf.decision_function(X_train_prepared)\n",
    "\n",
    "# Convert decision scores to probabilities using sigmoid function\n",
    "y_pred_probs = 1 / (1 + np.exp(-decision_scores))\n",
    "\n",
    "# Calculate FPR, TPR, and thresholds\n",
    "fpr, tpr, thresholds = roc_curve(Y_train, y_pred_probs)\n",
    "\n",
    "# Calculate AUC\n",
    "roc_auc = auc(fpr, tpr)\n",
    "\n",
    "# Plot the ROC curve\n",
    "plt.figure()\n",
    "plt.plot(fpr, tpr, color='darkorange', lw=2, label='ROC curve (area = %0.2f)' % roc_auc)\n",
    "plt.plot([0, 1], [0, 1], color='navy', lw=2, linestyle='--')\n",
    "plt.xlim([0.0, 1.0])\n",
    "plt.ylim([0.0, 1.05])\n",
    "plt.xlabel('False Positive Rate')\n",
    "plt.ylabel('True Positive Rate')\n",
    "plt.title('Receiver Operating Characteristic (ROC) Curve - SVM')\n",
    "plt.legend(loc=\"lower right\")\n",
    "plt.show()"
   ]
  },
  {
   "cell_type": "code",
   "execution_count": 146,
   "id": "14562414",
   "metadata": {},
   "outputs": [
    {
     "data": {
      "text/html": [
       "<div>\n",
       "<style scoped>\n",
       "    .dataframe tbody tr th:only-of-type {\n",
       "        vertical-align: middle;\n",
       "    }\n",
       "\n",
       "    .dataframe tbody tr th {\n",
       "        vertical-align: top;\n",
       "    }\n",
       "\n",
       "    .dataframe thead th {\n",
       "        text-align: right;\n",
       "    }\n",
       "</style>\n",
       "<table border=\"1\" class=\"dataframe\">\n",
       "  <thead>\n",
       "    <tr style=\"text-align: right;\">\n",
       "      <th></th>\n",
       "      <th>Accuracy</th>\n",
       "      <th>Precision</th>\n",
       "      <th>Recall</th>\n",
       "    </tr>\n",
       "  </thead>\n",
       "  <tbody>\n",
       "    <tr>\n",
       "      <th>Logistic Regression</th>\n",
       "      <td>0.666997</td>\n",
       "      <td>0.666667</td>\n",
       "      <td>1.000000</td>\n",
       "    </tr>\n",
       "    <tr>\n",
       "      <th>Random Forest</th>\n",
       "      <td>0.666997</td>\n",
       "      <td>0.666667</td>\n",
       "      <td>1.000000</td>\n",
       "    </tr>\n",
       "    <tr>\n",
       "      <th>XG_Boost</th>\n",
       "      <td>0.635282</td>\n",
       "      <td>0.313253</td>\n",
       "      <td>0.077151</td>\n",
       "    </tr>\n",
       "    <tr>\n",
       "      <th>SVM</th>\n",
       "      <td>0.552032</td>\n",
       "      <td>0.328358</td>\n",
       "      <td>0.326409</td>\n",
       "    </tr>\n",
       "  </tbody>\n",
       "</table>\n",
       "</div>"
      ],
      "text/plain": [
       "                     Accuracy  Precision    Recall\n",
       "Logistic Regression  0.666997   0.666667  1.000000\n",
       "Random Forest        0.666997   0.666667  1.000000\n",
       "XG_Boost             0.635282   0.313253  0.077151\n",
       "SVM                  0.552032   0.328358  0.326409"
      ]
     },
     "execution_count": 146,
     "metadata": {},
     "output_type": "execute_result"
    }
   ],
   "source": [
    "pd.DataFrame(data={\"Accuracy\":accuracy, \"Precision\":precision, \"Recall\": recall}, index=models)"
   ]
  },
  {
   "cell_type": "code",
   "execution_count": null,
   "id": "1cf66b5c",
   "metadata": {},
   "outputs": [],
   "source": []
  }
 ],
 "metadata": {
  "kernelspec": {
   "display_name": "Python 3 (ipykernel)",
   "language": "python",
   "name": "python3"
  },
  "language_info": {
   "codemirror_mode": {
    "name": "ipython",
    "version": 3
   },
   "file_extension": ".py",
   "mimetype": "text/x-python",
   "name": "python",
   "nbconvert_exporter": "python",
   "pygments_lexer": "ipython3",
   "version": "3.10.11"
  }
 },
 "nbformat": 4,
 "nbformat_minor": 5
}
