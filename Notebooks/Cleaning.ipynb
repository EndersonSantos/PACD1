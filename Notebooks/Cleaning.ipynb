{
 "cells": [
  {
   "cell_type": "markdown",
   "id": "0591d3ce",
   "metadata": {},
   "source": [
    "## Imports"
   ]
  },
  {
   "cell_type": "code",
   "execution_count": 2,
   "id": "673654e8",
   "metadata": {},
   "outputs": [],
   "source": [
    "import pandas as pd\n",
    "import matplotlib.pyplot as plt\n",
    "import seaborn as sns\n",
    "import numpy as np\n",
    "pd.set_option('display.max_columns', 100)"
   ]
  },
  {
   "cell_type": "markdown",
   "id": "4404eef3",
   "metadata": {},
   "source": [
    "### Reading Data Frame"
   ]
  },
  {
   "cell_type": "code",
   "execution_count": 5,
   "id": "d53de832",
   "metadata": {},
   "outputs": [],
   "source": [
    "sw = pd.read_json('Data/atpplayers.json', lines=True)"
   ]
  },
  {
   "cell_type": "code",
   "execution_count": 68,
   "id": "56dc99d3",
   "metadata": {},
   "outputs": [
    {
     "data": {
      "text/plain": [
       "_id           False\n",
       "PlayerName    False\n",
       "Born          False\n",
       "Height        False\n",
       "Hand          False\n",
       "LinkPlayer    False\n",
       "Tournament    False\n",
       "Location      False\n",
       "Date          False\n",
       "Ground        False\n",
       "Prize         False\n",
       "GameRound     False\n",
       "GameRank      False\n",
       "Oponent       False\n",
       "WL            False\n",
       "Score         False\n",
       "dtype: bool"
      ]
     },
     "execution_count": 68,
     "metadata": {},
     "output_type": "execute_result"
    }
   ],
   "source": [
    "sw.isna().any()"
   ]
  },
  {
   "cell_type": "markdown",
   "id": "fa2efabe",
   "metadata": {},
   "source": [
    "### Lenght of Data Frame"
   ]
  },
  {
   "cell_type": "code",
   "execution_count": 69,
   "id": "cb94c2d5",
   "metadata": {},
   "outputs": [
    {
     "data": {
      "text/plain": [
       "1308835"
      ]
     },
     "execution_count": 69,
     "metadata": {},
     "output_type": "execute_result"
    }
   ],
   "source": [
    "len(sw)"
   ]
  },
  {
   "cell_type": "code",
   "execution_count": 70,
   "id": "f4947d42",
   "metadata": {},
   "outputs": [
    {
     "data": {
      "text/html": [
       "<div>\n",
       "<style scoped>\n",
       "    .dataframe tbody tr th:only-of-type {\n",
       "        vertical-align: middle;\n",
       "    }\n",
       "\n",
       "    .dataframe tbody tr th {\n",
       "        vertical-align: top;\n",
       "    }\n",
       "\n",
       "    .dataframe thead th {\n",
       "        text-align: right;\n",
       "    }\n",
       "</style>\n",
       "<table border=\"1\" class=\"dataframe\">\n",
       "  <thead>\n",
       "    <tr style=\"text-align: right;\">\n",
       "      <th></th>\n",
       "      <th>_id</th>\n",
       "      <th>PlayerName</th>\n",
       "      <th>Born</th>\n",
       "      <th>Height</th>\n",
       "      <th>Hand</th>\n",
       "      <th>LinkPlayer</th>\n",
       "      <th>Tournament</th>\n",
       "      <th>Location</th>\n",
       "      <th>Date</th>\n",
       "      <th>Ground</th>\n",
       "      <th>Prize</th>\n",
       "      <th>GameRound</th>\n",
       "      <th>GameRank</th>\n",
       "      <th>Oponent</th>\n",
       "      <th>WL</th>\n",
       "      <th>Score</th>\n",
       "    </tr>\n",
       "  </thead>\n",
       "  <tbody>\n",
       "    <tr>\n",
       "      <th>0</th>\n",
       "      <td>{'$oid': '624ab34913b144c54b3c9aba'}</td>\n",
       "      <td>Novak Djokovic</td>\n",
       "      <td>Belgrade, Serbia</td>\n",
       "      <td>188</td>\n",
       "      <td>Right-Handed, Two-Handed Backhand</td>\n",
       "      <td>https://www.atptour.com/en/players/novak-djoko...</td>\n",
       "      <td>Davis Cup Finals</td>\n",
       "      <td>Madrid, Spain</td>\n",
       "      <td>2021.11.22 - 2021.12.05</td>\n",
       "      <td>Hard</td>\n",
       "      <td></td>\n",
       "      <td>Semi-Finals</td>\n",
       "      <td>30</td>\n",
       "      <td>Marin Cilic</td>\n",
       "      <td>W</td>\n",
       "      <td>64 62</td>\n",
       "    </tr>\n",
       "    <tr>\n",
       "      <th>1</th>\n",
       "      <td>{'$oid': '624ab34913b144c54b3c9abb'}</td>\n",
       "      <td>Novak Djokovic</td>\n",
       "      <td>Belgrade, Serbia</td>\n",
       "      <td>188</td>\n",
       "      <td>Right-Handed, Two-Handed Backhand</td>\n",
       "      <td>https://www.atptour.com/en/players/novak-djoko...</td>\n",
       "      <td>Dubai</td>\n",
       "      <td>Dubai, U.A.E.</td>\n",
       "      <td>2022.02.21 - 2022.02.26</td>\n",
       "      <td>Hard</td>\n",
       "      <td>$2,794,840</td>\n",
       "      <td>Round of 16</td>\n",
       "      <td>26</td>\n",
       "      <td>Karen Khachanov</td>\n",
       "      <td>W</td>\n",
       "      <td>63 76</td>\n",
       "    </tr>\n",
       "    <tr>\n",
       "      <th>2</th>\n",
       "      <td>{'$oid': '624ab34913b144c54b3c9abc'}</td>\n",
       "      <td>Novak Djokovic</td>\n",
       "      <td>Belgrade, Serbia</td>\n",
       "      <td>188</td>\n",
       "      <td>Right-Handed, Two-Handed Backhand</td>\n",
       "      <td>https://www.atptour.com/en/players/novak-djoko...</td>\n",
       "      <td>Nitto ATP Finals</td>\n",
       "      <td>Turin, Italy</td>\n",
       "      <td>2021.11.15 - 2021.11.21</td>\n",
       "      <td>Hard</td>\n",
       "      <td>$7,250,000</td>\n",
       "      <td>Round Robin</td>\n",
       "      <td>12</td>\n",
       "      <td>Cameron Norrie</td>\n",
       "      <td>W</td>\n",
       "      <td>62 61</td>\n",
       "    </tr>\n",
       "    <tr>\n",
       "      <th>3</th>\n",
       "      <td>{'$oid': '624ab34913b144c54b3c9abd'}</td>\n",
       "      <td>Novak Djokovic</td>\n",
       "      <td>Belgrade, Serbia</td>\n",
       "      <td>188</td>\n",
       "      <td>Right-Handed, Two-Handed Backhand</td>\n",
       "      <td>https://www.atptour.com/en/players/novak-djoko...</td>\n",
       "      <td>Nitto ATP Finals</td>\n",
       "      <td>Turin, Italy</td>\n",
       "      <td>2021.11.15 - 2021.11.21</td>\n",
       "      <td>Hard</td>\n",
       "      <td>$7,250,000</td>\n",
       "      <td>Round Robin</td>\n",
       "      <td>5</td>\n",
       "      <td>Andrey Rublev</td>\n",
       "      <td>W</td>\n",
       "      <td>63 62</td>\n",
       "    </tr>\n",
       "    <tr>\n",
       "      <th>4</th>\n",
       "      <td>{'$oid': '624ab34913b144c54b3c9abe'}</td>\n",
       "      <td>Novak Djokovic</td>\n",
       "      <td>Belgrade, Serbia</td>\n",
       "      <td>188</td>\n",
       "      <td>Right-Handed, Two-Handed Backhand</td>\n",
       "      <td>https://www.atptour.com/en/players/novak-djoko...</td>\n",
       "      <td>ATP Masters 1000 Paris</td>\n",
       "      <td>Paris, France</td>\n",
       "      <td>2021.11.01 - 2021.11.07</td>\n",
       "      <td>Hard</td>\n",
       "      <td>�5,207,405</td>\n",
       "      <td>Finals</td>\n",
       "      <td>2</td>\n",
       "      <td>Daniil Medvedev</td>\n",
       "      <td>W</td>\n",
       "      <td>46 63 63</td>\n",
       "    </tr>\n",
       "  </tbody>\n",
       "</table>\n",
       "</div>"
      ],
      "text/plain": [
       "                                    _id      PlayerName              Born  \\\n",
       "0  {'$oid': '624ab34913b144c54b3c9aba'}  Novak Djokovic  Belgrade, Serbia   \n",
       "1  {'$oid': '624ab34913b144c54b3c9abb'}  Novak Djokovic  Belgrade, Serbia   \n",
       "2  {'$oid': '624ab34913b144c54b3c9abc'}  Novak Djokovic  Belgrade, Serbia   \n",
       "3  {'$oid': '624ab34913b144c54b3c9abd'}  Novak Djokovic  Belgrade, Serbia   \n",
       "4  {'$oid': '624ab34913b144c54b3c9abe'}  Novak Djokovic  Belgrade, Serbia   \n",
       "\n",
       "  Height                               Hand  \\\n",
       "0    188  Right-Handed, Two-Handed Backhand   \n",
       "1    188  Right-Handed, Two-Handed Backhand   \n",
       "2    188  Right-Handed, Two-Handed Backhand   \n",
       "3    188  Right-Handed, Two-Handed Backhand   \n",
       "4    188  Right-Handed, Two-Handed Backhand   \n",
       "\n",
       "                                          LinkPlayer              Tournament  \\\n",
       "0  https://www.atptour.com/en/players/novak-djoko...        Davis Cup Finals   \n",
       "1  https://www.atptour.com/en/players/novak-djoko...                   Dubai   \n",
       "2  https://www.atptour.com/en/players/novak-djoko...        Nitto ATP Finals   \n",
       "3  https://www.atptour.com/en/players/novak-djoko...        Nitto ATP Finals   \n",
       "4  https://www.atptour.com/en/players/novak-djoko...  ATP Masters 1000 Paris   \n",
       "\n",
       "        Location                     Date Ground       Prize    GameRound  \\\n",
       "0  Madrid, Spain  2021.11.22 - 2021.12.05   Hard              Semi-Finals   \n",
       "1  Dubai, U.A.E.  2022.02.21 - 2022.02.26   Hard  $2,794,840  Round of 16   \n",
       "2   Turin, Italy  2021.11.15 - 2021.11.21   Hard  $7,250,000  Round Robin   \n",
       "3   Turin, Italy  2021.11.15 - 2021.11.21   Hard  $7,250,000  Round Robin   \n",
       "4  Paris, France  2021.11.01 - 2021.11.07   Hard  �5,207,405       Finals   \n",
       "\n",
       "  GameRank          Oponent WL     Score  \n",
       "0       30      Marin Cilic  W     64 62  \n",
       "1       26  Karen Khachanov  W     63 76  \n",
       "2       12   Cameron Norrie  W     62 61  \n",
       "3        5    Andrey Rublev  W     63 62  \n",
       "4        2  Daniil Medvedev  W  46 63 63  "
      ]
     },
     "execution_count": 70,
     "metadata": {},
     "output_type": "execute_result"
    }
   ],
   "source": [
    "sw.head()"
   ]
  },
  {
   "cell_type": "markdown",
   "id": "837d2bdc",
   "metadata": {},
   "source": [
    "### Selecting Only Switzerland"
   ]
  },
  {
   "cell_type": "code",
   "execution_count": 71,
   "id": "386e4b07",
   "metadata": {},
   "outputs": [],
   "source": [
    "switzerland_sw = sw[sw['Location'].str.contains('Switzerland', case=False)]"
   ]
  },
  {
   "cell_type": "code",
   "execution_count": 72,
   "id": "d3a530cf",
   "metadata": {},
   "outputs": [
    {
     "data": {
      "text/html": [
       "<div>\n",
       "<style scoped>\n",
       "    .dataframe tbody tr th:only-of-type {\n",
       "        vertical-align: middle;\n",
       "    }\n",
       "\n",
       "    .dataframe tbody tr th {\n",
       "        vertical-align: top;\n",
       "    }\n",
       "\n",
       "    .dataframe thead th {\n",
       "        text-align: right;\n",
       "    }\n",
       "</style>\n",
       "<table border=\"1\" class=\"dataframe\">\n",
       "  <thead>\n",
       "    <tr style=\"text-align: right;\">\n",
       "      <th></th>\n",
       "      <th>_id</th>\n",
       "      <th>PlayerName</th>\n",
       "      <th>Born</th>\n",
       "      <th>Height</th>\n",
       "      <th>Hand</th>\n",
       "      <th>LinkPlayer</th>\n",
       "      <th>Tournament</th>\n",
       "      <th>Location</th>\n",
       "      <th>Date</th>\n",
       "      <th>Ground</th>\n",
       "      <th>Prize</th>\n",
       "      <th>GameRound</th>\n",
       "      <th>GameRank</th>\n",
       "      <th>Oponent</th>\n",
       "      <th>WL</th>\n",
       "      <th>Score</th>\n",
       "    </tr>\n",
       "  </thead>\n",
       "  <tbody>\n",
       "    <tr>\n",
       "      <th>769</th>\n",
       "      <td>{'$oid': '624ab34913b144c54b3c9dbb'}</td>\n",
       "      <td>Novak Djokovic</td>\n",
       "      <td>Belgrade, Serbia</td>\n",
       "      <td>188</td>\n",
       "      <td>Right-Handed, Two-Handed Backhand</td>\n",
       "      <td>https://www.atptour.com/en/players/novak-djoko...</td>\n",
       "      <td>Basel</td>\n",
       "      <td>Basel, Switzerland</td>\n",
       "      <td>2011.10.31 - 2011.11.06</td>\n",
       "      <td>Hard</td>\n",
       "      <td>�1,308,100</td>\n",
       "      <td>Semi-Finals</td>\n",
       "      <td>32</td>\n",
       "      <td>Kei Nishikori</td>\n",
       "      <td>L</td>\n",
       "      <td>62 67,  06</td>\n",
       "    </tr>\n",
       "    <tr>\n",
       "      <th>770</th>\n",
       "      <td>{'$oid': '624ab34913b144c54b3c9dbc'}</td>\n",
       "      <td>Novak Djokovic</td>\n",
       "      <td>Belgrade, Serbia</td>\n",
       "      <td>188</td>\n",
       "      <td>Right-Handed, Two-Handed Backhand</td>\n",
       "      <td>https://www.atptour.com/en/players/novak-djoko...</td>\n",
       "      <td>Basel</td>\n",
       "      <td>Basel, Switzerland</td>\n",
       "      <td>2011.10.31 - 2011.11.06</td>\n",
       "      <td>Hard</td>\n",
       "      <td>�1,308,100</td>\n",
       "      <td>Quarter-Finals</td>\n",
       "      <td>59</td>\n",
       "      <td>Marcos Baghdatis</td>\n",
       "      <td>W</td>\n",
       "      <td>26 62 63</td>\n",
       "    </tr>\n",
       "    <tr>\n",
       "      <th>771</th>\n",
       "      <td>{'$oid': '624ab34913b144c54b3c9dbd'}</td>\n",
       "      <td>Novak Djokovic</td>\n",
       "      <td>Belgrade, Serbia</td>\n",
       "      <td>188</td>\n",
       "      <td>Right-Handed, Two-Handed Backhand</td>\n",
       "      <td>https://www.atptour.com/en/players/novak-djoko...</td>\n",
       "      <td>Basel</td>\n",
       "      <td>Basel, Switzerland</td>\n",
       "      <td>2011.10.31 - 2011.11.06</td>\n",
       "      <td>Hard</td>\n",
       "      <td>�1,308,100</td>\n",
       "      <td>Round of 16</td>\n",
       "      <td>64</td>\n",
       "      <td>Lukasz Kubot</td>\n",
       "      <td>W</td>\n",
       "      <td>61 62</td>\n",
       "    </tr>\n",
       "  </tbody>\n",
       "</table>\n",
       "</div>"
      ],
      "text/plain": [
       "                                      _id      PlayerName              Born  \\\n",
       "769  {'$oid': '624ab34913b144c54b3c9dbb'}  Novak Djokovic  Belgrade, Serbia   \n",
       "770  {'$oid': '624ab34913b144c54b3c9dbc'}  Novak Djokovic  Belgrade, Serbia   \n",
       "771  {'$oid': '624ab34913b144c54b3c9dbd'}  Novak Djokovic  Belgrade, Serbia   \n",
       "\n",
       "    Height                               Hand  \\\n",
       "769    188  Right-Handed, Two-Handed Backhand   \n",
       "770    188  Right-Handed, Two-Handed Backhand   \n",
       "771    188  Right-Handed, Two-Handed Backhand   \n",
       "\n",
       "                                            LinkPlayer Tournament  \\\n",
       "769  https://www.atptour.com/en/players/novak-djoko...      Basel   \n",
       "770  https://www.atptour.com/en/players/novak-djoko...      Basel   \n",
       "771  https://www.atptour.com/en/players/novak-djoko...      Basel   \n",
       "\n",
       "               Location                     Date Ground       Prize  \\\n",
       "769  Basel, Switzerland  2011.10.31 - 2011.11.06   Hard  �1,308,100   \n",
       "770  Basel, Switzerland  2011.10.31 - 2011.11.06   Hard  �1,308,100   \n",
       "771  Basel, Switzerland  2011.10.31 - 2011.11.06   Hard  �1,308,100   \n",
       "\n",
       "          GameRound GameRank           Oponent WL       Score  \n",
       "769     Semi-Finals       32     Kei Nishikori  L  62 67,  06  \n",
       "770  Quarter-Finals       59  Marcos Baghdatis  W    26 62 63  \n",
       "771     Round of 16       64      Lukasz Kubot  W       61 62  "
      ]
     },
     "execution_count": 72,
     "metadata": {},
     "output_type": "execute_result"
    }
   ],
   "source": [
    "switzerland_sw.head(3)"
   ]
  },
  {
   "cell_type": "markdown",
   "id": "6a7c1b1e",
   "metadata": {},
   "source": [
    "### Fix Id "
   ]
  },
  {
   "cell_type": "code",
   "execution_count": 73,
   "id": "fda609d4",
   "metadata": {},
   "outputs": [
    {
     "name": "stderr",
     "output_type": "stream",
     "text": [
      "/var/folders/by/h2v0ff9j4mvgbk5y8d7h456r0000gq/T/ipykernel_7782/222526879.py:1: SettingWithCopyWarning: \n",
      "A value is trying to be set on a copy of a slice from a DataFrame.\n",
      "Try using .loc[row_indexer,col_indexer] = value instead\n",
      "\n",
      "See the caveats in the documentation: https://pandas.pydata.org/pandas-docs/stable/user_guide/indexing.html#returning-a-view-versus-a-copy\n",
      "  switzerland_sw._id = switzerland_sw._id.apply(lambda x: str(x).split(\":\")[1].split(\"'\")[1].split(\"'\")[0])\n"
     ]
    }
   ],
   "source": [
    "switzerland_sw._id = switzerland_sw._id.apply(lambda x: str(x).split(\":\")[1].split(\"'\")[1].split(\"'\")[0])"
   ]
  },
  {
   "cell_type": "code",
   "execution_count": 74,
   "id": "c076c3f5",
   "metadata": {},
   "outputs": [
    {
     "name": "stderr",
     "output_type": "stream",
     "text": [
      "/var/folders/by/h2v0ff9j4mvgbk5y8d7h456r0000gq/T/ipykernel_7782/3554660807.py:1: SettingWithCopyWarning: \n",
      "A value is trying to be set on a copy of a slice from a DataFrame\n",
      "\n",
      "See the caveats in the documentation: https://pandas.pydata.org/pandas-docs/stable/user_guide/indexing.html#returning-a-view-versus-a-copy\n",
      "  switzerland_sw.drop(\"_id\", inplace=True, axis=1)\n"
     ]
    }
   ],
   "source": [
    "switzerland_sw.drop(\"_id\", inplace=True, axis=1)"
   ]
  },
  {
   "cell_type": "markdown",
   "id": "7371308b",
   "metadata": {},
   "source": [
    "We do not need the id sinnce we gonna drop it "
   ]
  },
  {
   "cell_type": "markdown",
   "id": "d018ca50",
   "metadata": {},
   "source": [
    "### Length with data frame with only switzerland"
   ]
  },
  {
   "cell_type": "code",
   "execution_count": 75,
   "id": "e87845ae",
   "metadata": {},
   "outputs": [
    {
     "data": {
      "text/plain": [
       "14828"
      ]
     },
     "execution_count": 75,
     "metadata": {},
     "output_type": "execute_result"
    }
   ],
   "source": [
    "len(switzerland_sw)"
   ]
  },
  {
   "cell_type": "markdown",
   "id": "878d3f5e",
   "metadata": {},
   "source": [
    "### Limpar Born\n",
    "Como não faz sentido usar o local de nascimento da pessoa para prever o numero de sets então vamos eliminar essa feature"
   ]
  },
  {
   "cell_type": "code",
   "execution_count": 76,
   "id": "3c7d146c",
   "metadata": {},
   "outputs": [
    {
     "name": "stderr",
     "output_type": "stream",
     "text": [
      "/var/folders/by/h2v0ff9j4mvgbk5y8d7h456r0000gq/T/ipykernel_7782/1521346280.py:1: SettingWithCopyWarning: \n",
      "A value is trying to be set on a copy of a slice from a DataFrame\n",
      "\n",
      "See the caveats in the documentation: https://pandas.pydata.org/pandas-docs/stable/user_guide/indexing.html#returning-a-view-versus-a-copy\n",
      "  switzerland_sw.drop(\"Born\", axis=1, inplace=True)\n"
     ]
    }
   ],
   "source": [
    "switzerland_sw.drop(\"Born\", axis=1, inplace=True)"
   ]
  },
  {
   "cell_type": "code",
   "execution_count": 77,
   "id": "8a618c79",
   "metadata": {},
   "outputs": [
    {
     "data": {
      "text/html": [
       "<div>\n",
       "<style scoped>\n",
       "    .dataframe tbody tr th:only-of-type {\n",
       "        vertical-align: middle;\n",
       "    }\n",
       "\n",
       "    .dataframe tbody tr th {\n",
       "        vertical-align: top;\n",
       "    }\n",
       "\n",
       "    .dataframe thead th {\n",
       "        text-align: right;\n",
       "    }\n",
       "</style>\n",
       "<table border=\"1\" class=\"dataframe\">\n",
       "  <thead>\n",
       "    <tr style=\"text-align: right;\">\n",
       "      <th></th>\n",
       "      <th>PlayerName</th>\n",
       "      <th>Height</th>\n",
       "      <th>Hand</th>\n",
       "      <th>LinkPlayer</th>\n",
       "      <th>Tournament</th>\n",
       "      <th>Location</th>\n",
       "      <th>Date</th>\n",
       "      <th>Ground</th>\n",
       "      <th>Prize</th>\n",
       "      <th>GameRound</th>\n",
       "      <th>GameRank</th>\n",
       "      <th>Oponent</th>\n",
       "      <th>WL</th>\n",
       "      <th>Score</th>\n",
       "    </tr>\n",
       "  </thead>\n",
       "  <tbody>\n",
       "    <tr>\n",
       "      <th>769</th>\n",
       "      <td>Novak Djokovic</td>\n",
       "      <td>188</td>\n",
       "      <td>Right-Handed, Two-Handed Backhand</td>\n",
       "      <td>https://www.atptour.com/en/players/novak-djoko...</td>\n",
       "      <td>Basel</td>\n",
       "      <td>Basel, Switzerland</td>\n",
       "      <td>2011.10.31 - 2011.11.06</td>\n",
       "      <td>Hard</td>\n",
       "      <td>�1,308,100</td>\n",
       "      <td>Semi-Finals</td>\n",
       "      <td>32</td>\n",
       "      <td>Kei Nishikori</td>\n",
       "      <td>L</td>\n",
       "      <td>62 67,  06</td>\n",
       "    </tr>\n",
       "    <tr>\n",
       "      <th>770</th>\n",
       "      <td>Novak Djokovic</td>\n",
       "      <td>188</td>\n",
       "      <td>Right-Handed, Two-Handed Backhand</td>\n",
       "      <td>https://www.atptour.com/en/players/novak-djoko...</td>\n",
       "      <td>Basel</td>\n",
       "      <td>Basel, Switzerland</td>\n",
       "      <td>2011.10.31 - 2011.11.06</td>\n",
       "      <td>Hard</td>\n",
       "      <td>�1,308,100</td>\n",
       "      <td>Quarter-Finals</td>\n",
       "      <td>59</td>\n",
       "      <td>Marcos Baghdatis</td>\n",
       "      <td>W</td>\n",
       "      <td>26 62 63</td>\n",
       "    </tr>\n",
       "    <tr>\n",
       "      <th>771</th>\n",
       "      <td>Novak Djokovic</td>\n",
       "      <td>188</td>\n",
       "      <td>Right-Handed, Two-Handed Backhand</td>\n",
       "      <td>https://www.atptour.com/en/players/novak-djoko...</td>\n",
       "      <td>Basel</td>\n",
       "      <td>Basel, Switzerland</td>\n",
       "      <td>2011.10.31 - 2011.11.06</td>\n",
       "      <td>Hard</td>\n",
       "      <td>�1,308,100</td>\n",
       "      <td>Round of 16</td>\n",
       "      <td>64</td>\n",
       "      <td>Lukasz Kubot</td>\n",
       "      <td>W</td>\n",
       "      <td>61 62</td>\n",
       "    </tr>\n",
       "  </tbody>\n",
       "</table>\n",
       "</div>"
      ],
      "text/plain": [
       "         PlayerName Height                               Hand  \\\n",
       "769  Novak Djokovic    188  Right-Handed, Two-Handed Backhand   \n",
       "770  Novak Djokovic    188  Right-Handed, Two-Handed Backhand   \n",
       "771  Novak Djokovic    188  Right-Handed, Two-Handed Backhand   \n",
       "\n",
       "                                            LinkPlayer Tournament  \\\n",
       "769  https://www.atptour.com/en/players/novak-djoko...      Basel   \n",
       "770  https://www.atptour.com/en/players/novak-djoko...      Basel   \n",
       "771  https://www.atptour.com/en/players/novak-djoko...      Basel   \n",
       "\n",
       "               Location                     Date Ground       Prize  \\\n",
       "769  Basel, Switzerland  2011.10.31 - 2011.11.06   Hard  �1,308,100   \n",
       "770  Basel, Switzerland  2011.10.31 - 2011.11.06   Hard  �1,308,100   \n",
       "771  Basel, Switzerland  2011.10.31 - 2011.11.06   Hard  �1,308,100   \n",
       "\n",
       "          GameRound GameRank           Oponent WL       Score  \n",
       "769     Semi-Finals       32     Kei Nishikori  L  62 67,  06  \n",
       "770  Quarter-Finals       59  Marcos Baghdatis  W    26 62 63  \n",
       "771     Round of 16       64      Lukasz Kubot  W       61 62  "
      ]
     },
     "execution_count": 77,
     "metadata": {},
     "output_type": "execute_result"
    }
   ],
   "source": [
    "switzerland_sw.head(3)"
   ]
  },
  {
   "cell_type": "markdown",
   "id": "3601a995",
   "metadata": {},
   "source": [
    "### Drop the link of the player that we're not going to use"
   ]
  },
  {
   "cell_type": "code",
   "execution_count": 78,
   "id": "6e05701c",
   "metadata": {},
   "outputs": [
    {
     "name": "stderr",
     "output_type": "stream",
     "text": [
      "/var/folders/by/h2v0ff9j4mvgbk5y8d7h456r0000gq/T/ipykernel_7782/2712100004.py:1: SettingWithCopyWarning: \n",
      "A value is trying to be set on a copy of a slice from a DataFrame\n",
      "\n",
      "See the caveats in the documentation: https://pandas.pydata.org/pandas-docs/stable/user_guide/indexing.html#returning-a-view-versus-a-copy\n",
      "  switzerland_sw.drop(\"LinkPlayer\", axis=1, inplace=True)\n"
     ]
    }
   ],
   "source": [
    "switzerland_sw.drop(\"LinkPlayer\", axis=1, inplace=True)"
   ]
  },
  {
   "cell_type": "markdown",
   "id": "1741bd4e",
   "metadata": {},
   "source": [
    "### Limpar Altura\n",
    "Preenchend pela média"
   ]
  },
  {
   "cell_type": "code",
   "execution_count": 79,
   "id": "5f57df7d",
   "metadata": {},
   "outputs": [
    {
     "data": {
      "text/plain": [
       "2059"
      ]
     },
     "execution_count": 79,
     "metadata": {},
     "output_type": "execute_result"
    }
   ],
   "source": [
    "len(switzerland_sw[switzerland_sw[\"Height\"] == \"NA\"])"
   ]
  },
  {
   "cell_type": "code",
   "execution_count": 80,
   "id": "0ab9482a",
   "metadata": {},
   "outputs": [
    {
     "name": "stderr",
     "output_type": "stream",
     "text": [
      "/var/folders/by/h2v0ff9j4mvgbk5y8d7h456r0000gq/T/ipykernel_7782/3192420451.py:3: SettingWithCopyWarning: \n",
      "A value is trying to be set on a copy of a slice from a DataFrame\n",
      "\n",
      "See the caveats in the documentation: https://pandas.pydata.org/pandas-docs/stable/user_guide/indexing.html#returning-a-view-versus-a-copy\n",
      "  switzerland_sw[\"Height\"].loc[index_to_fill] = mean_of_height\n"
     ]
    }
   ],
   "source": [
    "index_to_fill = switzerland_sw[switzerland_sw[\"Height\"] == \"NA\"][\"Height\"].index\n",
    "mean_of_height = round(switzerland_sw[switzerland_sw[\"Height\"] != \"NA\"][\"Height\"].astype(int).mean(),0)\n",
    "switzerland_sw[\"Height\"].loc[index_to_fill] = mean_of_height"
   ]
  },
  {
   "cell_type": "code",
   "execution_count": 81,
   "id": "c1d0e5e5",
   "metadata": {},
   "outputs": [
    {
     "name": "stderr",
     "output_type": "stream",
     "text": [
      "/var/folders/by/h2v0ff9j4mvgbk5y8d7h456r0000gq/T/ipykernel_7782/2767271817.py:1: SettingWithCopyWarning: \n",
      "A value is trying to be set on a copy of a slice from a DataFrame.\n",
      "Try using .loc[row_indexer,col_indexer] = value instead\n",
      "\n",
      "See the caveats in the documentation: https://pandas.pydata.org/pandas-docs/stable/user_guide/indexing.html#returning-a-view-versus-a-copy\n",
      "  switzerland_sw['Height'] = switzerland_sw['Height'].astype(int)\n"
     ]
    }
   ],
   "source": [
    "switzerland_sw['Height'] = switzerland_sw['Height'].astype(int)"
   ]
  },
  {
   "cell_type": "markdown",
   "id": "3215b53b",
   "metadata": {},
   "source": [
    "### Limpar Mão "
   ]
  },
  {
   "cell_type": "code",
   "execution_count": 82,
   "id": "ff0b9f9c",
   "metadata": {},
   "outputs": [
    {
     "data": {
      "text/plain": [
       "274"
      ]
     },
     "execution_count": 82,
     "metadata": {},
     "output_type": "execute_result"
    }
   ],
   "source": [
    "len(switzerland_sw[switzerland_sw[\"Hand\"] == \"null\"][\"PlayerName\"].unique())"
   ]
  },
  {
   "cell_type": "markdown",
   "id": "13bd6226",
   "metadata": {},
   "source": [
    "Existem 274 jogadores que não têm a sua mão preferida de jogo. Como faltam esses dados para muitos jogadore não vamos utilizar e caso no futuro queiramos utilizar essa variável para saber sua utilidade temos que falar com a equipe de data engineers para coletarem esses dados de forma fiavel e armazenar na base de dados"
   ]
  },
  {
   "cell_type": "code",
   "execution_count": 83,
   "id": "295c09ea",
   "metadata": {},
   "outputs": [
    {
     "data": {
      "text/html": [
       "<div>\n",
       "<style scoped>\n",
       "    .dataframe tbody tr th:only-of-type {\n",
       "        vertical-align: middle;\n",
       "    }\n",
       "\n",
       "    .dataframe tbody tr th {\n",
       "        vertical-align: top;\n",
       "    }\n",
       "\n",
       "    .dataframe thead th {\n",
       "        text-align: right;\n",
       "    }\n",
       "</style>\n",
       "<table border=\"1\" class=\"dataframe\">\n",
       "  <thead>\n",
       "    <tr style=\"text-align: right;\">\n",
       "      <th></th>\n",
       "      <th>PlayerName</th>\n",
       "      <th>Height</th>\n",
       "      <th>Hand</th>\n",
       "      <th>Tournament</th>\n",
       "      <th>Location</th>\n",
       "      <th>Date</th>\n",
       "      <th>Ground</th>\n",
       "      <th>Prize</th>\n",
       "      <th>GameRound</th>\n",
       "      <th>GameRank</th>\n",
       "      <th>Oponent</th>\n",
       "      <th>WL</th>\n",
       "      <th>Score</th>\n",
       "    </tr>\n",
       "  </thead>\n",
       "  <tbody>\n",
       "    <tr>\n",
       "      <th>247524</th>\n",
       "      <td>Juan Sebastian Gomez</td>\n",
       "      <td>184</td>\n",
       "      <td>null</td>\n",
       "      <td>Switzerland F2</td>\n",
       "      <td>Switzerland</td>\n",
       "      <td>2014.03.24 - 2014.03.30</td>\n",
       "      <td>Carpet</td>\n",
       "      <td>$15,000</td>\n",
       "      <td>Round of 16</td>\n",
       "      <td>236</td>\n",
       "      <td>Henri Laaksonen</td>\n",
       "      <td>L</td>\n",
       "      <td>36 26</td>\n",
       "    </tr>\n",
       "    <tr>\n",
       "      <th>247525</th>\n",
       "      <td>Juan Sebastian Gomez</td>\n",
       "      <td>184</td>\n",
       "      <td>null</td>\n",
       "      <td>Switzerland F2</td>\n",
       "      <td>Switzerland</td>\n",
       "      <td>2014.03.24 - 2014.03.30</td>\n",
       "      <td>Carpet</td>\n",
       "      <td>$15,000</td>\n",
       "      <td>Round of 32</td>\n",
       "      <td>859</td>\n",
       "      <td>Pirmin Haenle</td>\n",
       "      <td>W</td>\n",
       "      <td>06 62 64</td>\n",
       "    </tr>\n",
       "    <tr>\n",
       "      <th>247526</th>\n",
       "      <td>Juan Sebastian Gomez</td>\n",
       "      <td>184</td>\n",
       "      <td>null</td>\n",
       "      <td>Switzerland F1</td>\n",
       "      <td>Switzerland</td>\n",
       "      <td>2014.03.17 - 2014.03.23</td>\n",
       "      <td>Carpet</td>\n",
       "      <td>$15,000</td>\n",
       "      <td>Round of 32</td>\n",
       "      <td>756</td>\n",
       "      <td>Frederik Nielsen</td>\n",
       "      <td>L</td>\n",
       "      <td>57 57</td>\n",
       "    </tr>\n",
       "  </tbody>\n",
       "</table>\n",
       "</div>"
      ],
      "text/plain": [
       "                  PlayerName  Height  Hand      Tournament     Location  \\\n",
       "247524  Juan Sebastian Gomez     184  null  Switzerland F2  Switzerland   \n",
       "247525  Juan Sebastian Gomez     184  null  Switzerland F2  Switzerland   \n",
       "247526  Juan Sebastian Gomez     184  null  Switzerland F1  Switzerland   \n",
       "\n",
       "                           Date  Ground    Prize    GameRound GameRank  \\\n",
       "247524  2014.03.24 - 2014.03.30  Carpet  $15,000  Round of 16      236   \n",
       "247525  2014.03.24 - 2014.03.30  Carpet  $15,000  Round of 32      859   \n",
       "247526  2014.03.17 - 2014.03.23  Carpet  $15,000  Round of 32      756   \n",
       "\n",
       "                 Oponent WL     Score  \n",
       "247524   Henri Laaksonen  L     36 26  \n",
       "247525     Pirmin Haenle  W  06 62 64  \n",
       "247526  Frederik Nielsen  L     57 57  "
      ]
     },
     "execution_count": 83,
     "metadata": {},
     "output_type": "execute_result"
    }
   ],
   "source": [
    "switzerland_sw[switzerland_sw[\"Hand\"] == \"null\"].head(3)\n"
   ]
  },
  {
   "cell_type": "code",
   "execution_count": 84,
   "id": "d3bb85af",
   "metadata": {},
   "outputs": [
    {
     "name": "stderr",
     "output_type": "stream",
     "text": [
      "/var/folders/by/h2v0ff9j4mvgbk5y8d7h456r0000gq/T/ipykernel_7782/2744573493.py:1: SettingWithCopyWarning: \n",
      "A value is trying to be set on a copy of a slice from a DataFrame\n",
      "\n",
      "See the caveats in the documentation: https://pandas.pydata.org/pandas-docs/stable/user_guide/indexing.html#returning-a-view-versus-a-copy\n",
      "  switzerland_sw.drop(\"Hand\", axis=1, inplace=True)\n"
     ]
    }
   ],
   "source": [
    "switzerland_sw.drop(\"Hand\", axis=1, inplace=True)"
   ]
  },
  {
   "cell_type": "markdown",
   "id": "02c6ba0f",
   "metadata": {},
   "source": [
    "### Verificar coluna tournament"
   ]
  },
  {
   "cell_type": "code",
   "execution_count": 85,
   "id": "ba802d58",
   "metadata": {},
   "outputs": [
    {
     "data": {
      "text/plain": [
       "Geneva                            2911\n",
       "Gstaad                            2747\n",
       "Basel                             2599\n",
       "Lugano                             975\n",
       "Switzerland F2                     856\n",
       "                                  ... \n",
       "G1 SUI vs LIB Round 1                6\n",
       "SUI vs. CZE 1st Rd.                  6\n",
       "ISR V SUI ZBF                        4\n",
       "TCH V SUI 1RD                        2\n",
       "SUI vs. ESP - EUROPE ZONE A QF       1\n",
       "Name: Tournament, Length: 67, dtype: int64"
      ]
     },
     "execution_count": 85,
     "metadata": {},
     "output_type": "execute_result"
    }
   ],
   "source": [
    "switzerland_sw.Tournament.value_counts()"
   ]
  },
  {
   "cell_type": "markdown",
   "id": "051a8cdb",
   "metadata": {},
   "source": [
    "### Verificar Coluna Location"
   ]
  },
  {
   "cell_type": "code",
   "execution_count": 86,
   "id": "ef2197c2",
   "metadata": {},
   "outputs": [
    {
     "data": {
      "text/plain": [
       "Geneva, Switzerland                 3013\n",
       "Gstaad, Switzerland                 2747\n",
       "Basel, Switzerland                  2604\n",
       "Switzerland                         2394\n",
       "Lugano, Switzerland                  975\n",
       "Bossonnens, Switzerland              281\n",
       "Biel, Switzerland                    278\n",
       "Trimbach, Switzerland                239\n",
       "Chiasso, Switzerland                 239\n",
       "Oberentfelden, Switzerland           236\n",
       "Sion, Switzerland                    230\n",
       "Nyon, Switzerland                    164\n",
       "Klosters, Switzerland                123\n",
       "Wilen, Switzerland                   122\n",
       "Neuchatel, Switzerland               121\n",
       "Caslano, Switzerland                 120\n",
       "Bellevue, Switzerland                118\n",
       "Collonge-Bellerive, Switzerland      117\n",
       "Schlieren, Switzerland               114\n",
       "Rumikon, Switzerland                  95\n",
       "Taverne, Switzerland                  62\n",
       "Leuggern, Switzerland                 62\n",
       "Muttenz, Switzerland                  59\n",
       "Lausanne, Switzerland                 58\n",
       "Horgen, Switzerland                   57\n",
       "Sierre, Switzerland                   57\n",
       "Luasanne, Switzerland                 51\n",
       "Crans Montana, Switzerland            35\n",
       "Zurich, Switzerland                   21\n",
       "Geneva, Switzerland, Switzerland      16\n",
       "Prilly, Switzerland                    8\n",
       "Fribourg, Switzerland                  8\n",
       "Reinach, Switzerland                   4\n",
       "Name: Location, dtype: int64"
      ]
     },
     "execution_count": 86,
     "metadata": {},
     "output_type": "execute_result"
    }
   ],
   "source": [
    "switzerland_sw.Location.value_counts()"
   ]
  },
  {
   "cell_type": "markdown",
   "id": "3e4daa84",
   "metadata": {},
   "source": [
    "### Game Round"
   ]
  },
  {
   "cell_type": "code",
   "execution_count": 87,
   "id": "84ecc954",
   "metadata": {},
   "outputs": [
    {
     "data": {
      "text/plain": [
       "Round of 32             6511\n",
       "Round of 16             3348\n",
       "Quarter-Finals          1699\n",
       "1st Round Qualifying     962\n",
       "Semi-Finals              864\n",
       "2nd Round Qualifying     541\n",
       "Finals                   434\n",
       "Round Robin              295\n",
       "3rd Round Qualifying     173\n",
       "Round of 64                1\n",
       "Name: GameRound, dtype: int64"
      ]
     },
     "execution_count": 87,
     "metadata": {},
     "output_type": "execute_result"
    }
   ],
   "source": [
    "switzerland_sw[\"GameRound\"].value_counts()"
   ]
  },
  {
   "cell_type": "code",
   "execution_count": 88,
   "id": "4515e3c7",
   "metadata": {},
   "outputs": [
    {
     "data": {
      "text/plain": [
       "False"
      ]
     },
     "execution_count": 88,
     "metadata": {},
     "output_type": "execute_result"
    }
   ],
   "source": [
    "switzerland_sw[\"GameRound\"].isna().any()"
   ]
  },
  {
   "cell_type": "markdown",
   "id": "eed659b7",
   "metadata": {},
   "source": [
    "### Checking Ground"
   ]
  },
  {
   "cell_type": "code",
   "execution_count": 89,
   "id": "1fac9716",
   "metadata": {},
   "outputs": [
    {
     "data": {
      "text/plain": [
       "Clay      8519\n",
       "Hard      3320\n",
       "Carpet    2989\n",
       "Name: Ground, dtype: int64"
      ]
     },
     "execution_count": 89,
     "metadata": {},
     "output_type": "execute_result"
    }
   ],
   "source": [
    "switzerland_sw[\"Ground\"].value_counts()"
   ]
  },
  {
   "cell_type": "code",
   "execution_count": 90,
   "id": "a98ef4fb",
   "metadata": {},
   "outputs": [
    {
     "data": {
      "text/plain": [
       "False"
      ]
     },
     "execution_count": 90,
     "metadata": {},
     "output_type": "execute_result"
    }
   ],
   "source": [
    "switzerland_sw[\"Ground\"].isna().any()"
   ]
  },
  {
   "cell_type": "markdown",
   "id": "50711b10",
   "metadata": {},
   "source": [
    "### Cleanning � and turning Prize into numeric"
   ]
  },
  {
   "cell_type": "code",
   "execution_count": 91,
   "id": "c262a428",
   "metadata": {
    "scrolled": false
   },
   "outputs": [
    {
     "name": "stderr",
     "output_type": "stream",
     "text": [
      "/var/folders/by/h2v0ff9j4mvgbk5y8d7h456r0000gq/T/ipykernel_7782/3314465472.py:1: SettingWithCopyWarning: \n",
      "A value is trying to be set on a copy of a slice from a DataFrame.\n",
      "Try using .loc[row_indexer,col_indexer] = value instead\n",
      "\n",
      "See the caveats in the documentation: https://pandas.pydata.org/pandas-docs/stable/user_guide/indexing.html#returning-a-view-versus-a-copy\n",
      "  switzerland_sw['Prize'] = switzerland_sw['Prize'].replace(regex=[r'�'],value='')\n",
      "/var/folders/by/h2v0ff9j4mvgbk5y8d7h456r0000gq/T/ipykernel_7782/3314465472.py:2: SettingWithCopyWarning: \n",
      "A value is trying to be set on a copy of a slice from a DataFrame.\n",
      "Try using .loc[row_indexer,col_indexer] = value instead\n",
      "\n",
      "See the caveats in the documentation: https://pandas.pydata.org/pandas-docs/stable/user_guide/indexing.html#returning-a-view-versus-a-copy\n",
      "  switzerland_sw['Prize'] = switzerland_sw['Prize'].replace(regex=[r'$'],value='')\n",
      "/var/folders/by/h2v0ff9j4mvgbk5y8d7h456r0000gq/T/ipykernel_7782/3314465472.py:3: FutureWarning: The default value of regex will change from True to False in a future version. In addition, single character regular expressions will *not* be treated as literal strings when regex=True.\n",
      "  switzerland_sw['Prize'] = switzerland_sw['Prize'].str.replace('$', '')\n",
      "/var/folders/by/h2v0ff9j4mvgbk5y8d7h456r0000gq/T/ipykernel_7782/3314465472.py:3: SettingWithCopyWarning: \n",
      "A value is trying to be set on a copy of a slice from a DataFrame.\n",
      "Try using .loc[row_indexer,col_indexer] = value instead\n",
      "\n",
      "See the caveats in the documentation: https://pandas.pydata.org/pandas-docs/stable/user_guide/indexing.html#returning-a-view-versus-a-copy\n",
      "  switzerland_sw['Prize'] = switzerland_sw['Prize'].str.replace('$', '')\n",
      "/var/folders/by/h2v0ff9j4mvgbk5y8d7h456r0000gq/T/ipykernel_7782/3314465472.py:4: SettingWithCopyWarning: \n",
      "A value is trying to be set on a copy of a slice from a DataFrame.\n",
      "Try using .loc[row_indexer,col_indexer] = value instead\n",
      "\n",
      "See the caveats in the documentation: https://pandas.pydata.org/pandas-docs/stable/user_guide/indexing.html#returning-a-view-versus-a-copy\n",
      "  switzerland_sw['Prize'] = switzerland_sw['Prize'].str.replace(',', '')\n"
     ]
    },
    {
     "data": {
      "text/html": [
       "<div>\n",
       "<style scoped>\n",
       "    .dataframe tbody tr th:only-of-type {\n",
       "        vertical-align: middle;\n",
       "    }\n",
       "\n",
       "    .dataframe tbody tr th {\n",
       "        vertical-align: top;\n",
       "    }\n",
       "\n",
       "    .dataframe thead th {\n",
       "        text-align: right;\n",
       "    }\n",
       "</style>\n",
       "<table border=\"1\" class=\"dataframe\">\n",
       "  <thead>\n",
       "    <tr style=\"text-align: right;\">\n",
       "      <th></th>\n",
       "      <th>PlayerName</th>\n",
       "      <th>Height</th>\n",
       "      <th>Tournament</th>\n",
       "      <th>Location</th>\n",
       "      <th>Date</th>\n",
       "      <th>Ground</th>\n",
       "      <th>Prize</th>\n",
       "      <th>GameRound</th>\n",
       "      <th>GameRank</th>\n",
       "      <th>Oponent</th>\n",
       "      <th>WL</th>\n",
       "      <th>Score</th>\n",
       "    </tr>\n",
       "  </thead>\n",
       "  <tbody>\n",
       "    <tr>\n",
       "      <th>769</th>\n",
       "      <td>Novak Djokovic</td>\n",
       "      <td>188</td>\n",
       "      <td>Basel</td>\n",
       "      <td>Basel, Switzerland</td>\n",
       "      <td>2011.10.31 - 2011.11.06</td>\n",
       "      <td>Hard</td>\n",
       "      <td>1308100</td>\n",
       "      <td>Semi-Finals</td>\n",
       "      <td>32</td>\n",
       "      <td>Kei Nishikori</td>\n",
       "      <td>L</td>\n",
       "      <td>62 67,  06</td>\n",
       "    </tr>\n",
       "    <tr>\n",
       "      <th>770</th>\n",
       "      <td>Novak Djokovic</td>\n",
       "      <td>188</td>\n",
       "      <td>Basel</td>\n",
       "      <td>Basel, Switzerland</td>\n",
       "      <td>2011.10.31 - 2011.11.06</td>\n",
       "      <td>Hard</td>\n",
       "      <td>1308100</td>\n",
       "      <td>Quarter-Finals</td>\n",
       "      <td>59</td>\n",
       "      <td>Marcos Baghdatis</td>\n",
       "      <td>W</td>\n",
       "      <td>26 62 63</td>\n",
       "    </tr>\n",
       "  </tbody>\n",
       "</table>\n",
       "</div>"
      ],
      "text/plain": [
       "         PlayerName  Height Tournament            Location  \\\n",
       "769  Novak Djokovic     188      Basel  Basel, Switzerland   \n",
       "770  Novak Djokovic     188      Basel  Basel, Switzerland   \n",
       "\n",
       "                        Date Ground    Prize       GameRound GameRank  \\\n",
       "769  2011.10.31 - 2011.11.06   Hard  1308100     Semi-Finals       32   \n",
       "770  2011.10.31 - 2011.11.06   Hard  1308100  Quarter-Finals       59   \n",
       "\n",
       "              Oponent WL       Score  \n",
       "769     Kei Nishikori  L  62 67,  06  \n",
       "770  Marcos Baghdatis  W    26 62 63  "
      ]
     },
     "execution_count": 91,
     "metadata": {},
     "output_type": "execute_result"
    }
   ],
   "source": [
    "switzerland_sw['Prize'] = switzerland_sw['Prize'].replace(regex=[r'�'],value='')\n",
    "switzerland_sw['Prize'] = switzerland_sw['Prize'].replace(regex=[r'$'],value='')\n",
    "switzerland_sw['Prize'] = switzerland_sw['Prize'].str.replace('$', '')\n",
    "switzerland_sw['Prize'] = switzerland_sw['Prize'].str.replace(',', '')\n",
    "\n",
    "switzerland_sw.head(2)"
   ]
  },
  {
   "cell_type": "code",
   "execution_count": 92,
   "id": "33b61db9",
   "metadata": {},
   "outputs": [
    {
     "name": "stdout",
     "output_type": "stream",
     "text": [
      "<class 'pandas.core.frame.DataFrame'>\n",
      "Int64Index: 14828 entries, 769 to 1308685\n",
      "Data columns (total 12 columns):\n",
      " #   Column      Non-Null Count  Dtype \n",
      "---  ------      --------------  ----- \n",
      " 0   PlayerName  14828 non-null  object\n",
      " 1   Height      14828 non-null  int64 \n",
      " 2   Tournament  14828 non-null  object\n",
      " 3   Location    14828 non-null  object\n",
      " 4   Date        14828 non-null  object\n",
      " 5   Ground      14828 non-null  object\n",
      " 6   Prize       14828 non-null  object\n",
      " 7   GameRound   14828 non-null  object\n",
      " 8   GameRank    14828 non-null  object\n",
      " 9   Oponent     14828 non-null  object\n",
      " 10  WL          14828 non-null  object\n",
      " 11  Score       14828 non-null  object\n",
      "dtypes: int64(1), object(11)\n",
      "memory usage: 2.0+ MB\n"
     ]
    }
   ],
   "source": [
    "switzerland_sw.info()"
   ]
  },
  {
   "cell_type": "code",
   "execution_count": 144,
   "id": "9fc9a8fc",
   "metadata": {},
   "outputs": [
    {
     "data": {
      "text/html": [
       "<div>\n",
       "<style scoped>\n",
       "    .dataframe tbody tr th:only-of-type {\n",
       "        vertical-align: middle;\n",
       "    }\n",
       "\n",
       "    .dataframe tbody tr th {\n",
       "        vertical-align: top;\n",
       "    }\n",
       "\n",
       "    .dataframe thead th {\n",
       "        text-align: right;\n",
       "    }\n",
       "</style>\n",
       "<table border=\"1\" class=\"dataframe\">\n",
       "  <thead>\n",
       "    <tr style=\"text-align: right;\">\n",
       "      <th></th>\n",
       "      <th>Prize</th>\n",
       "      <th>GameRound</th>\n",
       "    </tr>\n",
       "  </thead>\n",
       "  <tbody>\n",
       "    <tr>\n",
       "      <th>769</th>\n",
       "      <td>1308100.0</td>\n",
       "      <td>Semi-Finals</td>\n",
       "    </tr>\n",
       "    <tr>\n",
       "      <th>770</th>\n",
       "      <td>1308100.0</td>\n",
       "      <td>Quarter-Finals</td>\n",
       "    </tr>\n",
       "    <tr>\n",
       "      <th>771</th>\n",
       "      <td>1308100.0</td>\n",
       "      <td>Round of 16</td>\n",
       "    </tr>\n",
       "    <tr>\n",
       "      <th>772</th>\n",
       "      <td>1308100.0</td>\n",
       "      <td>Round of 32</td>\n",
       "    </tr>\n",
       "    <tr>\n",
       "      <th>858</th>\n",
       "      <td>1225000.0</td>\n",
       "      <td>Finals</td>\n",
       "    </tr>\n",
       "    <tr>\n",
       "      <th>...</th>\n",
       "      <td>...</td>\n",
       "      <td>...</td>\n",
       "    </tr>\n",
       "    <tr>\n",
       "      <th>1305459</th>\n",
       "      <td>25000.0</td>\n",
       "      <td>Round of 16</td>\n",
       "    </tr>\n",
       "    <tr>\n",
       "      <th>1305472</th>\n",
       "      <td>25000.0</td>\n",
       "      <td>Round of 32</td>\n",
       "    </tr>\n",
       "    <tr>\n",
       "      <th>1306059</th>\n",
       "      <td>25000.0</td>\n",
       "      <td>Round of 32</td>\n",
       "    </tr>\n",
       "    <tr>\n",
       "      <th>1308683</th>\n",
       "      <td>30000.0</td>\n",
       "      <td>2nd Round Qualifying</td>\n",
       "    </tr>\n",
       "    <tr>\n",
       "      <th>1308685</th>\n",
       "      <td>30000.0</td>\n",
       "      <td>1st Round Qualifying</td>\n",
       "    </tr>\n",
       "  </tbody>\n",
       "</table>\n",
       "<p>10149 rows × 2 columns</p>\n",
       "</div>"
      ],
      "text/plain": [
       "             Prize             GameRound\n",
       "769      1308100.0           Semi-Finals\n",
       "770      1308100.0        Quarter-Finals\n",
       "771      1308100.0           Round of 16\n",
       "772      1308100.0           Round of 32\n",
       "858      1225000.0                Finals\n",
       "...            ...                   ...\n",
       "1305459    25000.0           Round of 16\n",
       "1305472    25000.0           Round of 32\n",
       "1306059    25000.0           Round of 32\n",
       "1308683    30000.0  2nd Round Qualifying\n",
       "1308685    30000.0  1st Round Qualifying\n",
       "\n",
       "[10149 rows x 2 columns]"
      ]
     },
     "execution_count": 144,
     "metadata": {},
     "output_type": "execute_result"
    }
   ],
   "source": [
    "switzerland_sw[[\"Prize\", \"GameRound\"]]"
   ]
  },
  {
   "cell_type": "code",
   "execution_count": 93,
   "id": "be771219",
   "metadata": {},
   "outputs": [
    {
     "data": {
      "text/plain": [
       "295"
      ]
     },
     "execution_count": 93,
     "metadata": {},
     "output_type": "execute_result"
    }
   ],
   "source": [
    "len(switzerland_sw[switzerland_sw['Prize'] == \"\"])"
   ]
  },
  {
   "cell_type": "markdown",
   "id": "83892179",
   "metadata": {},
   "source": [
    "#### Cleanning Empty Strings on Prize and replacing by the mean since is only 295 missing"
   ]
  },
  {
   "cell_type": "code",
   "execution_count": 94,
   "id": "75c4f339",
   "metadata": {},
   "outputs": [
    {
     "name": "stderr",
     "output_type": "stream",
     "text": [
      "/var/folders/by/h2v0ff9j4mvgbk5y8d7h456r0000gq/T/ipykernel_7782/4101708354.py:3: SettingWithCopyWarning: \n",
      "A value is trying to be set on a copy of a slice from a DataFrame\n",
      "\n",
      "See the caveats in the documentation: https://pandas.pydata.org/pandas-docs/stable/user_guide/indexing.html#returning-a-view-versus-a-copy\n",
      "  switzerland_sw[\"Prize\"].loc[index_to_fill] = mean_prize\n"
     ]
    }
   ],
   "source": [
    "index_to_fill = switzerland_sw[switzerland_sw['Prize'] == \"\"].index\n",
    "mean_prize = np.round(np.mean(switzerland_sw[switzerland_sw['Prize']!=\"\"]['Prize'].astype(float)), 0)\n",
    "switzerland_sw[\"Prize\"].loc[index_to_fill] = mean_prize"
   ]
  },
  {
   "cell_type": "code",
   "execution_count": 95,
   "id": "dff743fc",
   "metadata": {},
   "outputs": [
    {
     "data": {
      "text/plain": [
       "0"
      ]
     },
     "execution_count": 95,
     "metadata": {},
     "output_type": "execute_result"
    }
   ],
   "source": [
    "len(switzerland_sw[switzerland_sw['Prize'] == \"\"])"
   ]
  },
  {
   "cell_type": "code",
   "execution_count": 96,
   "id": "6af98629",
   "metadata": {},
   "outputs": [
    {
     "name": "stderr",
     "output_type": "stream",
     "text": [
      "/var/folders/by/h2v0ff9j4mvgbk5y8d7h456r0000gq/T/ipykernel_7782/3601817039.py:1: SettingWithCopyWarning: \n",
      "A value is trying to be set on a copy of a slice from a DataFrame.\n",
      "Try using .loc[row_indexer,col_indexer] = value instead\n",
      "\n",
      "See the caveats in the documentation: https://pandas.pydata.org/pandas-docs/stable/user_guide/indexing.html#returning-a-view-versus-a-copy\n",
      "  switzerland_sw['Prize'] = switzerland_sw['Prize'].astype(float)\n"
     ]
    }
   ],
   "source": [
    "switzerland_sw['Prize'] = switzerland_sw['Prize'].astype(float)"
   ]
  },
  {
   "cell_type": "markdown",
   "id": "f3a8b9f2",
   "metadata": {},
   "source": [
    "### Cheking Variable Score"
   ]
  },
  {
   "cell_type": "code",
   "execution_count": 97,
   "id": "8a897b53",
   "metadata": {},
   "outputs": [
    {
     "data": {
      "text/html": [
       "<div>\n",
       "<style scoped>\n",
       "    .dataframe tbody tr th:only-of-type {\n",
       "        vertical-align: middle;\n",
       "    }\n",
       "\n",
       "    .dataframe tbody tr th {\n",
       "        vertical-align: top;\n",
       "    }\n",
       "\n",
       "    .dataframe thead th {\n",
       "        text-align: right;\n",
       "    }\n",
       "</style>\n",
       "<table border=\"1\" class=\"dataframe\">\n",
       "  <thead>\n",
       "    <tr style=\"text-align: right;\">\n",
       "      <th></th>\n",
       "      <th>PlayerName</th>\n",
       "      <th>Height</th>\n",
       "      <th>Tournament</th>\n",
       "      <th>Location</th>\n",
       "      <th>Date</th>\n",
       "      <th>Ground</th>\n",
       "      <th>Prize</th>\n",
       "      <th>GameRound</th>\n",
       "      <th>GameRank</th>\n",
       "      <th>Oponent</th>\n",
       "      <th>WL</th>\n",
       "      <th>Score</th>\n",
       "    </tr>\n",
       "  </thead>\n",
       "  <tbody>\n",
       "    <tr>\n",
       "      <th>3669</th>\n",
       "      <td>Alexander Zverev</td>\n",
       "      <td>198</td>\n",
       "      <td>Geneva</td>\n",
       "      <td>Geneva, Switzerland</td>\n",
       "      <td>2019.05.20 - 2019.05.25</td>\n",
       "      <td>Clay</td>\n",
       "      <td>524340.0</td>\n",
       "      <td>Round of 32</td>\n",
       "      <td></td>\n",
       "      <td>bye</td>\n",
       "      <td></td>\n",
       "      <td>null</td>\n",
       "    </tr>\n",
       "    <tr>\n",
       "      <th>5376</th>\n",
       "      <td>Andrey Rublev</td>\n",
       "      <td>188</td>\n",
       "      <td>Gstaad</td>\n",
       "      <td>Gstaad, Switzerland</td>\n",
       "      <td>2018.07.23 - 2018.07.29</td>\n",
       "      <td>Clay</td>\n",
       "      <td>501345.0</td>\n",
       "      <td>Round of 32</td>\n",
       "      <td></td>\n",
       "      <td>bye</td>\n",
       "      <td></td>\n",
       "      <td>null</td>\n",
       "    </tr>\n",
       "    <tr>\n",
       "      <th>5727</th>\n",
       "      <td>Casper Ruud</td>\n",
       "      <td>183</td>\n",
       "      <td>Gstaad</td>\n",
       "      <td>Gstaad, Switzerland</td>\n",
       "      <td>2021.07.19 - 2021.07.25</td>\n",
       "      <td>Clay</td>\n",
       "      <td>419470.0</td>\n",
       "      <td>Round of 32</td>\n",
       "      <td></td>\n",
       "      <td>bye</td>\n",
       "      <td></td>\n",
       "      <td>null</td>\n",
       "    </tr>\n",
       "  </tbody>\n",
       "</table>\n",
       "</div>"
      ],
      "text/plain": [
       "            PlayerName  Height Tournament             Location  \\\n",
       "3669  Alexander Zverev     198     Geneva  Geneva, Switzerland   \n",
       "5376     Andrey Rublev     188     Gstaad  Gstaad, Switzerland   \n",
       "5727       Casper Ruud     183     Gstaad  Gstaad, Switzerland   \n",
       "\n",
       "                         Date Ground     Prize    GameRound GameRank Oponent  \\\n",
       "3669  2019.05.20 - 2019.05.25   Clay  524340.0  Round of 32              bye   \n",
       "5376  2018.07.23 - 2018.07.29   Clay  501345.0  Round of 32              bye   \n",
       "5727  2021.07.19 - 2021.07.25   Clay  419470.0  Round of 32              bye   \n",
       "\n",
       "     WL Score  \n",
       "3669     null  \n",
       "5376     null  \n",
       "5727     null  "
      ]
     },
     "execution_count": 97,
     "metadata": {},
     "output_type": "execute_result"
    }
   ],
   "source": [
    "switzerland_sw[switzerland_sw[\"Score\"] == 'null'].head(3)"
   ]
  },
  {
   "cell_type": "markdown",
   "id": "b568a469",
   "metadata": {},
   "source": [
    "Quandoo score é null podemos ver que que o nome do oponente é bye, provavelmente significa que não apareceu, logo nem sequer fazer sentido manter esses casos, vamos fazer o drop desses indices que são apenas 148 casos"
   ]
  },
  {
   "cell_type": "code",
   "execution_count": 98,
   "id": "c6d1215e",
   "metadata": {},
   "outputs": [
    {
     "name": "stderr",
     "output_type": "stream",
     "text": [
      "/var/folders/by/h2v0ff9j4mvgbk5y8d7h456r0000gq/T/ipykernel_7782/3207800736.py:2: SettingWithCopyWarning: \n",
      "A value is trying to be set on a copy of a slice from a DataFrame\n",
      "\n",
      "See the caveats in the documentation: https://pandas.pydata.org/pandas-docs/stable/user_guide/indexing.html#returning-a-view-versus-a-copy\n",
      "  switzerland_sw.drop(index=indices_to_drop, axis=0, inplace=True)\n"
     ]
    }
   ],
   "source": [
    "indices_to_drop = switzerland_sw[switzerland_sw[\"Score\"] == 'null'].index\n",
    "switzerland_sw.drop(index=indices_to_drop, axis=0, inplace=True)"
   ]
  },
  {
   "cell_type": "code",
   "execution_count": 99,
   "id": "6bc362a5",
   "metadata": {
    "scrolled": true
   },
   "outputs": [
    {
     "data": {
      "text/plain": [
       "0"
      ]
     },
     "execution_count": 99,
     "metadata": {},
     "output_type": "execute_result"
    }
   ],
   "source": [
    "len(switzerland_sw[switzerland_sw[\"Score\"] == 'null'])"
   ]
  },
  {
   "cell_type": "markdown",
   "id": "9ac7d335",
   "metadata": {},
   "source": [
    "### Create Score_1"
   ]
  },
  {
   "cell_type": "markdown",
   "id": "c7e193c2",
   "metadata": {},
   "source": [
    "### Creating a new column from score to count the number of sets later on"
   ]
  },
  {
   "cell_type": "code",
   "execution_count": 100,
   "id": "777ec34c",
   "metadata": {},
   "outputs": [
    {
     "name": "stderr",
     "output_type": "stream",
     "text": [
      "/var/folders/by/h2v0ff9j4mvgbk5y8d7h456r0000gq/T/ipykernel_7782/64697154.py:5: SettingWithCopyWarning: \n",
      "A value is trying to be set on a copy of a slice from a DataFrame.\n",
      "Try using .loc[row_indexer,col_indexer] = value instead\n",
      "\n",
      "See the caveats in the documentation: https://pandas.pydata.org/pandas-docs/stable/user_guide/indexing.html#returning-a-view-versus-a-copy\n",
      "  switzerland_sw['Score_1'] = switzerland_sw['Score'].apply(retirar_espacos_virgulas)\n"
     ]
    },
    {
     "data": {
      "text/html": [
       "<div>\n",
       "<style scoped>\n",
       "    .dataframe tbody tr th:only-of-type {\n",
       "        vertical-align: middle;\n",
       "    }\n",
       "\n",
       "    .dataframe tbody tr th {\n",
       "        vertical-align: top;\n",
       "    }\n",
       "\n",
       "    .dataframe thead th {\n",
       "        text-align: right;\n",
       "    }\n",
       "</style>\n",
       "<table border=\"1\" class=\"dataframe\">\n",
       "  <thead>\n",
       "    <tr style=\"text-align: right;\">\n",
       "      <th></th>\n",
       "      <th>PlayerName</th>\n",
       "      <th>Height</th>\n",
       "      <th>Tournament</th>\n",
       "      <th>Location</th>\n",
       "      <th>Date</th>\n",
       "      <th>Ground</th>\n",
       "      <th>Prize</th>\n",
       "      <th>GameRound</th>\n",
       "      <th>GameRank</th>\n",
       "      <th>Oponent</th>\n",
       "      <th>WL</th>\n",
       "      <th>Score</th>\n",
       "      <th>Score_1</th>\n",
       "    </tr>\n",
       "  </thead>\n",
       "  <tbody>\n",
       "    <tr>\n",
       "      <th>769</th>\n",
       "      <td>Novak Djokovic</td>\n",
       "      <td>188</td>\n",
       "      <td>Basel</td>\n",
       "      <td>Basel, Switzerland</td>\n",
       "      <td>2011.10.31 - 2011.11.06</td>\n",
       "      <td>Hard</td>\n",
       "      <td>1308100.0</td>\n",
       "      <td>Semi-Finals</td>\n",
       "      <td>32</td>\n",
       "      <td>Kei Nishikori</td>\n",
       "      <td>L</td>\n",
       "      <td>62 67,  06</td>\n",
       "      <td>626706</td>\n",
       "    </tr>\n",
       "    <tr>\n",
       "      <th>770</th>\n",
       "      <td>Novak Djokovic</td>\n",
       "      <td>188</td>\n",
       "      <td>Basel</td>\n",
       "      <td>Basel, Switzerland</td>\n",
       "      <td>2011.10.31 - 2011.11.06</td>\n",
       "      <td>Hard</td>\n",
       "      <td>1308100.0</td>\n",
       "      <td>Quarter-Finals</td>\n",
       "      <td>59</td>\n",
       "      <td>Marcos Baghdatis</td>\n",
       "      <td>W</td>\n",
       "      <td>26 62 63</td>\n",
       "      <td>266263</td>\n",
       "    </tr>\n",
       "    <tr>\n",
       "      <th>771</th>\n",
       "      <td>Novak Djokovic</td>\n",
       "      <td>188</td>\n",
       "      <td>Basel</td>\n",
       "      <td>Basel, Switzerland</td>\n",
       "      <td>2011.10.31 - 2011.11.06</td>\n",
       "      <td>Hard</td>\n",
       "      <td>1308100.0</td>\n",
       "      <td>Round of 16</td>\n",
       "      <td>64</td>\n",
       "      <td>Lukasz Kubot</td>\n",
       "      <td>W</td>\n",
       "      <td>61 62</td>\n",
       "      <td>6162</td>\n",
       "    </tr>\n",
       "  </tbody>\n",
       "</table>\n",
       "</div>"
      ],
      "text/plain": [
       "         PlayerName  Height Tournament            Location  \\\n",
       "769  Novak Djokovic     188      Basel  Basel, Switzerland   \n",
       "770  Novak Djokovic     188      Basel  Basel, Switzerland   \n",
       "771  Novak Djokovic     188      Basel  Basel, Switzerland   \n",
       "\n",
       "                        Date Ground      Prize       GameRound GameRank  \\\n",
       "769  2011.10.31 - 2011.11.06   Hard  1308100.0     Semi-Finals       32   \n",
       "770  2011.10.31 - 2011.11.06   Hard  1308100.0  Quarter-Finals       59   \n",
       "771  2011.10.31 - 2011.11.06   Hard  1308100.0     Round of 16       64   \n",
       "\n",
       "              Oponent WL       Score Score_1  \n",
       "769     Kei Nishikori  L  62 67,  06  626706  \n",
       "770  Marcos Baghdatis  W    26 62 63  266263  \n",
       "771      Lukasz Kubot  W       61 62    6162  "
      ]
     },
     "execution_count": 100,
     "metadata": {},
     "output_type": "execute_result"
    }
   ],
   "source": [
    "def retirar_espacos_virgulas(score):\n",
    "    return score.replace(' ', '').replace(',', '').replace('-','')\n",
    "\n",
    "# aplicar a função à coluna 'Score' e criar uma nova coluna 'Score_sem_espacos_virgulas'\n",
    "switzerland_sw['Score_1'] = switzerland_sw['Score'].apply(retirar_espacos_virgulas)\n",
    "\n",
    "switzerland_sw.head(3)"
   ]
  },
  {
   "cell_type": "code",
   "execution_count": 101,
   "id": "f2e110cf",
   "metadata": {},
   "outputs": [
    {
     "data": {
      "text/html": [
       "<div>\n",
       "<style scoped>\n",
       "    .dataframe tbody tr th:only-of-type {\n",
       "        vertical-align: middle;\n",
       "    }\n",
       "\n",
       "    .dataframe tbody tr th {\n",
       "        vertical-align: top;\n",
       "    }\n",
       "\n",
       "    .dataframe thead th {\n",
       "        text-align: right;\n",
       "    }\n",
       "</style>\n",
       "<table border=\"1\" class=\"dataframe\">\n",
       "  <thead>\n",
       "    <tr style=\"text-align: right;\">\n",
       "      <th></th>\n",
       "      <th>PlayerName</th>\n",
       "      <th>Height</th>\n",
       "      <th>Tournament</th>\n",
       "      <th>Location</th>\n",
       "      <th>Date</th>\n",
       "      <th>Ground</th>\n",
       "      <th>Prize</th>\n",
       "      <th>GameRound</th>\n",
       "      <th>GameRank</th>\n",
       "      <th>Oponent</th>\n",
       "      <th>WL</th>\n",
       "      <th>Score</th>\n",
       "      <th>Score_1</th>\n",
       "    </tr>\n",
       "  </thead>\n",
       "  <tbody>\n",
       "  </tbody>\n",
       "</table>\n",
       "</div>"
      ],
      "text/plain": [
       "Empty DataFrame\n",
       "Columns: [PlayerName, Height, Tournament, Location, Date, Ground, Prize, GameRound, GameRank, Oponent, WL, Score, Score_1]\n",
       "Index: []"
      ]
     },
     "execution_count": 101,
     "metadata": {},
     "output_type": "execute_result"
    }
   ],
   "source": [
    "switzerland_sw[switzerland_sw[\"Score\"] == 'null'].head(3)"
   ]
  },
  {
   "cell_type": "markdown",
   "id": "a4ac89fd",
   "metadata": {},
   "source": [
    "### Counting the number of sets depending on the len on the previous feature created"
   ]
  },
  {
   "cell_type": "code",
   "execution_count": 102,
   "id": "57e954e8",
   "metadata": {},
   "outputs": [
    {
     "name": "stderr",
     "output_type": "stream",
     "text": [
      "/var/folders/by/h2v0ff9j4mvgbk5y8d7h456r0000gq/T/ipykernel_7782/3010822382.py:27: SettingWithCopyWarning: \n",
      "A value is trying to be set on a copy of a slice from a DataFrame.\n",
      "Try using .loc[row_indexer,col_indexer] = value instead\n",
      "\n",
      "See the caveats in the documentation: https://pandas.pydata.org/pandas-docs/stable/user_guide/indexing.html#returning-a-view-versus-a-copy\n",
      "  switzerland_sw['Numero_sets'] = switzerland_sw['Score_1'].apply(contar_sets)\n"
     ]
    },
    {
     "data": {
      "text/html": [
       "<div>\n",
       "<style scoped>\n",
       "    .dataframe tbody tr th:only-of-type {\n",
       "        vertical-align: middle;\n",
       "    }\n",
       "\n",
       "    .dataframe tbody tr th {\n",
       "        vertical-align: top;\n",
       "    }\n",
       "\n",
       "    .dataframe thead th {\n",
       "        text-align: right;\n",
       "    }\n",
       "</style>\n",
       "<table border=\"1\" class=\"dataframe\">\n",
       "  <thead>\n",
       "    <tr style=\"text-align: right;\">\n",
       "      <th></th>\n",
       "      <th>PlayerName</th>\n",
       "      <th>Height</th>\n",
       "      <th>Tournament</th>\n",
       "      <th>Location</th>\n",
       "      <th>Date</th>\n",
       "      <th>Ground</th>\n",
       "      <th>Prize</th>\n",
       "      <th>GameRound</th>\n",
       "      <th>GameRank</th>\n",
       "      <th>Oponent</th>\n",
       "      <th>WL</th>\n",
       "      <th>Score</th>\n",
       "      <th>Score_1</th>\n",
       "      <th>Numero_sets</th>\n",
       "    </tr>\n",
       "  </thead>\n",
       "  <tbody>\n",
       "    <tr>\n",
       "      <th>769</th>\n",
       "      <td>Novak Djokovic</td>\n",
       "      <td>188</td>\n",
       "      <td>Basel</td>\n",
       "      <td>Basel, Switzerland</td>\n",
       "      <td>2011.10.31 - 2011.11.06</td>\n",
       "      <td>Hard</td>\n",
       "      <td>1308100.0</td>\n",
       "      <td>Semi-Finals</td>\n",
       "      <td>32</td>\n",
       "      <td>Kei Nishikori</td>\n",
       "      <td>L</td>\n",
       "      <td>62 67,  06</td>\n",
       "      <td>626706</td>\n",
       "      <td>3.0</td>\n",
       "    </tr>\n",
       "    <tr>\n",
       "      <th>770</th>\n",
       "      <td>Novak Djokovic</td>\n",
       "      <td>188</td>\n",
       "      <td>Basel</td>\n",
       "      <td>Basel, Switzerland</td>\n",
       "      <td>2011.10.31 - 2011.11.06</td>\n",
       "      <td>Hard</td>\n",
       "      <td>1308100.0</td>\n",
       "      <td>Quarter-Finals</td>\n",
       "      <td>59</td>\n",
       "      <td>Marcos Baghdatis</td>\n",
       "      <td>W</td>\n",
       "      <td>26 62 63</td>\n",
       "      <td>266263</td>\n",
       "      <td>3.0</td>\n",
       "    </tr>\n",
       "    <tr>\n",
       "      <th>771</th>\n",
       "      <td>Novak Djokovic</td>\n",
       "      <td>188</td>\n",
       "      <td>Basel</td>\n",
       "      <td>Basel, Switzerland</td>\n",
       "      <td>2011.10.31 - 2011.11.06</td>\n",
       "      <td>Hard</td>\n",
       "      <td>1308100.0</td>\n",
       "      <td>Round of 16</td>\n",
       "      <td>64</td>\n",
       "      <td>Lukasz Kubot</td>\n",
       "      <td>W</td>\n",
       "      <td>61 62</td>\n",
       "      <td>6162</td>\n",
       "      <td>2.0</td>\n",
       "    </tr>\n",
       "  </tbody>\n",
       "</table>\n",
       "</div>"
      ],
      "text/plain": [
       "         PlayerName  Height Tournament            Location  \\\n",
       "769  Novak Djokovic     188      Basel  Basel, Switzerland   \n",
       "770  Novak Djokovic     188      Basel  Basel, Switzerland   \n",
       "771  Novak Djokovic     188      Basel  Basel, Switzerland   \n",
       "\n",
       "                        Date Ground      Prize       GameRound GameRank  \\\n",
       "769  2011.10.31 - 2011.11.06   Hard  1308100.0     Semi-Finals       32   \n",
       "770  2011.10.31 - 2011.11.06   Hard  1308100.0  Quarter-Finals       59   \n",
       "771  2011.10.31 - 2011.11.06   Hard  1308100.0     Round of 16       64   \n",
       "\n",
       "              Oponent WL       Score Score_1  Numero_sets  \n",
       "769     Kei Nishikori  L  62 67,  06  626706          3.0  \n",
       "770  Marcos Baghdatis  W    26 62 63  266263          3.0  \n",
       "771      Lukasz Kubot  W       61 62    6162          2.0  "
      ]
     },
     "execution_count": 102,
     "metadata": {},
     "output_type": "execute_result"
    }
   ],
   "source": [
    "def contar_sets(score_1):\n",
    "    num_digitos = len(score_1)\n",
    "    resultado = score_1\n",
    "    if '(RET)' in score_1:\n",
    "\n",
    "        ret_pos = score_1.find('(RET)')\n",
    "        num_digitos = sum(c.isdigit() for c in score_1[:ret_pos])\n",
    "        \n",
    "    else:\n",
    "        num_digitos = sum(c.isdigit() for c in score_1)\n",
    "\n",
    "    if num_digitos == 10:\n",
    "        return 5\n",
    "    elif num_digitos == 8:\n",
    "        return 4\n",
    "    elif num_digitos == 6:\n",
    "        return 3\n",
    "    elif num_digitos == 4:\n",
    "        return 2\n",
    "    elif num_digitos == 2:\n",
    "        return 1\n",
    "    elif resultado == '(W/O)':\n",
    "        return 0\n",
    "    else:\n",
    "        return None\n",
    "\n",
    "switzerland_sw['Numero_sets'] = switzerland_sw['Score_1'].apply(contar_sets)\n",
    "\n",
    "switzerland_sw.head(3)"
   ]
  },
  {
   "cell_type": "markdown",
   "id": "2d7d572b",
   "metadata": {},
   "source": [
    "### Cheking (Ret)"
   ]
  },
  {
   "cell_type": "code",
   "execution_count": 103,
   "id": "f2e06362",
   "metadata": {},
   "outputs": [
    {
     "name": "stderr",
     "output_type": "stream",
     "text": [
      "/var/folders/by/h2v0ff9j4mvgbk5y8d7h456r0000gq/T/ipykernel_7782/3648962039.py:1: UserWarning: This pattern is interpreted as a regular expression, and has match groups. To actually get the groups, use str.extract.\n",
      "  (switzerland_sw['Score'].str.contains('(RET)').sum() / len(switzerland_sw)) *100\n"
     ]
    },
    {
     "data": {
      "text/plain": [
       "2.4250681198910082"
      ]
     },
     "execution_count": 103,
     "metadata": {},
     "output_type": "execute_result"
    }
   ],
   "source": [
    "(switzerland_sw['Score'].str.contains('(RET)').sum() / len(switzerland_sw)) *100"
   ]
  },
  {
   "cell_type": "markdown",
   "id": "c2853ce6",
   "metadata": {},
   "source": [
    "Dropping Score and Score_1 column that was used to create our target variable and we are not going to use those variables anymore"
   ]
  },
  {
   "cell_type": "code",
   "execution_count": 104,
   "id": "10493690",
   "metadata": {},
   "outputs": [
    {
     "name": "stderr",
     "output_type": "stream",
     "text": [
      "/var/folders/by/h2v0ff9j4mvgbk5y8d7h456r0000gq/T/ipykernel_7782/641300440.py:1: UserWarning: This pattern is interpreted as a regular expression, and has match groups. To actually get the groups, use str.extract.\n",
      "  switzerland_sw[switzerland_sw['Score'].str.contains('(RET)')].head(3)\n"
     ]
    },
    {
     "data": {
      "text/html": [
       "<div>\n",
       "<style scoped>\n",
       "    .dataframe tbody tr th:only-of-type {\n",
       "        vertical-align: middle;\n",
       "    }\n",
       "\n",
       "    .dataframe tbody tr th {\n",
       "        vertical-align: top;\n",
       "    }\n",
       "\n",
       "    .dataframe thead th {\n",
       "        text-align: right;\n",
       "    }\n",
       "</style>\n",
       "<table border=\"1\" class=\"dataframe\">\n",
       "  <thead>\n",
       "    <tr style=\"text-align: right;\">\n",
       "      <th></th>\n",
       "      <th>PlayerName</th>\n",
       "      <th>Height</th>\n",
       "      <th>Tournament</th>\n",
       "      <th>Location</th>\n",
       "      <th>Date</th>\n",
       "      <th>Ground</th>\n",
       "      <th>Prize</th>\n",
       "      <th>GameRound</th>\n",
       "      <th>GameRank</th>\n",
       "      <th>Oponent</th>\n",
       "      <th>WL</th>\n",
       "      <th>Score</th>\n",
       "      <th>Score_1</th>\n",
       "      <th>Numero_sets</th>\n",
       "    </tr>\n",
       "  </thead>\n",
       "  <tbody>\n",
       "    <tr>\n",
       "      <th>9991</th>\n",
       "      <td>Roberto Bautista Agut</td>\n",
       "      <td>183</td>\n",
       "      <td>Gstaad</td>\n",
       "      <td>Gstaad, Switzerland</td>\n",
       "      <td>2013.07.22 - 2013.07.28</td>\n",
       "      <td>Clay</td>\n",
       "      <td>410200.0</td>\n",
       "      <td>Round of 16</td>\n",
       "      <td>54</td>\n",
       "      <td>Victor Hanescu</td>\n",
       "      <td>L</td>\n",
       "      <td>67,  23 (RET)</td>\n",
       "      <td>6723(RET)</td>\n",
       "      <td>2.0</td>\n",
       "    </tr>\n",
       "    <tr>\n",
       "      <th>10054</th>\n",
       "      <td>Roberto Bautista Agut</td>\n",
       "      <td>183</td>\n",
       "      <td>Gstaad</td>\n",
       "      <td>Gstaad, Switzerland</td>\n",
       "      <td>2012.07.16 - 2012.07.22</td>\n",
       "      <td>Clay</td>\n",
       "      <td>358425.0</td>\n",
       "      <td>2nd Round Qualifying</td>\n",
       "      <td>245</td>\n",
       "      <td>Martin Fischer</td>\n",
       "      <td>L</td>\n",
       "      <td>16 01 (RET)</td>\n",
       "      <td>1601(RET)</td>\n",
       "      <td>2.0</td>\n",
       "    </tr>\n",
       "    <tr>\n",
       "      <th>14133</th>\n",
       "      <td>Marin Cilic</td>\n",
       "      <td>198</td>\n",
       "      <td>Basel</td>\n",
       "      <td>Basel, Switzerland</td>\n",
       "      <td>2017.10.23 - 2017.10.29</td>\n",
       "      <td>Hard</td>\n",
       "      <td>1837425.0</td>\n",
       "      <td>Round of 32</td>\n",
       "      <td>68</td>\n",
       "      <td>Florian Mayer</td>\n",
       "      <td>W</td>\n",
       "      <td>63 (RET)</td>\n",
       "      <td>63(RET)</td>\n",
       "      <td>1.0</td>\n",
       "    </tr>\n",
       "  </tbody>\n",
       "</table>\n",
       "</div>"
      ],
      "text/plain": [
       "                  PlayerName  Height Tournament             Location  \\\n",
       "9991   Roberto Bautista Agut     183     Gstaad  Gstaad, Switzerland   \n",
       "10054  Roberto Bautista Agut     183     Gstaad  Gstaad, Switzerland   \n",
       "14133            Marin Cilic     198      Basel   Basel, Switzerland   \n",
       "\n",
       "                          Date Ground      Prize             GameRound  \\\n",
       "9991   2013.07.22 - 2013.07.28   Clay   410200.0           Round of 16   \n",
       "10054  2012.07.16 - 2012.07.22   Clay   358425.0  2nd Round Qualifying   \n",
       "14133  2017.10.23 - 2017.10.29   Hard  1837425.0           Round of 32   \n",
       "\n",
       "      GameRank         Oponent WL          Score    Score_1  Numero_sets  \n",
       "9991        54  Victor Hanescu  L  67,  23 (RET)  6723(RET)          2.0  \n",
       "10054      245  Martin Fischer  L    16 01 (RET)  1601(RET)          2.0  \n",
       "14133       68   Florian Mayer  W       63 (RET)    63(RET)          1.0  "
      ]
     },
     "execution_count": 104,
     "metadata": {},
     "output_type": "execute_result"
    }
   ],
   "source": [
    "switzerland_sw[switzerland_sw['Score'].str.contains('(RET)')].head(3)"
   ]
  },
  {
   "cell_type": "code",
   "execution_count": 105,
   "id": "58608352",
   "metadata": {},
   "outputs": [
    {
     "name": "stderr",
     "output_type": "stream",
     "text": [
      "/var/folders/by/h2v0ff9j4mvgbk5y8d7h456r0000gq/T/ipykernel_7782/4121727408.py:1: UserWarning: This pattern is interpreted as a regular expression, and has match groups. To actually get the groups, use str.extract.\n",
      "  index_to_drop = switzerland_sw[switzerland_sw['Score'].str.contains('(RET)')].index\n",
      "/var/folders/by/h2v0ff9j4mvgbk5y8d7h456r0000gq/T/ipykernel_7782/4121727408.py:2: SettingWithCopyWarning: \n",
      "A value is trying to be set on a copy of a slice from a DataFrame\n",
      "\n",
      "See the caveats in the documentation: https://pandas.pydata.org/pandas-docs/stable/user_guide/indexing.html#returning-a-view-versus-a-copy\n",
      "  switzerland_sw.drop(index_to_drop, axis=0, inplace=True)\n"
     ]
    }
   ],
   "source": [
    "index_to_drop = switzerland_sw[switzerland_sw['Score'].str.contains('(RET)')].index\n",
    "switzerland_sw.drop(index_to_drop, axis=0, inplace=True)"
   ]
  },
  {
   "cell_type": "markdown",
   "id": "a6f60e76",
   "metadata": {},
   "source": [
    "### Checking (W/O)"
   ]
  },
  {
   "cell_type": "code",
   "execution_count": 106,
   "id": "bbd53f7c",
   "metadata": {},
   "outputs": [
    {
     "name": "stderr",
     "output_type": "stream",
     "text": [
      "/var/folders/by/h2v0ff9j4mvgbk5y8d7h456r0000gq/T/ipykernel_7782/2896742122.py:1: UserWarning: This pattern is interpreted as a regular expression, and has match groups. To actually get the groups, use str.extract.\n",
      "  (switzerland_sw['Score'].str.contains('(W/O)').sum() / len(switzerland_sw)) *100\n"
     ]
    },
    {
     "data": {
      "text/plain": [
       "0.46076514939960905"
      ]
     },
     "execution_count": 106,
     "metadata": {},
     "output_type": "execute_result"
    }
   ],
   "source": [
    "(switzerland_sw['Score'].str.contains('(W/O)').sum() / len(switzerland_sw)) *100"
   ]
  },
  {
   "cell_type": "code",
   "execution_count": 107,
   "id": "827e8a50",
   "metadata": {},
   "outputs": [
    {
     "name": "stderr",
     "output_type": "stream",
     "text": [
      "/var/folders/by/h2v0ff9j4mvgbk5y8d7h456r0000gq/T/ipykernel_7782/2472146490.py:1: UserWarning: This pattern is interpreted as a regular expression, and has match groups. To actually get the groups, use str.extract.\n",
      "  index_to_drop = switzerland_sw[switzerland_sw['Score'].str.contains('(W/O)')].index\n",
      "/var/folders/by/h2v0ff9j4mvgbk5y8d7h456r0000gq/T/ipykernel_7782/2472146490.py:2: SettingWithCopyWarning: \n",
      "A value is trying to be set on a copy of a slice from a DataFrame\n",
      "\n",
      "See the caveats in the documentation: https://pandas.pydata.org/pandas-docs/stable/user_guide/indexing.html#returning-a-view-versus-a-copy\n",
      "  switzerland_sw.drop(index_to_drop, axis=0, inplace=True)\n"
     ]
    }
   ],
   "source": [
    "index_to_drop = switzerland_sw[switzerland_sw['Score'].str.contains('(W/O)')].index\n",
    "switzerland_sw.drop(index_to_drop, axis=0, inplace=True)"
   ]
  },
  {
   "cell_type": "markdown",
   "id": "d1a8ee92",
   "metadata": {},
   "source": [
    "### Checking the number of rows of the new feature is na"
   ]
  },
  {
   "cell_type": "code",
   "execution_count": 108,
   "id": "cb736412",
   "metadata": {},
   "outputs": [
    {
     "data": {
      "text/plain": [
       "10"
      ]
     },
     "execution_count": 108,
     "metadata": {},
     "output_type": "execute_result"
    }
   ],
   "source": [
    "switzerland_sw['Numero_sets'].isna().sum()"
   ]
  },
  {
   "cell_type": "markdown",
   "id": "95257423",
   "metadata": {},
   "source": [
    "### Dropping rows"
   ]
  },
  {
   "cell_type": "code",
   "execution_count": 109,
   "id": "a9e100f4",
   "metadata": {},
   "outputs": [
    {
     "name": "stderr",
     "output_type": "stream",
     "text": [
      "/var/folders/by/h2v0ff9j4mvgbk5y8d7h456r0000gq/T/ipykernel_7782/2258402279.py:1: SettingWithCopyWarning: \n",
      "A value is trying to be set on a copy of a slice from a DataFrame\n",
      "\n",
      "See the caveats in the documentation: https://pandas.pydata.org/pandas-docs/stable/user_guide/indexing.html#returning-a-view-versus-a-copy\n",
      "  switzerland_sw.dropna(subset=['Numero_sets'], inplace=True, axis=0)\n"
     ]
    },
    {
     "data": {
      "text/plain": [
       "0"
      ]
     },
     "execution_count": 109,
     "metadata": {},
     "output_type": "execute_result"
    }
   ],
   "source": [
    "switzerland_sw.dropna(subset=['Numero_sets'], inplace=True, axis=0)\n",
    "switzerland_sw['Numero_sets'].isna().sum()"
   ]
  },
  {
   "cell_type": "markdown",
   "id": "c6c20f91",
   "metadata": {},
   "source": [
    "### Passing Game Rank to Integer"
   ]
  },
  {
   "cell_type": "markdown",
   "id": "53ab0f0d",
   "metadata": {},
   "source": [
    "The Players that do not have a rank, are players that has a high rank, so we going to do a convenction that players that does not have a rank are in 1001 position"
   ]
  },
  {
   "cell_type": "code",
   "execution_count": 110,
   "id": "eb153503",
   "metadata": {},
   "outputs": [
    {
     "name": "stderr",
     "output_type": "stream",
     "text": [
      "/var/folders/by/h2v0ff9j4mvgbk5y8d7h456r0000gq/T/ipykernel_7782/1262623244.py:2: SettingWithCopyWarning: \n",
      "A value is trying to be set on a copy of a slice from a DataFrame\n",
      "\n",
      "See the caveats in the documentation: https://pandas.pydata.org/pandas-docs/stable/user_guide/indexing.html#returning-a-view-versus-a-copy\n",
      "  switzerland_sw[\"GameRank\"].loc[index_to_fill] = \"1001\"\n"
     ]
    }
   ],
   "source": [
    "index_to_fill = switzerland_sw[switzerland_sw['GameRank'] == \"-\"].index\n",
    "switzerland_sw[\"GameRank\"].loc[index_to_fill] = \"1001\""
   ]
  },
  {
   "cell_type": "code",
   "execution_count": 111,
   "id": "9331c624",
   "metadata": {},
   "outputs": [
    {
     "name": "stderr",
     "output_type": "stream",
     "text": [
      "/var/folders/by/h2v0ff9j4mvgbk5y8d7h456r0000gq/T/ipykernel_7782/3464275836.py:1: SettingWithCopyWarning: \n",
      "A value is trying to be set on a copy of a slice from a DataFrame.\n",
      "Try using .loc[row_indexer,col_indexer] = value instead\n",
      "\n",
      "See the caveats in the documentation: https://pandas.pydata.org/pandas-docs/stable/user_guide/indexing.html#returning-a-view-versus-a-copy\n",
      "  switzerland_sw[\"GameRank\"] = switzerland_sw[\"GameRank\"].astype(int)\n"
     ]
    }
   ],
   "source": [
    "switzerland_sw[\"GameRank\"] = switzerland_sw[\"GameRank\"].astype(int)"
   ]
  },
  {
   "cell_type": "code",
   "execution_count": 112,
   "id": "4bbe07d6",
   "metadata": {},
   "outputs": [
    {
     "data": {
      "text/plain": [
       "2238"
      ]
     },
     "execution_count": 112,
     "metadata": {},
     "output_type": "execute_result"
    }
   ],
   "source": [
    "switzerland_sw[\"GameRank\"].max()"
   ]
  },
  {
   "cell_type": "markdown",
   "id": "2fb839a2",
   "metadata": {},
   "source": [
    "### Creating new feature to be a possible target "
   ]
  },
  {
   "cell_type": "code",
   "execution_count": 113,
   "id": "41eccaf2",
   "metadata": {},
   "outputs": [],
   "source": [
    "def num_of_points(Score_1):\n",
    "    total_points = 0\n",
    "    for i in range(len(Score_1)):\n",
    "        total_points += int(Score_1[i])\n",
    "    return total_points"
   ]
  },
  {
   "cell_type": "code",
   "execution_count": 114,
   "id": "474de452",
   "metadata": {},
   "outputs": [
    {
     "name": "stderr",
     "output_type": "stream",
     "text": [
      "/var/folders/by/h2v0ff9j4mvgbk5y8d7h456r0000gq/T/ipykernel_7782/941572558.py:1: SettingWithCopyWarning: \n",
      "A value is trying to be set on a copy of a slice from a DataFrame.\n",
      "Try using .loc[row_indexer,col_indexer] = value instead\n",
      "\n",
      "See the caveats in the documentation: https://pandas.pydata.org/pandas-docs/stable/user_guide/indexing.html#returning-a-view-versus-a-copy\n",
      "  switzerland_sw[\"TotalPoints\"] = switzerland_sw[\"Score_1\"].apply(num_of_points)\n"
     ]
    }
   ],
   "source": [
    "switzerland_sw[\"TotalPoints\"] = switzerland_sw[\"Score_1\"].apply(num_of_points)"
   ]
  },
  {
   "cell_type": "code",
   "execution_count": 115,
   "id": "90ce650e",
   "metadata": {},
   "outputs": [
    {
     "data": {
      "text/html": [
       "<div>\n",
       "<style scoped>\n",
       "    .dataframe tbody tr th:only-of-type {\n",
       "        vertical-align: middle;\n",
       "    }\n",
       "\n",
       "    .dataframe tbody tr th {\n",
       "        vertical-align: top;\n",
       "    }\n",
       "\n",
       "    .dataframe thead th {\n",
       "        text-align: right;\n",
       "    }\n",
       "</style>\n",
       "<table border=\"1\" class=\"dataframe\">\n",
       "  <thead>\n",
       "    <tr style=\"text-align: right;\">\n",
       "      <th></th>\n",
       "      <th>PlayerName</th>\n",
       "      <th>Height</th>\n",
       "      <th>Tournament</th>\n",
       "      <th>Location</th>\n",
       "      <th>Date</th>\n",
       "      <th>Ground</th>\n",
       "      <th>Prize</th>\n",
       "      <th>GameRound</th>\n",
       "      <th>GameRank</th>\n",
       "      <th>Oponent</th>\n",
       "      <th>WL</th>\n",
       "      <th>Score</th>\n",
       "      <th>Score_1</th>\n",
       "      <th>Numero_sets</th>\n",
       "      <th>TotalPoints</th>\n",
       "    </tr>\n",
       "  </thead>\n",
       "  <tbody>\n",
       "    <tr>\n",
       "      <th>769</th>\n",
       "      <td>Novak Djokovic</td>\n",
       "      <td>188</td>\n",
       "      <td>Basel</td>\n",
       "      <td>Basel, Switzerland</td>\n",
       "      <td>2011.10.31 - 2011.11.06</td>\n",
       "      <td>Hard</td>\n",
       "      <td>1308100.0</td>\n",
       "      <td>Semi-Finals</td>\n",
       "      <td>32</td>\n",
       "      <td>Kei Nishikori</td>\n",
       "      <td>L</td>\n",
       "      <td>62 67,  06</td>\n",
       "      <td>626706</td>\n",
       "      <td>3.0</td>\n",
       "      <td>27</td>\n",
       "    </tr>\n",
       "    <tr>\n",
       "      <th>770</th>\n",
       "      <td>Novak Djokovic</td>\n",
       "      <td>188</td>\n",
       "      <td>Basel</td>\n",
       "      <td>Basel, Switzerland</td>\n",
       "      <td>2011.10.31 - 2011.11.06</td>\n",
       "      <td>Hard</td>\n",
       "      <td>1308100.0</td>\n",
       "      <td>Quarter-Finals</td>\n",
       "      <td>59</td>\n",
       "      <td>Marcos Baghdatis</td>\n",
       "      <td>W</td>\n",
       "      <td>26 62 63</td>\n",
       "      <td>266263</td>\n",
       "      <td>3.0</td>\n",
       "      <td>25</td>\n",
       "    </tr>\n",
       "    <tr>\n",
       "      <th>771</th>\n",
       "      <td>Novak Djokovic</td>\n",
       "      <td>188</td>\n",
       "      <td>Basel</td>\n",
       "      <td>Basel, Switzerland</td>\n",
       "      <td>2011.10.31 - 2011.11.06</td>\n",
       "      <td>Hard</td>\n",
       "      <td>1308100.0</td>\n",
       "      <td>Round of 16</td>\n",
       "      <td>64</td>\n",
       "      <td>Lukasz Kubot</td>\n",
       "      <td>W</td>\n",
       "      <td>61 62</td>\n",
       "      <td>6162</td>\n",
       "      <td>2.0</td>\n",
       "      <td>15</td>\n",
       "    </tr>\n",
       "  </tbody>\n",
       "</table>\n",
       "</div>"
      ],
      "text/plain": [
       "         PlayerName  Height Tournament            Location  \\\n",
       "769  Novak Djokovic     188      Basel  Basel, Switzerland   \n",
       "770  Novak Djokovic     188      Basel  Basel, Switzerland   \n",
       "771  Novak Djokovic     188      Basel  Basel, Switzerland   \n",
       "\n",
       "                        Date Ground      Prize       GameRound  GameRank  \\\n",
       "769  2011.10.31 - 2011.11.06   Hard  1308100.0     Semi-Finals        32   \n",
       "770  2011.10.31 - 2011.11.06   Hard  1308100.0  Quarter-Finals        59   \n",
       "771  2011.10.31 - 2011.11.06   Hard  1308100.0     Round of 16        64   \n",
       "\n",
       "              Oponent WL       Score Score_1  Numero_sets  TotalPoints  \n",
       "769     Kei Nishikori  L  62 67,  06  626706          3.0           27  \n",
       "770  Marcos Baghdatis  W    26 62 63  266263          3.0           25  \n",
       "771      Lukasz Kubot  W       61 62    6162          2.0           15  "
      ]
     },
     "execution_count": 115,
     "metadata": {},
     "output_type": "execute_result"
    }
   ],
   "source": [
    "switzerland_sw.head(3)"
   ]
  },
  {
   "cell_type": "code",
   "execution_count": 116,
   "id": "470ddfca",
   "metadata": {},
   "outputs": [
    {
     "name": "stderr",
     "output_type": "stream",
     "text": [
      "/var/folders/by/h2v0ff9j4mvgbk5y8d7h456r0000gq/T/ipykernel_7782/1171537445.py:1: SettingWithCopyWarning: \n",
      "A value is trying to be set on a copy of a slice from a DataFrame\n",
      "\n",
      "See the caveats in the documentation: https://pandas.pydata.org/pandas-docs/stable/user_guide/indexing.html#returning-a-view-versus-a-copy\n",
      "  switzerland_sw.drop([\"Score\", \"Score_1\"], axis=1, inplace=True)\n"
     ]
    }
   ],
   "source": [
    "switzerland_sw.drop([\"Score\", \"Score_1\"], axis=1, inplace=True)"
   ]
  },
  {
   "cell_type": "code",
   "execution_count": 117,
   "id": "f4f7f952",
   "metadata": {},
   "outputs": [
    {
     "data": {
      "text/html": [
       "<div>\n",
       "<style scoped>\n",
       "    .dataframe tbody tr th:only-of-type {\n",
       "        vertical-align: middle;\n",
       "    }\n",
       "\n",
       "    .dataframe tbody tr th {\n",
       "        vertical-align: top;\n",
       "    }\n",
       "\n",
       "    .dataframe thead th {\n",
       "        text-align: right;\n",
       "    }\n",
       "</style>\n",
       "<table border=\"1\" class=\"dataframe\">\n",
       "  <thead>\n",
       "    <tr style=\"text-align: right;\">\n",
       "      <th></th>\n",
       "      <th>PlayerName</th>\n",
       "      <th>Height</th>\n",
       "      <th>Tournament</th>\n",
       "      <th>Location</th>\n",
       "      <th>Date</th>\n",
       "      <th>Ground</th>\n",
       "      <th>Prize</th>\n",
       "      <th>GameRound</th>\n",
       "      <th>GameRank</th>\n",
       "      <th>Oponent</th>\n",
       "      <th>WL</th>\n",
       "      <th>Numero_sets</th>\n",
       "      <th>TotalPoints</th>\n",
       "    </tr>\n",
       "  </thead>\n",
       "  <tbody>\n",
       "    <tr>\n",
       "      <th>769</th>\n",
       "      <td>Novak Djokovic</td>\n",
       "      <td>188</td>\n",
       "      <td>Basel</td>\n",
       "      <td>Basel, Switzerland</td>\n",
       "      <td>2011.10.31 - 2011.11.06</td>\n",
       "      <td>Hard</td>\n",
       "      <td>1308100.0</td>\n",
       "      <td>Semi-Finals</td>\n",
       "      <td>32</td>\n",
       "      <td>Kei Nishikori</td>\n",
       "      <td>L</td>\n",
       "      <td>3.0</td>\n",
       "      <td>27</td>\n",
       "    </tr>\n",
       "    <tr>\n",
       "      <th>770</th>\n",
       "      <td>Novak Djokovic</td>\n",
       "      <td>188</td>\n",
       "      <td>Basel</td>\n",
       "      <td>Basel, Switzerland</td>\n",
       "      <td>2011.10.31 - 2011.11.06</td>\n",
       "      <td>Hard</td>\n",
       "      <td>1308100.0</td>\n",
       "      <td>Quarter-Finals</td>\n",
       "      <td>59</td>\n",
       "      <td>Marcos Baghdatis</td>\n",
       "      <td>W</td>\n",
       "      <td>3.0</td>\n",
       "      <td>25</td>\n",
       "    </tr>\n",
       "    <tr>\n",
       "      <th>771</th>\n",
       "      <td>Novak Djokovic</td>\n",
       "      <td>188</td>\n",
       "      <td>Basel</td>\n",
       "      <td>Basel, Switzerland</td>\n",
       "      <td>2011.10.31 - 2011.11.06</td>\n",
       "      <td>Hard</td>\n",
       "      <td>1308100.0</td>\n",
       "      <td>Round of 16</td>\n",
       "      <td>64</td>\n",
       "      <td>Lukasz Kubot</td>\n",
       "      <td>W</td>\n",
       "      <td>2.0</td>\n",
       "      <td>15</td>\n",
       "    </tr>\n",
       "  </tbody>\n",
       "</table>\n",
       "</div>"
      ],
      "text/plain": [
       "         PlayerName  Height Tournament            Location  \\\n",
       "769  Novak Djokovic     188      Basel  Basel, Switzerland   \n",
       "770  Novak Djokovic     188      Basel  Basel, Switzerland   \n",
       "771  Novak Djokovic     188      Basel  Basel, Switzerland   \n",
       "\n",
       "                        Date Ground      Prize       GameRound  GameRank  \\\n",
       "769  2011.10.31 - 2011.11.06   Hard  1308100.0     Semi-Finals        32   \n",
       "770  2011.10.31 - 2011.11.06   Hard  1308100.0  Quarter-Finals        59   \n",
       "771  2011.10.31 - 2011.11.06   Hard  1308100.0     Round of 16        64   \n",
       "\n",
       "              Oponent WL  Numero_sets  TotalPoints  \n",
       "769     Kei Nishikori  L          3.0           27  \n",
       "770  Marcos Baghdatis  W          3.0           25  \n",
       "771      Lukasz Kubot  W          2.0           15  "
      ]
     },
     "execution_count": 117,
     "metadata": {},
     "output_type": "execute_result"
    }
   ],
   "source": [
    "switzerland_sw.head(3)"
   ]
  },
  {
   "cell_type": "markdown",
   "id": "c8dfb395",
   "metadata": {},
   "source": [
    "### Converting number of setting to integer"
   ]
  },
  {
   "cell_type": "code",
   "execution_count": 118,
   "id": "9d5e50cc",
   "metadata": {},
   "outputs": [
    {
     "name": "stderr",
     "output_type": "stream",
     "text": [
      "/var/folders/by/h2v0ff9j4mvgbk5y8d7h456r0000gq/T/ipykernel_7782/2617070812.py:1: SettingWithCopyWarning: \n",
      "A value is trying to be set on a copy of a slice from a DataFrame.\n",
      "Try using .loc[row_indexer,col_indexer] = value instead\n",
      "\n",
      "See the caveats in the documentation: https://pandas.pydata.org/pandas-docs/stable/user_guide/indexing.html#returning-a-view-versus-a-copy\n",
      "  switzerland_sw['Numero_sets'] = switzerland_sw['Numero_sets'].astype(int)\n"
     ]
    }
   ],
   "source": [
    "switzerland_sw['Numero_sets'] = switzerland_sw['Numero_sets'].astype(int)"
   ]
  },
  {
   "cell_type": "markdown",
   "id": "2c62332b",
   "metadata": {},
   "source": [
    "### Creating date columns and calculating the lenght of the tournament in days"
   ]
  },
  {
   "cell_type": "code",
   "execution_count": 119,
   "id": "28636595",
   "metadata": {},
   "outputs": [
    {
     "data": {
      "text/html": [
       "<div>\n",
       "<style scoped>\n",
       "    .dataframe tbody tr th:only-of-type {\n",
       "        vertical-align: middle;\n",
       "    }\n",
       "\n",
       "    .dataframe tbody tr th {\n",
       "        vertical-align: top;\n",
       "    }\n",
       "\n",
       "    .dataframe thead th {\n",
       "        text-align: right;\n",
       "    }\n",
       "</style>\n",
       "<table border=\"1\" class=\"dataframe\">\n",
       "  <thead>\n",
       "    <tr style=\"text-align: right;\">\n",
       "      <th></th>\n",
       "      <th>PlayerName</th>\n",
       "      <th>Height</th>\n",
       "      <th>Tournament</th>\n",
       "      <th>Location</th>\n",
       "      <th>Date</th>\n",
       "      <th>Ground</th>\n",
       "      <th>Prize</th>\n",
       "      <th>GameRound</th>\n",
       "      <th>GameRank</th>\n",
       "      <th>Oponent</th>\n",
       "      <th>WL</th>\n",
       "      <th>Numero_sets</th>\n",
       "      <th>TotalPoints</th>\n",
       "    </tr>\n",
       "  </thead>\n",
       "  <tbody>\n",
       "    <tr>\n",
       "      <th>1029287</th>\n",
       "      <td>John James</td>\n",
       "      <td>183</td>\n",
       "      <td>Geneva</td>\n",
       "      <td>Geneva, Switzerland</td>\n",
       "      <td>1980.09.22</td>\n",
       "      <td>Clay</td>\n",
       "      <td>75000.0</td>\n",
       "      <td>Round of 32</td>\n",
       "      <td>1001</td>\n",
       "      <td>Greg Whitecross</td>\n",
       "      <td>W</td>\n",
       "      <td>2</td>\n",
       "      <td>17</td>\n",
       "    </tr>\n",
       "    <tr>\n",
       "      <th>1029288</th>\n",
       "      <td>John James</td>\n",
       "      <td>183</td>\n",
       "      <td>Geneva</td>\n",
       "      <td>Geneva, Switzerland</td>\n",
       "      <td>1980.09.22</td>\n",
       "      <td>Clay</td>\n",
       "      <td>75000.0</td>\n",
       "      <td>Round of 16</td>\n",
       "      <td>25</td>\n",
       "      <td>Balazs Taroczy</td>\n",
       "      <td>L</td>\n",
       "      <td>2</td>\n",
       "      <td>16</td>\n",
       "    </tr>\n",
       "    <tr>\n",
       "      <th>1111582</th>\n",
       "      <td>Stefan Edberg</td>\n",
       "      <td>188</td>\n",
       "      <td>Basel</td>\n",
       "      <td>Basel, Switzerland</td>\n",
       "      <td>1983.10.10</td>\n",
       "      <td>Hard</td>\n",
       "      <td>100000.0</td>\n",
       "      <td>Round of 16</td>\n",
       "      <td>27</td>\n",
       "      <td>Wojtek Fibak</td>\n",
       "      <td>L</td>\n",
       "      <td>2</td>\n",
       "      <td>22</td>\n",
       "    </tr>\n",
       "    <tr>\n",
       "      <th>1111583</th>\n",
       "      <td>Stefan Edberg</td>\n",
       "      <td>188</td>\n",
       "      <td>Basel</td>\n",
       "      <td>Basel, Switzerland</td>\n",
       "      <td>1983.10.10</td>\n",
       "      <td>Hard</td>\n",
       "      <td>100000.0</td>\n",
       "      <td>Round of 32</td>\n",
       "      <td>1001</td>\n",
       "      <td>Erick Iskersky</td>\n",
       "      <td>W</td>\n",
       "      <td>2</td>\n",
       "      <td>16</td>\n",
       "    </tr>\n",
       "    <tr>\n",
       "      <th>1111595</th>\n",
       "      <td>Stefan Edberg</td>\n",
       "      <td>188</td>\n",
       "      <td>Geneva</td>\n",
       "      <td>Geneva, Switzerland</td>\n",
       "      <td>1982.09.20</td>\n",
       "      <td>Clay</td>\n",
       "      <td>75000.0</td>\n",
       "      <td>Round of 32</td>\n",
       "      <td>1001</td>\n",
       "      <td>Jairo Velasco Sr</td>\n",
       "      <td>L</td>\n",
       "      <td>3</td>\n",
       "      <td>23</td>\n",
       "    </tr>\n",
       "  </tbody>\n",
       "</table>\n",
       "</div>"
      ],
      "text/plain": [
       "            PlayerName  Height Tournament             Location        Date  \\\n",
       "1029287     John James     183     Geneva  Geneva, Switzerland  1980.09.22   \n",
       "1029288     John James     183     Geneva  Geneva, Switzerland  1980.09.22   \n",
       "1111582  Stefan Edberg     188      Basel   Basel, Switzerland  1983.10.10   \n",
       "1111583  Stefan Edberg     188      Basel   Basel, Switzerland  1983.10.10   \n",
       "1111595  Stefan Edberg     188     Geneva  Geneva, Switzerland  1982.09.20   \n",
       "\n",
       "        Ground     Prize    GameRound  GameRank           Oponent WL  \\\n",
       "1029287   Clay   75000.0  Round of 32      1001   Greg Whitecross  W   \n",
       "1029288   Clay   75000.0  Round of 16        25    Balazs Taroczy  L   \n",
       "1111582   Hard  100000.0  Round of 16        27      Wojtek Fibak  L   \n",
       "1111583   Hard  100000.0  Round of 32      1001    Erick Iskersky  W   \n",
       "1111595   Clay   75000.0  Round of 32      1001  Jairo Velasco Sr  L   \n",
       "\n",
       "         Numero_sets  TotalPoints  \n",
       "1029287            2           17  \n",
       "1029288            2           16  \n",
       "1111582            2           22  \n",
       "1111583            2           16  \n",
       "1111595            3           23  "
      ]
     },
     "execution_count": 119,
     "metadata": {},
     "output_type": "execute_result"
    }
   ],
   "source": [
    "switzerland_sw[~switzerland_sw['Date'].str.contains('-', case=False)].head()"
   ]
  },
  {
   "cell_type": "code",
   "execution_count": 120,
   "id": "a9df3cd2",
   "metadata": {},
   "outputs": [
    {
     "data": {
      "text/plain": [
       "1.4458169567658619"
      ]
     },
     "execution_count": 120,
     "metadata": {},
     "output_type": "execute_result"
    }
   ],
   "source": [
    "len(switzerland_sw[~switzerland_sw['Date'].str.contains('-', case=False)])/len(switzerland_sw) *100"
   ]
  },
  {
   "cell_type": "markdown",
   "id": "d65f959b",
   "metadata": {},
   "source": [
    "Podemos ver que os casos em que não temos a data do termino da partida são de torneis datados dos anos oitento que já são dados ultrapassados e que correspondem a apenas 1.4% dos dados"
   ]
  },
  {
   "cell_type": "code",
   "execution_count": 121,
   "id": "4cb7656e",
   "metadata": {},
   "outputs": [
    {
     "name": "stderr",
     "output_type": "stream",
     "text": [
      "/var/folders/by/h2v0ff9j4mvgbk5y8d7h456r0000gq/T/ipykernel_7782/1991746986.py:3: SettingWithCopyWarning: \n",
      "A value is trying to be set on a copy of a slice from a DataFrame\n",
      "\n",
      "See the caveats in the documentation: https://pandas.pydata.org/pandas-docs/stable/user_guide/indexing.html#returning-a-view-versus-a-copy\n",
      "  switzerland_sw.drop(index=indices_to_drop, axis=0, inplace=True)\n"
     ]
    }
   ],
   "source": [
    "indices_to_drop = switzerland_sw[~switzerland_sw['Date'].str.contains('-', case=False)].index\n",
    "\n",
    "switzerland_sw.drop(index=indices_to_drop, axis=0, inplace=True)"
   ]
  },
  {
   "cell_type": "code",
   "execution_count": 122,
   "id": "9d764542",
   "metadata": {},
   "outputs": [
    {
     "name": "stderr",
     "output_type": "stream",
     "text": [
      "/var/folders/by/h2v0ff9j4mvgbk5y8d7h456r0000gq/T/ipykernel_7782/407940070.py:1: SettingWithCopyWarning: \n",
      "A value is trying to be set on a copy of a slice from a DataFrame.\n",
      "Try using .loc[row_indexer,col_indexer] = value instead\n",
      "\n",
      "See the caveats in the documentation: https://pandas.pydata.org/pandas-docs/stable/user_guide/indexing.html#returning-a-view-versus-a-copy\n",
      "  switzerland_sw[\"start_date\"] = switzerland_sw[\"Date\"].apply(lambda x: x.split(\"-\")[0])\n",
      "/var/folders/by/h2v0ff9j4mvgbk5y8d7h456r0000gq/T/ipykernel_7782/407940070.py:2: SettingWithCopyWarning: \n",
      "A value is trying to be set on a copy of a slice from a DataFrame.\n",
      "Try using .loc[row_indexer,col_indexer] = value instead\n",
      "\n",
      "See the caveats in the documentation: https://pandas.pydata.org/pandas-docs/stable/user_guide/indexing.html#returning-a-view-versus-a-copy\n",
      "  switzerland_sw[\"end_date\"] = switzerland_sw[\"Date\"].apply(lambda x: x.split(\"-\")[1])\n"
     ]
    }
   ],
   "source": [
    "switzerland_sw[\"start_date\"] = switzerland_sw[\"Date\"].apply(lambda x: x.split(\"-\")[0])\n",
    "switzerland_sw[\"end_date\"] = switzerland_sw[\"Date\"].apply(lambda x: x.split(\"-\")[1])"
   ]
  },
  {
   "cell_type": "code",
   "execution_count": 123,
   "id": "b2168e4d",
   "metadata": {},
   "outputs": [
    {
     "name": "stderr",
     "output_type": "stream",
     "text": [
      "/var/folders/by/h2v0ff9j4mvgbk5y8d7h456r0000gq/T/ipykernel_7782/68302794.py:1: SettingWithCopyWarning: \n",
      "A value is trying to be set on a copy of a slice from a DataFrame.\n",
      "Try using .loc[row_indexer,col_indexer] = value instead\n",
      "\n",
      "See the caveats in the documentation: https://pandas.pydata.org/pandas-docs/stable/user_guide/indexing.html#returning-a-view-versus-a-copy\n",
      "  switzerland_sw[\"start_date\"] = pd.to_datetime(switzerland_sw[\"start_date\"])\n",
      "/var/folders/by/h2v0ff9j4mvgbk5y8d7h456r0000gq/T/ipykernel_7782/68302794.py:2: SettingWithCopyWarning: \n",
      "A value is trying to be set on a copy of a slice from a DataFrame.\n",
      "Try using .loc[row_indexer,col_indexer] = value instead\n",
      "\n",
      "See the caveats in the documentation: https://pandas.pydata.org/pandas-docs/stable/user_guide/indexing.html#returning-a-view-versus-a-copy\n",
      "  switzerland_sw[\"end_date\"] = pd.to_datetime(switzerland_sw[\"end_date\"])\n"
     ]
    }
   ],
   "source": [
    "switzerland_sw[\"start_date\"] = pd.to_datetime(switzerland_sw[\"start_date\"])\n",
    "switzerland_sw[\"end_date\"] = pd.to_datetime(switzerland_sw[\"end_date\"])"
   ]
  },
  {
   "cell_type": "code",
   "execution_count": 124,
   "id": "933b3185",
   "metadata": {},
   "outputs": [
    {
     "name": "stderr",
     "output_type": "stream",
     "text": [
      "/var/folders/by/h2v0ff9j4mvgbk5y8d7h456r0000gq/T/ipykernel_7782/4038897034.py:1: SettingWithCopyWarning: \n",
      "A value is trying to be set on a copy of a slice from a DataFrame.\n",
      "Try using .loc[row_indexer,col_indexer] = value instead\n",
      "\n",
      "See the caveats in the documentation: https://pandas.pydata.org/pandas-docs/stable/user_guide/indexing.html#returning-a-view-versus-a-copy\n",
      "  switzerland_sw[\"tornament_days\"] = (switzerland_sw[\"end_date\"] - switzerland_sw[\"start_date\"]).dt.days\n"
     ]
    }
   ],
   "source": [
    "switzerland_sw[\"tornament_days\"] = (switzerland_sw[\"end_date\"] - switzerland_sw[\"start_date\"]).dt.days"
   ]
  },
  {
   "cell_type": "markdown",
   "id": "4a75fecf",
   "metadata": {},
   "source": [
    "#### Dropping the Date Column that we not going to use anymore "
   ]
  },
  {
   "cell_type": "code",
   "execution_count": 125,
   "id": "cff0e176",
   "metadata": {},
   "outputs": [
    {
     "name": "stderr",
     "output_type": "stream",
     "text": [
      "/var/folders/by/h2v0ff9j4mvgbk5y8d7h456r0000gq/T/ipykernel_7782/1447497294.py:1: SettingWithCopyWarning: \n",
      "A value is trying to be set on a copy of a slice from a DataFrame\n",
      "\n",
      "See the caveats in the documentation: https://pandas.pydata.org/pandas-docs/stable/user_guide/indexing.html#returning-a-view-versus-a-copy\n",
      "  switzerland_sw.drop(\"Date\", inplace=True, axis=1)\n"
     ]
    },
    {
     "data": {
      "text/html": [
       "<div>\n",
       "<style scoped>\n",
       "    .dataframe tbody tr th:only-of-type {\n",
       "        vertical-align: middle;\n",
       "    }\n",
       "\n",
       "    .dataframe tbody tr th {\n",
       "        vertical-align: top;\n",
       "    }\n",
       "\n",
       "    .dataframe thead th {\n",
       "        text-align: right;\n",
       "    }\n",
       "</style>\n",
       "<table border=\"1\" class=\"dataframe\">\n",
       "  <thead>\n",
       "    <tr style=\"text-align: right;\">\n",
       "      <th></th>\n",
       "      <th>PlayerName</th>\n",
       "      <th>Height</th>\n",
       "      <th>Tournament</th>\n",
       "      <th>Location</th>\n",
       "      <th>Ground</th>\n",
       "      <th>Prize</th>\n",
       "      <th>GameRound</th>\n",
       "      <th>GameRank</th>\n",
       "      <th>Oponent</th>\n",
       "      <th>WL</th>\n",
       "      <th>Numero_sets</th>\n",
       "      <th>TotalPoints</th>\n",
       "      <th>start_date</th>\n",
       "      <th>end_date</th>\n",
       "      <th>tornament_days</th>\n",
       "    </tr>\n",
       "  </thead>\n",
       "  <tbody>\n",
       "    <tr>\n",
       "      <th>769</th>\n",
       "      <td>Novak Djokovic</td>\n",
       "      <td>188</td>\n",
       "      <td>Basel</td>\n",
       "      <td>Basel, Switzerland</td>\n",
       "      <td>Hard</td>\n",
       "      <td>1308100.0</td>\n",
       "      <td>Semi-Finals</td>\n",
       "      <td>32</td>\n",
       "      <td>Kei Nishikori</td>\n",
       "      <td>L</td>\n",
       "      <td>3</td>\n",
       "      <td>27</td>\n",
       "      <td>2011-10-31</td>\n",
       "      <td>2011-11-06</td>\n",
       "      <td>6</td>\n",
       "    </tr>\n",
       "    <tr>\n",
       "      <th>770</th>\n",
       "      <td>Novak Djokovic</td>\n",
       "      <td>188</td>\n",
       "      <td>Basel</td>\n",
       "      <td>Basel, Switzerland</td>\n",
       "      <td>Hard</td>\n",
       "      <td>1308100.0</td>\n",
       "      <td>Quarter-Finals</td>\n",
       "      <td>59</td>\n",
       "      <td>Marcos Baghdatis</td>\n",
       "      <td>W</td>\n",
       "      <td>3</td>\n",
       "      <td>25</td>\n",
       "      <td>2011-10-31</td>\n",
       "      <td>2011-11-06</td>\n",
       "      <td>6</td>\n",
       "    </tr>\n",
       "    <tr>\n",
       "      <th>771</th>\n",
       "      <td>Novak Djokovic</td>\n",
       "      <td>188</td>\n",
       "      <td>Basel</td>\n",
       "      <td>Basel, Switzerland</td>\n",
       "      <td>Hard</td>\n",
       "      <td>1308100.0</td>\n",
       "      <td>Round of 16</td>\n",
       "      <td>64</td>\n",
       "      <td>Lukasz Kubot</td>\n",
       "      <td>W</td>\n",
       "      <td>2</td>\n",
       "      <td>15</td>\n",
       "      <td>2011-10-31</td>\n",
       "      <td>2011-11-06</td>\n",
       "      <td>6</td>\n",
       "    </tr>\n",
       "  </tbody>\n",
       "</table>\n",
       "</div>"
      ],
      "text/plain": [
       "         PlayerName  Height Tournament            Location Ground      Prize  \\\n",
       "769  Novak Djokovic     188      Basel  Basel, Switzerland   Hard  1308100.0   \n",
       "770  Novak Djokovic     188      Basel  Basel, Switzerland   Hard  1308100.0   \n",
       "771  Novak Djokovic     188      Basel  Basel, Switzerland   Hard  1308100.0   \n",
       "\n",
       "          GameRound  GameRank           Oponent WL  Numero_sets  TotalPoints  \\\n",
       "769     Semi-Finals        32     Kei Nishikori  L            3           27   \n",
       "770  Quarter-Finals        59  Marcos Baghdatis  W            3           25   \n",
       "771     Round of 16        64      Lukasz Kubot  W            2           15   \n",
       "\n",
       "    start_date   end_date  tornament_days  \n",
       "769 2011-10-31 2011-11-06               6  \n",
       "770 2011-10-31 2011-11-06               6  \n",
       "771 2011-10-31 2011-11-06               6  "
      ]
     },
     "execution_count": 125,
     "metadata": {},
     "output_type": "execute_result"
    }
   ],
   "source": [
    "switzerland_sw.drop(\"Date\", inplace=True, axis=1)\n",
    "switzerland_sw.head(3)"
   ]
  },
  {
   "cell_type": "markdown",
   "id": "edba4875",
   "metadata": {},
   "source": [
    "### Extract the city"
   ]
  },
  {
   "cell_type": "code",
   "execution_count": 126,
   "id": "325d0c72",
   "metadata": {},
   "outputs": [
    {
     "data": {
      "text/plain": [
       "Geneva, Switzerland                 2811\n",
       "Gstaad, Switzerland                 2555\n",
       "Basel, Switzerland                  2466\n",
       "Switzerland                         2278\n",
       "Lugano, Switzerland                  931\n",
       "Bossonnens, Switzerland              277\n",
       "Biel, Switzerland                    268\n",
       "Oberentfelden, Switzerland           233\n",
       "Trimbach, Switzerland                228\n",
       "Sion, Switzerland                    226\n",
       "Chiasso, Switzerland                 223\n",
       "Nyon, Switzerland                    162\n",
       "Neuchatel, Switzerland               121\n",
       "Wilen, Switzerland                   120\n",
       "Klosters, Switzerland                117\n",
       "Caslano, Switzerland                 116\n",
       "Collonge-Bellerive, Switzerland      116\n",
       "Schlieren, Switzerland               114\n",
       "Bellevue, Switzerland                112\n",
       "Rumikon, Switzerland                  95\n",
       "Taverne, Switzerland                  60\n",
       "Leuggern, Switzerland                 60\n",
       "Lausanne, Switzerland                 58\n",
       "Sierre, Switzerland                   57\n",
       "Muttenz, Switzerland                  57\n",
       "Horgen, Switzerland                   51\n",
       "Luasanne, Switzerland                 51\n",
       "Crans Montana, Switzerland            35\n",
       "Geneva, Switzerland, Switzerland      16\n",
       "Zurich, Switzerland                    8\n",
       "Prilly, Switzerland                    8\n",
       "Fribourg, Switzerland                  8\n",
       "Reinach, Switzerland                   4\n",
       "Name: Location, dtype: int64"
      ]
     },
     "execution_count": 126,
     "metadata": {},
     "output_type": "execute_result"
    }
   ],
   "source": [
    "switzerland_sw[\"Location\"].value_counts()"
   ]
  },
  {
   "cell_type": "markdown",
   "id": "b55c5ec4",
   "metadata": {},
   "source": [
    "- Select after a year, like old data might be outdated\n",
    "- Create id to unique matches "
   ]
  },
  {
   "cell_type": "markdown",
   "id": "b7c354aa",
   "metadata": {},
   "source": [
    "### See the distribution on the Date"
   ]
  },
  {
   "cell_type": "code",
   "execution_count": 127,
   "id": "f26ef3a5",
   "metadata": {},
   "outputs": [
    {
     "data": {
      "image/png": "[encoded data removed]",
      "text/plain": [
       "<Figure size 1400x600 with 1 Axes>"
      ]
     },
     "metadata": {},
     "output_type": "display_data"
    }
   ],
   "source": [
    "z = switzerland_sw[\"start_date\"]\n",
    "plt.figure(figsize=(14,6))\n",
    "sns.histplot(z)\n",
    "plt.title(\"Distribution of ad events\", size=30)\n",
    "plt.ylabel(\"Frequency\", size=20)\n",
    "plt.xlabel(\"Dates\", size=20);"
   ]
  },
  {
   "cell_type": "markdown",
   "id": "3ba2b2e0",
   "metadata": {},
   "source": [
    "### Selecting Variables After the year 2000 to have update date"
   ]
  },
  {
   "cell_type": "code",
   "execution_count": 145,
   "id": "3e3f5ed8",
   "metadata": {},
   "outputs": [],
   "source": [
    "switzerland_sw = switzerland_sw[switzerland_sw[\"start_date\"].dt.year >2000] "
   ]
  },
  {
   "cell_type": "code",
   "execution_count": 146,
   "id": "515ae0d8",
   "metadata": {},
   "outputs": [
    {
     "data": {
      "image/png": "[encoded data removed]",
      "text/plain": [
       "<Figure size 1400x600 with 1 Axes>"
      ]
     },
     "metadata": {},
     "output_type": "display_data"
    }
   ],
   "source": [
    "z = switzerland_sw[\"start_date\"]\n",
    "plt.figure(figsize=(14,6))\n",
    "sns.histplot(z)\n",
    "plt.title(\"Distribution of ad events\", size=30)\n",
    "plt.ylabel(\"Frequency\", size=20)\n",
    "plt.xlabel(\"Dates\", size=20);"
   ]
  },
  {
   "cell_type": "markdown",
   "id": "e52125cd",
   "metadata": {},
   "source": [
    "### Joining the Winner and the loser in the same row"
   ]
  },
  {
   "cell_type": "markdown",
   "id": "549c0d3d",
   "metadata": {},
   "source": [
    "#### Separate Data Frame in Winner and Loser"
   ]
  },
  {
   "cell_type": "code",
   "execution_count": 147,
   "id": "192a9bc0",
   "metadata": {},
   "outputs": [],
   "source": [
    "switzerland_sw_winner = switzerland_sw[switzerland_sw['WL'] == 'W']\n",
    "switzerland_sw_losser = switzerland_sw[switzerland_sw['WL'] == 'L']"
   ]
  },
  {
   "cell_type": "markdown",
   "id": "b61b2d76",
   "metadata": {},
   "source": [
    "### To create the unique id:\n",
    "- In the winner data set and loser data set we grab the information that in common in the game like:\n",
    "    - 'Tournament'\n",
    "    - 'Location', \n",
    "    - 'Ground', \n",
    "    - 'Prize', \n",
    "    - 'GameRound'\n",
    "    - 'Numero_sets', \n",
    "    - 'TotalPoints'\n",
    "    - start_date', \n",
    "    - 'end_date'\n",
    "- Then in the winner dataset we add \n",
    "    - Player Name \n",
    "    - Opponent \n",
    "- Then in the loser dataset we add \n",
    "    - Opponent \n",
    "    - Player\n",
    "\n",
    "Doing this we make sure that the both id for winner and loser will be the same. We select the most information that we can to make sure that the two different games cant have the same id"
   ]
  },
  {
   "cell_type": "code",
   "execution_count": 148,
   "id": "25ea3bae",
   "metadata": {},
   "outputs": [
    {
     "data": {
      "text/plain": [
       "Index(['PlayerName', 'Height', 'Tournament', 'Location', 'Ground', 'Prize',\n",
       "       'GameRound', 'GameRank', 'Oponent', 'WL', 'Numero_sets', 'TotalPoints',\n",
       "       'start_date', 'end_date', 'tornament_days'],\n",
       "      dtype='object')"
      ]
     },
     "execution_count": 148,
     "metadata": {},
     "output_type": "execute_result"
    }
   ],
   "source": [
    "switzerland_sw.columns"
   ]
  },
  {
   "cell_type": "code",
   "execution_count": 149,
   "id": "6d3de817",
   "metadata": {},
   "outputs": [
    {
     "name": "stderr",
     "output_type": "stream",
     "text": [
      "/var/folders/by/h2v0ff9j4mvgbk5y8d7h456r0000gq/T/ipykernel_7782/3346067308.py:1: SettingWithCopyWarning: \n",
      "A value is trying to be set on a copy of a slice from a DataFrame.\n",
      "Try using .loc[row_indexer,col_indexer] = value instead\n",
      "\n",
      "See the caveats in the documentation: https://pandas.pydata.org/pandas-docs/stable/user_guide/indexing.html#returning-a-view-versus-a-copy\n",
      "  switzerland_sw_winner['GameId'] = switzerland_sw_winner['Tournament'] + '_' + switzerland_sw_winner['Location'] + '_' + switzerland_sw_winner['Ground'] + '_' + \\\n"
     ]
    }
   ],
   "source": [
    "switzerland_sw_winner['GameId'] = switzerland_sw_winner['Tournament'] + '_' + switzerland_sw_winner['Location'] + '_' + switzerland_sw_winner['Ground'] + '_' + \\\n",
    "               switzerland_sw_winner['Prize'].astype(str) + '_' + switzerland_sw_winner['GameRound'] + '_' + switzerland_sw_winner['Numero_sets'].astype(str) + \\\n",
    "               '_' + switzerland_sw_winner['tornament_days'].astype(str) + '_' + switzerland_sw_winner['start_date'].astype(str) + '_' + switzerland_sw_winner['PlayerName']  + '_' + switzerland_sw_winner['Oponent']"
   ]
  },
  {
   "cell_type": "code",
   "execution_count": 150,
   "id": "52190907",
   "metadata": {},
   "outputs": [
    {
     "name": "stderr",
     "output_type": "stream",
     "text": [
      "/var/folders/by/h2v0ff9j4mvgbk5y8d7h456r0000gq/T/ipykernel_7782/3136250086.py:1: SettingWithCopyWarning: \n",
      "A value is trying to be set on a copy of a slice from a DataFrame.\n",
      "Try using .loc[row_indexer,col_indexer] = value instead\n",
      "\n",
      "See the caveats in the documentation: https://pandas.pydata.org/pandas-docs/stable/user_guide/indexing.html#returning-a-view-versus-a-copy\n",
      "  switzerland_sw_losser['GameId'] = switzerland_sw_losser['Tournament'] + '_' + switzerland_sw_losser['Location'] + '_' + switzerland_sw_losser['Ground'] + '_' + \\\n"
     ]
    }
   ],
   "source": [
    "switzerland_sw_losser['GameId'] = switzerland_sw_losser['Tournament'] + '_' + switzerland_sw_losser['Location'] + '_' + switzerland_sw_losser['Ground'] + '_' + \\\n",
    "               switzerland_sw_losser['Prize'].astype(str) + '_' + switzerland_sw_losser['GameRound'] + '_' + switzerland_sw_losser['Numero_sets'].astype(str) + \\\n",
    "               '_' + switzerland_sw_losser['tornament_days'].astype(str) + '_' + switzerland_sw_losser['start_date'].astype(str) +'_' + switzerland_sw_losser['Oponent'] + '_' + switzerland_sw_losser['PlayerName']"
   ]
  },
  {
   "cell_type": "code",
   "execution_count": 134,
   "id": "e1a095e3",
   "metadata": {},
   "outputs": [
    {
     "data": {
      "text/html": [
       "<div>\n",
       "<style scoped>\n",
       "    .dataframe tbody tr th:only-of-type {\n",
       "        vertical-align: middle;\n",
       "    }\n",
       "\n",
       "    .dataframe tbody tr th {\n",
       "        vertical-align: top;\n",
       "    }\n",
       "\n",
       "    .dataframe thead th {\n",
       "        text-align: right;\n",
       "    }\n",
       "</style>\n",
       "<table border=\"1\" class=\"dataframe\">\n",
       "  <thead>\n",
       "    <tr style=\"text-align: right;\">\n",
       "      <th></th>\n",
       "      <th>PlayerName</th>\n",
       "      <th>Height</th>\n",
       "      <th>Tournament</th>\n",
       "      <th>Location</th>\n",
       "      <th>Ground</th>\n",
       "      <th>Prize</th>\n",
       "      <th>GameRound</th>\n",
       "      <th>GameRank</th>\n",
       "      <th>Oponent</th>\n",
       "      <th>WL</th>\n",
       "      <th>Numero_sets</th>\n",
       "      <th>TotalPoints</th>\n",
       "      <th>start_date</th>\n",
       "      <th>end_date</th>\n",
       "      <th>tornament_days</th>\n",
       "      <th>GameId</th>\n",
       "    </tr>\n",
       "  </thead>\n",
       "  <tbody>\n",
       "    <tr>\n",
       "      <th>139760</th>\n",
       "      <td>Viktor Troicki</td>\n",
       "      <td>193</td>\n",
       "      <td>Basel</td>\n",
       "      <td>Basel, Switzerland</td>\n",
       "      <td>Hard</td>\n",
       "      <td>1225000.0</td>\n",
       "      <td>Semi-Finals</td>\n",
       "      <td>3</td>\n",
       "      <td>Novak Djokovic</td>\n",
       "      <td>L</td>\n",
       "      <td>2</td>\n",
       "      <td>23</td>\n",
       "      <td>2010-11-01</td>\n",
       "      <td>2010-11-07</td>\n",
       "      <td>6</td>\n",
       "      <td>Basel_Basel, Switzerland_Hard_1225000.0_Semi-F...</td>\n",
       "    </tr>\n",
       "  </tbody>\n",
       "</table>\n",
       "</div>"
      ],
      "text/plain": [
       "            PlayerName  Height Tournament            Location Ground  \\\n",
       "139760  Viktor Troicki     193      Basel  Basel, Switzerland   Hard   \n",
       "\n",
       "            Prize    GameRound  GameRank         Oponent WL  Numero_sets  \\\n",
       "139760  1225000.0  Semi-Finals         3  Novak Djokovic  L            2   \n",
       "\n",
       "        TotalPoints start_date   end_date  tornament_days  \\\n",
       "139760           23 2010-11-01 2010-11-07               6   \n",
       "\n",
       "                                                   GameId  \n",
       "139760  Basel_Basel, Switzerland_Hard_1225000.0_Semi-F...  "
      ]
     },
     "execution_count": 134,
     "metadata": {},
     "output_type": "execute_result"
    }
   ],
   "source": [
    "switzerland_sw_losser[switzerland_sw_losser[\"GameId\"] == switzerland_sw_winner[\"GameId\"].iloc[3]]"
   ]
  },
  {
   "cell_type": "code",
   "execution_count": 153,
   "id": "c04a9620",
   "metadata": {},
   "outputs": [],
   "source": [
    "player_1 = ['PlayerName', 'Height','Tournament', 'Location', 'Ground', 'Prize', 'GameRound','GameRank', 'Numero_sets',\n",
    "       'TotalPoints', 'start_date', 'end_date', 'tornament_days','GameId']\n",
    "player_2 = ['PlayerName', 'Height','GameRank','GameId']\n",
    "switzerland_f = pd.merge(switzerland_sw_winner[player_1], switzerland_sw_losser[player_2], on='GameId', how='inner')"
   ]
  },
  {
   "cell_type": "code",
   "execution_count": 155,
   "id": "c4f8a7e3",
   "metadata": {},
   "outputs": [],
   "source": [
    "reanme_columns_name = [\"Player1_Name\", \"Player1_Height\", \"Tournament\", \"Location\", \"Ground\", \"Prize\", \"GameRound\", \"Player2_Rank\", \"Num_Sets\", \"TotalPoints\", \"Start_Date\", \"End_Date\", \"Tornament_Days\", \"GameId\", \"Player2_Name\", \"Player2_Height\", \"Player1_Rank\"] \n",
    "switzerland_f.columns = reanme_columns_name"
   ]
  },
  {
   "cell_type": "markdown",
   "id": "3b762226",
   "metadata": {},
   "source": [
    "### Creating new column rank diff to calculate the difference between the rank of the two players"
   ]
  },
  {
   "cell_type": "code",
   "execution_count": 156,
   "id": "d81f0a37",
   "metadata": {},
   "outputs": [],
   "source": [
    "switzerland_f[\"Rank_Diff\"] = abs(switzerland_f[\"Player1_Rank\"] - switzerland_f[\"Player2_Rank\"])"
   ]
  },
  {
   "cell_type": "code",
   "execution_count": 158,
   "id": "699e8286",
   "metadata": {},
   "outputs": [
    {
     "data": {
      "text/html": [
       "<div>\n",
       "<style scoped>\n",
       "    .dataframe tbody tr th:only-of-type {\n",
       "        vertical-align: middle;\n",
       "    }\n",
       "\n",
       "    .dataframe tbody tr th {\n",
       "        vertical-align: top;\n",
       "    }\n",
       "\n",
       "    .dataframe thead th {\n",
       "        text-align: right;\n",
       "    }\n",
       "</style>\n",
       "<table border=\"1\" class=\"dataframe\">\n",
       "  <thead>\n",
       "    <tr style=\"text-align: right;\">\n",
       "      <th></th>\n",
       "      <th>Player1_Name</th>\n",
       "      <th>Player1_Height</th>\n",
       "      <th>Tournament</th>\n",
       "      <th>Location</th>\n",
       "      <th>Ground</th>\n",
       "      <th>Prize</th>\n",
       "      <th>GameRound</th>\n",
       "      <th>Player2_Rank</th>\n",
       "      <th>Num_Sets</th>\n",
       "      <th>TotalPoints</th>\n",
       "      <th>Start_Date</th>\n",
       "      <th>End_Date</th>\n",
       "      <th>Tornament_Days</th>\n",
       "      <th>GameId</th>\n",
       "      <th>Player2_Name</th>\n",
       "      <th>Player2_Height</th>\n",
       "      <th>Player1_Rank</th>\n",
       "      <th>Rank_Diff</th>\n",
       "    </tr>\n",
       "  </thead>\n",
       "  <tbody>\n",
       "    <tr>\n",
       "      <th>0</th>\n",
       "      <td>Novak Djokovic</td>\n",
       "      <td>188</td>\n",
       "      <td>Basel</td>\n",
       "      <td>Basel, Switzerland</td>\n",
       "      <td>Hard</td>\n",
       "      <td>1308100.0</td>\n",
       "      <td>Round of 16</td>\n",
       "      <td>64</td>\n",
       "      <td>2</td>\n",
       "      <td>15</td>\n",
       "      <td>2011-10-31</td>\n",
       "      <td>2011-11-06</td>\n",
       "      <td>6</td>\n",
       "      <td>Basel_Basel, Switzerland_Hard_1308100.0_Round ...</td>\n",
       "      <td>Lukasz Kubot</td>\n",
       "      <td>191</td>\n",
       "      <td>1</td>\n",
       "      <td>63</td>\n",
       "    </tr>\n",
       "    <tr>\n",
       "      <th>1</th>\n",
       "      <td>Novak Djokovic</td>\n",
       "      <td>188</td>\n",
       "      <td>Basel</td>\n",
       "      <td>Basel, Switzerland</td>\n",
       "      <td>Hard</td>\n",
       "      <td>1308100.0</td>\n",
       "      <td>Round of 32</td>\n",
       "      <td>47</td>\n",
       "      <td>3</td>\n",
       "      <td>30</td>\n",
       "      <td>2011-10-31</td>\n",
       "      <td>2011-11-06</td>\n",
       "      <td>6</td>\n",
       "      <td>Basel_Basel, Switzerland_Hard_1308100.0_Round ...</td>\n",
       "      <td>Xavier Malisse</td>\n",
       "      <td>185</td>\n",
       "      <td>1</td>\n",
       "      <td>46</td>\n",
       "    </tr>\n",
       "    <tr>\n",
       "      <th>2</th>\n",
       "      <td>Novak Djokovic</td>\n",
       "      <td>188</td>\n",
       "      <td>Basel</td>\n",
       "      <td>Basel, Switzerland</td>\n",
       "      <td>Hard</td>\n",
       "      <td>1225000.0</td>\n",
       "      <td>Semi-Finals</td>\n",
       "      <td>32</td>\n",
       "      <td>2</td>\n",
       "      <td>23</td>\n",
       "      <td>2010-11-01</td>\n",
       "      <td>2010-11-07</td>\n",
       "      <td>6</td>\n",
       "      <td>Basel_Basel, Switzerland_Hard_1225000.0_Semi-F...</td>\n",
       "      <td>Viktor Troicki</td>\n",
       "      <td>193</td>\n",
       "      <td>3</td>\n",
       "      <td>29</td>\n",
       "    </tr>\n",
       "    <tr>\n",
       "      <th>3</th>\n",
       "      <td>Novak Djokovic</td>\n",
       "      <td>188</td>\n",
       "      <td>Basel</td>\n",
       "      <td>Basel, Switzerland</td>\n",
       "      <td>Hard</td>\n",
       "      <td>1225000.0</td>\n",
       "      <td>Quarter-Finals</td>\n",
       "      <td>66</td>\n",
       "      <td>2</td>\n",
       "      <td>17</td>\n",
       "      <td>2010-11-01</td>\n",
       "      <td>2010-11-07</td>\n",
       "      <td>6</td>\n",
       "      <td>Basel_Basel, Switzerland_Hard_1225000.0_Quarte...</td>\n",
       "      <td>Robin Haase</td>\n",
       "      <td>191</td>\n",
       "      <td>3</td>\n",
       "      <td>63</td>\n",
       "    </tr>\n",
       "    <tr>\n",
       "      <th>4</th>\n",
       "      <td>Novak Djokovic</td>\n",
       "      <td>188</td>\n",
       "      <td>Basel</td>\n",
       "      <td>Basel, Switzerland</td>\n",
       "      <td>Hard</td>\n",
       "      <td>1225000.0</td>\n",
       "      <td>Round of 32</td>\n",
       "      <td>26</td>\n",
       "      <td>2</td>\n",
       "      <td>18</td>\n",
       "      <td>2010-11-01</td>\n",
       "      <td>2010-11-07</td>\n",
       "      <td>6</td>\n",
       "      <td>Basel_Basel, Switzerland_Hard_1225000.0_Round ...</td>\n",
       "      <td>Ernests Gulbis</td>\n",
       "      <td>191</td>\n",
       "      <td>3</td>\n",
       "      <td>23</td>\n",
       "    </tr>\n",
       "  </tbody>\n",
       "</table>\n",
       "</div>"
      ],
      "text/plain": [
       "     Player1_Name  Player1_Height Tournament            Location Ground  \\\n",
       "0  Novak Djokovic             188      Basel  Basel, Switzerland   Hard   \n",
       "1  Novak Djokovic             188      Basel  Basel, Switzerland   Hard   \n",
       "2  Novak Djokovic             188      Basel  Basel, Switzerland   Hard   \n",
       "3  Novak Djokovic             188      Basel  Basel, Switzerland   Hard   \n",
       "4  Novak Djokovic             188      Basel  Basel, Switzerland   Hard   \n",
       "\n",
       "       Prize       GameRound  Player2_Rank  Num_Sets  TotalPoints Start_Date  \\\n",
       "0  1308100.0     Round of 16            64         2           15 2011-10-31   \n",
       "1  1308100.0     Round of 32            47         3           30 2011-10-31   \n",
       "2  1225000.0     Semi-Finals            32         2           23 2010-11-01   \n",
       "3  1225000.0  Quarter-Finals            66         2           17 2010-11-01   \n",
       "4  1225000.0     Round of 32            26         2           18 2010-11-01   \n",
       "\n",
       "    End_Date  Tornament_Days  \\\n",
       "0 2011-11-06               6   \n",
       "1 2011-11-06               6   \n",
       "2 2010-11-07               6   \n",
       "3 2010-11-07               6   \n",
       "4 2010-11-07               6   \n",
       "\n",
       "                                              GameId    Player2_Name  \\\n",
       "0  Basel_Basel, Switzerland_Hard_1308100.0_Round ...    Lukasz Kubot   \n",
       "1  Basel_Basel, Switzerland_Hard_1308100.0_Round ...  Xavier Malisse   \n",
       "2  Basel_Basel, Switzerland_Hard_1225000.0_Semi-F...  Viktor Troicki   \n",
       "3  Basel_Basel, Switzerland_Hard_1225000.0_Quarte...     Robin Haase   \n",
       "4  Basel_Basel, Switzerland_Hard_1225000.0_Round ...  Ernests Gulbis   \n",
       "\n",
       "   Player2_Height  Player1_Rank  Rank_Diff  \n",
       "0             191             1         63  \n",
       "1             185             1         46  \n",
       "2             193             3         29  \n",
       "3             191             3         63  \n",
       "4             191             3         23  "
      ]
     },
     "execution_count": 158,
     "metadata": {},
     "output_type": "execute_result"
    }
   ],
   "source": [
    "switzerland_f.head()"
   ]
  },
  {
   "cell_type": "code",
   "execution_count": 163,
   "id": "ab3ffd96",
   "metadata": {
    "scrolled": true
   },
   "outputs": [
    {
     "data": {
      "text/plain": [
       "10149"
      ]
     },
     "execution_count": 163,
     "metadata": {},
     "output_type": "execute_result"
    }
   ],
   "source": [
    "len(switzerland_sw)"
   ]
  },
  {
   "cell_type": "code",
   "execution_count": 161,
   "id": "0716cf13",
   "metadata": {},
   "outputs": [
    {
     "data": {
      "text/plain": [
       "4927"
      ]
     },
     "execution_count": 161,
     "metadata": {},
     "output_type": "execute_result"
    }
   ],
   "source": [
    "len(switzerland_f)"
   ]
  },
  {
   "cell_type": "code",
   "execution_count": 164,
   "id": "784ce506",
   "metadata": {},
   "outputs": [],
   "source": [
    "switzerland_f.to_csv(\"Data/switzerland_final.csv\")"
   ]
  }
 ],
 "metadata": {
  "kernelspec": {
   "display_name": "Python 3 (ipykernel)",
   "language": "python",
   "name": "python3"
  },
  "language_info": {
   "codemirror_mode": {
    "name": "ipython",
    "version": 3
   },
   "file_extension": ".py",
   "mimetype": "text/x-python",
   "name": "python",
   "nbconvert_exporter": "python",
   "pygments_lexer": "ipython3",
   "version": "3.10.9"
  }
 },
 "nbformat": 4,
 "nbformat_minor": 5
}
