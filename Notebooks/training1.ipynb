{
 "cells": [
  {
   "cell_type": "markdown",
   "id": "e59196aa",
   "metadata": {},
   "source": [
    "- Check Shap Value \n",
    "- Check feature importance \n",
    "- Check Catboost \n",
    "- Check SVM \n",
    "- Decide the importance of False Positives and the False Negatives \n",
    "- Ver modelo de regressão com o outro target\n",
    "- Colocar accuracy de todos os modelos numa mesma tabela"
   ]
  },
  {
   "cell_type": "code",
   "execution_count": 112,
   "id": "c1cbbd7a",
   "metadata": {},
   "outputs": [],
   "source": [
    "import pandas as pd\n",
    "import matplotlib.pyplot as plt\n",
    "import seaborn as sns\n",
    "from sklearn.metrics import confusion_matrix, precision_score, recall_score,precision_recall_curve,roc_curve,f1_score"
   ]
  },
  {
   "cell_type": "code",
   "execution_count": 113,
   "id": "d9a6efd4",
   "metadata": {},
   "outputs": [],
   "source": [
    "df = pd.read_csv(\"../df_f_Switzerland.csv\")"
   ]
  },
  {
   "cell_type": "code",
   "execution_count": 114,
   "id": "a86d38d6",
   "metadata": {},
   "outputs": [],
   "source": [
    "X_feature = [\"Ground\", \"Prize\", \"GameRound\", \"Tornament_Days\", \"Rank_Diff\"]\n",
    "y_target = [\"Num_Sets\"]"
   ]
  },
  {
   "cell_type": "code",
   "execution_count": 115,
   "id": "ee5ccf18",
   "metadata": {},
   "outputs": [
    {
     "data": {
      "text/html": [
       "<div>\n",
       "<style scoped>\n",
       "    .dataframe tbody tr th:only-of-type {\n",
       "        vertical-align: middle;\n",
       "    }\n",
       "\n",
       "    .dataframe tbody tr th {\n",
       "        vertical-align: top;\n",
       "    }\n",
       "\n",
       "    .dataframe thead th {\n",
       "        text-align: right;\n",
       "    }\n",
       "</style>\n",
       "<table border=\"1\" class=\"dataframe\">\n",
       "  <thead>\n",
       "    <tr style=\"text-align: right;\">\n",
       "      <th></th>\n",
       "      <th>Ground</th>\n",
       "      <th>Prize</th>\n",
       "      <th>GameRound</th>\n",
       "      <th>Tornament_Days</th>\n",
       "      <th>Rank_Diff</th>\n",
       "      <th>Num_Sets</th>\n",
       "    </tr>\n",
       "  </thead>\n",
       "  <tbody>\n",
       "    <tr>\n",
       "      <th>0</th>\n",
       "      <td>Hard</td>\n",
       "      <td>1308100.0</td>\n",
       "      <td>Round of 16</td>\n",
       "      <td>6</td>\n",
       "      <td>63</td>\n",
       "      <td>2</td>\n",
       "    </tr>\n",
       "    <tr>\n",
       "      <th>1</th>\n",
       "      <td>Hard</td>\n",
       "      <td>1308100.0</td>\n",
       "      <td>Round of 32</td>\n",
       "      <td>6</td>\n",
       "      <td>46</td>\n",
       "      <td>3</td>\n",
       "    </tr>\n",
       "    <tr>\n",
       "      <th>2</th>\n",
       "      <td>Hard</td>\n",
       "      <td>1225000.0</td>\n",
       "      <td>Semi-Finals</td>\n",
       "      <td>6</td>\n",
       "      <td>29</td>\n",
       "      <td>2</td>\n",
       "    </tr>\n",
       "    <tr>\n",
       "      <th>3</th>\n",
       "      <td>Hard</td>\n",
       "      <td>1225000.0</td>\n",
       "      <td>Quarter-Finals</td>\n",
       "      <td>6</td>\n",
       "      <td>63</td>\n",
       "      <td>2</td>\n",
       "    </tr>\n",
       "    <tr>\n",
       "      <th>4</th>\n",
       "      <td>Hard</td>\n",
       "      <td>1225000.0</td>\n",
       "      <td>Round of 32</td>\n",
       "      <td>6</td>\n",
       "      <td>23</td>\n",
       "      <td>2</td>\n",
       "    </tr>\n",
       "    <tr>\n",
       "      <th>...</th>\n",
       "      <td>...</td>\n",
       "      <td>...</td>\n",
       "      <td>...</td>\n",
       "      <td>...</td>\n",
       "      <td>...</td>\n",
       "      <td>...</td>\n",
       "    </tr>\n",
       "    <tr>\n",
       "      <th>4922</th>\n",
       "      <td>Clay</td>\n",
       "      <td>15000.0</td>\n",
       "      <td>Round of 16</td>\n",
       "      <td>6</td>\n",
       "      <td>365</td>\n",
       "      <td>2</td>\n",
       "    </tr>\n",
       "    <tr>\n",
       "      <th>4923</th>\n",
       "      <td>Carpet</td>\n",
       "      <td>25000.0</td>\n",
       "      <td>Round of 32</td>\n",
       "      <td>6</td>\n",
       "      <td>684</td>\n",
       "      <td>3</td>\n",
       "    </tr>\n",
       "    <tr>\n",
       "      <th>4924</th>\n",
       "      <td>Clay</td>\n",
       "      <td>15000.0</td>\n",
       "      <td>Round of 32</td>\n",
       "      <td>6</td>\n",
       "      <td>583</td>\n",
       "      <td>3</td>\n",
       "    </tr>\n",
       "    <tr>\n",
       "      <th>4925</th>\n",
       "      <td>Clay</td>\n",
       "      <td>15000.0</td>\n",
       "      <td>Round of 32</td>\n",
       "      <td>6</td>\n",
       "      <td>384</td>\n",
       "      <td>2</td>\n",
       "    </tr>\n",
       "    <tr>\n",
       "      <th>4926</th>\n",
       "      <td>Clay</td>\n",
       "      <td>25000.0</td>\n",
       "      <td>Round of 32</td>\n",
       "      <td>6</td>\n",
       "      <td>376</td>\n",
       "      <td>3</td>\n",
       "    </tr>\n",
       "  </tbody>\n",
       "</table>\n",
       "<p>4927 rows × 6 columns</p>\n",
       "</div>"
      ],
      "text/plain": [
       "      Ground      Prize       GameRound  Tornament_Days  Rank_Diff  Num_Sets\n",
       "0       Hard  1308100.0     Round of 16               6         63         2\n",
       "1       Hard  1308100.0     Round of 32               6         46         3\n",
       "2       Hard  1225000.0     Semi-Finals               6         29         2\n",
       "3       Hard  1225000.0  Quarter-Finals               6         63         2\n",
       "4       Hard  1225000.0     Round of 32               6         23         2\n",
       "...      ...        ...             ...             ...        ...       ...\n",
       "4922    Clay    15000.0     Round of 16               6        365         2\n",
       "4923  Carpet    25000.0     Round of 32               6        684         3\n",
       "4924    Clay    15000.0     Round of 32               6        583         3\n",
       "4925    Clay    15000.0     Round of 32               6        384         2\n",
       "4926    Clay    25000.0     Round of 32               6        376         3\n",
       "\n",
       "[4927 rows x 6 columns]"
      ]
     },
     "execution_count": 115,
     "metadata": {},
     "output_type": "execute_result"
    }
   ],
   "source": [
    "df_ = df[X_feature + y_target]\n",
    "df_"
   ]
  },
  {
   "cell_type": "markdown",
   "id": "55e300f8",
   "metadata": {},
   "source": [
    "# Train Test Split"
   ]
  },
  {
   "cell_type": "code",
   "execution_count": 116,
   "id": "463e2f84",
   "metadata": {},
   "outputs": [
    {
     "data": {
      "text/plain": [
       "Num_Sets\n",
       "2    3243\n",
       "3    1657\n",
       "4      18\n",
       "5       9\n",
       "Name: count, dtype: int64"
      ]
     },
     "execution_count": 116,
     "metadata": {},
     "output_type": "execute_result"
    }
   ],
   "source": [
    "df[\"Num_Sets\"].value_counts()"
   ]
  },
  {
   "cell_type": "code",
   "execution_count": 117,
   "id": "05fc1961",
   "metadata": {},
   "outputs": [],
   "source": [
    "from sklearn.model_selection import train_test_split\n",
    "train_set,data_set = train_test_split(df_,test_size=0.3,random_state=42, stratify=df_['Num_Sets'])\n",
    "val_set, test_set = train_test_split(data_set,test_size=0.3,random_state=42, stratify=data_set['Num_Sets'])"
   ]
  },
  {
   "cell_type": "code",
   "execution_count": 118,
   "id": "8ac2d2cf",
   "metadata": {},
   "outputs": [],
   "source": [
    "X_train = train_set.drop(\"Num_Sets\",axis=1)\n",
    "y_train = train_set[\"Num_Sets\"]\n",
    "\n",
    "X_val = val_set.drop(\"Num_Sets\",axis=1)\n",
    "y_val = val_set[\"Num_Sets\"]\n",
    "\n",
    "\n",
    "X_test = test_set.drop(\"Num_Sets\",axis=1)\n",
    "y_test = test_set[\"Num_Sets\"]"
   ]
  },
  {
   "cell_type": "markdown",
   "id": "de9dbb19",
   "metadata": {},
   "source": [
    "# Preprocessing"
   ]
  },
  {
   "cell_type": "code",
   "execution_count": 119,
   "id": "1d3bf2d9",
   "metadata": {},
   "outputs": [],
   "source": [
    "cat_attributes = [\"Ground\", \"GameRound\"]\n",
    "num_attributes = [\"Prize\", \"Tornament_Days\", \"Rank_Diff\"]"
   ]
  },
  {
   "cell_type": "code",
   "execution_count": 120,
   "id": "63d8df65",
   "metadata": {},
   "outputs": [],
   "source": [
    "from sklearn.base import BaseEstimator, TransformerMixin\n",
    "\n",
    "# Create a class to select numerical or categorical columns \n",
    "class DataFrameSelector(BaseEstimator, TransformerMixin):\n",
    "    def __init__(self, attribute_names):\n",
    "        self.attribute_names = attribute_names\n",
    "    def fit(self, X, y=None):\n",
    "        return self\n",
    "    def transform(self, X):\n",
    "        return X[self.attribute_names].values"
   ]
  },
  {
   "cell_type": "code",
   "execution_count": 121,
   "id": "d137b3cc",
   "metadata": {},
   "outputs": [],
   "source": [
    "from sklearn.pipeline import Pipeline\n",
    "from sklearn.preprocessing import StandardScaler, OneHotEncoder\n",
    "num_pipeline = Pipeline([\n",
    "        ('selector',DataFrameSelector(num_attributes)),\n",
    "        ('std_scaler', StandardScaler()),\n",
    "    ])\n",
    "\n",
    "cat_pipeline = Pipeline([\n",
    "        ('selector',DataFrameSelector(cat_attributes)),\n",
    "        ('cat_encoder', OneHotEncoder(sparse=False)),\n",
    "    ])"
   ]
  },
  {
   "cell_type": "code",
   "execution_count": 122,
   "id": "8924f09c",
   "metadata": {},
   "outputs": [],
   "source": [
    "from sklearn.pipeline import FeatureUnion\n",
    "\n",
    "full_pipeline = FeatureUnion(transformer_list=[\n",
    "        (\"num_pipeline\", num_pipeline),\n",
    "        (\"cat_pipeline\", cat_pipeline),\n",
    "    ])"
   ]
  },
  {
   "cell_type": "code",
   "execution_count": 123,
   "id": "d7ca232c",
   "metadata": {},
   "outputs": [
    {
     "name": "stderr",
     "output_type": "stream",
     "text": [
      "/Users/enderson.santos/.local/share/virtualenvs/PACD1-1HdaorPT/lib/python3.10/site-packages/sklearn/preprocessing/_encoders.py:868: FutureWarning: `sparse` was renamed to `sparse_output` in version 1.2 and will be removed in 1.4. `sparse_output` is ignored unless you leave `sparse` to its default value.\n",
      "  warnings.warn(\n"
     ]
    }
   ],
   "source": [
    "X_train_prepared = full_pipeline.fit_transform(X_train)\n",
    "X_val_prepared = full_pipeline.transform(X_val)"
   ]
  },
  {
   "cell_type": "markdown",
   "id": "855047d5",
   "metadata": {},
   "source": [
    "# Trying Auto ML"
   ]
  },
  {
   "cell_type": "code",
   "execution_count": 124,
   "id": "c4517454",
   "metadata": {},
   "outputs": [],
   "source": [
    "Accuracy_train = []\n",
    "Precision_train = []\n",
    "Recall_train = []\n",
    "Accuracy_val = []\n",
    "Precision_val = []\n",
    "Recall_val = []\n",
    "Model = [\"Logaritimic\", \"RandomForest\", \"XG-Boost\", \"Catboost\", \"SVM (Sigmoid)\"]"
   ]
  },
  {
   "cell_type": "markdown",
   "id": "b294c866",
   "metadata": {},
   "source": [
    "# Training a Logistic Regression model"
   ]
  },
  {
   "cell_type": "code",
   "execution_count": 125,
   "id": "2c471352",
   "metadata": {},
   "outputs": [],
   "source": [
    "from sklearn.linear_model import LogisticRegressionCV"
   ]
  },
  {
   "cell_type": "code",
   "execution_count": 126,
   "id": "318abb20",
   "metadata": {},
   "outputs": [
    {
     "data": {
      "text/html": [
       "<style>#sk-container-id-10 {color: black;background-color: white;}#sk-container-id-10 pre{padding: 0;}#sk-container-id-10 div.sk-toggleable {background-color: white;}#sk-container-id-10 label.sk-toggleable__label {cursor: pointer;display: block;width: 100%;margin-bottom: 0;padding: 0.3em;box-sizing: border-box;text-align: center;}#sk-container-id-10 label.sk-toggleable__label-arrow:before {content: \"▸\";float: left;margin-right: 0.25em;color: #696969;}#sk-container-id-10 label.sk-toggleable__label-arrow:hover:before {color: black;}#sk-container-id-10 div.sk-estimator:hover label.sk-toggleable__label-arrow:before {color: black;}#sk-container-id-10 div.sk-toggleable__content {max-height: 0;max-width: 0;overflow: hidden;text-align: left;background-color: #f0f8ff;}#sk-container-id-10 div.sk-toggleable__content pre {margin: 0.2em;color: black;border-radius: 0.25em;background-color: #f0f8ff;}#sk-container-id-10 input.sk-toggleable__control:checked~div.sk-toggleable__content {max-height: 200px;max-width: 100%;overflow: auto;}#sk-container-id-10 input.sk-toggleable__control:checked~label.sk-toggleable__label-arrow:before {content: \"▾\";}#sk-container-id-10 div.sk-estimator input.sk-toggleable__control:checked~label.sk-toggleable__label {background-color: #d4ebff;}#sk-container-id-10 div.sk-label input.sk-toggleable__control:checked~label.sk-toggleable__label {background-color: #d4ebff;}#sk-container-id-10 input.sk-hidden--visually {border: 0;clip: rect(1px 1px 1px 1px);clip: rect(1px, 1px, 1px, 1px);height: 1px;margin: -1px;overflow: hidden;padding: 0;position: absolute;width: 1px;}#sk-container-id-10 div.sk-estimator {font-family: monospace;background-color: #f0f8ff;border: 1px dotted black;border-radius: 0.25em;box-sizing: border-box;margin-bottom: 0.5em;}#sk-container-id-10 div.sk-estimator:hover {background-color: #d4ebff;}#sk-container-id-10 div.sk-parallel-item::after {content: \"\";width: 100%;border-bottom: 1px solid gray;flex-grow: 1;}#sk-container-id-10 div.sk-label:hover label.sk-toggleable__label {background-color: #d4ebff;}#sk-container-id-10 div.sk-serial::before {content: \"\";position: absolute;border-left: 1px solid gray;box-sizing: border-box;top: 0;bottom: 0;left: 50%;z-index: 0;}#sk-container-id-10 div.sk-serial {display: flex;flex-direction: column;align-items: center;background-color: white;padding-right: 0.2em;padding-left: 0.2em;position: relative;}#sk-container-id-10 div.sk-item {position: relative;z-index: 1;}#sk-container-id-10 div.sk-parallel {display: flex;align-items: stretch;justify-content: center;background-color: white;position: relative;}#sk-container-id-10 div.sk-item::before, #sk-container-id-10 div.sk-parallel-item::before {content: \"\";position: absolute;border-left: 1px solid gray;box-sizing: border-box;top: 0;bottom: 0;left: 50%;z-index: -1;}#sk-container-id-10 div.sk-parallel-item {display: flex;flex-direction: column;z-index: 1;position: relative;background-color: white;}#sk-container-id-10 div.sk-parallel-item:first-child::after {align-self: flex-end;width: 50%;}#sk-container-id-10 div.sk-parallel-item:last-child::after {align-self: flex-start;width: 50%;}#sk-container-id-10 div.sk-parallel-item:only-child::after {width: 0;}#sk-container-id-10 div.sk-dashed-wrapped {border: 1px dashed gray;margin: 0 0.4em 0.5em 0.4em;box-sizing: border-box;padding-bottom: 0.4em;background-color: white;}#sk-container-id-10 div.sk-label label {font-family: monospace;font-weight: bold;display: inline-block;line-height: 1.2em;}#sk-container-id-10 div.sk-label-container {text-align: center;}#sk-container-id-10 div.sk-container {/* jupyter's `normalize.less` sets `[hidden] { display: none; }` but bootstrap.min.css set `[hidden] { display: none !important; }` so we also need the `!important` here to be able to override the default hidden behavior on the sphinx rendered scikit-learn.org. See: https://github.com/scikit-learn/scikit-learn/issues/21755 */display: inline-block !important;position: relative;}#sk-container-id-10 div.sk-text-repr-fallback {display: none;}</style><div id=\"sk-container-id-10\" class=\"sk-top-container\"><div class=\"sk-text-repr-fallback\"><pre>LogisticRegressionCV(cv=3, solver=&#x27;liblinear&#x27;)</pre><b>In a Jupyter environment, please rerun this cell to show the HTML representation or trust the notebook. <br />On GitHub, the HTML representation is unable to render, please try loading this page with nbviewer.org.</b></div><div class=\"sk-container\" hidden><div class=\"sk-item\"><div class=\"sk-estimator sk-toggleable\"><input class=\"sk-toggleable__control sk-hidden--visually\" id=\"sk-estimator-id-10\" type=\"checkbox\" checked><label for=\"sk-estimator-id-10\" class=\"sk-toggleable__label sk-toggleable__label-arrow\">LogisticRegressionCV</label><div class=\"sk-toggleable__content\"><pre>LogisticRegressionCV(cv=3, solver=&#x27;liblinear&#x27;)</pre></div></div></div></div></div>"
      ],
      "text/plain": [
       "LogisticRegressionCV(cv=3, solver='liblinear')"
      ]
     },
     "execution_count": 126,
     "metadata": {},
     "output_type": "execute_result"
    }
   ],
   "source": [
    "log_model = LogisticRegressionCV(solver='liblinear',cv=3)\n",
    "log_model.fit(X_train_prepared, y_train)"
   ]
  },
  {
   "cell_type": "code",
   "execution_count": 127,
   "id": "fc7680c7",
   "metadata": {},
   "outputs": [],
   "source": [
    "# O training data\n",
    "predictions_train = log_model.predict(X_train_prepared)\n",
    "\n",
    "#On val data\n",
    "predictions_val = log_model.predict(X_val_prepared)"
   ]
  },
  {
   "cell_type": "markdown",
   "id": "a4cc0ee4",
   "metadata": {},
   "source": [
    "## Confusion Matrix"
   ]
  },
  {
   "cell_type": "markdown",
   "id": "6920f746",
   "metadata": {},
   "source": [
    "### On train data"
   ]
  },
  {
   "cell_type": "code",
   "execution_count": 128,
   "id": "7878cb60",
   "metadata": {},
   "outputs": [
    {
     "data": {
      "image/png": "[encoded data removed]",
      "text/plain": [
       "<Figure size 640x480 with 2 Axes>"
      ]
     },
     "metadata": {},
     "output_type": "display_data"
    }
   ],
   "source": [
    "cm = confusion_matrix(y_train,predictions_train)\n",
    "y_train_labels = sorted(y_train.unique())\n",
    "sns.heatmap(cm, annot=True, cmap='Blues', fmt='g', xticklabels=y_train_labels, yticklabels=y_train_labels)\n",
    "\n",
    "# Set the plot title and axis labels\n",
    "plt.title('Confusion Matrix')\n",
    "plt.xlabel('Predicted Label')\n",
    "plt.ylabel('True Label')\n",
    "\n",
    "# Show the plot\n",
    "plt.show()"
   ]
  },
  {
   "cell_type": "code",
   "execution_count": 129,
   "id": "00cff80e",
   "metadata": {},
   "outputs": [
    {
     "name": "stdout",
     "output_type": "stream",
     "text": [
      "              precision    recall  f1-score   support\n",
      "\n",
      "           2       0.67      1.00      0.80      2269\n",
      "           3       0.59      0.02      0.04      1160\n",
      "           4       0.71      0.38      0.50        13\n",
      "           5       0.00      0.00      0.00         6\n",
      "\n",
      "    accuracy                           0.67      3448\n",
      "   macro avg       0.49      0.35      0.34      3448\n",
      "weighted avg       0.64      0.67      0.54      3448\n",
      "\n"
     ]
    },
    {
     "name": "stderr",
     "output_type": "stream",
     "text": [
      "/Users/enderson.santos/.local/share/virtualenvs/PACD1-1HdaorPT/lib/python3.10/site-packages/sklearn/metrics/_classification.py:1344: UndefinedMetricWarning: Precision and F-score are ill-defined and being set to 0.0 in labels with no predicted samples. Use `zero_division` parameter to control this behavior.\n",
      "  _warn_prf(average, modifier, msg_start, len(result))\n",
      "/Users/enderson.santos/.local/share/virtualenvs/PACD1-1HdaorPT/lib/python3.10/site-packages/sklearn/metrics/_classification.py:1344: UndefinedMetricWarning: Precision and F-score are ill-defined and being set to 0.0 in labels with no predicted samples. Use `zero_division` parameter to control this behavior.\n",
      "  _warn_prf(average, modifier, msg_start, len(result))\n",
      "/Users/enderson.santos/.local/share/virtualenvs/PACD1-1HdaorPT/lib/python3.10/site-packages/sklearn/metrics/_classification.py:1344: UndefinedMetricWarning: Precision and F-score are ill-defined and being set to 0.0 in labels with no predicted samples. Use `zero_division` parameter to control this behavior.\n",
      "  _warn_prf(average, modifier, msg_start, len(result))\n"
     ]
    }
   ],
   "source": [
    "from sklearn.metrics import classification_report\n",
    "\n",
    "# Generate a classification report\n",
    "report = classification_report(y_train, predictions_train)\n",
    "\n",
    "# Print the report\n",
    "print(report)"
   ]
  },
  {
   "cell_type": "markdown",
   "id": "29e2a9a4",
   "metadata": {},
   "source": [
    "### On val data"
   ]
  },
  {
   "cell_type": "code",
   "execution_count": 130,
   "id": "675b1959",
   "metadata": {},
   "outputs": [
    {
     "data": {
      "image/png": "[encoded data removed]",
      "text/plain": [
       "<Figure size 640x480 with 2 Axes>"
      ]
     },
     "metadata": {},
     "output_type": "display_data"
    }
   ],
   "source": [
    "cm = confusion_matrix(y_val,predictions_val)\n",
    "y_train_labels = sorted(y_train.unique())\n",
    "sns.heatmap(cm, annot=True, cmap='Blues', fmt='g', xticklabels=y_train_labels, yticklabels=y_train_labels)\n",
    "\n",
    "# Set the plot title and axis labels\n",
    "plt.title('Confusion Matrix')\n",
    "plt.xlabel('Predicted Label')\n",
    "plt.ylabel('True Label')\n",
    "\n",
    "# Show the plot\n",
    "plt.show()"
   ]
  },
  {
   "cell_type": "code",
   "execution_count": 131,
   "id": "6428d0b4",
   "metadata": {},
   "outputs": [
    {
     "name": "stdout",
     "output_type": "stream",
     "text": [
      "              precision    recall  f1-score   support\n",
      "\n",
      "           2       0.67      0.99      0.80       682\n",
      "           3       0.53      0.03      0.05       348\n",
      "           4       0.00      0.00      0.00         3\n",
      "           5       0.00      0.00      0.00         2\n",
      "\n",
      "    accuracy                           0.66      1035\n",
      "   macro avg       0.30      0.25      0.21      1035\n",
      "weighted avg       0.62      0.66      0.54      1035\n",
      "\n"
     ]
    },
    {
     "name": "stderr",
     "output_type": "stream",
     "text": [
      "/Users/enderson.santos/.local/share/virtualenvs/PACD1-1HdaorPT/lib/python3.10/site-packages/sklearn/metrics/_classification.py:1344: UndefinedMetricWarning: Precision and F-score are ill-defined and being set to 0.0 in labels with no predicted samples. Use `zero_division` parameter to control this behavior.\n",
      "  _warn_prf(average, modifier, msg_start, len(result))\n",
      "/Users/enderson.santos/.local/share/virtualenvs/PACD1-1HdaorPT/lib/python3.10/site-packages/sklearn/metrics/_classification.py:1344: UndefinedMetricWarning: Precision and F-score are ill-defined and being set to 0.0 in labels with no predicted samples. Use `zero_division` parameter to control this behavior.\n",
      "  _warn_prf(average, modifier, msg_start, len(result))\n",
      "/Users/enderson.santos/.local/share/virtualenvs/PACD1-1HdaorPT/lib/python3.10/site-packages/sklearn/metrics/_classification.py:1344: UndefinedMetricWarning: Precision and F-score are ill-defined and being set to 0.0 in labels with no predicted samples. Use `zero_division` parameter to control this behavior.\n",
      "  _warn_prf(average, modifier, msg_start, len(result))\n"
     ]
    }
   ],
   "source": [
    "from sklearn.metrics import classification_report\n",
    "\n",
    "# Generate a classification report\n",
    "report = classification_report(y_val, predictions_val)\n",
    "\n",
    "# Print the report\n",
    "print(report)"
   ]
  },
  {
   "cell_type": "code",
   "execution_count": 132,
   "id": "f61f6297",
   "metadata": {},
   "outputs": [
    {
     "name": "stderr",
     "output_type": "stream",
     "text": [
      "/Users/enderson.santos/.local/share/virtualenvs/PACD1-1HdaorPT/lib/python3.10/site-packages/sklearn/metrics/_classification.py:1344: UndefinedMetricWarning: Precision is ill-defined and being set to 0.0 in labels with no predicted samples. Use `zero_division` parameter to control this behavior.\n",
      "  _warn_prf(average, modifier, msg_start, len(result))\n",
      "/Users/enderson.santos/.local/share/virtualenvs/PACD1-1HdaorPT/lib/python3.10/site-packages/sklearn/metrics/_classification.py:1344: UndefinedMetricWarning: Precision is ill-defined and being set to 0.0 in labels with no predicted samples. Use `zero_division` parameter to control this behavior.\n",
      "  _warn_prf(average, modifier, msg_start, len(result))\n"
     ]
    }
   ],
   "source": [
    "Precision_train.append(precision_score(y_train, predictions_train, average='weighted'))\n",
    "Accuracy_train.append(accuracy_score(y_train, predictions_train))\n",
    "Recall_train.append(recall_score(y_train, predictions_train, average='weighted'))\n",
    "\n",
    "Precision_val.append(precision_score(y_val, predictions_val, average='weighted'))\n",
    "Accuracy_val.append(accuracy_score(y_val, predictions_val))\n",
    "Recall_val.append(recall_score(y_val, predictions_val, average='weighted'))"
   ]
  },
  {
   "cell_type": "markdown",
   "id": "471e0ac1",
   "metadata": {},
   "source": [
    "# Training a Random Forest"
   ]
  },
  {
   "cell_type": "code",
   "execution_count": 133,
   "id": "13c254fc",
   "metadata": {},
   "outputs": [],
   "source": [
    "from sklearn.ensemble import RandomForestClassifier"
   ]
  },
  {
   "cell_type": "code",
   "execution_count": 134,
   "id": "e0692427",
   "metadata": {},
   "outputs": [
    {
     "data": {
      "text/html": [
       "<style>#sk-container-id-11 {color: black;background-color: white;}#sk-container-id-11 pre{padding: 0;}#sk-container-id-11 div.sk-toggleable {background-color: white;}#sk-container-id-11 label.sk-toggleable__label {cursor: pointer;display: block;width: 100%;margin-bottom: 0;padding: 0.3em;box-sizing: border-box;text-align: center;}#sk-container-id-11 label.sk-toggleable__label-arrow:before {content: \"▸\";float: left;margin-right: 0.25em;color: #696969;}#sk-container-id-11 label.sk-toggleable__label-arrow:hover:before {color: black;}#sk-container-id-11 div.sk-estimator:hover label.sk-toggleable__label-arrow:before {color: black;}#sk-container-id-11 div.sk-toggleable__content {max-height: 0;max-width: 0;overflow: hidden;text-align: left;background-color: #f0f8ff;}#sk-container-id-11 div.sk-toggleable__content pre {margin: 0.2em;color: black;border-radius: 0.25em;background-color: #f0f8ff;}#sk-container-id-11 input.sk-toggleable__control:checked~div.sk-toggleable__content {max-height: 200px;max-width: 100%;overflow: auto;}#sk-container-id-11 input.sk-toggleable__control:checked~label.sk-toggleable__label-arrow:before {content: \"▾\";}#sk-container-id-11 div.sk-estimator input.sk-toggleable__control:checked~label.sk-toggleable__label {background-color: #d4ebff;}#sk-container-id-11 div.sk-label input.sk-toggleable__control:checked~label.sk-toggleable__label {background-color: #d4ebff;}#sk-container-id-11 input.sk-hidden--visually {border: 0;clip: rect(1px 1px 1px 1px);clip: rect(1px, 1px, 1px, 1px);height: 1px;margin: -1px;overflow: hidden;padding: 0;position: absolute;width: 1px;}#sk-container-id-11 div.sk-estimator {font-family: monospace;background-color: #f0f8ff;border: 1px dotted black;border-radius: 0.25em;box-sizing: border-box;margin-bottom: 0.5em;}#sk-container-id-11 div.sk-estimator:hover {background-color: #d4ebff;}#sk-container-id-11 div.sk-parallel-item::after {content: \"\";width: 100%;border-bottom: 1px solid gray;flex-grow: 1;}#sk-container-id-11 div.sk-label:hover label.sk-toggleable__label {background-color: #d4ebff;}#sk-container-id-11 div.sk-serial::before {content: \"\";position: absolute;border-left: 1px solid gray;box-sizing: border-box;top: 0;bottom: 0;left: 50%;z-index: 0;}#sk-container-id-11 div.sk-serial {display: flex;flex-direction: column;align-items: center;background-color: white;padding-right: 0.2em;padding-left: 0.2em;position: relative;}#sk-container-id-11 div.sk-item {position: relative;z-index: 1;}#sk-container-id-11 div.sk-parallel {display: flex;align-items: stretch;justify-content: center;background-color: white;position: relative;}#sk-container-id-11 div.sk-item::before, #sk-container-id-11 div.sk-parallel-item::before {content: \"\";position: absolute;border-left: 1px solid gray;box-sizing: border-box;top: 0;bottom: 0;left: 50%;z-index: -1;}#sk-container-id-11 div.sk-parallel-item {display: flex;flex-direction: column;z-index: 1;position: relative;background-color: white;}#sk-container-id-11 div.sk-parallel-item:first-child::after {align-self: flex-end;width: 50%;}#sk-container-id-11 div.sk-parallel-item:last-child::after {align-self: flex-start;width: 50%;}#sk-container-id-11 div.sk-parallel-item:only-child::after {width: 0;}#sk-container-id-11 div.sk-dashed-wrapped {border: 1px dashed gray;margin: 0 0.4em 0.5em 0.4em;box-sizing: border-box;padding-bottom: 0.4em;background-color: white;}#sk-container-id-11 div.sk-label label {font-family: monospace;font-weight: bold;display: inline-block;line-height: 1.2em;}#sk-container-id-11 div.sk-label-container {text-align: center;}#sk-container-id-11 div.sk-container {/* jupyter's `normalize.less` sets `[hidden] { display: none; }` but bootstrap.min.css set `[hidden] { display: none !important; }` so we also need the `!important` here to be able to override the default hidden behavior on the sphinx rendered scikit-learn.org. See: https://github.com/scikit-learn/scikit-learn/issues/21755 */display: inline-block !important;position: relative;}#sk-container-id-11 div.sk-text-repr-fallback {display: none;}</style><div id=\"sk-container-id-11\" class=\"sk-top-container\"><div class=\"sk-text-repr-fallback\"><pre>RandomForestClassifier(max_leaf_nodes=16, n_estimators=500, n_jobs=-1)</pre><b>In a Jupyter environment, please rerun this cell to show the HTML representation or trust the notebook. <br />On GitHub, the HTML representation is unable to render, please try loading this page with nbviewer.org.</b></div><div class=\"sk-container\" hidden><div class=\"sk-item\"><div class=\"sk-estimator sk-toggleable\"><input class=\"sk-toggleable__control sk-hidden--visually\" id=\"sk-estimator-id-11\" type=\"checkbox\" checked><label for=\"sk-estimator-id-11\" class=\"sk-toggleable__label sk-toggleable__label-arrow\">RandomForestClassifier</label><div class=\"sk-toggleable__content\"><pre>RandomForestClassifier(max_leaf_nodes=16, n_estimators=500, n_jobs=-1)</pre></div></div></div></div></div>"
      ],
      "text/plain": [
       "RandomForestClassifier(max_leaf_nodes=16, n_estimators=500, n_jobs=-1)"
      ]
     },
     "execution_count": 134,
     "metadata": {},
     "output_type": "execute_result"
    }
   ],
   "source": [
    "rnd_clf = RandomForestClassifier(n_estimators=500, max_leaf_nodes=16, n_jobs=-1)\n",
    "rnd_clf.fit(X_train_prepared,y_train)"
   ]
  },
  {
   "cell_type": "code",
   "execution_count": 135,
   "id": "4dccd0a6",
   "metadata": {},
   "outputs": [],
   "source": [
    "predictions_train = rnd_clf.predict(X_train_prepared)\n",
    "predictions_val = rnd_clf.predict(X_val_prepared)"
   ]
  },
  {
   "cell_type": "markdown",
   "id": "c6444009",
   "metadata": {},
   "source": [
    "### On training data"
   ]
  },
  {
   "cell_type": "code",
   "execution_count": 136,
   "id": "49fb1974",
   "metadata": {},
   "outputs": [
    {
     "data": {
      "image/png": "[encoded data removed]",
      "text/plain": [
       "<Figure size 640x480 with 2 Axes>"
      ]
     },
     "metadata": {},
     "output_type": "display_data"
    }
   ],
   "source": [
    "cm = confusion_matrix(y_train,predictions_train)\n",
    "y_train_labels = sorted(y_train.unique())\n",
    "sns.heatmap(cm, annot=True, cmap='Blues', fmt='g', xticklabels=y_train_labels, yticklabels=y_train_labels)\n",
    "\n",
    "# Set the plot title and axis labels\n",
    "plt.title('Confusion Matrix')\n",
    "plt.xlabel('Predicted Label')\n",
    "plt.ylabel('True Label')\n",
    "\n",
    "# Show the plot\n",
    "plt.show()"
   ]
  },
  {
   "cell_type": "code",
   "execution_count": 137,
   "id": "6701d3b1",
   "metadata": {},
   "outputs": [
    {
     "name": "stdout",
     "output_type": "stream",
     "text": [
      "              precision    recall  f1-score   support\n",
      "\n",
      "           2       0.67      1.00      0.80      2269\n",
      "           3       0.62      0.02      0.05      1160\n",
      "           4       1.00      0.31      0.47        13\n",
      "           5       0.00      0.00      0.00         6\n",
      "\n",
      "    accuracy                           0.67      3448\n",
      "   macro avg       0.57      0.33      0.33      3448\n",
      "weighted avg       0.65      0.67      0.54      3448\n",
      "\n"
     ]
    },
    {
     "name": "stderr",
     "output_type": "stream",
     "text": [
      "/Users/enderson.santos/.local/share/virtualenvs/PACD1-1HdaorPT/lib/python3.10/site-packages/sklearn/metrics/_classification.py:1344: UndefinedMetricWarning: Precision and F-score are ill-defined and being set to 0.0 in labels with no predicted samples. Use `zero_division` parameter to control this behavior.\n",
      "  _warn_prf(average, modifier, msg_start, len(result))\n",
      "/Users/enderson.santos/.local/share/virtualenvs/PACD1-1HdaorPT/lib/python3.10/site-packages/sklearn/metrics/_classification.py:1344: UndefinedMetricWarning: Precision and F-score are ill-defined and being set to 0.0 in labels with no predicted samples. Use `zero_division` parameter to control this behavior.\n",
      "  _warn_prf(average, modifier, msg_start, len(result))\n",
      "/Users/enderson.santos/.local/share/virtualenvs/PACD1-1HdaorPT/lib/python3.10/site-packages/sklearn/metrics/_classification.py:1344: UndefinedMetricWarning: Precision and F-score are ill-defined and being set to 0.0 in labels with no predicted samples. Use `zero_division` parameter to control this behavior.\n",
      "  _warn_prf(average, modifier, msg_start, len(result))\n"
     ]
    }
   ],
   "source": [
    "from sklearn.metrics import classification_report\n",
    "\n",
    "# Generate a classification report\n",
    "report = classification_report(y_train, predictions_train)\n",
    "\n",
    "# Print the report\n",
    "print(report)"
   ]
  },
  {
   "cell_type": "markdown",
   "id": "73124664",
   "metadata": {},
   "source": [
    "### Val data"
   ]
  },
  {
   "cell_type": "code",
   "execution_count": 138,
   "id": "49cb2bb8",
   "metadata": {},
   "outputs": [
    {
     "data": {
      "image/png": "[encoded data removed]",
      "text/plain": [
       "<Figure size 640x480 with 2 Axes>"
      ]
     },
     "metadata": {},
     "output_type": "display_data"
    }
   ],
   "source": [
    "cm = confusion_matrix(y_val,predictions_val)\n",
    "y_train_labels = sorted(y_train.unique())\n",
    "sns.heatmap(cm, annot=True, cmap='Blues', fmt='g', xticklabels=y_train_labels, yticklabels=y_train_labels)\n",
    "\n",
    "# Set the plot title and axis labels\n",
    "plt.title('Confusion Matrix')\n",
    "plt.xlabel('Predicted Label')\n",
    "plt.ylabel('True Label')\n",
    "\n",
    "# Show the plot\n",
    "plt.show()"
   ]
  },
  {
   "cell_type": "code",
   "execution_count": 139,
   "id": "585fa937",
   "metadata": {},
   "outputs": [
    {
     "name": "stdout",
     "output_type": "stream",
     "text": [
      "              precision    recall  f1-score   support\n",
      "\n",
      "           2       0.67      1.00      0.80       682\n",
      "           3       0.56      0.03      0.05       348\n",
      "           4       0.00      0.00      0.00         3\n",
      "           5       0.00      0.00      0.00         2\n",
      "\n",
      "    accuracy                           0.66      1035\n",
      "   macro avg       0.31      0.26      0.21      1035\n",
      "weighted avg       0.63      0.66      0.54      1035\n",
      "\n"
     ]
    },
    {
     "name": "stderr",
     "output_type": "stream",
     "text": [
      "/Users/enderson.santos/.local/share/virtualenvs/PACD1-1HdaorPT/lib/python3.10/site-packages/sklearn/metrics/_classification.py:1344: UndefinedMetricWarning: Precision and F-score are ill-defined and being set to 0.0 in labels with no predicted samples. Use `zero_division` parameter to control this behavior.\n",
      "  _warn_prf(average, modifier, msg_start, len(result))\n",
      "/Users/enderson.santos/.local/share/virtualenvs/PACD1-1HdaorPT/lib/python3.10/site-packages/sklearn/metrics/_classification.py:1344: UndefinedMetricWarning: Precision and F-score are ill-defined and being set to 0.0 in labels with no predicted samples. Use `zero_division` parameter to control this behavior.\n",
      "  _warn_prf(average, modifier, msg_start, len(result))\n",
      "/Users/enderson.santos/.local/share/virtualenvs/PACD1-1HdaorPT/lib/python3.10/site-packages/sklearn/metrics/_classification.py:1344: UndefinedMetricWarning: Precision and F-score are ill-defined and being set to 0.0 in labels with no predicted samples. Use `zero_division` parameter to control this behavior.\n",
      "  _warn_prf(average, modifier, msg_start, len(result))\n"
     ]
    }
   ],
   "source": [
    "from sklearn.metrics import classification_report\n",
    "\n",
    "# Generate a classification report\n",
    "report = classification_report(y_val, predictions_val)\n",
    "\n",
    "# Print the report\n",
    "print(report)"
   ]
  },
  {
   "cell_type": "code",
   "execution_count": 140,
   "id": "f0d97e4f",
   "metadata": {},
   "outputs": [
    {
     "name": "stderr",
     "output_type": "stream",
     "text": [
      "/Users/enderson.santos/.local/share/virtualenvs/PACD1-1HdaorPT/lib/python3.10/site-packages/sklearn/metrics/_classification.py:1344: UndefinedMetricWarning: Precision is ill-defined and being set to 0.0 in labels with no predicted samples. Use `zero_division` parameter to control this behavior.\n",
      "  _warn_prf(average, modifier, msg_start, len(result))\n",
      "/Users/enderson.santos/.local/share/virtualenvs/PACD1-1HdaorPT/lib/python3.10/site-packages/sklearn/metrics/_classification.py:1344: UndefinedMetricWarning: Precision is ill-defined and being set to 0.0 in labels with no predicted samples. Use `zero_division` parameter to control this behavior.\n",
      "  _warn_prf(average, modifier, msg_start, len(result))\n"
     ]
    }
   ],
   "source": [
    "Precision_train.append(precision_score(y_train, predictions_train, average='weighted'))\n",
    "Accuracy_train.append(accuracy_score(y_train, predictions_train))\n",
    "Recall_train.append(recall_score(y_train, predictions_train, average='weighted'))\n",
    "\n",
    "Precision_val.append(precision_score(y_val, predictions_val, average='weighted'))\n",
    "Accuracy_val.append(accuracy_score(y_val, predictions_val))\n",
    "Recall_val.append(recall_score(y_val, predictions_val, average='weighted'))"
   ]
  },
  {
   "cell_type": "markdown",
   "id": "5bd2d3ff",
   "metadata": {},
   "source": [
    "# XG-Boost "
   ]
  },
  {
   "cell_type": "code",
   "execution_count": 141,
   "id": "562be79c",
   "metadata": {},
   "outputs": [],
   "source": [
    "import xgboost as xgb"
   ]
  },
  {
   "cell_type": "code",
   "execution_count": 142,
   "id": "68551a75",
   "metadata": {},
   "outputs": [],
   "source": [
    "to_map = {2:0, 3:1, 4:2, 5:3}\n",
    "Y_train = y_train.map(to_map)\n",
    "Y_val = y_val.map(to_map)"
   ]
  },
  {
   "cell_type": "code",
   "execution_count": 143,
   "id": "09f0f362",
   "metadata": {},
   "outputs": [],
   "source": [
    "model = xgb.XGBClassifier(objective=\"multi:softmax\", num_class=4, random_state=42, max_depth=3, min_child_weight=1, gamma=0.05, subsample=0.8, colsample_bytree=0.8,n_estimators=75)"
   ]
  },
  {
   "cell_type": "code",
   "execution_count": 144,
   "id": "5076dc4e",
   "metadata": {},
   "outputs": [
    {
     "data": {
      "text/html": [
       "<style>#sk-container-id-12 {color: black;background-color: white;}#sk-container-id-12 pre{padding: 0;}#sk-container-id-12 div.sk-toggleable {background-color: white;}#sk-container-id-12 label.sk-toggleable__label {cursor: pointer;display: block;width: 100%;margin-bottom: 0;padding: 0.3em;box-sizing: border-box;text-align: center;}#sk-container-id-12 label.sk-toggleable__label-arrow:before {content: \"▸\";float: left;margin-right: 0.25em;color: #696969;}#sk-container-id-12 label.sk-toggleable__label-arrow:hover:before {color: black;}#sk-container-id-12 div.sk-estimator:hover label.sk-toggleable__label-arrow:before {color: black;}#sk-container-id-12 div.sk-toggleable__content {max-height: 0;max-width: 0;overflow: hidden;text-align: left;background-color: #f0f8ff;}#sk-container-id-12 div.sk-toggleable__content pre {margin: 0.2em;color: black;border-radius: 0.25em;background-color: #f0f8ff;}#sk-container-id-12 input.sk-toggleable__control:checked~div.sk-toggleable__content {max-height: 200px;max-width: 100%;overflow: auto;}#sk-container-id-12 input.sk-toggleable__control:checked~label.sk-toggleable__label-arrow:before {content: \"▾\";}#sk-container-id-12 div.sk-estimator input.sk-toggleable__control:checked~label.sk-toggleable__label {background-color: #d4ebff;}#sk-container-id-12 div.sk-label input.sk-toggleable__control:checked~label.sk-toggleable__label {background-color: #d4ebff;}#sk-container-id-12 input.sk-hidden--visually {border: 0;clip: rect(1px 1px 1px 1px);clip: rect(1px, 1px, 1px, 1px);height: 1px;margin: -1px;overflow: hidden;padding: 0;position: absolute;width: 1px;}#sk-container-id-12 div.sk-estimator {font-family: monospace;background-color: #f0f8ff;border: 1px dotted black;border-radius: 0.25em;box-sizing: border-box;margin-bottom: 0.5em;}#sk-container-id-12 div.sk-estimator:hover {background-color: #d4ebff;}#sk-container-id-12 div.sk-parallel-item::after {content: \"\";width: 100%;border-bottom: 1px solid gray;flex-grow: 1;}#sk-container-id-12 div.sk-label:hover label.sk-toggleable__label {background-color: #d4ebff;}#sk-container-id-12 div.sk-serial::before {content: \"\";position: absolute;border-left: 1px solid gray;box-sizing: border-box;top: 0;bottom: 0;left: 50%;z-index: 0;}#sk-container-id-12 div.sk-serial {display: flex;flex-direction: column;align-items: center;background-color: white;padding-right: 0.2em;padding-left: 0.2em;position: relative;}#sk-container-id-12 div.sk-item {position: relative;z-index: 1;}#sk-container-id-12 div.sk-parallel {display: flex;align-items: stretch;justify-content: center;background-color: white;position: relative;}#sk-container-id-12 div.sk-item::before, #sk-container-id-12 div.sk-parallel-item::before {content: \"\";position: absolute;border-left: 1px solid gray;box-sizing: border-box;top: 0;bottom: 0;left: 50%;z-index: -1;}#sk-container-id-12 div.sk-parallel-item {display: flex;flex-direction: column;z-index: 1;position: relative;background-color: white;}#sk-container-id-12 div.sk-parallel-item:first-child::after {align-self: flex-end;width: 50%;}#sk-container-id-12 div.sk-parallel-item:last-child::after {align-self: flex-start;width: 50%;}#sk-container-id-12 div.sk-parallel-item:only-child::after {width: 0;}#sk-container-id-12 div.sk-dashed-wrapped {border: 1px dashed gray;margin: 0 0.4em 0.5em 0.4em;box-sizing: border-box;padding-bottom: 0.4em;background-color: white;}#sk-container-id-12 div.sk-label label {font-family: monospace;font-weight: bold;display: inline-block;line-height: 1.2em;}#sk-container-id-12 div.sk-label-container {text-align: center;}#sk-container-id-12 div.sk-container {/* jupyter's `normalize.less` sets `[hidden] { display: none; }` but bootstrap.min.css set `[hidden] { display: none !important; }` so we also need the `!important` here to be able to override the default hidden behavior on the sphinx rendered scikit-learn.org. See: https://github.com/scikit-learn/scikit-learn/issues/21755 */display: inline-block !important;position: relative;}#sk-container-id-12 div.sk-text-repr-fallback {display: none;}</style><div id=\"sk-container-id-12\" class=\"sk-top-container\"><div class=\"sk-text-repr-fallback\"><pre>XGBClassifier(base_score=None, booster=None, callbacks=None,\n",
       "              colsample_bylevel=None, colsample_bynode=None,\n",
       "              colsample_bytree=0.8, early_stopping_rounds=None,\n",
       "              enable_categorical=False, eval_metric=None, feature_types=None,\n",
       "              gamma=0.05, gpu_id=None, grow_policy=None, importance_type=None,\n",
       "              interaction_constraints=None, learning_rate=None, max_bin=None,\n",
       "              max_cat_threshold=None, max_cat_to_onehot=None,\n",
       "              max_delta_step=None, max_depth=3, max_leaves=None,\n",
       "              min_child_weight=1, missing=nan, monotone_constraints=None,\n",
       "              n_estimators=75, n_jobs=None, num_class=4, num_parallel_tree=None,\n",
       "              objective=&#x27;multi:softmax&#x27;, ...)</pre><b>In a Jupyter environment, please rerun this cell to show the HTML representation or trust the notebook. <br />On GitHub, the HTML representation is unable to render, please try loading this page with nbviewer.org.</b></div><div class=\"sk-container\" hidden><div class=\"sk-item\"><div class=\"sk-estimator sk-toggleable\"><input class=\"sk-toggleable__control sk-hidden--visually\" id=\"sk-estimator-id-12\" type=\"checkbox\" checked><label for=\"sk-estimator-id-12\" class=\"sk-toggleable__label sk-toggleable__label-arrow\">XGBClassifier</label><div class=\"sk-toggleable__content\"><pre>XGBClassifier(base_score=None, booster=None, callbacks=None,\n",
       "              colsample_bylevel=None, colsample_bynode=None,\n",
       "              colsample_bytree=0.8, early_stopping_rounds=None,\n",
       "              enable_categorical=False, eval_metric=None, feature_types=None,\n",
       "              gamma=0.05, gpu_id=None, grow_policy=None, importance_type=None,\n",
       "              interaction_constraints=None, learning_rate=None, max_bin=None,\n",
       "              max_cat_threshold=None, max_cat_to_onehot=None,\n",
       "              max_delta_step=None, max_depth=3, max_leaves=None,\n",
       "              min_child_weight=1, missing=nan, monotone_constraints=None,\n",
       "              n_estimators=75, n_jobs=None, num_class=4, num_parallel_tree=None,\n",
       "              objective=&#x27;multi:softmax&#x27;, ...)</pre></div></div></div></div></div>"
      ],
      "text/plain": [
       "XGBClassifier(base_score=None, booster=None, callbacks=None,\n",
       "              colsample_bylevel=None, colsample_bynode=None,\n",
       "              colsample_bytree=0.8, early_stopping_rounds=None,\n",
       "              enable_categorical=False, eval_metric=None, feature_types=None,\n",
       "              gamma=0.05, gpu_id=None, grow_policy=None, importance_type=None,\n",
       "              interaction_constraints=None, learning_rate=None, max_bin=None,\n",
       "              max_cat_threshold=None, max_cat_to_onehot=None,\n",
       "              max_delta_step=None, max_depth=3, max_leaves=None,\n",
       "              min_child_weight=1, missing=nan, monotone_constraints=None,\n",
       "              n_estimators=75, n_jobs=None, num_class=4, num_parallel_tree=None,\n",
       "              objective='multi:softmax', ...)"
      ]
     },
     "execution_count": 144,
     "metadata": {},
     "output_type": "execute_result"
    }
   ],
   "source": [
    "model.fit(X_train_prepared, Y_train)"
   ]
  },
  {
   "cell_type": "code",
   "execution_count": 145,
   "id": "469f4c88",
   "metadata": {},
   "outputs": [],
   "source": [
    "predictions_train = model.predict(X_train_prepared)\n",
    "predictions_val = model.predict(X_val_prepared)"
   ]
  },
  {
   "cell_type": "markdown",
   "id": "21033e08",
   "metadata": {},
   "source": [
    "### Train set"
   ]
  },
  {
   "cell_type": "code",
   "execution_count": 146,
   "id": "2e72ac8c",
   "metadata": {},
   "outputs": [
    {
     "data": {
      "image/png": "[encoded data removed]",
      "text/plain": [
       "<Figure size 640x480 with 2 Axes>"
      ]
     },
     "metadata": {},
     "output_type": "display_data"
    }
   ],
   "source": [
    "cm = confusion_matrix(Y_train,predictions_train)\n",
    "y_train_labels = sorted(y_train.unique())\n",
    "sns.heatmap(cm, annot=True, cmap='Blues', fmt='g', xticklabels=y_train_labels, yticklabels=y_train_labels)\n",
    "\n",
    "# Set the plot title and axis labels\n",
    "plt.title('Confusion Matrix')\n",
    "plt.xlabel('Predicted Label')\n",
    "plt.ylabel('True Label')\n",
    "\n",
    "# Show the plot\n",
    "plt.show()"
   ]
  },
  {
   "cell_type": "code",
   "execution_count": 147,
   "id": "1a22e7d0",
   "metadata": {},
   "outputs": [
    {
     "name": "stdout",
     "output_type": "stream",
     "text": [
      "              precision    recall  f1-score   support\n",
      "\n",
      "           0       0.70      0.98      0.81      2269\n",
      "           1       0.78      0.16      0.27      1160\n",
      "           2       0.83      0.77      0.80        13\n",
      "           3       1.00      0.50      0.67         6\n",
      "\n",
      "    accuracy                           0.70      3448\n",
      "   macro avg       0.83      0.60      0.64      3448\n",
      "weighted avg       0.73      0.70      0.63      3448\n",
      "\n"
     ]
    }
   ],
   "source": [
    "from sklearn.metrics import classification_report\n",
    "\n",
    "# Generate a classification report\n",
    "report = classification_report(Y_train, predictions_train)\n",
    "\n",
    "# Print the report\n",
    "print(report)"
   ]
  },
  {
   "cell_type": "markdown",
   "id": "2a89bd7f",
   "metadata": {},
   "source": [
    "### Val set"
   ]
  },
  {
   "cell_type": "code",
   "execution_count": 148,
   "id": "b5b4e6c2",
   "metadata": {},
   "outputs": [
    {
     "data": {
      "image/png": "[encoded data removed]",
      "text/plain": [
       "<Figure size 640x480 with 2 Axes>"
      ]
     },
     "metadata": {},
     "output_type": "display_data"
    }
   ],
   "source": [
    "Y_val = y_val.map(to_map)\n",
    "cm = confusion_matrix(Y_val,predictions_val)\n",
    "y_train_labels = sorted(y_train.unique())\n",
    "sns.heatmap(cm, annot=True, cmap='Blues', fmt='g', xticklabels=y_train_labels, yticklabels=y_train_labels)\n",
    "\n",
    "# Set the plot title and axis labels\n",
    "plt.title('Confusion Matrix')\n",
    "plt.xlabel('Predicted Label')\n",
    "plt.ylabel('True Label')\n",
    "\n",
    "# Show the plot\n",
    "plt.show()"
   ]
  },
  {
   "cell_type": "code",
   "execution_count": 149,
   "id": "2eb1bb6f",
   "metadata": {},
   "outputs": [
    {
     "name": "stdout",
     "output_type": "stream",
     "text": [
      "              precision    recall  f1-score   support\n",
      "\n",
      "           0       0.67      0.94      0.78       682\n",
      "           1       0.43      0.09      0.15       348\n",
      "           2       0.00      0.00      0.00         3\n",
      "           3       0.00      0.00      0.00         2\n",
      "\n",
      "    accuracy                           0.65      1035\n",
      "   macro avg       0.28      0.26      0.23      1035\n",
      "weighted avg       0.59      0.65      0.57      1035\n",
      "\n"
     ]
    }
   ],
   "source": [
    "from sklearn.metrics import classification_report\n",
    "\n",
    "# Generate a classification report\n",
    "report = classification_report(Y_val, predictions_val)\n",
    "\n",
    "# Print the report\n",
    "print(report)"
   ]
  },
  {
   "cell_type": "code",
   "execution_count": 150,
   "id": "0579ea99",
   "metadata": {},
   "outputs": [],
   "source": [
    "Precision_train.append(precision_score(Y_train, predictions_train, average='weighted'))\n",
    "Accuracy_train.append(accuracy_score(Y_train, predictions_train))\n",
    "Recall_train.append(recall_score(Y_train, predictions_train, average='weighted'))\n",
    "\n",
    "Precision_val.append(precision_score(Y_val, predictions_val, average='weighted'))\n",
    "Accuracy_val.append(accuracy_score(Y_val, predictions_val))\n",
    "Recall_val.append(recall_score(Y_val, predictions_val, average='weighted'))"
   ]
  },
  {
   "cell_type": "markdown",
   "id": "9a920c7d",
   "metadata": {},
   "source": [
    "## Catboost"
   ]
  },
  {
   "cell_type": "code",
   "execution_count": 151,
   "id": "dd447d57",
   "metadata": {},
   "outputs": [],
   "source": [
    "import catboost as cb"
   ]
  },
  {
   "cell_type": "code",
   "execution_count": 152,
   "id": "6aacc6c7",
   "metadata": {},
   "outputs": [],
   "source": [
    "cat_features = [0,2]"
   ]
  },
  {
   "cell_type": "code",
   "execution_count": 153,
   "id": "8de5f82a",
   "metadata": {},
   "outputs": [],
   "source": [
    "from catboost import Pool\n",
    "train_pool = Pool(\n",
    "    data=X_train, \n",
    "    label=y_train, \n",
    "    cat_features=cat_features\n",
    ")\n",
    "\n",
    "validation_pool = Pool(\n",
    "    data=X_val, \n",
    "    label=y_val, \n",
    "    cat_features=cat_features\n",
    ")\n",
    "\n",
    "test_pool = Pool(\n",
    "    data=X_test, \n",
    "    label=y_test, \n",
    "    cat_features=cat_features\n",
    ")"
   ]
  },
  {
   "cell_type": "code",
   "execution_count": 154,
   "id": "3e48f28d",
   "metadata": {},
   "outputs": [],
   "source": [
    "clf = cb.CatBoostClassifier(iterations=200, learning_rate=0.05, random_seed=42, loss_function='MultiClass', eval_metric='MultiClass')"
   ]
  },
  {
   "cell_type": "code",
   "execution_count": 155,
   "id": "46c59bb2",
   "metadata": {},
   "outputs": [
    {
     "name": "stdout",
     "output_type": "stream",
     "text": [
      "0:\tlearn: 1.3283710\ttest: 1.3289562\tbest: 1.3289562 (0)\ttotal: 8.23ms\tremaining: 1.64s\n",
      "10:\tlearn: 0.9927083\ttest: 0.9931525\tbest: 0.9931525 (10)\ttotal: 29.8ms\tremaining: 512ms\n",
      "20:\tlearn: 0.8439004\ttest: 0.8446524\tbest: 0.8446524 (20)\ttotal: 53.8ms\tremaining: 459ms\n",
      "30:\tlearn: 0.7658267\ttest: 0.7669580\tbest: 0.7669580 (30)\ttotal: 72.9ms\tremaining: 397ms\n",
      "40:\tlearn: 0.7167095\ttest: 0.7198852\tbest: 0.7198852 (40)\ttotal: 99.8ms\tremaining: 387ms\n",
      "50:\tlearn: 0.6881877\ttest: 0.6930676\tbest: 0.6930676 (50)\ttotal: 127ms\tremaining: 370ms\n",
      "60:\tlearn: 0.6716902\ttest: 0.6788011\tbest: 0.6788011 (60)\ttotal: 149ms\tremaining: 341ms\n",
      "70:\tlearn: 0.6601443\ttest: 0.6695576\tbest: 0.6695576 (70)\ttotal: 181ms\tremaining: 329ms\n",
      "80:\tlearn: 0.6526745\ttest: 0.6643899\tbest: 0.6643899 (80)\ttotal: 224ms\tremaining: 329ms\n",
      "90:\tlearn: 0.6482103\ttest: 0.6613357\tbest: 0.6613357 (90)\ttotal: 263ms\tremaining: 316ms\n",
      "100:\tlearn: 0.6444984\ttest: 0.6591356\tbest: 0.6591356 (100)\ttotal: 359ms\tremaining: 352ms\n",
      "110:\tlearn: 0.6417252\ttest: 0.6583470\tbest: 0.6582691 (109)\ttotal: 482ms\tremaining: 387ms\n",
      "120:\tlearn: 0.6392411\ttest: 0.6575906\tbest: 0.6575906 (120)\ttotal: 516ms\tremaining: 337ms\n",
      "130:\tlearn: 0.6372375\ttest: 0.6573973\tbest: 0.6573921 (129)\ttotal: 546ms\tremaining: 288ms\n",
      "140:\tlearn: 0.6354811\ttest: 0.6571965\tbest: 0.6571965 (140)\ttotal: 575ms\tremaining: 241ms\n",
      "150:\tlearn: 0.6340965\ttest: 0.6570665\tbest: 0.6570372 (149)\ttotal: 602ms\tremaining: 195ms\n",
      "Stopped by overfitting detector  (10 iterations wait)\n",
      "\n",
      "bestTest = 0.6570372479\n",
      "bestIteration = 149\n",
      "\n",
      "Shrink model to first 150 iterations.\n"
     ]
    },
    {
     "data": {
      "text/plain": [
       "<catboost.core.CatBoostClassifier at 0x172a8bdf0>"
      ]
     },
     "execution_count": 155,
     "metadata": {},
     "output_type": "execute_result"
    }
   ],
   "source": [
    "clf.fit(X_train, y_train, eval_set=(X_val, y_val), early_stopping_rounds=10, verbose=10, cat_features=[0,2])"
   ]
  },
  {
   "cell_type": "code",
   "execution_count": 156,
   "id": "f4697088",
   "metadata": {},
   "outputs": [],
   "source": [
    "# O training data\n",
    "predictions_train = clf.predict(X_train)\n",
    "\n",
    "#On val data\n",
    "predictions_val = clf.predict(X_val)"
   ]
  },
  {
   "cell_type": "markdown",
   "id": "3b8a68d7",
   "metadata": {},
   "source": [
    "### On training"
   ]
  },
  {
   "cell_type": "code",
   "execution_count": 157,
   "id": "82766b8c",
   "metadata": {},
   "outputs": [
    {
     "data": {
      "image/png": "[encoded data removed]",
      "text/plain": [
       "<Figure size 640x480 with 2 Axes>"
      ]
     },
     "metadata": {},
     "output_type": "display_data"
    }
   ],
   "source": [
    "cm = confusion_matrix(y_train,predictions_train)\n",
    "y_train_labels = sorted(y_train.unique())\n",
    "sns.heatmap(cm, annot=True, cmap='Blues', fmt='g', xticklabels=y_train_labels, yticklabels=y_train_labels)\n",
    "\n",
    "# Set the plot title and axis labels\n",
    "plt.title('Confusion Matrix')\n",
    "plt.xlabel('Predicted Label')\n",
    "plt.ylabel('True Label')\n",
    "\n",
    "# Show the plot\n",
    "plt.show()"
   ]
  },
  {
   "cell_type": "code",
   "execution_count": 158,
   "id": "2eada137",
   "metadata": {},
   "outputs": [
    {
     "name": "stdout",
     "output_type": "stream",
     "text": [
      "              precision    recall  f1-score   support\n",
      "\n",
      "           2       0.67      1.00      0.80      2269\n",
      "           3       0.56      0.03      0.05      1160\n",
      "           4       1.00      0.23      0.38        13\n",
      "           5       0.00      0.00      0.00         6\n",
      "\n",
      "    accuracy                           0.66      3448\n",
      "   macro avg       0.56      0.31      0.31      3448\n",
      "weighted avg       0.63      0.66      0.54      3448\n",
      "\n"
     ]
    },
    {
     "name": "stderr",
     "output_type": "stream",
     "text": [
      "/Users/enderson.santos/.local/share/virtualenvs/PACD1-1HdaorPT/lib/python3.10/site-packages/sklearn/metrics/_classification.py:1344: UndefinedMetricWarning: Precision and F-score are ill-defined and being set to 0.0 in labels with no predicted samples. Use `zero_division` parameter to control this behavior.\n",
      "  _warn_prf(average, modifier, msg_start, len(result))\n",
      "/Users/enderson.santos/.local/share/virtualenvs/PACD1-1HdaorPT/lib/python3.10/site-packages/sklearn/metrics/_classification.py:1344: UndefinedMetricWarning: Precision and F-score are ill-defined and being set to 0.0 in labels with no predicted samples. Use `zero_division` parameter to control this behavior.\n",
      "  _warn_prf(average, modifier, msg_start, len(result))\n",
      "/Users/enderson.santos/.local/share/virtualenvs/PACD1-1HdaorPT/lib/python3.10/site-packages/sklearn/metrics/_classification.py:1344: UndefinedMetricWarning: Precision and F-score are ill-defined and being set to 0.0 in labels with no predicted samples. Use `zero_division` parameter to control this behavior.\n",
      "  _warn_prf(average, modifier, msg_start, len(result))\n"
     ]
    }
   ],
   "source": [
    "from sklearn.metrics import classification_report\n",
    "\n",
    "# Generate a classification report\n",
    "report = classification_report(y_train, predictions_train)\n",
    "\n",
    "# Print the report\n",
    "print(report)"
   ]
  },
  {
   "cell_type": "markdown",
   "id": "97900100",
   "metadata": {},
   "source": [
    "### On Validation"
   ]
  },
  {
   "cell_type": "code",
   "execution_count": 159,
   "id": "b4da304f",
   "metadata": {},
   "outputs": [
    {
     "data": {
      "image/png": "[encoded data removed]",
      "text/plain": [
       "<Figure size 640x480 with 2 Axes>"
      ]
     },
     "metadata": {},
     "output_type": "display_data"
    }
   ],
   "source": [
    "Y_val = y_val.map(to_map)\n",
    "cm = confusion_matrix(y_val,predictions_val)\n",
    "y_train_labels = sorted(y_train.unique())\n",
    "sns.heatmap(cm, annot=True, cmap='Blues', fmt='g', xticklabels=y_train_labels, yticklabels=y_train_labels)\n",
    "\n",
    "# Set the plot title and axis labels\n",
    "plt.title('Confusion Matrix')\n",
    "plt.xlabel('Predicted Label')\n",
    "plt.ylabel('True Label')\n",
    "\n",
    "# Show the plot\n",
    "plt.show()"
   ]
  },
  {
   "cell_type": "code",
   "execution_count": 160,
   "id": "ef1eda49",
   "metadata": {},
   "outputs": [
    {
     "name": "stdout",
     "output_type": "stream",
     "text": [
      "              precision    recall  f1-score   support\n",
      "\n",
      "           2       0.67      0.99      0.80       682\n",
      "           3       0.50      0.03      0.05       348\n",
      "           4       0.00      0.00      0.00         3\n",
      "           5       0.00      0.00      0.00         2\n",
      "\n",
      "    accuracy                           0.66      1035\n",
      "   macro avg       0.29      0.25      0.21      1035\n",
      "weighted avg       0.61      0.66      0.54      1035\n",
      "\n"
     ]
    },
    {
     "name": "stderr",
     "output_type": "stream",
     "text": [
      "/Users/enderson.santos/.local/share/virtualenvs/PACD1-1HdaorPT/lib/python3.10/site-packages/sklearn/metrics/_classification.py:1344: UndefinedMetricWarning: Precision and F-score are ill-defined and being set to 0.0 in labels with no predicted samples. Use `zero_division` parameter to control this behavior.\n",
      "  _warn_prf(average, modifier, msg_start, len(result))\n",
      "/Users/enderson.santos/.local/share/virtualenvs/PACD1-1HdaorPT/lib/python3.10/site-packages/sklearn/metrics/_classification.py:1344: UndefinedMetricWarning: Precision and F-score are ill-defined and being set to 0.0 in labels with no predicted samples. Use `zero_division` parameter to control this behavior.\n",
      "  _warn_prf(average, modifier, msg_start, len(result))\n",
      "/Users/enderson.santos/.local/share/virtualenvs/PACD1-1HdaorPT/lib/python3.10/site-packages/sklearn/metrics/_classification.py:1344: UndefinedMetricWarning: Precision and F-score are ill-defined and being set to 0.0 in labels with no predicted samples. Use `zero_division` parameter to control this behavior.\n",
      "  _warn_prf(average, modifier, msg_start, len(result))\n"
     ]
    }
   ],
   "source": [
    "from sklearn.metrics import classification_report\n",
    "\n",
    "# Generate a classification report\n",
    "report = classification_report(y_val, predictions_val)\n",
    "\n",
    "# Print the report\n",
    "print(report)"
   ]
  },
  {
   "cell_type": "code",
   "execution_count": 161,
   "id": "8765d9a3",
   "metadata": {},
   "outputs": [
    {
     "name": "stderr",
     "output_type": "stream",
     "text": [
      "/Users/enderson.santos/.local/share/virtualenvs/PACD1-1HdaorPT/lib/python3.10/site-packages/sklearn/metrics/_classification.py:1344: UndefinedMetricWarning: Precision is ill-defined and being set to 0.0 in labels with no predicted samples. Use `zero_division` parameter to control this behavior.\n",
      "  _warn_prf(average, modifier, msg_start, len(result))\n",
      "/Users/enderson.santos/.local/share/virtualenvs/PACD1-1HdaorPT/lib/python3.10/site-packages/sklearn/metrics/_classification.py:1344: UndefinedMetricWarning: Precision is ill-defined and being set to 0.0 in labels with no predicted samples. Use `zero_division` parameter to control this behavior.\n",
      "  _warn_prf(average, modifier, msg_start, len(result))\n"
     ]
    }
   ],
   "source": [
    "Precision_train.append(precision_score(y_train, predictions_train, average='weighted'))\n",
    "Accuracy_train.append(accuracy_score(y_train, predictions_train))\n",
    "Recall_train.append(recall_score(y_train, predictions_train, average='weighted'))\n",
    "\n",
    "Precision_val.append(precision_score(y_val, predictions_val, average='weighted'))\n",
    "Accuracy_val.append(accuracy_score(y_val, predictions_val))\n",
    "Recall_val.append(recall_score(y_val, predictions_val, average='weighted'))"
   ]
  },
  {
   "cell_type": "markdown",
   "id": "e7c3bd18",
   "metadata": {},
   "source": [
    "## SVM model"
   ]
  },
  {
   "cell_type": "code",
   "execution_count": 162,
   "id": "1d7e6a19",
   "metadata": {},
   "outputs": [],
   "source": [
    "from sklearn.svm import SVC"
   ]
  },
  {
   "cell_type": "code",
   "execution_count": 163,
   "id": "ab33f2dd",
   "metadata": {},
   "outputs": [],
   "source": [
    "clf = SVC(kernel='sigmoid')"
   ]
  },
  {
   "cell_type": "code",
   "execution_count": 164,
   "id": "8357b394",
   "metadata": {},
   "outputs": [
    {
     "data": {
      "text/html": [
       "<style>#sk-container-id-13 {color: black;background-color: white;}#sk-container-id-13 pre{padding: 0;}#sk-container-id-13 div.sk-toggleable {background-color: white;}#sk-container-id-13 label.sk-toggleable__label {cursor: pointer;display: block;width: 100%;margin-bottom: 0;padding: 0.3em;box-sizing: border-box;text-align: center;}#sk-container-id-13 label.sk-toggleable__label-arrow:before {content: \"▸\";float: left;margin-right: 0.25em;color: #696969;}#sk-container-id-13 label.sk-toggleable__label-arrow:hover:before {color: black;}#sk-container-id-13 div.sk-estimator:hover label.sk-toggleable__label-arrow:before {color: black;}#sk-container-id-13 div.sk-toggleable__content {max-height: 0;max-width: 0;overflow: hidden;text-align: left;background-color: #f0f8ff;}#sk-container-id-13 div.sk-toggleable__content pre {margin: 0.2em;color: black;border-radius: 0.25em;background-color: #f0f8ff;}#sk-container-id-13 input.sk-toggleable__control:checked~div.sk-toggleable__content {max-height: 200px;max-width: 100%;overflow: auto;}#sk-container-id-13 input.sk-toggleable__control:checked~label.sk-toggleable__label-arrow:before {content: \"▾\";}#sk-container-id-13 div.sk-estimator input.sk-toggleable__control:checked~label.sk-toggleable__label {background-color: #d4ebff;}#sk-container-id-13 div.sk-label input.sk-toggleable__control:checked~label.sk-toggleable__label {background-color: #d4ebff;}#sk-container-id-13 input.sk-hidden--visually {border: 0;clip: rect(1px 1px 1px 1px);clip: rect(1px, 1px, 1px, 1px);height: 1px;margin: -1px;overflow: hidden;padding: 0;position: absolute;width: 1px;}#sk-container-id-13 div.sk-estimator {font-family: monospace;background-color: #f0f8ff;border: 1px dotted black;border-radius: 0.25em;box-sizing: border-box;margin-bottom: 0.5em;}#sk-container-id-13 div.sk-estimator:hover {background-color: #d4ebff;}#sk-container-id-13 div.sk-parallel-item::after {content: \"\";width: 100%;border-bottom: 1px solid gray;flex-grow: 1;}#sk-container-id-13 div.sk-label:hover label.sk-toggleable__label {background-color: #d4ebff;}#sk-container-id-13 div.sk-serial::before {content: \"\";position: absolute;border-left: 1px solid gray;box-sizing: border-box;top: 0;bottom: 0;left: 50%;z-index: 0;}#sk-container-id-13 div.sk-serial {display: flex;flex-direction: column;align-items: center;background-color: white;padding-right: 0.2em;padding-left: 0.2em;position: relative;}#sk-container-id-13 div.sk-item {position: relative;z-index: 1;}#sk-container-id-13 div.sk-parallel {display: flex;align-items: stretch;justify-content: center;background-color: white;position: relative;}#sk-container-id-13 div.sk-item::before, #sk-container-id-13 div.sk-parallel-item::before {content: \"\";position: absolute;border-left: 1px solid gray;box-sizing: border-box;top: 0;bottom: 0;left: 50%;z-index: -1;}#sk-container-id-13 div.sk-parallel-item {display: flex;flex-direction: column;z-index: 1;position: relative;background-color: white;}#sk-container-id-13 div.sk-parallel-item:first-child::after {align-self: flex-end;width: 50%;}#sk-container-id-13 div.sk-parallel-item:last-child::after {align-self: flex-start;width: 50%;}#sk-container-id-13 div.sk-parallel-item:only-child::after {width: 0;}#sk-container-id-13 div.sk-dashed-wrapped {border: 1px dashed gray;margin: 0 0.4em 0.5em 0.4em;box-sizing: border-box;padding-bottom: 0.4em;background-color: white;}#sk-container-id-13 div.sk-label label {font-family: monospace;font-weight: bold;display: inline-block;line-height: 1.2em;}#sk-container-id-13 div.sk-label-container {text-align: center;}#sk-container-id-13 div.sk-container {/* jupyter's `normalize.less` sets `[hidden] { display: none; }` but bootstrap.min.css set `[hidden] { display: none !important; }` so we also need the `!important` here to be able to override the default hidden behavior on the sphinx rendered scikit-learn.org. See: https://github.com/scikit-learn/scikit-learn/issues/21755 */display: inline-block !important;position: relative;}#sk-container-id-13 div.sk-text-repr-fallback {display: none;}</style><div id=\"sk-container-id-13\" class=\"sk-top-container\"><div class=\"sk-text-repr-fallback\"><pre>SVC(kernel=&#x27;sigmoid&#x27;)</pre><b>In a Jupyter environment, please rerun this cell to show the HTML representation or trust the notebook. <br />On GitHub, the HTML representation is unable to render, please try loading this page with nbviewer.org.</b></div><div class=\"sk-container\" hidden><div class=\"sk-item\"><div class=\"sk-estimator sk-toggleable\"><input class=\"sk-toggleable__control sk-hidden--visually\" id=\"sk-estimator-id-13\" type=\"checkbox\" checked><label for=\"sk-estimator-id-13\" class=\"sk-toggleable__label sk-toggleable__label-arrow\">SVC</label><div class=\"sk-toggleable__content\"><pre>SVC(kernel=&#x27;sigmoid&#x27;)</pre></div></div></div></div></div>"
      ],
      "text/plain": [
       "SVC(kernel='sigmoid')"
      ]
     },
     "execution_count": 164,
     "metadata": {},
     "output_type": "execute_result"
    }
   ],
   "source": [
    "clf.fit(X_train_prepared, Y_train)"
   ]
  },
  {
   "cell_type": "code",
   "execution_count": 165,
   "id": "4a0435e4",
   "metadata": {},
   "outputs": [],
   "source": [
    "# O training data\n",
    "predictions_train = clf.predict(X_train_prepared)\n",
    "\n",
    "#On val data\n",
    "predictions_val = clf.predict(X_val_prepared)"
   ]
  },
  {
   "cell_type": "markdown",
   "id": "06eaf8a4",
   "metadata": {},
   "source": [
    "### Train set"
   ]
  },
  {
   "cell_type": "code",
   "execution_count": 166,
   "id": "566faec7",
   "metadata": {},
   "outputs": [
    {
     "data": {
      "image/png": "[encoded data removed]",
      "text/plain": [
       "<Figure size 640x480 with 2 Axes>"
      ]
     },
     "metadata": {},
     "output_type": "display_data"
    }
   ],
   "source": [
    "cm = confusion_matrix(Y_train,predictions_train)\n",
    "y_train_labels = sorted(y_train.unique())\n",
    "sns.heatmap(cm, annot=True, cmap='Blues', fmt='g', xticklabels=y_train_labels, yticklabels=y_train_labels)\n",
    "\n",
    "# Set the plot title and axis labels\n",
    "plt.title('Confusion Matrix')\n",
    "plt.xlabel('Predicted Label')\n",
    "plt.ylabel('True Label')\n",
    "\n",
    "# Show the plot\n",
    "plt.show()"
   ]
  },
  {
   "cell_type": "code",
   "execution_count": 167,
   "id": "86f7cc1a",
   "metadata": {},
   "outputs": [
    {
     "name": "stdout",
     "output_type": "stream",
     "text": [
      "              precision    recall  f1-score   support\n",
      "\n",
      "           0       0.65      0.68      0.66      2269\n",
      "           1       0.32      0.30      0.31      1160\n",
      "           2       0.00      0.00      0.00        13\n",
      "           3       0.00      0.00      0.00         6\n",
      "\n",
      "    accuracy                           0.55      3448\n",
      "   macro avg       0.24      0.25      0.24      3448\n",
      "weighted avg       0.54      0.55      0.54      3448\n",
      "\n"
     ]
    },
    {
     "name": "stderr",
     "output_type": "stream",
     "text": [
      "/Users/enderson.santos/.local/share/virtualenvs/PACD1-1HdaorPT/lib/python3.10/site-packages/sklearn/metrics/_classification.py:1344: UndefinedMetricWarning: Precision and F-score are ill-defined and being set to 0.0 in labels with no predicted samples. Use `zero_division` parameter to control this behavior.\n",
      "  _warn_prf(average, modifier, msg_start, len(result))\n",
      "/Users/enderson.santos/.local/share/virtualenvs/PACD1-1HdaorPT/lib/python3.10/site-packages/sklearn/metrics/_classification.py:1344: UndefinedMetricWarning: Precision and F-score are ill-defined and being set to 0.0 in labels with no predicted samples. Use `zero_division` parameter to control this behavior.\n",
      "  _warn_prf(average, modifier, msg_start, len(result))\n",
      "/Users/enderson.santos/.local/share/virtualenvs/PACD1-1HdaorPT/lib/python3.10/site-packages/sklearn/metrics/_classification.py:1344: UndefinedMetricWarning: Precision and F-score are ill-defined and being set to 0.0 in labels with no predicted samples. Use `zero_division` parameter to control this behavior.\n",
      "  _warn_prf(average, modifier, msg_start, len(result))\n"
     ]
    }
   ],
   "source": [
    "# Generate a classification report\n",
    "report = classification_report(Y_train, predictions_train)\n",
    "\n",
    "# Print the report\n",
    "print(report)"
   ]
  },
  {
   "cell_type": "markdown",
   "id": "626f02a7",
   "metadata": {},
   "source": [
    "### Val Set"
   ]
  },
  {
   "cell_type": "code",
   "execution_count": 168,
   "id": "20babd3e",
   "metadata": {},
   "outputs": [
    {
     "data": {
      "image/png": "[encoded data removed]",
      "text/plain": [
       "<Figure size 640x480 with 2 Axes>"
      ]
     },
     "metadata": {},
     "output_type": "display_data"
    }
   ],
   "source": [
    "Y_val = y_val.map(to_map)\n",
    "cm = confusion_matrix(Y_val,predictions_val)\n",
    "y_train_labels = sorted(y_train.unique())\n",
    "sns.heatmap(cm, annot=True, cmap='Blues', fmt='g', xticklabels=y_train_labels, yticklabels=y_train_labels)\n",
    "\n",
    "# Set the plot title and axis labels\n",
    "plt.title('Confusion Matrix')\n",
    "plt.xlabel('Predicted Label')\n",
    "plt.ylabel('True Label')\n",
    "\n",
    "# Show the plot\n",
    "plt.show()"
   ]
  },
  {
   "cell_type": "code",
   "execution_count": 169,
   "id": "ca88acd2",
   "metadata": {},
   "outputs": [
    {
     "name": "stdout",
     "output_type": "stream",
     "text": [
      "              precision    recall  f1-score   support\n",
      "\n",
      "           0       0.65      0.67      0.66       682\n",
      "           1       0.32      0.31      0.31       348\n",
      "           2       0.00      0.00      0.00         3\n",
      "           3       0.00      0.00      0.00         2\n",
      "\n",
      "    accuracy                           0.54      1035\n",
      "   macro avg       0.24      0.24      0.24      1035\n",
      "weighted avg       0.54      0.54      0.54      1035\n",
      "\n"
     ]
    },
    {
     "name": "stderr",
     "output_type": "stream",
     "text": [
      "/Users/enderson.santos/.local/share/virtualenvs/PACD1-1HdaorPT/lib/python3.10/site-packages/sklearn/metrics/_classification.py:1344: UndefinedMetricWarning: Precision and F-score are ill-defined and being set to 0.0 in labels with no predicted samples. Use `zero_division` parameter to control this behavior.\n",
      "  _warn_prf(average, modifier, msg_start, len(result))\n",
      "/Users/enderson.santos/.local/share/virtualenvs/PACD1-1HdaorPT/lib/python3.10/site-packages/sklearn/metrics/_classification.py:1344: UndefinedMetricWarning: Precision and F-score are ill-defined and being set to 0.0 in labels with no predicted samples. Use `zero_division` parameter to control this behavior.\n",
      "  _warn_prf(average, modifier, msg_start, len(result))\n",
      "/Users/enderson.santos/.local/share/virtualenvs/PACD1-1HdaorPT/lib/python3.10/site-packages/sklearn/metrics/_classification.py:1344: UndefinedMetricWarning: Precision and F-score are ill-defined and being set to 0.0 in labels with no predicted samples. Use `zero_division` parameter to control this behavior.\n",
      "  _warn_prf(average, modifier, msg_start, len(result))\n"
     ]
    }
   ],
   "source": [
    "from sklearn.metrics import classification_report\n",
    "\n",
    "# Generate a classification report\n",
    "report = classification_report(Y_val, predictions_val)\n",
    "\n",
    "# Print the report\n",
    "print(report)"
   ]
  },
  {
   "cell_type": "code",
   "execution_count": 170,
   "id": "3b855029",
   "metadata": {},
   "outputs": [
    {
     "name": "stderr",
     "output_type": "stream",
     "text": [
      "/Users/enderson.santos/.local/share/virtualenvs/PACD1-1HdaorPT/lib/python3.10/site-packages/sklearn/metrics/_classification.py:1344: UndefinedMetricWarning: Precision is ill-defined and being set to 0.0 in labels with no predicted samples. Use `zero_division` parameter to control this behavior.\n",
      "  _warn_prf(average, modifier, msg_start, len(result))\n",
      "/Users/enderson.santos/.local/share/virtualenvs/PACD1-1HdaorPT/lib/python3.10/site-packages/sklearn/metrics/_classification.py:1344: UndefinedMetricWarning: Precision is ill-defined and being set to 0.0 in labels with no predicted samples. Use `zero_division` parameter to control this behavior.\n",
      "  _warn_prf(average, modifier, msg_start, len(result))\n"
     ]
    }
   ],
   "source": [
    "Precision_train.append(precision_score(Y_train, predictions_train, average='weighted'))\n",
    "Accuracy_train.append(accuracy_score(Y_train, predictions_train))\n",
    "Recall_train.append(recall_score(Y_train, predictions_train, average='weighted'))\n",
    "\n",
    "Precision_val.append(precision_score(Y_val, predictions_val, average='weighted'))\n",
    "Accuracy_val.append(accuracy_score(Y_val, predictions_val))\n",
    "Recall_val.append(recall_score(Y_val, predictions_val, average='weighted'))"
   ]
  },
  {
   "cell_type": "markdown",
   "id": "d5c19708",
   "metadata": {},
   "source": [
    "## Final Df"
   ]
  },
  {
   "cell_type": "code",
   "execution_count": 172,
   "id": "c8e9e60d",
   "metadata": {},
   "outputs": [
    {
     "data": {
      "text/html": [
       "<div>\n",
       "<style scoped>\n",
       "    .dataframe tbody tr th:only-of-type {\n",
       "        vertical-align: middle;\n",
       "    }\n",
       "\n",
       "    .dataframe tbody tr th {\n",
       "        vertical-align: top;\n",
       "    }\n",
       "\n",
       "    .dataframe thead th {\n",
       "        text-align: right;\n",
       "    }\n",
       "</style>\n",
       "<table border=\"1\" class=\"dataframe\">\n",
       "  <thead>\n",
       "    <tr style=\"text-align: right;\">\n",
       "      <th></th>\n",
       "      <th>Accuracy_train</th>\n",
       "      <th>Accuracy_val</th>\n",
       "      <th>Precision_train</th>\n",
       "      <th>Precision_val</th>\n",
       "      <th>Recall_train</th>\n",
       "      <th>Recall_val</th>\n",
       "    </tr>\n",
       "  </thead>\n",
       "  <tbody>\n",
       "    <tr>\n",
       "      <th>Logaritimic</th>\n",
       "      <td>0.665023</td>\n",
       "      <td>0.663768</td>\n",
       "      <td>0.638417</td>\n",
       "      <td>0.617297</td>\n",
       "      <td>0.665023</td>\n",
       "      <td>0.663768</td>\n",
       "    </tr>\n",
       "    <tr>\n",
       "      <th>RandomForest</th>\n",
       "      <td>0.666183</td>\n",
       "      <td>0.664734</td>\n",
       "      <td>0.651617</td>\n",
       "      <td>0.628638</td>\n",
       "      <td>0.666183</td>\n",
       "      <td>0.664734</td>\n",
       "    </tr>\n",
       "    <tr>\n",
       "      <th>XG-Boost</th>\n",
       "      <td>0.701856</td>\n",
       "      <td>0.651208</td>\n",
       "      <td>0.725978</td>\n",
       "      <td>0.586577</td>\n",
       "      <td>0.701856</td>\n",
       "      <td>0.651208</td>\n",
       "    </tr>\n",
       "    <tr>\n",
       "      <th>Catboost</th>\n",
       "      <td>0.664733</td>\n",
       "      <td>0.662802</td>\n",
       "      <td>0.629059</td>\n",
       "      <td>0.606975</td>\n",
       "      <td>0.664733</td>\n",
       "      <td>0.662802</td>\n",
       "    </tr>\n",
       "    <tr>\n",
       "      <th>SVM (Sigmoid)</th>\n",
       "      <td>0.547854</td>\n",
       "      <td>0.544928</td>\n",
       "      <td>0.536905</td>\n",
       "      <td>0.536720</td>\n",
       "      <td>0.547854</td>\n",
       "      <td>0.544928</td>\n",
       "    </tr>\n",
       "  </tbody>\n",
       "</table>\n",
       "</div>"
      ],
      "text/plain": [
       "               Accuracy_train  Accuracy_val  Precision_train  Precision_val   \n",
       "Logaritimic          0.665023      0.663768         0.638417       0.617297  \\\n",
       "RandomForest         0.666183      0.664734         0.651617       0.628638   \n",
       "XG-Boost             0.701856      0.651208         0.725978       0.586577   \n",
       "Catboost             0.664733      0.662802         0.629059       0.606975   \n",
       "SVM (Sigmoid)        0.547854      0.544928         0.536905       0.536720   \n",
       "\n",
       "               Recall_train  Recall_val  \n",
       "Logaritimic        0.665023    0.663768  \n",
       "RandomForest       0.666183    0.664734  \n",
       "XG-Boost           0.701856    0.651208  \n",
       "Catboost           0.664733    0.662802  \n",
       "SVM (Sigmoid)      0.547854    0.544928  "
      ]
     },
     "execution_count": 172,
     "metadata": {},
     "output_type": "execute_result"
    }
   ],
   "source": [
    "dict_to_df = {\"Accuracy_train\": Accuracy_train, \"Accuracy_val\": Accuracy_val, \"Precision_train\": Precision_train, \"Precision_val\":Precision_val, \"Recall_train\": Recall_train, \"Recall_val\":Recall_val}\n",
    "df_model = pd.DataFrame(index=Model, data=dict_to_df)\n",
    "df_model"
   ]
  },
  {
   "cell_type": "code",
   "execution_count": null,
   "id": "de43d9ea",
   "metadata": {},
   "outputs": [],
   "source": []
  }
 ],
 "metadata": {
  "kernelspec": {
   "display_name": "Python 3 (ipykernel)",
   "language": "python",
   "name": "python3"
  },
  "language_info": {
   "codemirror_mode": {
    "name": "ipython",
    "version": 3
   },
   "file_extension": ".py",
   "mimetype": "text/x-python",
   "name": "python",
   "nbconvert_exporter": "python",
   "pygments_lexer": "ipython3",
   "version": "3.10.9"
  }
 },
 "nbformat": 4,
 "nbformat_minor": 5
}
